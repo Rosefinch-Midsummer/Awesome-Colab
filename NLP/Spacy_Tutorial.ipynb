{
  "nbformat": 4,
  "nbformat_minor": 0,
  "metadata": {
    "colab": {
      "name": "Spacy-Tutorial.ipynb",
      "provenance": [],
      "collapsed_sections": [],
      "include_colab_link": true
    },
    "kernelspec": {
      "name": "python3",
      "display_name": "Python 3"
    }
  },
  "cells": [
    {
      "cell_type": "markdown",
      "metadata": {
        "id": "view-in-github",
        "colab_type": "text"
      },
      "source": [
        "<a href=\"https://colab.research.google.com/github/Rosefinch-Midsummer/Awesome-Colab/blob/master/NLP/Spacy_Tutorial.ipynb\" target=\"_parent\"><img src=\"https://colab.research.google.com/assets/colab-badge.svg\" alt=\"Open In Colab\"/></a>"
      ]
    },
    {
      "cell_type": "markdown",
      "metadata": {
        "id": "_VO23nDIXGRL",
        "colab_type": "text"
      },
      "source": [
        "[官网](https://spacy.io/)\n",
        "\n",
        "[ Industrial-strength Natural Language Processing (NLP) with Python and Cython](https://github.com/explosion/spaCy)\n",
        "\n",
        "[如何用Python处理自然语言？（Spacy与Word Embedding）](https://zhuanlan.zhihu.com/p/36768778)\n",
        "\n",
        "[demo-spacy-text-processing](https://github.com/wshuyi/demo-spacy-text-processing/blob/master/demo.ipynb)"
      ]
    },
    {
      "cell_type": "code",
      "metadata": {
        "id": "rzjURq1jc9CC",
        "colab_type": "code",
        "colab": {}
      },
      "source": [
        "!pip install en_core_web_lg\n",
        "#!pip install en_core_sci_lg\n",
        "#!pip install <model_s3_url>\n",
        "#import spacy, scispacy\n",
        "\n",
        "import en_core_web_lg\n",
        "#import en_core_sci_lg\n",
        "#nlp = en_core_sci_lg.load()\n",
        "nlp=en_core_web_lg.load()\n",
        "#doc=nlp(text)"
      ],
      "execution_count": 0,
      "outputs": []
    },
    {
      "cell_type": "code",
      "metadata": {
        "id": "NmDwO2s6XAwn",
        "colab_type": "code",
        "colab": {
          "base_uri": "https://localhost:8080/",
          "height": 1000
        },
        "outputId": "feb984ca-83bf-4796-bf5b-3066561ebf19"
      },
      "source": [
        "import spacy\n",
        "\n",
        "text = \"The sequel, Yes, Prime Minister, ran from 1986 to 1988. In total there were 38 episodes, of which all but one lasted half an hour. Almost all episodes ended with a variation of the title of the series spoken as the answer to a question posed by the same character, Jim Hacker. Several episodes were adapted for BBC Radio, and a stage play was produced in 2010, the latter leading to a new television series on UKTV Gold in 2013.\"\n",
        "\n",
        "nlp = spacy.load('en')\n",
        "doc = nlp(text)\n",
        "\n",
        "for token in doc:\n",
        "    print('\"' + token.text + '\"')"
      ],
      "execution_count": 1,
      "outputs": [
        {
          "output_type": "stream",
          "text": [
            "\"The\"\n",
            "\"sequel\"\n",
            "\",\"\n",
            "\"Yes\"\n",
            "\",\"\n",
            "\"Prime\"\n",
            "\"Minister\"\n",
            "\",\"\n",
            "\"ran\"\n",
            "\"from\"\n",
            "\"1986\"\n",
            "\"to\"\n",
            "\"1988\"\n",
            "\".\"\n",
            "\"In\"\n",
            "\"total\"\n",
            "\"there\"\n",
            "\"were\"\n",
            "\"38\"\n",
            "\"episodes\"\n",
            "\",\"\n",
            "\"of\"\n",
            "\"which\"\n",
            "\"all\"\n",
            "\"but\"\n",
            "\"one\"\n",
            "\"lasted\"\n",
            "\"half\"\n",
            "\"an\"\n",
            "\"hour\"\n",
            "\".\"\n",
            "\"Almost\"\n",
            "\"all\"\n",
            "\"episodes\"\n",
            "\"ended\"\n",
            "\"with\"\n",
            "\"a\"\n",
            "\"variation\"\n",
            "\"of\"\n",
            "\"the\"\n",
            "\"title\"\n",
            "\"of\"\n",
            "\"the\"\n",
            "\"series\"\n",
            "\"spoken\"\n",
            "\"as\"\n",
            "\"the\"\n",
            "\"answer\"\n",
            "\"to\"\n",
            "\"a\"\n",
            "\"question\"\n",
            "\"posed\"\n",
            "\"by\"\n",
            "\"the\"\n",
            "\"same\"\n",
            "\"character\"\n",
            "\",\"\n",
            "\"Jim\"\n",
            "\"Hacker\"\n",
            "\".\"\n",
            "\"Several\"\n",
            "\"episodes\"\n",
            "\"were\"\n",
            "\"adapted\"\n",
            "\"for\"\n",
            "\"BBC\"\n",
            "\"Radio\"\n",
            "\",\"\n",
            "\"and\"\n",
            "\"a\"\n",
            "\"stage\"\n",
            "\"play\"\n",
            "\"was\"\n",
            "\"produced\"\n",
            "\"in\"\n",
            "\"2010\"\n",
            "\",\"\n",
            "\"the\"\n",
            "\"latter\"\n",
            "\"leading\"\n",
            "\"to\"\n",
            "\"a\"\n",
            "\"new\"\n",
            "\"television\"\n",
            "\"series\"\n",
            "\"on\"\n",
            "\"UKTV\"\n",
            "\"Gold\"\n",
            "\"in\"\n",
            "\"2013\"\n",
            "\".\"\n"
          ],
          "name": "stdout"
        }
      ]
    },
    {
      "cell_type": "code",
      "metadata": {
        "id": "gW-ckr_PXPSf",
        "colab_type": "code",
        "colab": {
          "base_uri": "https://localhost:8080/",
          "height": 55
        },
        "outputId": "91c5c9b8-5783-48f1-ebd0-ce5f4b052da8"
      },
      "source": [
        "doc"
      ],
      "execution_count": 2,
      "outputs": [
        {
          "output_type": "execute_result",
          "data": {
            "text/plain": [
              "The sequel, Yes, Prime Minister, ran from 1986 to 1988. In total there were 38 episodes, of which all but one lasted half an hour. Almost all episodes ended with a variation of the title of the series spoken as the answer to a question posed by the same character, Jim Hacker. Several episodes were adapted for BBC Radio, and a stage play was produced in 2010, the latter leading to a new television series on UKTV Gold in 2013."
            ]
          },
          "metadata": {
            "tags": []
          },
          "execution_count": 2
        }
      ]
    },
    {
      "cell_type": "code",
      "metadata": {
        "id": "qqJoa3rLZ2N3",
        "colab_type": "code",
        "colab": {
          "base_uri": "https://localhost:8080/",
          "height": 197
        },
        "outputId": "5e6b120e-369c-47c1-9874-4e9328ced5ec"
      },
      "source": [
        "for token in doc[:10]:\n",
        "    print(\"{0}\\t{1}\\t{2}\\t{3}\\t{4}\\t{5}\\t{6}\\t{7}\".format(\n",
        "        token.text,\n",
        "        token.idx,\n",
        "        token.lemma_,\n",
        "        token.is_punct,\n",
        "        token.is_space,\n",
        "        token.shape_,\n",
        "        token.pos_,\n",
        "        token.tag_\n",
        "    ))"
      ],
      "execution_count": 3,
      "outputs": [
        {
          "output_type": "stream",
          "text": [
            "The\t0\tthe\tFalse\tFalse\tXxx\tDET\tDT\n",
            "sequel\t4\tsequel\tFalse\tFalse\txxxx\tNOUN\tNN\n",
            ",\t10\t,\tTrue\tFalse\t,\tPUNCT\t,\n",
            "Yes\t12\tyes\tFalse\tFalse\tXxx\tINTJ\tUH\n",
            ",\t15\t,\tTrue\tFalse\t,\tPUNCT\t,\n",
            "Prime\t17\tPrime\tFalse\tFalse\tXxxxx\tPROPN\tNNP\n",
            "Minister\t23\tMinister\tFalse\tFalse\tXxxxx\tPROPN\tNNP\n",
            ",\t31\t,\tTrue\tFalse\t,\tPUNCT\t,\n",
            "ran\t33\trun\tFalse\tFalse\txxx\tVERB\tVBD\n",
            "from\t37\tfrom\tFalse\tFalse\txxxx\tADP\tIN\n"
          ],
          "name": "stdout"
        }
      ]
    },
    {
      "cell_type": "code",
      "metadata": {
        "id": "v9JabM40aGVT",
        "colab_type": "code",
        "colab": {
          "base_uri": "https://localhost:8080/",
          "height": 197
        },
        "outputId": "d60ff889-1ab6-4b31-af2c-e789a1d39bed"
      },
      "source": [
        "for ent in doc.ents:\n",
        "    print(ent.text, ent.label_)"
      ],
      "execution_count": 4,
      "outputs": [
        {
          "output_type": "stream",
          "text": [
            "1986 DATE\n",
            "1988 DATE\n",
            "38 CARDINAL\n",
            "one CARDINAL\n",
            "half an hour TIME\n",
            "Jim Hacker PERSON\n",
            "BBC Radio ORG\n",
            "2010 DATE\n",
            "UKTV Gold ORG\n",
            "2013 DATE\n"
          ],
          "name": "stdout"
        }
      ]
    },
    {
      "cell_type": "code",
      "metadata": {
        "id": "RntlzcmmaWN9",
        "colab_type": "code",
        "colab": {
          "base_uri": "https://localhost:8080/",
          "height": 142
        },
        "outputId": "d7b95cd0-b426-4145-cdb9-00eb41193048"
      },
      "source": [
        "from spacy import displacy\n",
        "displacy.render(doc, style='ent', jupyter=True)"
      ],
      "execution_count": 5,
      "outputs": [
        {
          "output_type": "display_data",
          "data": {
            "text/html": [
              "<div class=\"entities\" style=\"line-height: 2.5; direction: ltr\">The sequel, Yes, Prime Minister, ran from \n",
              "<mark class=\"entity\" style=\"background: #bfe1d9; padding: 0.45em 0.6em; margin: 0 0.25em; line-height: 1; border-radius: 0.35em; box-decoration-break: clone; -webkit-box-decoration-break: clone\">\n",
              "    1986\n",
              "    <span style=\"font-size: 0.8em; font-weight: bold; line-height: 1; border-radius: 0.35em; text-transform: uppercase; vertical-align: middle; margin-left: 0.5rem\">DATE</span>\n",
              "</mark>\n",
              " to \n",
              "<mark class=\"entity\" style=\"background: #bfe1d9; padding: 0.45em 0.6em; margin: 0 0.25em; line-height: 1; border-radius: 0.35em; box-decoration-break: clone; -webkit-box-decoration-break: clone\">\n",
              "    1988\n",
              "    <span style=\"font-size: 0.8em; font-weight: bold; line-height: 1; border-radius: 0.35em; text-transform: uppercase; vertical-align: middle; margin-left: 0.5rem\">DATE</span>\n",
              "</mark>\n",
              ". In total there were \n",
              "<mark class=\"entity\" style=\"background: #e4e7d2; padding: 0.45em 0.6em; margin: 0 0.25em; line-height: 1; border-radius: 0.35em; box-decoration-break: clone; -webkit-box-decoration-break: clone\">\n",
              "    38\n",
              "    <span style=\"font-size: 0.8em; font-weight: bold; line-height: 1; border-radius: 0.35em; text-transform: uppercase; vertical-align: middle; margin-left: 0.5rem\">CARDINAL</span>\n",
              "</mark>\n",
              " episodes, of which all but \n",
              "<mark class=\"entity\" style=\"background: #e4e7d2; padding: 0.45em 0.6em; margin: 0 0.25em; line-height: 1; border-radius: 0.35em; box-decoration-break: clone; -webkit-box-decoration-break: clone\">\n",
              "    one\n",
              "    <span style=\"font-size: 0.8em; font-weight: bold; line-height: 1; border-radius: 0.35em; text-transform: uppercase; vertical-align: middle; margin-left: 0.5rem\">CARDINAL</span>\n",
              "</mark>\n",
              " lasted \n",
              "<mark class=\"entity\" style=\"background: #bfe1d9; padding: 0.45em 0.6em; margin: 0 0.25em; line-height: 1; border-radius: 0.35em; box-decoration-break: clone; -webkit-box-decoration-break: clone\">\n",
              "    half an hour\n",
              "    <span style=\"font-size: 0.8em; font-weight: bold; line-height: 1; border-radius: 0.35em; text-transform: uppercase; vertical-align: middle; margin-left: 0.5rem\">TIME</span>\n",
              "</mark>\n",
              ". Almost all episodes ended with a variation of the title of the series spoken as the answer to a question posed by the same character, \n",
              "<mark class=\"entity\" style=\"background: #aa9cfc; padding: 0.45em 0.6em; margin: 0 0.25em; line-height: 1; border-radius: 0.35em; box-decoration-break: clone; -webkit-box-decoration-break: clone\">\n",
              "    Jim Hacker\n",
              "    <span style=\"font-size: 0.8em; font-weight: bold; line-height: 1; border-radius: 0.35em; text-transform: uppercase; vertical-align: middle; margin-left: 0.5rem\">PERSON</span>\n",
              "</mark>\n",
              ". Several episodes were adapted for \n",
              "<mark class=\"entity\" style=\"background: #7aecec; padding: 0.45em 0.6em; margin: 0 0.25em; line-height: 1; border-radius: 0.35em; box-decoration-break: clone; -webkit-box-decoration-break: clone\">\n",
              "    BBC Radio\n",
              "    <span style=\"font-size: 0.8em; font-weight: bold; line-height: 1; border-radius: 0.35em; text-transform: uppercase; vertical-align: middle; margin-left: 0.5rem\">ORG</span>\n",
              "</mark>\n",
              ", and a stage play was produced in \n",
              "<mark class=\"entity\" style=\"background: #bfe1d9; padding: 0.45em 0.6em; margin: 0 0.25em; line-height: 1; border-radius: 0.35em; box-decoration-break: clone; -webkit-box-decoration-break: clone\">\n",
              "    2010\n",
              "    <span style=\"font-size: 0.8em; font-weight: bold; line-height: 1; border-radius: 0.35em; text-transform: uppercase; vertical-align: middle; margin-left: 0.5rem\">DATE</span>\n",
              "</mark>\n",
              ", the latter leading to a new television series on \n",
              "<mark class=\"entity\" style=\"background: #7aecec; padding: 0.45em 0.6em; margin: 0 0.25em; line-height: 1; border-radius: 0.35em; box-decoration-break: clone; -webkit-box-decoration-break: clone\">\n",
              "    UKTV Gold\n",
              "    <span style=\"font-size: 0.8em; font-weight: bold; line-height: 1; border-radius: 0.35em; text-transform: uppercase; vertical-align: middle; margin-left: 0.5rem\">ORG</span>\n",
              "</mark>\n",
              " in \n",
              "<mark class=\"entity\" style=\"background: #bfe1d9; padding: 0.45em 0.6em; margin: 0 0.25em; line-height: 1; border-radius: 0.35em; box-decoration-break: clone; -webkit-box-decoration-break: clone\">\n",
              "    2013\n",
              "    <span style=\"font-size: 0.8em; font-weight: bold; line-height: 1; border-radius: 0.35em; text-transform: uppercase; vertical-align: middle; margin-left: 0.5rem\">DATE</span>\n",
              "</mark>\n",
              ".</div>"
            ],
            "text/plain": [
              "<IPython.core.display.HTML object>"
            ]
          },
          "metadata": {
            "tags": []
          }
        }
      ]
    },
    {
      "cell_type": "code",
      "metadata": {
        "id": "KxfZgGFqaWKz",
        "colab_type": "code",
        "colab": {
          "base_uri": "https://localhost:8080/",
          "height": 89
        },
        "outputId": "05a55e3a-ee81-459d-c12d-d7e44fd6795b"
      },
      "source": [
        "for sent in doc.sents:\n",
        "    print(sent)"
      ],
      "execution_count": 6,
      "outputs": [
        {
          "output_type": "stream",
          "text": [
            "The sequel, Yes, Prime Minister, ran from 1986 to 1988.\n",
            "In total there were 38 episodes, of which all but one lasted half an hour.\n",
            "Almost all episodes ended with a variation of the title of the series spoken as the answer to a question posed by the same character, Jim Hacker.\n",
            "Several episodes were adapted for BBC Radio, and a stage play was produced in 2010, the latter leading to a new television series on UKTV Gold in 2013.\n"
          ],
          "name": "stdout"
        }
      ]
    },
    {
      "cell_type": "code",
      "metadata": {
        "id": "eCG-ggnxaWHT",
        "colab_type": "code",
        "colab": {
          "base_uri": "https://localhost:8080/",
          "height": 35
        },
        "outputId": "2121bc87-d9b8-4f36-9988-309c935b56ef"
      },
      "source": [
        "doc.sents"
      ],
      "execution_count": 7,
      "outputs": [
        {
          "output_type": "execute_result",
          "data": {
            "text/plain": [
              "<generator at 0x7fa3f6aae288>"
            ]
          },
          "metadata": {
            "tags": []
          },
          "execution_count": 7
        }
      ]
    },
    {
      "cell_type": "code",
      "metadata": {
        "id": "x_kFoFZLaWC1",
        "colab_type": "code",
        "colab": {
          "base_uri": "https://localhost:8080/",
          "height": 89
        },
        "outputId": "525c27bd-bdd4-4b42-8447-b7d2bd7d18ce"
      },
      "source": [
        "list(doc.sents)"
      ],
      "execution_count": 8,
      "outputs": [
        {
          "output_type": "execute_result",
          "data": {
            "text/plain": [
              "[The sequel, Yes, Prime Minister, ran from 1986 to 1988.,\n",
              " In total there were 38 episodes, of which all but one lasted half an hour.,\n",
              " Almost all episodes ended with a variation of the title of the series spoken as the answer to a question posed by the same character, Jim Hacker.,\n",
              " Several episodes were adapted for BBC Radio, and a stage play was produced in 2010, the latter leading to a new television series on UKTV Gold in 2013.]"
            ]
          },
          "metadata": {
            "tags": []
          },
          "execution_count": 8
        }
      ]
    },
    {
      "cell_type": "code",
      "metadata": {
        "id": "-lJfxfq_Zy3i",
        "colab_type": "code",
        "colab": {}
      },
      "source": [
        "newdoc = nlp(list(doc.sents)[0].text)"
      ],
      "execution_count": 0,
      "outputs": []
    },
    {
      "cell_type": "code",
      "metadata": {
        "id": "4u6EBlKlZyzz",
        "colab_type": "code",
        "colab": {
          "base_uri": "https://localhost:8080/",
          "height": 269
        },
        "outputId": "017faf17-0480-4bae-eb9b-f1b82df3c079"
      },
      "source": [
        "for token in newdoc:\n",
        "    print(\"{0}/{1} <--{2}-- {3}/{4}\".format(\n",
        "        token.text, token.tag_, token.dep_, token.head.text, token.head.tag_))"
      ],
      "execution_count": 10,
      "outputs": [
        {
          "output_type": "stream",
          "text": [
            "The/DT <--det-- sequel/NN\n",
            "sequel/NN <--nsubj-- ran/VBD\n",
            ",/, <--punct-- sequel/NN\n",
            "Yes/UH <--intj-- sequel/NN\n",
            ",/, <--punct-- sequel/NN\n",
            "Prime/NNP <--compound-- Minister/NNP\n",
            "Minister/NNP <--appos-- sequel/NN\n",
            ",/, <--punct-- ran/VBD\n",
            "ran/VBD <--ROOT-- ran/VBD\n",
            "from/IN <--prep-- ran/VBD\n",
            "1986/CD <--pobj-- from/IN\n",
            "to/IN <--prep-- from/IN\n",
            "1988/CD <--pobj-- to/IN\n",
            "./. <--punct-- ran/VBD\n"
          ],
          "name": "stdout"
        }
      ]
    },
    {
      "cell_type": "code",
      "metadata": {
        "id": "D-48BtdMZyrn",
        "colab_type": "code",
        "colab": {
          "base_uri": "https://localhost:8080/",
          "height": 338
        },
        "outputId": "937562f6-ec41-4fca-9c75-cfc5faac8ce1"
      },
      "source": [
        "displacy.render(newdoc, style='dep', jupyter=True, options={'distance': 90})"
      ],
      "execution_count": 11,
      "outputs": [
        {
          "output_type": "display_data",
          "data": {
            "text/html": [
              "<svg xmlns=\"http://www.w3.org/2000/svg\" xmlns:xlink=\"http://www.w3.org/1999/xlink\" xml:lang=\"en\" id=\"6db0f9ca5a5748d3967b6175cf149ef6-0\" class=\"displacy\" width=\"950\" height=\"317.0\" direction=\"ltr\" style=\"max-width: none; height: 317.0px; color: #000000; background: #ffffff; font-family: Arial; direction: ltr\">\n",
              "<text class=\"displacy-token\" fill=\"currentColor\" text-anchor=\"middle\" y=\"227.0\">\n",
              "    <tspan class=\"displacy-word\" fill=\"currentColor\" x=\"50\">The</tspan>\n",
              "    <tspan class=\"displacy-tag\" dy=\"2em\" fill=\"currentColor\" x=\"50\">DET</tspan>\n",
              "</text>\n",
              "\n",
              "<text class=\"displacy-token\" fill=\"currentColor\" text-anchor=\"middle\" y=\"227.0\">\n",
              "    <tspan class=\"displacy-word\" fill=\"currentColor\" x=\"140\">sequel,</tspan>\n",
              "    <tspan class=\"displacy-tag\" dy=\"2em\" fill=\"currentColor\" x=\"140\">NOUN</tspan>\n",
              "</text>\n",
              "\n",
              "<text class=\"displacy-token\" fill=\"currentColor\" text-anchor=\"middle\" y=\"227.0\">\n",
              "    <tspan class=\"displacy-word\" fill=\"currentColor\" x=\"230\">Yes,</tspan>\n",
              "    <tspan class=\"displacy-tag\" dy=\"2em\" fill=\"currentColor\" x=\"230\">INTJ</tspan>\n",
              "</text>\n",
              "\n",
              "<text class=\"displacy-token\" fill=\"currentColor\" text-anchor=\"middle\" y=\"227.0\">\n",
              "    <tspan class=\"displacy-word\" fill=\"currentColor\" x=\"320\">Prime</tspan>\n",
              "    <tspan class=\"displacy-tag\" dy=\"2em\" fill=\"currentColor\" x=\"320\">PROPN</tspan>\n",
              "</text>\n",
              "\n",
              "<text class=\"displacy-token\" fill=\"currentColor\" text-anchor=\"middle\" y=\"227.0\">\n",
              "    <tspan class=\"displacy-word\" fill=\"currentColor\" x=\"410\">Minister,</tspan>\n",
              "    <tspan class=\"displacy-tag\" dy=\"2em\" fill=\"currentColor\" x=\"410\">PROPN</tspan>\n",
              "</text>\n",
              "\n",
              "<text class=\"displacy-token\" fill=\"currentColor\" text-anchor=\"middle\" y=\"227.0\">\n",
              "    <tspan class=\"displacy-word\" fill=\"currentColor\" x=\"500\">ran</tspan>\n",
              "    <tspan class=\"displacy-tag\" dy=\"2em\" fill=\"currentColor\" x=\"500\">VERB</tspan>\n",
              "</text>\n",
              "\n",
              "<text class=\"displacy-token\" fill=\"currentColor\" text-anchor=\"middle\" y=\"227.0\">\n",
              "    <tspan class=\"displacy-word\" fill=\"currentColor\" x=\"590\">from</tspan>\n",
              "    <tspan class=\"displacy-tag\" dy=\"2em\" fill=\"currentColor\" x=\"590\">ADP</tspan>\n",
              "</text>\n",
              "\n",
              "<text class=\"displacy-token\" fill=\"currentColor\" text-anchor=\"middle\" y=\"227.0\">\n",
              "    <tspan class=\"displacy-word\" fill=\"currentColor\" x=\"680\">1986</tspan>\n",
              "    <tspan class=\"displacy-tag\" dy=\"2em\" fill=\"currentColor\" x=\"680\">NUM</tspan>\n",
              "</text>\n",
              "\n",
              "<text class=\"displacy-token\" fill=\"currentColor\" text-anchor=\"middle\" y=\"227.0\">\n",
              "    <tspan class=\"displacy-word\" fill=\"currentColor\" x=\"770\">to</tspan>\n",
              "    <tspan class=\"displacy-tag\" dy=\"2em\" fill=\"currentColor\" x=\"770\">ADP</tspan>\n",
              "</text>\n",
              "\n",
              "<text class=\"displacy-token\" fill=\"currentColor\" text-anchor=\"middle\" y=\"227.0\">\n",
              "    <tspan class=\"displacy-word\" fill=\"currentColor\" x=\"860\">1988.</tspan>\n",
              "    <tspan class=\"displacy-tag\" dy=\"2em\" fill=\"currentColor\" x=\"860\">NUM</tspan>\n",
              "</text>\n",
              "\n",
              "<g class=\"displacy-arrow\">\n",
              "    <path class=\"displacy-arc\" id=\"arrow-6db0f9ca5a5748d3967b6175cf149ef6-0-0\" stroke-width=\"2px\" d=\"M70,182.0 C70,137.0 125.0,137.0 125.0,182.0\" fill=\"none\" stroke=\"currentColor\"/>\n",
              "    <text dy=\"1.25em\" style=\"font-size: 0.8em; letter-spacing: 1px\">\n",
              "        <textPath xlink:href=\"#arrow-6db0f9ca5a5748d3967b6175cf149ef6-0-0\" class=\"displacy-label\" startOffset=\"50%\" side=\"left\" fill=\"currentColor\" text-anchor=\"middle\">det</textPath>\n",
              "    </text>\n",
              "    <path class=\"displacy-arrowhead\" d=\"M70,184.0 L62,172.0 78,172.0\" fill=\"currentColor\"/>\n",
              "</g>\n",
              "\n",
              "<g class=\"displacy-arrow\">\n",
              "    <path class=\"displacy-arc\" id=\"arrow-6db0f9ca5a5748d3967b6175cf149ef6-0-1\" stroke-width=\"2px\" d=\"M160,182.0 C160,2.0 500.0,2.0 500.0,182.0\" fill=\"none\" stroke=\"currentColor\"/>\n",
              "    <text dy=\"1.25em\" style=\"font-size: 0.8em; letter-spacing: 1px\">\n",
              "        <textPath xlink:href=\"#arrow-6db0f9ca5a5748d3967b6175cf149ef6-0-1\" class=\"displacy-label\" startOffset=\"50%\" side=\"left\" fill=\"currentColor\" text-anchor=\"middle\">nsubj</textPath>\n",
              "    </text>\n",
              "    <path class=\"displacy-arrowhead\" d=\"M160,184.0 L152,172.0 168,172.0\" fill=\"currentColor\"/>\n",
              "</g>\n",
              "\n",
              "<g class=\"displacy-arrow\">\n",
              "    <path class=\"displacy-arc\" id=\"arrow-6db0f9ca5a5748d3967b6175cf149ef6-0-2\" stroke-width=\"2px\" d=\"M160,182.0 C160,137.0 215.0,137.0 215.0,182.0\" fill=\"none\" stroke=\"currentColor\"/>\n",
              "    <text dy=\"1.25em\" style=\"font-size: 0.8em; letter-spacing: 1px\">\n",
              "        <textPath xlink:href=\"#arrow-6db0f9ca5a5748d3967b6175cf149ef6-0-2\" class=\"displacy-label\" startOffset=\"50%\" side=\"left\" fill=\"currentColor\" text-anchor=\"middle\">intj</textPath>\n",
              "    </text>\n",
              "    <path class=\"displacy-arrowhead\" d=\"M215.0,184.0 L223.0,172.0 207.0,172.0\" fill=\"currentColor\"/>\n",
              "</g>\n",
              "\n",
              "<g class=\"displacy-arrow\">\n",
              "    <path class=\"displacy-arc\" id=\"arrow-6db0f9ca5a5748d3967b6175cf149ef6-0-3\" stroke-width=\"2px\" d=\"M340,182.0 C340,137.0 395.0,137.0 395.0,182.0\" fill=\"none\" stroke=\"currentColor\"/>\n",
              "    <text dy=\"1.25em\" style=\"font-size: 0.8em; letter-spacing: 1px\">\n",
              "        <textPath xlink:href=\"#arrow-6db0f9ca5a5748d3967b6175cf149ef6-0-3\" class=\"displacy-label\" startOffset=\"50%\" side=\"left\" fill=\"currentColor\" text-anchor=\"middle\">compound</textPath>\n",
              "    </text>\n",
              "    <path class=\"displacy-arrowhead\" d=\"M340,184.0 L332,172.0 348,172.0\" fill=\"currentColor\"/>\n",
              "</g>\n",
              "\n",
              "<g class=\"displacy-arrow\">\n",
              "    <path class=\"displacy-arc\" id=\"arrow-6db0f9ca5a5748d3967b6175cf149ef6-0-4\" stroke-width=\"2px\" d=\"M160,182.0 C160,47.0 405.0,47.0 405.0,182.0\" fill=\"none\" stroke=\"currentColor\"/>\n",
              "    <text dy=\"1.25em\" style=\"font-size: 0.8em; letter-spacing: 1px\">\n",
              "        <textPath xlink:href=\"#arrow-6db0f9ca5a5748d3967b6175cf149ef6-0-4\" class=\"displacy-label\" startOffset=\"50%\" side=\"left\" fill=\"currentColor\" text-anchor=\"middle\">appos</textPath>\n",
              "    </text>\n",
              "    <path class=\"displacy-arrowhead\" d=\"M405.0,184.0 L413.0,172.0 397.0,172.0\" fill=\"currentColor\"/>\n",
              "</g>\n",
              "\n",
              "<g class=\"displacy-arrow\">\n",
              "    <path class=\"displacy-arc\" id=\"arrow-6db0f9ca5a5748d3967b6175cf149ef6-0-5\" stroke-width=\"2px\" d=\"M520,182.0 C520,137.0 575.0,137.0 575.0,182.0\" fill=\"none\" stroke=\"currentColor\"/>\n",
              "    <text dy=\"1.25em\" style=\"font-size: 0.8em; letter-spacing: 1px\">\n",
              "        <textPath xlink:href=\"#arrow-6db0f9ca5a5748d3967b6175cf149ef6-0-5\" class=\"displacy-label\" startOffset=\"50%\" side=\"left\" fill=\"currentColor\" text-anchor=\"middle\">prep</textPath>\n",
              "    </text>\n",
              "    <path class=\"displacy-arrowhead\" d=\"M575.0,184.0 L583.0,172.0 567.0,172.0\" fill=\"currentColor\"/>\n",
              "</g>\n",
              "\n",
              "<g class=\"displacy-arrow\">\n",
              "    <path class=\"displacy-arc\" id=\"arrow-6db0f9ca5a5748d3967b6175cf149ef6-0-6\" stroke-width=\"2px\" d=\"M610,182.0 C610,137.0 665.0,137.0 665.0,182.0\" fill=\"none\" stroke=\"currentColor\"/>\n",
              "    <text dy=\"1.25em\" style=\"font-size: 0.8em; letter-spacing: 1px\">\n",
              "        <textPath xlink:href=\"#arrow-6db0f9ca5a5748d3967b6175cf149ef6-0-6\" class=\"displacy-label\" startOffset=\"50%\" side=\"left\" fill=\"currentColor\" text-anchor=\"middle\">pobj</textPath>\n",
              "    </text>\n",
              "    <path class=\"displacy-arrowhead\" d=\"M665.0,184.0 L673.0,172.0 657.0,172.0\" fill=\"currentColor\"/>\n",
              "</g>\n",
              "\n",
              "<g class=\"displacy-arrow\">\n",
              "    <path class=\"displacy-arc\" id=\"arrow-6db0f9ca5a5748d3967b6175cf149ef6-0-7\" stroke-width=\"2px\" d=\"M610,182.0 C610,92.0 760.0,92.0 760.0,182.0\" fill=\"none\" stroke=\"currentColor\"/>\n",
              "    <text dy=\"1.25em\" style=\"font-size: 0.8em; letter-spacing: 1px\">\n",
              "        <textPath xlink:href=\"#arrow-6db0f9ca5a5748d3967b6175cf149ef6-0-7\" class=\"displacy-label\" startOffset=\"50%\" side=\"left\" fill=\"currentColor\" text-anchor=\"middle\">prep</textPath>\n",
              "    </text>\n",
              "    <path class=\"displacy-arrowhead\" d=\"M760.0,184.0 L768.0,172.0 752.0,172.0\" fill=\"currentColor\"/>\n",
              "</g>\n",
              "\n",
              "<g class=\"displacy-arrow\">\n",
              "    <path class=\"displacy-arc\" id=\"arrow-6db0f9ca5a5748d3967b6175cf149ef6-0-8\" stroke-width=\"2px\" d=\"M790,182.0 C790,137.0 845.0,137.0 845.0,182.0\" fill=\"none\" stroke=\"currentColor\"/>\n",
              "    <text dy=\"1.25em\" style=\"font-size: 0.8em; letter-spacing: 1px\">\n",
              "        <textPath xlink:href=\"#arrow-6db0f9ca5a5748d3967b6175cf149ef6-0-8\" class=\"displacy-label\" startOffset=\"50%\" side=\"left\" fill=\"currentColor\" text-anchor=\"middle\">pobj</textPath>\n",
              "    </text>\n",
              "    <path class=\"displacy-arrowhead\" d=\"M845.0,184.0 L853.0,172.0 837.0,172.0\" fill=\"currentColor\"/>\n",
              "</g>\n",
              "</svg>"
            ],
            "text/plain": [
              "<IPython.core.display.HTML object>"
            ]
          },
          "metadata": {
            "tags": []
          }
        }
      ]
    },
    {
      "cell_type": "code",
      "metadata": {
        "id": "oxhH5_SxXPks",
        "colab_type": "code",
        "colab": {
          "base_uri": "https://localhost:8080/",
          "height": 917
        },
        "outputId": "8cc5c3c5-1d6e-4420-c7f5-884d11b9e1da"
      },
      "source": [
        "#!python3 -m spacy download en_core_web_lg\n",
        "#import en_core_web_sm\n",
        "#nlp = en_core_web_sm.load()\n",
        "#nlp = spacy.load('en_core_web_sm')\n",
        "print(nlp.vocab['minister'].vector)"
      ],
      "execution_count": 24,
      "outputs": [
        {
          "output_type": "stream",
          "text": [
            "[-3.2239e-01  3.8982e-01  6.4522e-01  8.7596e-02  4.0262e-01 -4.1253e-01\n",
            "  1.3804e-01 -4.0226e-01 -3.0679e-01  3.6520e+00 -6.1745e-01 -2.4114e-01\n",
            "  1.7488e-01 -2.5995e-01 -3.8512e-01 -1.3747e-01 -3.7446e-01 -8.0867e-01\n",
            "  2.8081e-01  2.9735e-01  1.7901e-01 -3.4726e-02  7.2466e-02 -5.2111e-01\n",
            "  7.1858e-02  1.5913e-01 -6.0877e-01  1.6604e-01 -9.3809e-02  2.0030e-01\n",
            " -5.0653e-01 -1.4978e-01  1.7742e-01  3.2996e-02 -2.1082e-01 -6.0442e-02\n",
            " -9.6639e-02 -4.6054e-01 -7.1622e-02 -1.4829e-01  5.1362e-01 -3.7840e-01\n",
            " -3.2035e-01 -1.1593e-01 -1.5887e-01  2.5999e-01  2.6821e-01  2.7429e-01\n",
            " -5.8973e-02 -1.0218e-01  6.6629e-03  3.5737e-01  3.1083e-01  4.7950e-01\n",
            "  4.4323e-01  8.0089e-03  6.4577e-02 -4.1851e-01  3.2589e-01 -6.0894e-01\n",
            " -3.5944e-01  1.9116e-01  1.5910e-02 -1.8912e-01  1.2646e-01 -9.6918e-03\n",
            " -6.5529e-01 -4.1851e-01  4.0244e-01 -6.7241e-01 -7.6219e-01  2.6207e-01\n",
            " -1.5607e+00  3.2982e-01 -4.1586e-01  3.4098e-01 -1.2571e-01 -1.2014e-01\n",
            "  1.3608e-02 -1.7894e-01  5.0916e-01 -2.8449e-01 -1.9519e-01  1.7161e-01\n",
            " -1.8038e-01 -3.7242e-01  2.8779e-01 -9.9446e-01  3.8110e-01 -3.6687e-01\n",
            "  6.7859e-01  4.1517e-01  1.4029e-04 -9.2324e-02  1.4499e-01 -6.3138e-01\n",
            "  8.5580e-02  9.8767e-02 -4.2732e-02 -5.1192e-01 -3.6008e-01  1.7807e-01\n",
            "  4.3106e-01 -2.7113e-01  2.6117e-01 -1.1093e+00 -5.3453e-02  1.2964e-01\n",
            "  7.2043e-02 -2.9840e-01 -3.0373e-01  1.2479e-01 -6.2262e-01  3.1790e-01\n",
            " -5.0850e-02 -3.4046e-01 -7.0588e-01  7.3111e-02 -9.7412e-02  1.5489e-01\n",
            " -1.7524e-01 -9.3642e-02 -4.5105e-01  3.4972e-01  2.2643e-01  3.3525e-01\n",
            "  2.0722e-01 -5.2710e-01 -3.6449e-01  6.1503e-02 -2.8858e-01  2.8356e-01\n",
            "  1.2859e-01 -3.3722e-01  9.9695e-02  5.4493e-01  3.4306e-01  6.4749e-01\n",
            " -1.3339e-01 -3.0286e-01 -7.0783e-02  1.6607e-01 -5.3108e-01 -1.1629e-01\n",
            "  1.8794e-01  8.7658e-02  8.2277e-02 -5.9183e-01 -1.3002e+00 -3.1180e-01\n",
            " -4.5598e-02  2.9376e-01 -1.9878e-01 -4.1425e-01  3.5388e-01  2.6559e-01\n",
            "  3.2310e-01  1.6575e-01  1.7211e-01  1.8798e-01  2.0010e-01 -1.7585e-01\n",
            " -1.4383e-01  4.6441e-01 -3.5426e-01  3.5655e-02  2.1650e-01 -6.9591e-01\n",
            " -1.9097e-03  3.5148e-01 -4.4031e-01  2.5784e-02 -1.6795e-01  6.7284e-01\n",
            "  9.0581e-02 -1.8994e-01  5.4949e-01  1.4926e-01  7.2222e-01 -3.3370e-01\n",
            " -5.1958e-01  3.2437e-01  1.9644e-01 -1.5863e-01  1.9083e-03  5.1186e-01\n",
            " -9.5662e-02  2.1656e-02 -1.3161e-01 -1.1805e-01  1.6575e-01  2.9505e-01\n",
            "  4.9018e-01 -4.2977e-01 -1.5993e-01 -3.6753e-01  8.7457e-02 -6.8308e-02\n",
            " -1.5331e-01 -2.7103e-01 -5.4915e-01  9.1917e-01  4.2635e-01 -5.2601e-01\n",
            "  8.4366e-01  5.7226e-02  1.9534e-01 -3.8182e-01 -9.0527e-02  4.5610e-02\n",
            " -9.6872e-03 -6.0501e-01 -2.8681e-01  2.8389e-01  6.2697e-01 -1.0516e-01\n",
            " -4.8453e-01 -3.2606e-01 -5.7180e-01  4.4597e-01 -7.7640e-02  3.0929e-01\n",
            "  1.2633e-01  1.1981e+00  6.9421e-01  3.7257e-01 -4.8151e-02  8.7035e-02\n",
            " -5.7236e-01  4.3714e-01  6.7161e-02  4.1036e-01 -2.5125e-01 -6.1381e-01\n",
            "  9.6459e-03 -5.2952e-01 -2.5677e-01  2.1411e-01 -2.6532e-01  5.5811e-02\n",
            "  8.7852e-02  1.2621e-01  3.5266e-01 -5.6351e-01 -3.5930e-01 -1.3401e-01\n",
            "  7.7801e-01 -2.5249e-01  2.0385e-01 -6.5584e-01 -4.9989e-02  8.7359e-01\n",
            "  4.5170e-01 -2.5920e-01  9.2309e-01  3.6927e-01  4.7212e-01 -4.0808e-01\n",
            " -6.7676e-01  2.8296e-01  1.1870e-01  2.5123e-01  6.3988e-02  3.8518e-01\n",
            " -4.5629e-01 -4.9095e-01 -2.9056e-01  1.1609e-01 -1.4937e-01 -3.6742e-01\n",
            "  1.9663e-01  4.5344e-01 -1.3246e-01  3.2582e-01 -3.9982e-01  1.8979e-01\n",
            "  3.0114e-01  7.4952e-01  7.7731e-02  1.2773e-01  5.0207e-02  3.8849e-02\n",
            "  1.5883e-01  1.9287e-01 -4.3273e-01 -1.1075e-01  2.8002e-03  6.2109e-01\n",
            " -6.8976e-01  1.1181e-01  4.9622e-01  8.5923e-02  2.5591e-01 -1.4410e-01\n",
            "  1.6128e-01  4.0757e-01  2.0046e-01 -1.0036e-01  6.1331e-01 -5.2357e-01]\n"
          ],
          "name": "stdout"
        }
      ]
    },
    {
      "cell_type": "code",
      "metadata": {
        "id": "hkdy9ty2XP6b",
        "colab_type": "code",
        "colab": {}
      },
      "source": [
        "dog = nlp.vocab[\"dog\"]\n",
        "cat = nlp.vocab[\"cat\"]\n",
        "apple = nlp.vocab[\"apple\"]\n",
        "orange = nlp.vocab[\"orange\"]"
      ],
      "execution_count": 0,
      "outputs": []
    },
    {
      "cell_type": "code",
      "metadata": {
        "id": "OObN-qqOXP37",
        "colab_type": "code",
        "colab": {
          "base_uri": "https://localhost:8080/",
          "height": 35
        },
        "outputId": "4c021fb2-29ae-42a8-c7c1-fd5f610160a7"
      },
      "source": [
        "dog.similarity(cat)"
      ],
      "execution_count": 26,
      "outputs": [
        {
          "output_type": "execute_result",
          "data": {
            "text/plain": [
              "0.80168545"
            ]
          },
          "metadata": {
            "tags": []
          },
          "execution_count": 26
        }
      ]
    },
    {
      "cell_type": "code",
      "metadata": {
        "id": "bUdq1VibXP0n",
        "colab_type": "code",
        "colab": {
          "base_uri": "https://localhost:8080/",
          "height": 35
        },
        "outputId": "c3c4f29c-4247-4176-af1f-0c9494fc9c7e"
      },
      "source": [
        "dog.similarity(apple)"
      ],
      "execution_count": 27,
      "outputs": [
        {
          "output_type": "execute_result",
          "data": {
            "text/plain": [
              "0.26339024"
            ]
          },
          "metadata": {
            "tags": []
          },
          "execution_count": 27
        }
      ]
    },
    {
      "cell_type": "code",
      "metadata": {
        "id": "bz7aWFUsXPxy",
        "colab_type": "code",
        "colab": {
          "base_uri": "https://localhost:8080/",
          "height": 35
        },
        "outputId": "4c23adbf-fbf5-4a1b-b19d-733094fdbb93"
      },
      "source": [
        "dog.similarity(orange)"
      ],
      "execution_count": 28,
      "outputs": [
        {
          "output_type": "execute_result",
          "data": {
            "text/plain": [
              "0.2742508"
            ]
          },
          "metadata": {
            "tags": []
          },
          "execution_count": 28
        }
      ]
    },
    {
      "cell_type": "code",
      "metadata": {
        "id": "FWgaF6RMXPsD",
        "colab_type": "code",
        "colab": {
          "base_uri": "https://localhost:8080/",
          "height": 35
        },
        "outputId": "695f0391-b19d-4337-aceb-f915b19abb25"
      },
      "source": [
        "apple.similarity(orange)"
      ],
      "execution_count": 29,
      "outputs": [
        {
          "output_type": "execute_result",
          "data": {
            "text/plain": [
              "0.56189173"
            ]
          },
          "metadata": {
            "tags": []
          },
          "execution_count": 29
        }
      ]
    },
    {
      "cell_type": "code",
      "metadata": {
        "id": "TJoiLgfrXPL6",
        "colab_type": "code",
        "colab": {}
      },
      "source": [
        "from scipy.spatial.distance import cosine"
      ],
      "execution_count": 0,
      "outputs": []
    },
    {
      "cell_type": "code",
      "metadata": {
        "id": "MyP4hISIXPJN",
        "colab_type": "code",
        "colab": {
          "base_uri": "https://localhost:8080/",
          "height": 35
        },
        "outputId": "9c59b1ea-a640-47c4-8ec9-a84ad5099797"
      },
      "source": [
        "1 - cosine(dog.vector, cat.vector)"
      ],
      "execution_count": 31,
      "outputs": [
        {
          "output_type": "execute_result",
          "data": {
            "text/plain": [
              "0.8016855120658875"
            ]
          },
          "metadata": {
            "tags": []
          },
          "execution_count": 31
        }
      ]
    },
    {
      "cell_type": "code",
      "metadata": {
        "id": "od4-7LHHXPGC",
        "colab_type": "code",
        "colab": {}
      },
      "source": [
        "def vector_similarity(x, y):\n",
        "    return 1 - cosine(x, y)"
      ],
      "execution_count": 0,
      "outputs": []
    },
    {
      "cell_type": "code",
      "metadata": {
        "id": "TqFYQ-z7XPCN",
        "colab_type": "code",
        "colab": {
          "base_uri": "https://localhost:8080/",
          "height": 35
        },
        "outputId": "9eeccdab-0643-430b-901a-b27088a5400c"
      },
      "source": [
        "vector_similarity(dog.vector, apple.vector)"
      ],
      "execution_count": 33,
      "outputs": [
        {
          "output_type": "execute_result",
          "data": {
            "text/plain": [
              "0.2633902430534363"
            ]
          },
          "metadata": {
            "tags": []
          },
          "execution_count": 33
        }
      ]
    },
    {
      "cell_type": "code",
      "metadata": {
        "id": "RN1gi2Mle_wQ",
        "colab_type": "code",
        "colab": {}
      },
      "source": [
        "def make_guess_word(words):\n",
        "    [first, second, third] = words\n",
        "    return nlp.vocab[first].vector - nlp.vocab[second].vector + nlp.vocab[third].vector"
      ],
      "execution_count": 0,
      "outputs": []
    },
    {
      "cell_type": "code",
      "metadata": {
        "id": "SoGf2OtfXO7q",
        "colab_type": "code",
        "colab": {}
      },
      "source": [
        "def get_similar_word(words, scope=nlp.vocab):\n",
        "    \n",
        "    guess_word = make_guess_word(words)\n",
        "\n",
        "    similarities = []\n",
        "\n",
        "    for word in scope:\n",
        "        if not word.has_vector:\n",
        "            continue\n",
        "\n",
        "        similarity = vector_similarity(guess_word, word.vector)\n",
        "        similarities.append((word, similarity))\n",
        "\n",
        "\n",
        "    similarities = sorted(similarities, key=lambda item: -item[1])\n",
        "    print([word[0].text for word in similarities[:10]])"
      ],
      "execution_count": 0,
      "outputs": []
    },
    {
      "cell_type": "code",
      "metadata": {
        "id": "GU_dOHhZe60R",
        "colab_type": "code",
        "colab": {
          "base_uri": "https://localhost:8080/",
          "height": 35
        },
        "outputId": "bfb31eba-e4ca-4130-a3b1-990c8ffa6f0b"
      },
      "source": [
        "words = [\"king\", \"queen\", \"woman\"]\n",
        "get_similar_word(words)"
      ],
      "execution_count": 36,
      "outputs": [
        {
          "output_type": "stream",
          "text": [
            "['MAN', 'Man', 'mAn', 'MAn', 'MaN', 'man', 'mAN', 'WOMAN', 'womAn', 'WOman']\n"
          ],
          "name": "stdout"
        }
      ]
    },
    {
      "cell_type": "code",
      "metadata": {
        "id": "Qz9FakaOe6sf",
        "colab_type": "code",
        "colab": {
          "base_uri": "https://localhost:8080/",
          "height": 35
        },
        "outputId": "11cf0494-6724-4460-9ea2-0afa74c4210e"
      },
      "source": [
        "words = [\"Paris\", \"London\", \"England\"]\n",
        "get_similar_word(words)"
      ],
      "execution_count": 37,
      "outputs": [
        {
          "output_type": "stream",
          "text": [
            "['france', 'FRANCE', 'France', 'Paris', 'paris', 'PARIS', 'EUROPE', 'EUrope', 'europe', 'Europe']\n"
          ],
          "name": "stdout"
        }
      ]
    },
    {
      "cell_type": "code",
      "metadata": {
        "id": "iqiN3Lshe6wY",
        "colab_type": "code",
        "colab": {
          "base_uri": "https://localhost:8080/",
          "height": 1000
        },
        "outputId": "ae8f5197-aea2-44c5-f571-d8773d79085b"
      },
      "source": [
        "import numpy as np\n",
        "embedding = np.array([])\n",
        "word_list = []\n",
        "\n",
        "for token in doc:\n",
        "    if not(token.is_punct) and not(token.text in word_list):\n",
        "        word_list.append(token.text)\n",
        "word_list"
      ],
      "execution_count": 38,
      "outputs": [
        {
          "output_type": "execute_result",
          "data": {
            "text/plain": [
              "['The',\n",
              " 'sequel',\n",
              " 'Yes',\n",
              " 'Prime',\n",
              " 'Minister',\n",
              " 'ran',\n",
              " 'from',\n",
              " '1986',\n",
              " 'to',\n",
              " '1988',\n",
              " 'In',\n",
              " 'total',\n",
              " 'there',\n",
              " 'were',\n",
              " '38',\n",
              " 'episodes',\n",
              " 'of',\n",
              " 'which',\n",
              " 'all',\n",
              " 'but',\n",
              " 'one',\n",
              " 'lasted',\n",
              " 'half',\n",
              " 'an',\n",
              " 'hour',\n",
              " 'Almost',\n",
              " 'ended',\n",
              " 'with',\n",
              " 'a',\n",
              " 'variation',\n",
              " 'the',\n",
              " 'title',\n",
              " 'series',\n",
              " 'spoken',\n",
              " 'as',\n",
              " 'answer',\n",
              " 'question',\n",
              " 'posed',\n",
              " 'by',\n",
              " 'same',\n",
              " 'character',\n",
              " 'Jim',\n",
              " 'Hacker',\n",
              " 'Several',\n",
              " 'adapted',\n",
              " 'for',\n",
              " 'BBC',\n",
              " 'Radio',\n",
              " 'and',\n",
              " 'stage',\n",
              " 'play',\n",
              " 'was',\n",
              " 'produced',\n",
              " 'in',\n",
              " '2010',\n",
              " 'latter',\n",
              " 'leading',\n",
              " 'new',\n",
              " 'television',\n",
              " 'on',\n",
              " 'UKTV',\n",
              " 'Gold',\n",
              " '2013']"
            ]
          },
          "metadata": {
            "tags": []
          },
          "execution_count": 38
        }
      ]
    },
    {
      "cell_type": "code",
      "metadata": {
        "id": "oooVMDlse6gs",
        "colab_type": "code",
        "colab": {
          "base_uri": "https://localhost:8080/",
          "height": 35
        },
        "outputId": "b1ab57d2-ada6-4e1c-e063-956074b72581"
      },
      "source": [
        "for word in word_list:\n",
        "    embedding = np.append(embedding, nlp.vocab[word].vector)\n",
        "\n",
        "embedding.shape"
      ],
      "execution_count": 39,
      "outputs": [
        {
          "output_type": "execute_result",
          "data": {
            "text/plain": [
              "(18900,)"
            ]
          },
          "metadata": {
            "tags": []
          },
          "execution_count": 39
        }
      ]
    },
    {
      "cell_type": "code",
      "metadata": {
        "id": "vdko24f4e6aB",
        "colab_type": "code",
        "colab": {
          "base_uri": "https://localhost:8080/",
          "height": 35
        },
        "outputId": "76523696-10d8-47d7-8f10-9c923f53297c"
      },
      "source": [
        "embedding = embedding.reshape(len(word_list), -1)\n",
        "\n",
        "embedding.shape"
      ],
      "execution_count": 40,
      "outputs": [
        {
          "output_type": "execute_result",
          "data": {
            "text/plain": [
              "(63, 300)"
            ]
          },
          "metadata": {
            "tags": []
          },
          "execution_count": 40
        }
      ]
    },
    {
      "cell_type": "code",
      "metadata": {
        "id": "u4MrmpgYgKSK",
        "colab_type": "code",
        "colab": {}
      },
      "source": [
        "from sklearn.manifold import TSNE\n",
        "tsne = TSNE()\n",
        "low_dim_embedding = tsne.fit_transform(embedding)"
      ],
      "execution_count": 0,
      "outputs": []
    },
    {
      "cell_type": "code",
      "metadata": {
        "id": "U7U5C_5DgKOj",
        "colab_type": "code",
        "colab": {
          "base_uri": "https://localhost:8080/",
          "height": 89
        },
        "outputId": "c9362b28-737e-4296-d33b-600f2c98bff1"
      },
      "source": [
        "import matplotlib.pyplot as plt\n",
        "%pylab inline"
      ],
      "execution_count": 42,
      "outputs": [
        {
          "output_type": "stream",
          "text": [
            "Populating the interactive namespace from numpy and matplotlib\n"
          ],
          "name": "stdout"
        },
        {
          "output_type": "stream",
          "text": [
            "/usr/local/lib/python3.6/dist-packages/IPython/core/magics/pylab.py:161: UserWarning: pylab import has clobbered these variables: ['text']\n",
            "`%matplotlib` prevents importing * from pylab and numpy\n",
            "  \"\\n`%matplotlib` prevents importing * from pylab and numpy\"\n"
          ],
          "name": "stderr"
        }
      ]
    },
    {
      "cell_type": "code",
      "metadata": {
        "id": "dU1pZbNugKK3",
        "colab_type": "code",
        "colab": {}
      },
      "source": [
        "def plot_with_labels(low_dim_embs, labels, filename='tsne.pdf'):\n",
        "    assert low_dim_embs.shape[0] >= len(labels), \"More labels than embeddings\"\n",
        "    plt.figure(figsize=(18, 18))  # in inches\n",
        "    for i, label in enumerate(labels):\n",
        "        x, y = low_dim_embs[i, :]\n",
        "        plt.scatter(x, y)\n",
        "        plt.annotate(label,\n",
        "                 xy=(x, y),\n",
        "                 xytext=(5, 2),\n",
        "                 textcoords='offset points',\n",
        "                 ha='right',\n",
        "                 va='bottom')\n",
        "    plt.savefig(filename)"
      ],
      "execution_count": 0,
      "outputs": []
    },
    {
      "cell_type": "code",
      "metadata": {
        "id": "7YMxDeCegJ3Y",
        "colab_type": "code",
        "colab": {
          "base_uri": "https://localhost:8080/",
          "height": 1000
        },
        "outputId": "ee736d10-289d-4946-e3eb-614cedfc2fc1"
      },
      "source": [
        "plot_with_labels(low_dim_embedding, word_list)"
      ],
      "execution_count": 44,
      "outputs": [
        {
          "output_type": "display_data",
          "data": {
            "image/png": "[encoded data removed]",
            "text/plain": [
              "<Figure size 1296x1296 with 1 Axes>"
            ]
          },
          "metadata": {
            "tags": []
          }
        }
      ]
    }
  ]
}