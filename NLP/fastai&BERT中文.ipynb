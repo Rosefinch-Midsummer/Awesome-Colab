{
  "nbformat": 4,
  "nbformat_minor": 0,
  "metadata": {
    "colab": {
      "name": "fastai&BERT中文.ipynb",
      "provenance": [],
      "collapsed_sections": [],
      "include_colab_link": true
    },
    "kernelspec": {
      "name": "python3",
      "display_name": "Python 3"
    },
    "accelerator": "GPU"
  },
  "cells": [
    {
      "cell_type": "markdown",
      "metadata": {
        "id": "view-in-github",
        "colab_type": "text"
      },
      "source": [
        "<a href=\"https://colab.research.google.com/github/Rosefinch-Midsummer/Awesome-Colab/blob/master/NLP/fastai%26BERT%E4%B8%AD%E6%96%87.ipynb\" target=\"_parent\"><img src=\"https://colab.research.google.com/assets/colab-badge.svg\" alt=\"Open In Colab\"/></a>"
      ]
    },
    {
      "cell_type": "markdown",
      "metadata": {
        "id": "2E0rCll52SaL",
        "colab_type": "text"
      },
      "source": [
        "[如何在 fast.ai 用 BERT 做中文文本分类？](https://zhuanlan.zhihu.com/p/75606225)"
      ]
    },
    {
      "cell_type": "code",
      "metadata": {
        "id": "uGzxEjBlmoVc",
        "colab_type": "code",
        "colab": {}
      },
      "source": [
        "!wget https://github.com/wshuyi/public_datasets/raw/master/dianping.csv"
      ],
      "execution_count": 0,
      "outputs": []
    },
    {
      "cell_type": "code",
      "metadata": {
        "id": "qYwx1xDS49vT",
        "colab_type": "code",
        "colab": {}
      },
      "source": [
        "from fastai.text import *"
      ],
      "execution_count": 0,
      "outputs": []
    },
    {
      "cell_type": "code",
      "metadata": {
        "id": "-WLNfTYI2d8m",
        "colab_type": "code",
        "colab": {
          "base_uri": "https://localhost:8080/",
          "height": 71
        },
        "outputId": "fae99bd8-a274-41c0-c23c-87f6a423490c"
      },
      "source": [
        "import pandas as pd\n",
        "from sklearn.model_selection import train_test_split\n",
        "df = pd.read_csv(\"dianping.csv\")\n",
        "train, test = train_test_split(df, test_size=.2, random_state=2)\n",
        "train, valid = train_test_split(train, test_size=.2, random_state=2)\n",
        "print(len(train))\n",
        "print(len(valid))\n",
        "print(len(test))"
      ],
      "execution_count": 2,
      "outputs": [
        {
          "output_type": "stream",
          "text": [
            "1280\n",
            "320\n",
            "400\n"
          ],
          "name": "stdout"
        }
      ]
    },
    {
      "cell_type": "code",
      "metadata": {
        "id": "nTVz0TZG2elS",
        "colab_type": "code",
        "colab": {
          "base_uri": "https://localhost:8080/",
          "height": 204
        },
        "outputId": "1cd9aaa1-b5dc-4f3e-9d22-da7fc7e09718"
      },
      "source": [
        "train.head()"
      ],
      "execution_count": 3,
      "outputs": [
        {
          "output_type": "execute_result",
          "data": {
            "text/html": [
              "<div>\n",
              "<style scoped>\n",
              "    .dataframe tbody tr th:only-of-type {\n",
              "        vertical-align: middle;\n",
              "    }\n",
              "\n",
              "    .dataframe tbody tr th {\n",
              "        vertical-align: top;\n",
              "    }\n",
              "\n",
              "    .dataframe thead th {\n",
              "        text-align: right;\n",
              "    }\n",
              "</style>\n",
              "<table border=\"1\" class=\"dataframe\">\n",
              "  <thead>\n",
              "    <tr style=\"text-align: right;\">\n",
              "      <th></th>\n",
              "      <th>comment</th>\n",
              "      <th>sentiment</th>\n",
              "    </tr>\n",
              "  </thead>\n",
              "  <tbody>\n",
              "    <tr>\n",
              "      <th>330</th>\n",
              "      <td>跟老公去大悦城玩儿的时候吃的，味道真的还不错哦！这家店是一对年轻的小两口自主创业开的店，环境...</td>\n",
              "      <td>1</td>\n",
              "    </tr>\n",
              "    <tr>\n",
              "      <th>1326</th>\n",
              "      <td>味道是好，但是真的很生气，排了两个小时的队伍就为了吃干酪鱼，进来被告知没有了，我觉得起码没有...</td>\n",
              "      <td>0</td>\n",
              "    </tr>\n",
              "    <tr>\n",
              "      <th>666</th>\n",
              "      <td>还好吧，调调不错，排队人多。。</td>\n",
              "      <td>1</td>\n",
              "    </tr>\n",
              "    <tr>\n",
              "      <th>1753</th>\n",
              "      <td>星期一人依旧是那么多，五点刚过就到了，基本上坐满了。菜品种类不少，这次赶上了青口贝挺好的。烤...</td>\n",
              "      <td>1</td>\n",
              "    </tr>\n",
              "    <tr>\n",
              "      <th>1885</th>\n",
              "      <td>4点半进去没等座。大拉皮好实惠。麻酱别都放否则太甜。薰骨肉香味浓。家常茄子精工细做，很好。还...</td>\n",
              "      <td>1</td>\n",
              "    </tr>\n",
              "  </tbody>\n",
              "</table>\n",
              "</div>"
            ],
            "text/plain": [
              "                                                comment  sentiment\n",
              "330   跟老公去大悦城玩儿的时候吃的，味道真的还不错哦！这家店是一对年轻的小两口自主创业开的店，环境...          1\n",
              "1326  味道是好，但是真的很生气，排了两个小时的队伍就为了吃干酪鱼，进来被告知没有了，我觉得起码没有...          0\n",
              "666                                     还好吧，调调不错，排队人多。。          1\n",
              "1753  星期一人依旧是那么多，五点刚过就到了，基本上坐满了。菜品种类不少，这次赶上了青口贝挺好的。烤...          1\n",
              "1885  4点半进去没等座。大拉皮好实惠。麻酱别都放否则太甜。薰骨肉香味浓。家常茄子精工细做，很好。还...          1"
            ]
          },
          "metadata": {
            "tags": []
          },
          "execution_count": 3
        }
      ]
    },
    {
      "cell_type": "code",
      "metadata": {
        "id": "7s0wKIFq2eh5",
        "colab_type": "code",
        "colab": {}
      },
      "source": [
        "!pip install transformers"
      ],
      "execution_count": 0,
      "outputs": []
    },
    {
      "cell_type": "code",
      "metadata": {
        "id": "md6-aV9_2eee",
        "colab_type": "code",
        "colab": {}
      },
      "source": [
        "from transformers import BertTokenizer, BertForSequenceClassification\n",
        "bert_model = \"bert-base-chinese\"\n",
        "max_seq_len = 128\n",
        "batch_size = 32\n",
        "bert_tokenizer = BertTokenizer.from_pretrained(bert_model)"
      ],
      "execution_count": 0,
      "outputs": []
    },
    {
      "cell_type": "code",
      "metadata": {
        "id": "lhiaonxQ2d44",
        "colab_type": "code",
        "colab": {
          "base_uri": "https://localhost:8080/",
          "height": 35
        },
        "outputId": "908484bc-51a3-41a4-ece0-6c7b6953e91e"
      },
      "source": [
        "list(bert_tokenizer.vocab.items())[2000:2005]"
      ],
      "execution_count": 6,
      "outputs": [
        {
          "output_type": "execute_result",
          "data": {
            "text/plain": [
              "[('姗', 2000), ('姚', 2001), ('姜', 2002), ('姝', 2003), ('姣', 2004)]"
            ]
          },
          "metadata": {
            "tags": []
          },
          "execution_count": 6
        }
      ]
    },
    {
      "cell_type": "code",
      "metadata": {
        "id": "1fkVojFf2d2E",
        "colab_type": "code",
        "colab": {}
      },
      "source": [
        "#我们把全部的词汇列表存储起来，下面要用到。\n",
        "bert_vocab = Vocab(list(bert_tokenizer.vocab.keys()))"
      ],
      "execution_count": 0,
      "outputs": []
    },
    {
      "cell_type": "code",
      "metadata": {
        "id": "3vVyxxwU2dyO",
        "colab_type": "code",
        "colab": {}
      },
      "source": [
        "class BertFastaiTokenizer(BaseTokenizer):\n",
        "    def __init__(self, tokenizer, max_seq_len=128, **kwargs):\n",
        "        self.pretrained_tokenizer = tokenizer\n",
        "        self.max_seq_len = max_seq_len\n",
        "\n",
        "    def __call__(self, *args, **kwargs):\n",
        "        return self\n",
        "\n",
        "    def tokenizer(self, t):\n",
        "        return [\"[CLS]\"] + self.pretrained_tokenizer.tokenize(t)[:self.max_seq_len - 2] + [\"[SEP]\"]"
      ],
      "execution_count": 0,
      "outputs": []
    },
    {
      "cell_type": "code",
      "metadata": {
        "id": "DZJJwJy82dt-",
        "colab_type": "code",
        "colab": {}
      },
      "source": [
        "tok_func = BertFastaiTokenizer(bert_tokenizer, max_seq_len=max_seq_len)\n",
        "bert_fastai_tokenizer = Tokenizer(\n",
        "    tok_func=tok_func,\n",
        "    pre_rules = [],\n",
        "    post_rules = []\n",
        ")\n",
        "path = Path(\".\")\n"
      ],
      "execution_count": 0,
      "outputs": []
    },
    {
      "cell_type": "code",
      "metadata": {
        "id": "bu0XfJC45H09",
        "colab_type": "code",
        "colab": {
          "base_uri": "https://localhost:8080/",
          "height": 17
        },
        "outputId": "ffa62b6f-ff61-47b9-bbff-f36fa0c75e02"
      },
      "source": [
        "databunch = TextClasDataBunch.from_df(path, train, valid, test,\n",
        "                  tokenizer=bert_fastai_tokenizer,\n",
        "                  vocab=bert_vocab,\n",
        "                  include_bos=False,\n",
        "                  include_eos=False,\n",
        "                  text_cols=\"comment\",\n",
        "                  label_cols='sentiment',\n",
        "                  bs=batch_size,\n",
        "                  collate_fn=partial(pad_collate, pad_first=False, pad_idx=0),\n",
        "             )"
      ],
      "execution_count": 12,
      "outputs": [
        {
          "output_type": "display_data",
          "data": {
            "text/html": [
              ""
            ],
            "text/plain": [
              "<IPython.core.display.HTML object>"
            ]
          },
          "metadata": {
            "tags": []
          }
        },
        {
          "output_type": "display_data",
          "data": {
            "text/html": [
              ""
            ],
            "text/plain": [
              "<IPython.core.display.HTML object>"
            ]
          },
          "metadata": {
            "tags": []
          }
        },
        {
          "output_type": "display_data",
          "data": {
            "text/html": [
              ""
            ],
            "text/plain": [
              "<IPython.core.display.HTML object>"
            ]
          },
          "metadata": {
            "tags": []
          }
        }
      ]
    },
    {
      "cell_type": "code",
      "metadata": {
        "id": "pfZFaEmU5Hx-",
        "colab_type": "code",
        "colab": {
          "base_uri": "https://localhost:8080/",
          "height": 289
        },
        "outputId": "0c2c2897-4cea-406f-9f44-29c4469dbfca"
      },
      "source": [
        "databunch.show_batch()"
      ],
      "execution_count": 13,
      "outputs": [
        {
          "output_type": "display_data",
          "data": {
            "text/html": [
              "<table border=\"1\" class=\"dataframe\">\n",
              "  <thead>\n",
              "    <tr style=\"text-align: right;\">\n",
              "      <th>text</th>\n",
              "      <th>target</th>\n",
              "    </tr>\n",
              "  </thead>\n",
              "  <tbody>\n",
              "    <tr>\n",
              "      <td>[CLS] 先 团 的 券 ， 进 去 后 就 不 想 吃 了 ， 把 券 退 了 ， 因 为 同 伴 拿 了 一 杯 水 回 来 ， 服 务 员 告 知 必 须 交 钱 了 ， 那 就 在 这 吃 吧 。 结 果 交 的 现 金 。 客 观 的 说 ， 东 西 种 类 是 不 少 ，</td>\n",
              "      <td>0</td>\n",
              "    </tr>\n",
              "    <tr>\n",
              "      <td>[CLS] 两 个 人 点 了 四 个 菜 一 壶 梨 汤 ， 口 味 还 可 以 ， 没 有 特 别 出 众 ， 菜 的 价 位 相 对 高 了 点 ， 排 队 的 人 倒 是 很 多 ， 上 菜 挺 快 的 ， 就 是 点 的 米 饭 催 了 好 几 遍 才 端 上 来 ， 菜 都</td>\n",
              "      <td>0</td>\n",
              "    </tr>\n",
              "    <tr>\n",
              "      <td>[CLS] 实 在 不 理 解 为 什 么 点 评 这 么 火 ， 外 边 还 有 好 多 人 排 队 。 这 个 菜 的 口 味 放 北 京 也 许 是 正 常 的 ， 但 是 在 天 津 这 种 风 味 水 平 根 本 不 值 得 尝 试 ， 更 别 提 排 队 了 。 随 便 找</td>\n",
              "      <td>0</td>\n",
              "    </tr>\n",
              "    <tr>\n",
              "      <td>[CLS] 发 现 这 家 店 也 是 搜 寻 滨 江 道 隐 秘 的 小 吃 发 现 的 ， 看 [UNK] 上 评 价 比 较 看 ， 然 后 看 了 看 菜 单 比 较 有 特 色 ， 觉 得 应 该 是 挺 文 艺 的 一 个 创 意 菜 小 店 ， 然 后 有 天 下 班 就 和 同</td>\n",
              "      <td>0</td>\n",
              "    </tr>\n",
              "    <tr>\n",
              "      <td>[CLS] 今 天 从 门 口 过 ， 觉 得 能 进 娜 娜 家 ， 果 断 冲 过 来 ， 哈 哈 ， 抢 到 大 的 沙 发 桌 喽 [UNK] [UNK] 彩 虹 [UNK] 沙 拉 种 类 多 多 ， 牛 油 果 番 茄 芝 士 鸡 蛋 [UNK] 补 充 营 养 ， 味 道 也 不 错 😂 看 点 评 选</td>\n",
              "      <td>1</td>\n",
              "    </tr>\n",
              "  </tbody>\n",
              "</table>"
            ],
            "text/plain": [
              "<IPython.core.display.HTML object>"
            ]
          },
          "metadata": {
            "tags": []
          }
        }
      ]
    },
    {
      "cell_type": "code",
      "metadata": {
        "id": "_hcEwqd55Huc",
        "colab_type": "code",
        "colab": {}
      },
      "source": [
        "class MyNoTupleModel(BertForSequenceClassification):\n",
        "  def forward(self, *args, **kwargs):\n",
        "    return super().forward(*args, **kwargs)[0]"
      ],
      "execution_count": 0,
      "outputs": []
    },
    {
      "cell_type": "code",
      "metadata": {
        "id": "9KxMYwAI5HpV",
        "colab_type": "code",
        "colab": {}
      },
      "source": [
        "bert_pretrained_model = MyNoTupleModel.from_pretrained(bert_model, num_labels=2)"
      ],
      "execution_count": 0,
      "outputs": []
    },
    {
      "cell_type": "code",
      "metadata": {
        "id": "klasJb0E5HlV",
        "colab_type": "code",
        "colab": {}
      },
      "source": [
        "loss_func = nn.CrossEntropyLoss()"
      ],
      "execution_count": 0,
      "outputs": []
    },
    {
      "cell_type": "code",
      "metadata": {
        "id": "6X8pCYoK5eW1",
        "colab_type": "code",
        "colab": {}
      },
      "source": [
        "learn = Learner(databunch, \n",
        "                bert_pretrained_model,\n",
        "                loss_func=loss_func,\n",
        "                metrics=accuracy)"
      ],
      "execution_count": 0,
      "outputs": []
    },
    {
      "cell_type": "code",
      "metadata": {
        "id": "gfolugLD5eSF",
        "colab_type": "code",
        "colab": {
          "base_uri": "https://localhost:8080/",
          "height": 35
        },
        "outputId": "0a06061f-7234-4629-80ca-6c66d35ea49c"
      },
      "source": [
        "learn.lr_find()"
      ],
      "execution_count": 20,
      "outputs": [
        {
          "output_type": "display_data",
          "data": {
            "text/html": [
              ""
            ],
            "text/plain": [
              "<IPython.core.display.HTML object>"
            ]
          },
          "metadata": {
            "tags": []
          }
        },
        {
          "output_type": "stream",
          "text": [
            "LR Finder is complete, type {learner_name}.recorder.plot() to see the graph.\n"
          ],
          "name": "stdout"
        }
      ]
    },
    {
      "cell_type": "code",
      "metadata": {
        "id": "XdPoDQdc5eLx",
        "colab_type": "code",
        "colab": {
          "base_uri": "https://localhost:8080/",
          "height": 279
        },
        "outputId": "7f862b33-daff-4d0f-855e-604248ac9858"
      },
      "source": [
        "learn.recorder.plot()"
      ],
      "execution_count": 21,
      "outputs": [
        {
          "output_type": "display_data",
          "data": {
            "image/png": "[encoded data removed]",
            "text/plain": [
              "<Figure size 432x288 with 1 Axes>"
            ]
          },
          "metadata": {
            "tags": []
          }
        }
      ]
    },
    {
      "cell_type": "code",
      "metadata": {
        "id": "0k25MMNo6E2V",
        "colab_type": "code",
        "colab": {
          "base_uri": "https://localhost:8080/",
          "height": 111
        },
        "outputId": "f6f34a07-3f8f-40fe-ff92-f0037871c77b"
      },
      "source": [
        "learn.fit_one_cycle(2, 2e-5)"
      ],
      "execution_count": 22,
      "outputs": [
        {
          "output_type": "display_data",
          "data": {
            "text/html": [
              "<table border=\"1\" class=\"dataframe\">\n",
              "  <thead>\n",
              "    <tr style=\"text-align: left;\">\n",
              "      <th>epoch</th>\n",
              "      <th>train_loss</th>\n",
              "      <th>valid_loss</th>\n",
              "      <th>accuracy</th>\n",
              "      <th>time</th>\n",
              "    </tr>\n",
              "  </thead>\n",
              "  <tbody>\n",
              "    <tr>\n",
              "      <td>0</td>\n",
              "      <td>0.572303</td>\n",
              "      <td>0.407918</td>\n",
              "      <td>0.821875</td>\n",
              "      <td>00:10</td>\n",
              "    </tr>\n",
              "    <tr>\n",
              "      <td>1</td>\n",
              "      <td>0.383242</td>\n",
              "      <td>0.310867</td>\n",
              "      <td>0.878125</td>\n",
              "      <td>00:10</td>\n",
              "    </tr>\n",
              "  </tbody>\n",
              "</table>"
            ],
            "text/plain": [
              "<IPython.core.display.HTML object>"
            ]
          },
          "metadata": {
            "tags": []
          }
        }
      ]
    },
    {
      "cell_type": "code",
      "metadata": {
        "id": "f0wk8DSw6Er_",
        "colab_type": "code",
        "colab": {}
      },
      "source": [
        "def dumb_series_prediction(n):\n",
        "  preds = []\n",
        "  for loc in range(n):\n",
        "    preds.append(int(learn.predict(test.iloc[loc]['comment'])[1]))\n",
        "  return preds"
      ],
      "execution_count": 0,
      "outputs": []
    },
    {
      "cell_type": "code",
      "metadata": {
        "id": "obrXScTJ6Enj",
        "colab_type": "code",
        "colab": {}
      },
      "source": [
        "preds = dumb_series_prediction(len(test))"
      ],
      "execution_count": 0,
      "outputs": []
    },
    {
      "cell_type": "code",
      "metadata": {
        "id": "BLGYHREU6Efa",
        "colab_type": "code",
        "colab": {
          "base_uri": "https://localhost:8080/",
          "height": 35
        },
        "outputId": "ce846791-646c-4476-c161-44d2b54acf8b"
      },
      "source": [
        "preds[:10]"
      ],
      "execution_count": 25,
      "outputs": [
        {
          "output_type": "execute_result",
          "data": {
            "text/plain": [
              "[1, 1, 1, 1, 1, 0, 1, 1, 1, 1]"
            ]
          },
          "metadata": {
            "tags": []
          },
          "execution_count": 25
        }
      ]
    },
    {
      "cell_type": "code",
      "metadata": {
        "id": "VmuVW-7m6YqL",
        "colab_type": "code",
        "colab": {}
      },
      "source": [
        "from sklearn.metrics import classification_report, confusion_matrix"
      ],
      "execution_count": 0,
      "outputs": []
    },
    {
      "cell_type": "code",
      "metadata": {
        "id": "XI3v0hem6YlC",
        "colab_type": "code",
        "colab": {
          "base_uri": "https://localhost:8080/",
          "height": 179
        },
        "outputId": "8b4232dc-7eb4-4039-e02f-9c9118d91b8b"
      },
      "source": [
        "print(classification_report(test.sentiment, preds))"
      ],
      "execution_count": 27,
      "outputs": [
        {
          "output_type": "stream",
          "text": [
            "              precision    recall  f1-score   support\n",
            "\n",
            "           0       0.88      0.86      0.87       203\n",
            "           1       0.86      0.88      0.87       197\n",
            "\n",
            "    accuracy                           0.87       400\n",
            "   macro avg       0.87      0.87      0.87       400\n",
            "weighted avg       0.87      0.87      0.87       400\n",
            "\n"
          ],
          "name": "stdout"
        }
      ]
    },
    {
      "cell_type": "code",
      "metadata": {
        "id": "l--c1eXv6fE3",
        "colab_type": "code",
        "colab": {
          "base_uri": "https://localhost:8080/",
          "height": 53
        },
        "outputId": "24750711-35a3-4f45-e8ac-36105fc561f4"
      },
      "source": [
        "print(confusion_matrix(test.sentiment, preds))"
      ],
      "execution_count": 28,
      "outputs": [
        {
          "output_type": "stream",
          "text": [
            "[[175  28]\n",
            " [ 23 174]]\n"
          ],
          "name": "stdout"
        }
      ]
    }
  ]
}