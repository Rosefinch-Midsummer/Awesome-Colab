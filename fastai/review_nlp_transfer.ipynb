{
  "nbformat": 4,
  "nbformat_minor": 0,
  "metadata": {
    "jekyll": {
      "keywords": "fastai",
      "summary": "Application to NLP, including ULMFiT fine-tuning",
      "title": "text"
    },
    "kernelspec": {
      "name": "python3",
      "display_name": "Python 3"
    },
    "language_info": {
      "codemirror_mode": {
        "name": "ipython",
        "version": 3
      },
      "file_extension": ".py",
      "mimetype": "text/x-python",
      "name": "python",
      "nbconvert_exporter": "python",
      "pygments_lexer": "ipython3",
      "version": "3.7.1"
    },
    "colab": {
      "name": "review-nlp-transfer.ipynb",
      "provenance": [],
      "collapsed_sections": [],
      "include_colab_link": true
    },
    "accelerator": "GPU"
  },
  "cells": [
    {
      "cell_type": "markdown",
      "metadata": {
        "id": "view-in-github",
        "colab_type": "text"
      },
      "source": [
        "<a href=\"https://colab.research.google.com/github/Rosefinch-Midsummer/Awesome-Colab/blob/master/fastai/review_nlp_transfer.ipynb\" target=\"_parent\"><img src=\"https://colab.research.google.com/assets/colab-badge.svg\" alt=\"Open In Colab\"/></a>"
      ]
    },
    {
      "cell_type": "markdown",
      "metadata": {
        "id": "I7UZqtJk97rx",
        "colab_type": "text"
      },
      "source": [
        "## Quick Start: Training an IMDb sentiment model with *ULMFiT*"
      ]
    },
    {
      "cell_type": "markdown",
      "metadata": {
        "id": "MffnLSuF97r5",
        "colab_type": "text"
      },
      "source": [
        "Let's start with a quick end-to-end example of training a model. We'll train a sentiment classifier on a sample of the popular IMDb data, showing 4 steps:\n",
        "\n",
        "1. Reading and viewing the IMDb data\n",
        "1. Getting your data ready for modeling\n",
        "1. Fine-tuning a language model\n",
        "1. Building a classifier"
      ]
    },
    {
      "cell_type": "code",
      "metadata": {
        "id": "2757n_0O97r7",
        "colab_type": "code",
        "colab": {}
      },
      "source": [
        "from fastai.text import * "
      ],
      "execution_count": 0,
      "outputs": []
    },
    {
      "cell_type": "markdown",
      "metadata": {
        "id": "qdorDt8O97sD",
        "colab_type": "text"
      },
      "source": [
        "Contrary to images in Computer Vision, text can't directly be transformed into numbers to be fed into a model. The first thing we need to do is to preprocess our data so that we change the raw texts to lists of words, or tokens (a step that is called tokenization) then transform these tokens into numbers (a step that is called numericalization). These numbers are then passed to embedding layers that will convert them in arrays of floats before passing them through a model.\n",
        "\n",
        "Steps:\n",
        "\n",
        "1. Get your data preprocessed and ready to use,\n",
        "1. Create a language model with pretrained weights that you can fine-tune to your dataset,\n",
        "1. Create other models such as classifiers on top of the encoder of the language model.\n",
        "\n",
        "To show examples, we have provided a small sample of the [IMDB dataset](https://www.imdb.com/interfaces/) which contains 1,000 reviews of movies with labels (positive or negative)."
      ]
    },
    {
      "cell_type": "code",
      "metadata": {
        "id": "KbFBJnHZ97sF",
        "colab_type": "code",
        "colab": {
          "base_uri": "https://localhost:8080/",
          "height": 35
        },
        "outputId": "cfe0b8c8-96a7-45d4-8010-61a8ee33d4d3"
      },
      "source": [
        "path = untar_data(URLs.IMDB_SAMPLE)"
      ],
      "execution_count": 2,
      "outputs": [
        {
          "output_type": "stream",
          "text": [
            "Downloading http://files.fast.ai/data/examples/imdb_sample\n"
          ],
          "name": "stdout"
        },
        {
          "output_type": "display_data",
          "data": {
            "text/html": [
              ""
            ],
            "text/plain": [
              "<IPython.core.display.HTML object>"
            ]
          },
          "metadata": {
            "tags": []
          }
        }
      ]
    },
    {
      "cell_type": "code",
      "metadata": {
        "id": "c3V-3bvK97sL",
        "colab_type": "code",
        "outputId": "1df4e9df-6393-48cf-f793-c953ff039ea9",
        "colab": {
          "base_uri": "https://localhost:8080/",
          "height": 204
        }
      },
      "source": [
        "df = pd.read_csv(path/'texts.csv')\n",
        "df.head()"
      ],
      "execution_count": 3,
      "outputs": [
        {
          "output_type": "execute_result",
          "data": {
            "text/html": [
              "<div>\n",
              "<style scoped>\n",
              "    .dataframe tbody tr th:only-of-type {\n",
              "        vertical-align: middle;\n",
              "    }\n",
              "\n",
              "    .dataframe tbody tr th {\n",
              "        vertical-align: top;\n",
              "    }\n",
              "\n",
              "    .dataframe thead th {\n",
              "        text-align: right;\n",
              "    }\n",
              "</style>\n",
              "<table border=\"1\" class=\"dataframe\">\n",
              "  <thead>\n",
              "    <tr style=\"text-align: right;\">\n",
              "      <th></th>\n",
              "      <th>label</th>\n",
              "      <th>text</th>\n",
              "      <th>is_valid</th>\n",
              "    </tr>\n",
              "  </thead>\n",
              "  <tbody>\n",
              "    <tr>\n",
              "      <th>0</th>\n",
              "      <td>negative</td>\n",
              "      <td>Un-bleeping-believable! Meg Ryan doesn't even ...</td>\n",
              "      <td>False</td>\n",
              "    </tr>\n",
              "    <tr>\n",
              "      <th>1</th>\n",
              "      <td>positive</td>\n",
              "      <td>This is a extremely well-made film. The acting...</td>\n",
              "      <td>False</td>\n",
              "    </tr>\n",
              "    <tr>\n",
              "      <th>2</th>\n",
              "      <td>negative</td>\n",
              "      <td>Every once in a long while a movie will come a...</td>\n",
              "      <td>False</td>\n",
              "    </tr>\n",
              "    <tr>\n",
              "      <th>3</th>\n",
              "      <td>positive</td>\n",
              "      <td>Name just says it all. I watched this movie wi...</td>\n",
              "      <td>False</td>\n",
              "    </tr>\n",
              "    <tr>\n",
              "      <th>4</th>\n",
              "      <td>negative</td>\n",
              "      <td>This movie succeeds at being one of the most u...</td>\n",
              "      <td>False</td>\n",
              "    </tr>\n",
              "  </tbody>\n",
              "</table>\n",
              "</div>"
            ],
            "text/plain": [
              "      label                                               text  is_valid\n",
              "0  negative  Un-bleeping-believable! Meg Ryan doesn't even ...     False\n",
              "1  positive  This is a extremely well-made film. The acting...     False\n",
              "2  negative  Every once in a long while a movie will come a...     False\n",
              "3  positive  Name just says it all. I watched this movie wi...     False\n",
              "4  negative  This movie succeeds at being one of the most u...     False"
            ]
          },
          "metadata": {
            "tags": []
          },
          "execution_count": 3
        }
      ]
    },
    {
      "cell_type": "code",
      "metadata": {
        "id": "TGxpBkx197sU",
        "colab_type": "code",
        "colab": {
          "base_uri": "https://localhost:8080/",
          "height": 17
        },
        "outputId": "f1c6ed5b-726e-452d-d049-23e37b428c71"
      },
      "source": [
        "data_lm = TextLMDataBunch.from_csv(path, 'texts.csv')\n",
        "data_clas = TextClasDataBunch.from_csv(path, 'texts.csv', vocab=data_lm.train_ds.vocab, bs=32)"
      ],
      "execution_count": 4,
      "outputs": [
        {
          "output_type": "display_data",
          "data": {
            "text/html": [
              ""
            ],
            "text/plain": [
              "<IPython.core.display.HTML object>"
            ]
          },
          "metadata": {
            "tags": []
          }
        },
        {
          "output_type": "display_data",
          "data": {
            "text/html": [
              ""
            ],
            "text/plain": [
              "<IPython.core.display.HTML object>"
            ]
          },
          "metadata": {
            "tags": []
          }
        },
        {
          "output_type": "display_data",
          "data": {
            "text/html": [
              ""
            ],
            "text/plain": [
              "<IPython.core.display.HTML object>"
            ]
          },
          "metadata": {
            "tags": []
          }
        },
        {
          "output_type": "display_data",
          "data": {
            "text/html": [
              ""
            ],
            "text/plain": [
              "<IPython.core.display.HTML object>"
            ]
          },
          "metadata": {
            "tags": []
          }
        }
      ]
    },
    {
      "cell_type": "code",
      "metadata": {
        "id": "kybOiOjo97sa",
        "colab_type": "code",
        "colab": {}
      },
      "source": [
        "data_lm.save('data_lm_export.pkl')\n",
        "data_clas.save('data_clas_export.pkl')"
      ],
      "execution_count": 0,
      "outputs": []
    },
    {
      "cell_type": "code",
      "metadata": {
        "id": "TAML_8Sh97sf",
        "colab_type": "code",
        "colab": {}
      },
      "source": [
        "bs=20\n",
        "#bs=32\n",
        "#bs=192"
      ],
      "execution_count": 0,
      "outputs": []
    },
    {
      "cell_type": "code",
      "metadata": {
        "id": "7hgH60Q597sk",
        "colab_type": "code",
        "colab": {}
      },
      "source": [
        "data_lm = load_data(path, 'data_lm_export.pkl', bs=bs)\n",
        "data_clas = load_data(path, 'data_clas_export.pkl', bs=bs)"
      ],
      "execution_count": 0,
      "outputs": []
    },
    {
      "cell_type": "markdown",
      "metadata": {
        "id": "RVMaCNBm97sq",
        "colab_type": "text"
      },
      "source": [
        "Note that you can load the data with different [`DataBunch`](/basic_data.html#DataBunch) parameters (batch size, `bptt`,...)"
      ]
    },
    {
      "cell_type": "markdown",
      "metadata": {
        "id": "PN-GJvdn97ss",
        "colab_type": "text"
      },
      "source": [
        "### Fine-tuning a language model"
      ]
    },
    {
      "cell_type": "markdown",
      "metadata": {
        "id": "bneww4wM97st",
        "colab_type": "text"
      },
      "source": [
        "We can use the `data_lm` object we created earlier to fine-tune a pretrained language model. [fast.ai](http://www.fast.ai/) has an English model with an AWD-LSTM architecture available that we can download. We can create a learner object that will directly create a model, download the pretrained weights and be ready for fine-tuning."
      ]
    },
    {
      "cell_type": "code",
      "metadata": {
        "id": "NdcgU9Yr97sv",
        "colab_type": "code",
        "colab": {}
      },
      "source": [
        "torch.cuda.set_device(0)"
      ],
      "execution_count": 0,
      "outputs": []
    },
    {
      "cell_type": "code",
      "metadata": {
        "id": "ty24BmBy97s0",
        "colab_type": "code",
        "outputId": "3579f755-fa7c-4888-ea51-b1ca24b6601e",
        "colab": {
          "base_uri": "https://localhost:8080/",
          "height": 80
        }
      },
      "source": [
        "learn = language_model_learner(data_lm, AWD_LSTM, drop_mult=0.5)\n",
        "learn.fit_one_cycle(1, 1e-2)"
      ],
      "execution_count": 36,
      "outputs": [
        {
          "output_type": "display_data",
          "data": {
            "text/html": [
              "<table border=\"1\" class=\"dataframe\">\n",
              "  <thead>\n",
              "    <tr style=\"text-align: left;\">\n",
              "      <th>epoch</th>\n",
              "      <th>train_loss</th>\n",
              "      <th>valid_loss</th>\n",
              "      <th>accuracy</th>\n",
              "      <th>time</th>\n",
              "    </tr>\n",
              "  </thead>\n",
              "  <tbody>\n",
              "    <tr>\n",
              "      <td>0</td>\n",
              "      <td>4.363441</td>\n",
              "      <td>3.875031</td>\n",
              "      <td>0.287825</td>\n",
              "      <td>00:12</td>\n",
              "    </tr>\n",
              "  </tbody>\n",
              "</table>"
            ],
            "text/plain": [
              "<IPython.core.display.HTML object>"
            ]
          },
          "metadata": {
            "tags": []
          }
        }
      ]
    },
    {
      "cell_type": "code",
      "metadata": {
        "id": "Dk5MLpIG97s6",
        "colab_type": "code",
        "colab": {}
      },
      "source": [
        "language_model_learner??"
      ],
      "execution_count": 0,
      "outputs": []
    },
    {
      "cell_type": "code",
      "metadata": {
        "id": "5cZ1Tnpt97s_",
        "colab_type": "code",
        "colab": {}
      },
      "source": [
        "learn.load_pretrained??"
      ],
      "execution_count": 0,
      "outputs": []
    },
    {
      "cell_type": "code",
      "metadata": {
        "id": "A_LQTI1c97tE",
        "colab_type": "code",
        "colab": {}
      },
      "source": [
        "convert_weights??"
      ],
      "execution_count": 0,
      "outputs": []
    },
    {
      "cell_type": "markdown",
      "metadata": {
        "id": "A9Lp98lD97tJ",
        "colab_type": "text"
      },
      "source": [
        "You can use [Visual Studio Code](https://code.visualstudio.com/) (vscode - open source editor that comes with recent versions of Anaconda, or can be installed separately), or most editors and IDEs, to browse code. vscode things to know:\n",
        "\n",
        "- Command palette (<kbd>Ctrl-shift-p</kbd>)\n",
        "- Go to symbol (<kbd>Ctrl-t</kbd>)\n",
        "- Find references (<kbd>Shift-F12</kbd>)\n",
        "- Go to definition (<kbd>F12</kbd>)\n",
        "- Go back (<kbd>alt-left</kbd>)\n",
        "- View documentation\n",
        "- Hide sidebar (<kbd>Ctrl-b</kbd>)\n",
        "- Zen mode (<kbd>Ctrl-k,z</kbd>)"
      ]
    },
    {
      "cell_type": "markdown",
      "metadata": {
        "id": "VdF7CYCh97tL",
        "colab_type": "text"
      },
      "source": [
        "Like a computer vision model, we can then unfreeze the model and fine-tune it."
      ]
    },
    {
      "cell_type": "code",
      "metadata": {
        "id": "NJXJuB6097tN",
        "colab_type": "code",
        "outputId": "7d31f4d5-b4f7-476e-b132-adda41c1da9a",
        "colab": {
          "base_uri": "https://localhost:8080/",
          "height": 142
        }
      },
      "source": [
        "learn.unfreeze()\n",
        "learn.fit_one_cycle(3, slice(1e-4,1e-2))"
      ],
      "execution_count": 14,
      "outputs": [
        {
          "output_type": "display_data",
          "data": {
            "text/html": [
              "<table border=\"1\" class=\"dataframe\">\n",
              "  <thead>\n",
              "    <tr style=\"text-align: left;\">\n",
              "      <th>epoch</th>\n",
              "      <th>train_loss</th>\n",
              "      <th>valid_loss</th>\n",
              "      <th>accuracy</th>\n",
              "      <th>time</th>\n",
              "    </tr>\n",
              "  </thead>\n",
              "  <tbody>\n",
              "    <tr>\n",
              "      <td>0</td>\n",
              "      <td>4.083631</td>\n",
              "      <td>3.841512</td>\n",
              "      <td>0.290580</td>\n",
              "      <td>00:07</td>\n",
              "    </tr>\n",
              "    <tr>\n",
              "      <td>1</td>\n",
              "      <td>3.882467</td>\n",
              "      <td>3.807930</td>\n",
              "      <td>0.292217</td>\n",
              "      <td>00:07</td>\n",
              "    </tr>\n",
              "    <tr>\n",
              "      <td>2</td>\n",
              "      <td>3.687985</td>\n",
              "      <td>3.805316</td>\n",
              "      <td>0.293036</td>\n",
              "      <td>00:07</td>\n",
              "    </tr>\n",
              "  </tbody>\n",
              "</table>"
            ],
            "text/plain": [
              "<IPython.core.display.HTML object>"
            ]
          },
          "metadata": {
            "tags": []
          }
        }
      ]
    },
    {
      "cell_type": "markdown",
      "metadata": {
        "id": "maGYJSLQ97tS",
        "colab_type": "text"
      },
      "source": [
        "To evaluate your language model, you can run the [`Learner.predict`](/basic_train.html#Learner.predict) method and specify the number of words you want it to guess."
      ]
    },
    {
      "cell_type": "code",
      "metadata": {
        "id": "Gh5axWLb97tU",
        "colab_type": "code",
        "outputId": "338f382c-f6d3-4824-de33-c9b659683f7c",
        "colab": {
          "base_uri": "https://localhost:8080/",
          "height": 35
        }
      },
      "source": [
        "learn.predict(\"This is a review about\", n_words=10)"
      ],
      "execution_count": 15,
      "outputs": [
        {
          "output_type": "execute_result",
          "data": {
            "text/plain": [
              "'This is a review about how Kim Basinger ( Forgettable Dance'"
            ]
          },
          "metadata": {
            "tags": []
          },
          "execution_count": 15
        }
      ]
    },
    {
      "cell_type": "code",
      "metadata": {
        "id": "VZemqP5B_NqI",
        "colab_type": "code",
        "colab": {
          "base_uri": "https://localhost:8080/",
          "height": 35
        },
        "outputId": "80ab6d0a-e683-44f3-ad4e-5acdbf676a65"
      },
      "source": [
        "learn.predict(\"This is a  sad story about\", n_words=20)"
      ],
      "execution_count": 16,
      "outputs": [
        {
          "output_type": "execute_result",
          "data": {
            "text/plain": [
              "'This is a  sad story about a young man , an romantic magician , and a talent ; he tries suddenly to think of male relationships'"
            ]
          },
          "metadata": {
            "tags": []
          },
          "execution_count": 16
        }
      ]
    },
    {
      "cell_type": "markdown",
      "metadata": {
        "id": "AzuxOc_u97ta",
        "colab_type": "text"
      },
      "source": [
        "It doesn't make much sense (we have a tiny vocabulary here and didn't train much on it) but note that it respects basic grammar (which comes from the pretrained model).\n",
        "\n",
        "Finally we save the encoder to be able to use it for classification in the next section."
      ]
    },
    {
      "cell_type": "code",
      "metadata": {
        "id": "dmoU8VOP97tc",
        "colab_type": "code",
        "colab": {}
      },
      "source": [
        "learn.save('ft')\n",
        "learn.save_encoder('ft_enc')"
      ],
      "execution_count": 0,
      "outputs": []
    },
    {
      "cell_type": "markdown",
      "metadata": {
        "id": "BzGJ_oEO97th",
        "colab_type": "text"
      },
      "source": [
        "### Building a classifier"
      ]
    },
    {
      "cell_type": "code",
      "metadata": {
        "id": "4osXj2Za97ti",
        "colab_type": "code",
        "colab": {
          "base_uri": "https://localhost:8080/",
          "height": 1000
        },
        "outputId": "1721c308-2e28-4fbc-af83-77b7291b0b7e"
      },
      "source": [
        "learn = text_classifier_learner(data_clas, AWD_LSTM, drop_mult=0.5).to_fp16()\n",
        "learn.load_encoder('ft_enc')"
      ],
      "execution_count": 38,
      "outputs": [
        {
          "output_type": "execute_result",
          "data": {
            "text/plain": [
              "RNNLearner(data=TextClasDataBunch;\n",
              "\n",
              "Train: LabelList (799 items)\n",
              "x: TextList\n",
              "xxbos i thought the original of this film was quaint and charming as well as having me sitting on the edge of my seat trying to figure it out . \n",
              " \n",
              "  xxmaj since i had already seen the original , when i saw this on xxmaj sci xxmaj fi xxmaj xxunk i do n't know if this remake was deliberately made for xxmaj sci xxmaj fi - i knew what it was within the first few minutes . xxmaj since i like xxmaj richard xxmaj burgi as a character actor , i wanted to see how he would pull it off . \n",
              " \n",
              "  xxmaj the writers / producers etc , xxunk the film a bit by trying to explain the plight of the \" aliens \" ( xxmaj they could no longer xxunk their own kind and needed help ) using the same pseudo science that has been xxunk in our ears in the 90 's . xxmaj maybe it added a bit of polish to the film , or not . \n",
              " \n",
              "  xxmaj this film . xxmaj film ? xxmaj this production takes on a more sinister edge than the original xxunk xxmaj the original ended with a confrontation between the young woman and the alien and an understanding of sorts took place , although no resolution of the xxmaj alien 's problem . \n",
              " \n",
              "  i sort of remember that in this remake , the woman became rather hostile towards the xxmaj burgi / xxmaj xxunk i think it could have ended better . xxmaj but the ending is just the ending , and the yarn is a swell yarn , being of the basic 1958 xxmaj science xxmaj fiction xxmaj pulp xxmaj stock . xxmaj many great science fiction stories were written in the 50 's and some of them even made it to film . \n",
              " \n",
              "  xxmaj this is a swell thing to watch on like a rainy day or something . i rate it highly cos of all the remakes of old 50 's xxmaj sci xxmaj fi , this one came off well . i actually enjoyed this quite a bit . \n",
              " \n",
              "  xxmaj but if anyone really wants to see this story told xxup well , i suggest the original 1958 version with xxmaj tom xxmaj xxunk and xxmaj xxunk xxmaj xxunk , directed by xxmaj gene xxmaj xxunk xxmaj jr.,xxbos xxmaj some of these viewer comments are just ridiculous . xxmaj not painful to watch with your significant other ? i was apologizing to my boyfriend the entire movie . \n",
              " \n",
              "  xxmaj it was so slow and awfully strange . \n",
              " \n",
              "  xxmaj both xxmaj xxunk , xxmaj vanessa and xxmaj natasha were xxunk for this , especially with xxmaj vanessa doing that ridiculous brash xxmaj american accent . \n",
              " \n",
              "  xxmaj claire xxmaj danes was the same xxunk - xxunk awkward girl that she was in xxmaj my xxmaj so - xxmaj called xxmaj life . xxmaj she has yet to push herself in any way . xxmaj girl , find a new way to xxunk to cry ! \n",
              " \n",
              "  xxmaj meryl xxmaj streep was one of the only redeeming part of this movie , she was on screen for five minutes , and i xxunk to xxmaj god , she reached out of the movie screen and xxunk me awake . \n",
              " \n",
              "  xxmaj oh ! xxmaj and xxmaj hugh xxmaj dancy , who gets better every time i see him . \n",
              " \n",
              "  xxmaj glenn xxmaj close and xxmaj eileen xxmaj atkins were also great in their two and a half scenes . \n",
              " \n",
              "  i mean , this was a well - shot movie , it was very pretty , the settings were interestingly dressed , providing relief for the intense boredom i was feeling . \n",
              " \n",
              "  i do n't know , xxmaj it 's just pretty pathetic when a movie that xxunk a cast comprised of \" xxmaj the greatest actresses of our time \" sucks so much . xxmaj it sure had more than a few noticeable editing errors , and the main character ( xxmaj ann ) was a huge jerk . i was glad she died . xxmaj but that 's because i felt bad for xxmaj xxunk , xxmaj ann 's friend -- mostly because these two ladies were better actors and made me feel a little empathy . \n",
              " \n",
              "  xxmaj ugh . xxup bad job , xxmaj evening the film . xxmaj you were n't entertaining and you were n't even thought - provoking . i sure hope the book was better , so it did n't waste even more of people 's time . 3 / 10,xxbos i had heard good things about this film and was , you guessed it , a bit disappointed . xxmaj reese xxmaj xxunk is as promised surprisingly good , surprisingly confident , at a young age ; really all the ( small ) cast are quite solid , in their simple 50s xxmaj american setting . xxmaj the reason i did n't rate this film higher is mainly that towards the end , the xxunk shown by the older sister did n't seem so real and this pulled me out of the film a bit . xxmaj perhaps we are expected to fill in the plot , or perhaps the film needed to be a bit longer . xxmaj maureen 's character is quite underdeveloped i think . xxmaj it is understandable that xxmaj xxunk ( xxmaj reese xxup w. , the younger ) would be traumatised and angry , but why is her sister shown to be more upset ? xxmaj because she 's a few years older ? xxmaj has n't the end rather xxunk the rest of the film ? xxmaj the pacing of the movie makes it seem that xxmaj maureen and xxmaj court have only just met , when he gets xxunk ( warning : this scene is surprisingly brutal , in xxunk it seems like it might have been trying to shock a bit . well it works ! ) . xxmaj it depends what you want - if you want the girls ' happy story of young love that it seems like you 're going to get , you 're in for a surprise . xxmaj man in the xxmaj moon is both quaint and dreamy and a harsh coming of age film  a rather awkward combination ? i liked the character of xxmaj court though , i can see what girls watching this might be watching . xxmaj and i loved that they had the courage to both let him hurt the younger sister ( most men would , most films would n't ) and get killed . \n",
              " \n",
              "  7 / 10 on my pretty harsh ratings scale . xxmaj for some reason i found xxmaj jason xxmaj london on a xxunk funny .,xxbos xxmaj jack xxmaj frost is xxmaj really a xxmaj cool xxmaj movie . i xxmaj mean xxrep 4 . xxmaj its xxmaj funny . xxmaj its xxmaj violent . and xxmaj very xxmaj enjoyable . xxmaj most xxmaj people xxmaj say that it xxmaj is b xxmaj rated , xxmaj but xxmaj that xxmaj could n't be xxmaj farther from the truth . xxmaj it has xxmaj great xxmaj special xxmaj effects and xxmaj good xxmaj acting . xxmaj the xxmaj only xxmaj weird thing is of xxmaj course , xxmaj the xxmaj killer xxmaj snowman . i xxmaj think this xxmaj movie was xxmaj actually one of xxmaj the xxmaj best xxmaj films of the xxmaj late - xxmaj nineties . xxmaj most xxmaj films these xxmaj days lack the xxmaj xxunk of a xxmaj clive xxmaj barker xxmaj master xxmaj piece . xxmaj that is , xxmaj be xxmaj original and xxmaj give the xxmaj viewer xxmaj what they xxmaj do not xxmaj expect . xxmaj jack xxmaj frost is xxmaj very xxmaj cool . 10 out of 10 . xxmaj grade : xxup a+ . xxmaj ed xxmaj also xxmaj xxunk xxmaj the xxmaj movie xxmaj uncle xxmaj sam to xxmaj fans of xxmaj jack xxmaj frost .,xxbos xxmaj was n't sure what to expect from this movie considering its amazing collection of stars and directors but in the end it did n't disappoint . \n",
              " \n",
              "  xxmaj for me one of the highlights was the final episode with the xxmaj american xxunk speaking with a dreadful xxmaj french accent ( which made me feel better about mine ) which was actually quite touching and a great way to wrap up the movie . \n",
              " \n",
              "  xxmaj the story of the xxunk and the stabbing victim was also very moving and for pure comedy the xxmaj xxunk xxmaj brothers and xxmaj steve xxmaj buscemi take the award . xxmaj the xxmaj tom xxmaj xxunk clip was also impressive although rather ambitious in its scope . \n",
              " \n",
              "  xxmaj however , the xxmaj bob xxmaj xxunk segment was totally cringeworthy and the vampire story was completely farcical . xxmaj the dialogue in xxmaj wes xxmaj craven 's section also felt very forced and the xxmaj xxunk story was completely incomprehensible . \n",
              " \n",
              "  xxmaj on the whole this film is worth watching for the good bits and has a strong finish . xxmaj it 's not too painful to sit through the bad xxunk - they only last 5 minutes anyway . \n",
              " \n",
              "  xxmaj ca xxunk la xxunk ! ! !\n",
              "y: CategoryList\n",
              "positive,negative,positive,positive,positive\n",
              "Path: /root/.fastai/data/imdb_sample;\n",
              "\n",
              "Valid: LabelList (201 items)\n",
              "x: TextList\n",
              "xxbos xxmaj this may have been made for the hell of it , but it was most probably the worst film i 've seen in years , xxmaj the best thing about the entire xxup dvd would be the case ! ! ! i 'm surprised that people took the time to make something so rubbish and yet spend money on it too , i 'm glad i only rented . i suppose the real fans of this film would probably have to be sadistic and xxmaj gothic to care about it without taking in any xxup cgi or any other effects for that matter , i hope xxmaj alex xxmaj xxunk learnt a lesson about lighting and xxup sfx to make a better film in the future , that is , if he is still in work . \n",
              " \n",
              "  xxmaj notes to buyers this is extremely disappointing , xxup don't xxup buy xxup it xxrep 5 !,xxbos xxmaj in a time when xxmaj hollywood is making money by showing our xxunk , despair , crime , drugs , and war , along comes this film which reminds us the concept of the \" xxmaj xxunk xxmaj spirit \" . xxmaj if you are feeling beaten down , this movie will free your mind and set you xxunk . xxmaj we all know how tough life can be , sometime we need to be reminded that xxunk and courage will get us through . xxmaj that 's what this film did for me and i hope it will for you .,xxbos xxmaj okay , i was bored and decided to see this movie . xxmaj but i think the main thing that brought this movie down was that there would be a hour of footage , then basically that same hour repeated 4 times . xxmaj it consists of 1 . xxmaj gathering the troops and discussing the attack plan , 2 . xxmaj flashbacks to the men 's wives 3 . xxmaj the approach of the troops marching in a long line 4 . xxmaj men running up hill and shooting , usually the first getting shot in the head then 3 other men rescuing him . 5 . xxmaj defeat of the enemy and calling to base to tell of success 6 . xxmaj men flashing back to wives and singing 10 minute songs . xxmaj that was the basic movie , and that same order of events happened about 4 or 5 times . and every time it did a flashback to the wives , it would show the man , then his wife and him . xxmaj there were about 10 men or more who would have a flashback so this took up tons of time . xxmaj other than that , the men could n't kill their enemy except with either xxunk or xxunk . i liked the music and there was a lot of action , though the action was repetitive . xxmaj overall , i probably would n't see it again , but it was n't too horrible .,xxbos xxmaj in the many films i have seen xxmaj warren xxmaj oates , i have come to a definite conclusion , here is one talented individual . i first saw xxmaj mr. xxmaj oates back in the 1960 's television series called xxmaj xxunk xxmaj burke . xxmaj from then on , i followed his career closely and felt he was destined for great roles . xxmaj that happened in 1974 , when xxmaj sam xxmaj peckinpah gave him top billing in a film called ' xxmaj bring xxmaj me the xxmaj head of xxmaj xxunk xxmaj garcia . ' xxmaj of course , his biggest claim to fame was his magnificent role in ' xxmaj the xxmaj wild xxmaj bunch ' . i have always thought he was quite able to bring any character a certain magic , that is until i saw him in this flop . xxmaj the movie is called \" xxmaj chandler \" , a tribute to the iron fisted detectives of the 1950 's created by xxmaj raymond xxmaj chandler . xxmaj because , the synopsis said it was about a hard nose xxmaj private xxmaj eye , i was immediately interested . xxmaj however , i sat patiently through the entire film and found it to be a dull , xxunk - interesting , slow pace , twisted , confusing saga which if it had a theme or plot must have been left on some dark back room self . xxmaj xxunk and with some of xxmaj hollywood 's best supporting stars , such as xxmaj alex xxmaj xxunk , xxmaj mitch xxmaj ryan , xxmaj gordon xxmaj xxunk , xxmaj charles xxunk , xxmaj richard xxmaj xxunk and xxmaj scatman xxmaj crothers , this movie had enough power to reach xxmaj xxunk five , however , it xxunk on the xxunk and went no where . xxmaj as a result , one of my favorite actor 's got stuck in a poorly made vehicle which never got off the ground . * *,xxbos xxmaj the case of the xxmaj scorpion 's tail is a highly stylish giallo directed by xxmaj xxunk xxmaj martino , who appears to be a giallo master second only to xxmaj xxunk xxmaj argento . \n",
              " \n",
              "  xxmaj xxunk xxmaj xxunk wrote this fabulous who - xxunk , quite complex but ultimately very satisfying and entertaining murder mystery . xxmaj it also makes sense in the end , a big plus , xxunk that 's not always the case for these giallo 's , as they tend to stretch credibility with their endless red - herrings and ultimate xxunk . xxmaj here , the less you know about the plot , the better . \n",
              " \n",
              "  xxmaj pure giallo trademarks present here are the beautiful cinematography , the catchy music score , the gorgeous females ( xxmaj xxunk xxmaj xxunk is a xxunk ) , brutal murders , black xxunk murderers and explicit sex scenes to name a few . \n",
              " \n",
              "  xxmaj in most parts it 's decently acted , xxmaj xxunk xxmaj hilton his usually suave self and others do fairly well . xxmaj martino directs with a sure hand , keeps things tight and atmospheric with some terrific set pieces . \n",
              " \n",
              "  xxmaj if you 're a giallo fan , this is a must see . xxmaj if you like well written and suspenseful thrillers in general , this comes highly recommended .\n",
              "y: CategoryList\n",
              "negative,positive,negative,negative,positive\n",
              "Path: /root/.fastai/data/imdb_sample;\n",
              "\n",
              "Test: None, model=SequentialRNN(\n",
              "  (0): MultiBatchEncoder(\n",
              "    (module): AWD_LSTM(\n",
              "      (encoder): Embedding(8912, 400, padding_idx=1)\n",
              "      (encoder_dp): EmbeddingDropout(\n",
              "        (emb): Embedding(8912, 400, padding_idx=1)\n",
              "      )\n",
              "      (rnns): ModuleList(\n",
              "        (0): WeightDropout(\n",
              "          (module): LSTM(400, 1152, batch_first=True)\n",
              "        )\n",
              "        (1): WeightDropout(\n",
              "          (module): LSTM(1152, 1152, batch_first=True)\n",
              "        )\n",
              "        (2): WeightDropout(\n",
              "          (module): LSTM(1152, 400, batch_first=True)\n",
              "        )\n",
              "      )\n",
              "      (input_dp): RNNDropout()\n",
              "      (hidden_dps): ModuleList(\n",
              "        (0): RNNDropout()\n",
              "        (1): RNNDropout()\n",
              "        (2): RNNDropout()\n",
              "      )\n",
              "    )\n",
              "  )\n",
              "  (1): PoolingLinearClassifier(\n",
              "    (layers): Sequential(\n",
              "      (0): BatchNorm1d(1200, eps=1e-05, momentum=0.1, affine=True, track_running_stats=True)\n",
              "      (1): Dropout(p=0.2, inplace=False)\n",
              "      (2): Linear(in_features=1200, out_features=50, bias=True)\n",
              "      (3): ReLU(inplace=True)\n",
              "      (4): BatchNorm1d(50, eps=1e-05, momentum=0.1, affine=True, track_running_stats=True)\n",
              "      (5): Dropout(p=0.1, inplace=False)\n",
              "      (6): Linear(in_features=50, out_features=2, bias=True)\n",
              "    )\n",
              "  )\n",
              "), opt_func=functools.partial(<class 'torch.optim.adam.Adam'>, betas=(0.9, 0.99)), loss_func=FlattenedLoss of CrossEntropyLoss(), metrics=[<function accuracy at 0x7fc635cbb620>], true_wd=True, bn_wd=True, wd=0.01, train_bn=True, path=PosixPath('/root/.fastai/data/imdb_sample'), model_dir='models', callback_fns=[functools.partial(<class 'fastai.basic_train.Recorder'>, add_time=True, silent=False)], callbacks=[RNNTrainer\n",
              "learn: RNNLearner(data=TextClasDataBunch;\n",
              "\n",
              "Train: LabelList (799 items)\n",
              "x: TextList\n",
              "xxbos i thought the original of this film was quaint and charming as well as having me sitting on the edge of my seat trying to figure it out . \n",
              " \n",
              "  xxmaj since i had already seen the original , when i saw this on xxmaj sci xxmaj fi xxmaj xxunk i do n't know if this remake was deliberately made for xxmaj sci xxmaj fi - i knew what it was within the first few minutes . xxmaj since i like xxmaj richard xxmaj burgi as a character actor , i wanted to see how he would pull it off . \n",
              " \n",
              "  xxmaj the writers / producers etc , xxunk the film a bit by trying to explain the plight of the \" aliens \" ( xxmaj they could no longer xxunk their own kind and needed help ) using the same pseudo science that has been xxunk in our ears in the 90 's . xxmaj maybe it added a bit of polish to the film , or not . \n",
              " \n",
              "  xxmaj this film . xxmaj film ? xxmaj this production takes on a more sinister edge than the original xxunk xxmaj the original ended with a confrontation between the young woman and the alien and an understanding of sorts took place , although no resolution of the xxmaj alien 's problem . \n",
              " \n",
              "  i sort of remember that in this remake , the woman became rather hostile towards the xxmaj burgi / xxmaj xxunk i think it could have ended better . xxmaj but the ending is just the ending , and the yarn is a swell yarn , being of the basic 1958 xxmaj science xxmaj fiction xxmaj pulp xxmaj stock . xxmaj many great science fiction stories were written in the 50 's and some of them even made it to film . \n",
              " \n",
              "  xxmaj this is a swell thing to watch on like a rainy day or something . i rate it highly cos of all the remakes of old 50 's xxmaj sci xxmaj fi , this one came off well . i actually enjoyed this quite a bit . \n",
              " \n",
              "  xxmaj but if anyone really wants to see this story told xxup well , i suggest the original 1958 version with xxmaj tom xxmaj xxunk and xxmaj xxunk xxmaj xxunk , directed by xxmaj gene xxmaj xxunk xxmaj jr.,xxbos xxmaj some of these viewer comments are just ridiculous . xxmaj not painful to watch with your significant other ? i was apologizing to my boyfriend the entire movie . \n",
              " \n",
              "  xxmaj it was so slow and awfully strange . \n",
              " \n",
              "  xxmaj both xxmaj xxunk , xxmaj vanessa and xxmaj natasha were xxunk for this , especially with xxmaj vanessa doing that ridiculous brash xxmaj american accent . \n",
              " \n",
              "  xxmaj claire xxmaj danes was the same xxunk - xxunk awkward girl that she was in xxmaj my xxmaj so - xxmaj called xxmaj life . xxmaj she has yet to push herself in any way . xxmaj girl , find a new way to xxunk to cry ! \n",
              " \n",
              "  xxmaj meryl xxmaj streep was one of the only redeeming part of this movie , she was on screen for five minutes , and i xxunk to xxmaj god , she reached out of the movie screen and xxunk me awake . \n",
              " \n",
              "  xxmaj oh ! xxmaj and xxmaj hugh xxmaj dancy , who gets better every time i see him . \n",
              " \n",
              "  xxmaj glenn xxmaj close and xxmaj eileen xxmaj atkins were also great in their two and a half scenes . \n",
              " \n",
              "  i mean , this was a well - shot movie , it was very pretty , the settings were interestingly dressed , providing relief for the intense boredom i was feeling . \n",
              " \n",
              "  i do n't know , xxmaj it 's just pretty pathetic when a movie that xxunk a cast comprised of \" xxmaj the greatest actresses of our time \" sucks so much . xxmaj it sure had more than a few noticeable editing errors , and the main character ( xxmaj ann ) was a huge jerk . i was glad she died . xxmaj but that 's because i felt bad for xxmaj xxunk , xxmaj ann 's friend -- mostly because these two ladies were better actors and made me feel a little empathy . \n",
              " \n",
              "  xxmaj ugh . xxup bad job , xxmaj evening the film . xxmaj you were n't entertaining and you were n't even thought - provoking . i sure hope the book was better , so it did n't waste even more of people 's time . 3 / 10,xxbos i had heard good things about this film and was , you guessed it , a bit disappointed . xxmaj reese xxmaj xxunk is as promised surprisingly good , surprisingly confident , at a young age ; really all the ( small ) cast are quite solid , in their simple 50s xxmaj american setting . xxmaj the reason i did n't rate this film higher is mainly that towards the end , the xxunk shown by the older sister did n't seem so real and this pulled me out of the film a bit . xxmaj perhaps we are expected to fill in the plot , or perhaps the film needed to be a bit longer . xxmaj maureen 's character is quite underdeveloped i think . xxmaj it is understandable that xxmaj xxunk ( xxmaj reese xxup w. , the younger ) would be traumatised and angry , but why is her sister shown to be more upset ? xxmaj because she 's a few years older ? xxmaj has n't the end rather xxunk the rest of the film ? xxmaj the pacing of the movie makes it seem that xxmaj maureen and xxmaj court have only just met , when he gets xxunk ( warning : this scene is surprisingly brutal , in xxunk it seems like it might have been trying to shock a bit . well it works ! ) . xxmaj it depends what you want - if you want the girls ' happy story of young love that it seems like you 're going to get , you 're in for a surprise . xxmaj man in the xxmaj moon is both quaint and dreamy and a harsh coming of age film  a rather awkward combination ? i liked the character of xxmaj court though , i can see what girls watching this might be watching . xxmaj and i loved that they had the courage to both let him hurt the younger sister ( most men would , most films would n't ) and get killed . \n",
              " \n",
              "  7 / 10 on my pretty harsh ratings scale . xxmaj for some reason i found xxmaj jason xxmaj london on a xxunk funny .,xxbos xxmaj jack xxmaj frost is xxmaj really a xxmaj cool xxmaj movie . i xxmaj mean xxrep 4 . xxmaj its xxmaj funny . xxmaj its xxmaj violent . and xxmaj very xxmaj enjoyable . xxmaj most xxmaj people xxmaj say that it xxmaj is b xxmaj rated , xxmaj but xxmaj that xxmaj could n't be xxmaj farther from the truth . xxmaj it has xxmaj great xxmaj special xxmaj effects and xxmaj good xxmaj acting . xxmaj the xxmaj only xxmaj weird thing is of xxmaj course , xxmaj the xxmaj killer xxmaj snowman . i xxmaj think this xxmaj movie was xxmaj actually one of xxmaj the xxmaj best xxmaj films of the xxmaj late - xxmaj nineties . xxmaj most xxmaj films these xxmaj days lack the xxmaj xxunk of a xxmaj clive xxmaj barker xxmaj master xxmaj piece . xxmaj that is , xxmaj be xxmaj original and xxmaj give the xxmaj viewer xxmaj what they xxmaj do not xxmaj expect . xxmaj jack xxmaj frost is xxmaj very xxmaj cool . 10 out of 10 . xxmaj grade : xxup a+ . xxmaj ed xxmaj also xxmaj xxunk xxmaj the xxmaj movie xxmaj uncle xxmaj sam to xxmaj fans of xxmaj jack xxmaj frost .,xxbos xxmaj was n't sure what to expect from this movie considering its amazing collection of stars and directors but in the end it did n't disappoint . \n",
              " \n",
              "  xxmaj for me one of the highlights was the final episode with the xxmaj american xxunk speaking with a dreadful xxmaj french accent ( which made me feel better about mine ) which was actually quite touching and a great way to wrap up the movie . \n",
              " \n",
              "  xxmaj the story of the xxunk and the stabbing victim was also very moving and for pure comedy the xxmaj xxunk xxmaj brothers and xxmaj steve xxmaj buscemi take the award . xxmaj the xxmaj tom xxmaj xxunk clip was also impressive although rather ambitious in its scope . \n",
              " \n",
              "  xxmaj however , the xxmaj bob xxmaj xxunk segment was totally cringeworthy and the vampire story was completely farcical . xxmaj the dialogue in xxmaj wes xxmaj craven 's section also felt very forced and the xxmaj xxunk story was completely incomprehensible . \n",
              " \n",
              "  xxmaj on the whole this film is worth watching for the good bits and has a strong finish . xxmaj it 's not too painful to sit through the bad xxunk - they only last 5 minutes anyway . \n",
              " \n",
              "  xxmaj ca xxunk la xxunk ! ! !\n",
              "y: CategoryList\n",
              "positive,negative,positive,positive,positive\n",
              "Path: /root/.fastai/data/imdb_sample;\n",
              "\n",
              "Valid: LabelList (201 items)\n",
              "x: TextList\n",
              "xxbos xxmaj this may have been made for the hell of it , but it was most probably the worst film i 've seen in years , xxmaj the best thing about the entire xxup dvd would be the case ! ! ! i 'm surprised that people took the time to make something so rubbish and yet spend money on it too , i 'm glad i only rented . i suppose the real fans of this film would probably have to be sadistic and xxmaj gothic to care about it without taking in any xxup cgi or any other effects for that matter , i hope xxmaj alex xxmaj xxunk learnt a lesson about lighting and xxup sfx to make a better film in the future , that is , if he is still in work . \n",
              " \n",
              "  xxmaj notes to buyers this is extremely disappointing , xxup don't xxup buy xxup it xxrep 5 !,xxbos xxmaj in a time when xxmaj hollywood is making money by showing our xxunk , despair , crime , drugs , and war , along comes this film which reminds us the concept of the \" xxmaj xxunk xxmaj spirit \" . xxmaj if you are feeling beaten down , this movie will free your mind and set you xxunk . xxmaj we all know how tough life can be , sometime we need to be reminded that xxunk and courage will get us through . xxmaj that 's what this film did for me and i hope it will for you .,xxbos xxmaj okay , i was bored and decided to see this movie . xxmaj but i think the main thing that brought this movie down was that there would be a hour of footage , then basically that same hour repeated 4 times . xxmaj it consists of 1 . xxmaj gathering the troops and discussing the attack plan , 2 . xxmaj flashbacks to the men 's wives 3 . xxmaj the approach of the troops marching in a long line 4 . xxmaj men running up hill and shooting , usually the first getting shot in the head then 3 other men rescuing him . 5 . xxmaj defeat of the enemy and calling to base to tell of success 6 . xxmaj men flashing back to wives and singing 10 minute songs . xxmaj that was the basic movie , and that same order of events happened about 4 or 5 times . and every time it did a flashback to the wives , it would show the man , then his wife and him . xxmaj there were about 10 men or more who would have a flashback so this took up tons of time . xxmaj other than that , the men could n't kill their enemy except with either xxunk or xxunk . i liked the music and there was a lot of action , though the action was repetitive . xxmaj overall , i probably would n't see it again , but it was n't too horrible .,xxbos xxmaj in the many films i have seen xxmaj warren xxmaj oates , i have come to a definite conclusion , here is one talented individual . i first saw xxmaj mr. xxmaj oates back in the 1960 's television series called xxmaj xxunk xxmaj burke . xxmaj from then on , i followed his career closely and felt he was destined for great roles . xxmaj that happened in 1974 , when xxmaj sam xxmaj peckinpah gave him top billing in a film called ' xxmaj bring xxmaj me the xxmaj head of xxmaj xxunk xxmaj garcia . ' xxmaj of course , his biggest claim to fame was his magnificent role in ' xxmaj the xxmaj wild xxmaj bunch ' . i have always thought he was quite able to bring any character a certain magic , that is until i saw him in this flop . xxmaj the movie is called \" xxmaj chandler \" , a tribute to the iron fisted detectives of the 1950 's created by xxmaj raymond xxmaj chandler . xxmaj because , the synopsis said it was about a hard nose xxmaj private xxmaj eye , i was immediately interested . xxmaj however , i sat patiently through the entire film and found it to be a dull , xxunk - interesting , slow pace , twisted , confusing saga which if it had a theme or plot must have been left on some dark back room self . xxmaj xxunk and with some of xxmaj hollywood 's best supporting stars , such as xxmaj alex xxmaj xxunk , xxmaj mitch xxmaj ryan , xxmaj gordon xxmaj xxunk , xxmaj charles xxunk , xxmaj richard xxmaj xxunk and xxmaj scatman xxmaj crothers , this movie had enough power to reach xxmaj xxunk five , however , it xxunk on the xxunk and went no where . xxmaj as a result , one of my favorite actor 's got stuck in a poorly made vehicle which never got off the ground . * *,xxbos xxmaj the case of the xxmaj scorpion 's tail is a highly stylish giallo directed by xxmaj xxunk xxmaj martino , who appears to be a giallo master second only to xxmaj xxunk xxmaj argento . \n",
              " \n",
              "  xxmaj xxunk xxmaj xxunk wrote this fabulous who - xxunk , quite complex but ultimately very satisfying and entertaining murder mystery . xxmaj it also makes sense in the end , a big plus , xxunk that 's not always the case for these giallo 's , as they tend to stretch credibility with their endless red - herrings and ultimate xxunk . xxmaj here , the less you know about the plot , the better . \n",
              " \n",
              "  xxmaj pure giallo trademarks present here are the beautiful cinematography , the catchy music score , the gorgeous females ( xxmaj xxunk xxmaj xxunk is a xxunk ) , brutal murders , black xxunk murderers and explicit sex scenes to name a few . \n",
              " \n",
              "  xxmaj in most parts it 's decently acted , xxmaj xxunk xxmaj hilton his usually suave self and others do fairly well . xxmaj martino directs with a sure hand , keeps things tight and atmospheric with some terrific set pieces . \n",
              " \n",
              "  xxmaj if you 're a giallo fan , this is a must see . xxmaj if you like well written and suspenseful thrillers in general , this comes highly recommended .\n",
              "y: CategoryList\n",
              "negative,positive,negative,negative,positive\n",
              "Path: /root/.fastai/data/imdb_sample;\n",
              "\n",
              "Test: None, model=SequentialRNN(\n",
              "  (0): MultiBatchEncoder(\n",
              "    (module): AWD_LSTM(\n",
              "      (encoder): Embedding(8912, 400, padding_idx=1)\n",
              "      (encoder_dp): EmbeddingDropout(\n",
              "        (emb): Embedding(8912, 400, padding_idx=1)\n",
              "      )\n",
              "      (rnns): ModuleList(\n",
              "        (0): WeightDropout(\n",
              "          (module): LSTM(400, 1152, batch_first=True)\n",
              "        )\n",
              "        (1): WeightDropout(\n",
              "          (module): LSTM(1152, 1152, batch_first=True)\n",
              "        )\n",
              "        (2): WeightDropout(\n",
              "          (module): LSTM(1152, 400, batch_first=True)\n",
              "        )\n",
              "      )\n",
              "      (input_dp): RNNDropout()\n",
              "      (hidden_dps): ModuleList(\n",
              "        (0): RNNDropout()\n",
              "        (1): RNNDropout()\n",
              "        (2): RNNDropout()\n",
              "      )\n",
              "    )\n",
              "  )\n",
              "  (1): PoolingLinearClassifier(\n",
              "    (layers): Sequential(\n",
              "      (0): BatchNorm1d(1200, eps=1e-05, momentum=0.1, affine=True, track_running_stats=True)\n",
              "      (1): Dropout(p=0.2, inplace=False)\n",
              "      (2): Linear(in_features=1200, out_features=50, bias=True)\n",
              "      (3): ReLU(inplace=True)\n",
              "      (4): BatchNorm1d(50, eps=1e-05, momentum=0.1, affine=True, track_running_stats=True)\n",
              "      (5): Dropout(p=0.1, inplace=False)\n",
              "      (6): Linear(in_features=50, out_features=2, bias=True)\n",
              "    )\n",
              "  )\n",
              "), opt_func=functools.partial(<class 'torch.optim.adam.Adam'>, betas=(0.9, 0.99)), loss_func=FlattenedLoss of CrossEntropyLoss(), metrics=[<function accuracy at 0x7fc635cbb620>], true_wd=True, bn_wd=True, wd=0.01, train_bn=True, path=PosixPath('/root/.fastai/data/imdb_sample'), model_dir='models', callback_fns=[functools.partial(<class 'fastai.basic_train.Recorder'>, add_time=True, silent=False)], callbacks=[...], layer_groups=[Sequential(\n",
              "  (0): Embedding(8912, 400, padding_idx=1)\n",
              "  (1): EmbeddingDropout(\n",
              "    (emb): Embedding(8912, 400, padding_idx=1)\n",
              "  )\n",
              "), Sequential(\n",
              "  (0): WeightDropout(\n",
              "    (module): LSTM(400, 1152, batch_first=True)\n",
              "  )\n",
              "  (1): RNNDropout()\n",
              "), Sequential(\n",
              "  (0): WeightDropout(\n",
              "    (module): LSTM(1152, 1152, batch_first=True)\n",
              "  )\n",
              "  (1): RNNDropout()\n",
              "), Sequential(\n",
              "  (0): WeightDropout(\n",
              "    (module): LSTM(1152, 400, batch_first=True)\n",
              "  )\n",
              "  (1): RNNDropout()\n",
              "), Sequential(\n",
              "  (0): PoolingLinearClassifier(\n",
              "    (layers): Sequential(\n",
              "      (0): BatchNorm1d(1200, eps=1e-05, momentum=0.1, affine=True, track_running_stats=True)\n",
              "      (1): Dropout(p=0.2, inplace=False)\n",
              "      (2): Linear(in_features=1200, out_features=50, bias=True)\n",
              "      (3): ReLU(inplace=True)\n",
              "      (4): BatchNorm1d(50, eps=1e-05, momentum=0.1, affine=True, track_running_stats=True)\n",
              "      (5): Dropout(p=0.1, inplace=False)\n",
              "      (6): Linear(in_features=50, out_features=2, bias=True)\n",
              "    )\n",
              "  )\n",
              ")], add_time=True, silent=False)\n",
              "alpha: 2.0\n",
              "beta: 1.0, MixedPrecision\n",
              "learn: RNNLearner(data=TextClasDataBunch;\n",
              "\n",
              "Train: LabelList (799 items)\n",
              "x: TextList\n",
              "xxbos i thought the original of this film was quaint and charming as well as having me sitting on the edge of my seat trying to figure it out . \n",
              " \n",
              "  xxmaj since i had already seen the original , when i saw this on xxmaj sci xxmaj fi xxmaj xxunk i do n't know if this remake was deliberately made for xxmaj sci xxmaj fi - i knew what it was within the first few minutes . xxmaj since i like xxmaj richard xxmaj burgi as a character actor , i wanted to see how he would pull it off . \n",
              " \n",
              "  xxmaj the writers / producers etc , xxunk the film a bit by trying to explain the plight of the \" aliens \" ( xxmaj they could no longer xxunk their own kind and needed help ) using the same pseudo science that has been xxunk in our ears in the 90 's . xxmaj maybe it added a bit of polish to the film , or not . \n",
              " \n",
              "  xxmaj this film . xxmaj film ? xxmaj this production takes on a more sinister edge than the original xxunk xxmaj the original ended with a confrontation between the young woman and the alien and an understanding of sorts took place , although no resolution of the xxmaj alien 's problem . \n",
              " \n",
              "  i sort of remember that in this remake , the woman became rather hostile towards the xxmaj burgi / xxmaj xxunk i think it could have ended better . xxmaj but the ending is just the ending , and the yarn is a swell yarn , being of the basic 1958 xxmaj science xxmaj fiction xxmaj pulp xxmaj stock . xxmaj many great science fiction stories were written in the 50 's and some of them even made it to film . \n",
              " \n",
              "  xxmaj this is a swell thing to watch on like a rainy day or something . i rate it highly cos of all the remakes of old 50 's xxmaj sci xxmaj fi , this one came off well . i actually enjoyed this quite a bit . \n",
              " \n",
              "  xxmaj but if anyone really wants to see this story told xxup well , i suggest the original 1958 version with xxmaj tom xxmaj xxunk and xxmaj xxunk xxmaj xxunk , directed by xxmaj gene xxmaj xxunk xxmaj jr.,xxbos xxmaj some of these viewer comments are just ridiculous . xxmaj not painful to watch with your significant other ? i was apologizing to my boyfriend the entire movie . \n",
              " \n",
              "  xxmaj it was so slow and awfully strange . \n",
              " \n",
              "  xxmaj both xxmaj xxunk , xxmaj vanessa and xxmaj natasha were xxunk for this , especially with xxmaj vanessa doing that ridiculous brash xxmaj american accent . \n",
              " \n",
              "  xxmaj claire xxmaj danes was the same xxunk - xxunk awkward girl that she was in xxmaj my xxmaj so - xxmaj called xxmaj life . xxmaj she has yet to push herself in any way . xxmaj girl , find a new way to xxunk to cry ! \n",
              " \n",
              "  xxmaj meryl xxmaj streep was one of the only redeeming part of this movie , she was on screen for five minutes , and i xxunk to xxmaj god , she reached out of the movie screen and xxunk me awake . \n",
              " \n",
              "  xxmaj oh ! xxmaj and xxmaj hugh xxmaj dancy , who gets better every time i see him . \n",
              " \n",
              "  xxmaj glenn xxmaj close and xxmaj eileen xxmaj atkins were also great in their two and a half scenes . \n",
              " \n",
              "  i mean , this was a well - shot movie , it was very pretty , the settings were interestingly dressed , providing relief for the intense boredom i was feeling . \n",
              " \n",
              "  i do n't know , xxmaj it 's just pretty pathetic when a movie that xxunk a cast comprised of \" xxmaj the greatest actresses of our time \" sucks so much . xxmaj it sure had more than a few noticeable editing errors , and the main character ( xxmaj ann ) was a huge jerk . i was glad she died . xxmaj but that 's because i felt bad for xxmaj xxunk , xxmaj ann 's friend -- mostly because these two ladies were better actors and made me feel a little empathy . \n",
              " \n",
              "  xxmaj ugh . xxup bad job , xxmaj evening the film . xxmaj you were n't entertaining and you were n't even thought - provoking . i sure hope the book was better , so it did n't waste even more of people 's time . 3 / 10,xxbos i had heard good things about this film and was , you guessed it , a bit disappointed . xxmaj reese xxmaj xxunk is as promised surprisingly good , surprisingly confident , at a young age ; really all the ( small ) cast are quite solid , in their simple 50s xxmaj american setting . xxmaj the reason i did n't rate this film higher is mainly that towards the end , the xxunk shown by the older sister did n't seem so real and this pulled me out of the film a bit . xxmaj perhaps we are expected to fill in the plot , or perhaps the film needed to be a bit longer . xxmaj maureen 's character is quite underdeveloped i think . xxmaj it is understandable that xxmaj xxunk ( xxmaj reese xxup w. , the younger ) would be traumatised and angry , but why is her sister shown to be more upset ? xxmaj because she 's a few years older ? xxmaj has n't the end rather xxunk the rest of the film ? xxmaj the pacing of the movie makes it seem that xxmaj maureen and xxmaj court have only just met , when he gets xxunk ( warning : this scene is surprisingly brutal , in xxunk it seems like it might have been trying to shock a bit . well it works ! ) . xxmaj it depends what you want - if you want the girls ' happy story of young love that it seems like you 're going to get , you 're in for a surprise . xxmaj man in the xxmaj moon is both quaint and dreamy and a harsh coming of age film  a rather awkward combination ? i liked the character of xxmaj court though , i can see what girls watching this might be watching . xxmaj and i loved that they had the courage to both let him hurt the younger sister ( most men would , most films would n't ) and get killed . \n",
              " \n",
              "  7 / 10 on my pretty harsh ratings scale . xxmaj for some reason i found xxmaj jason xxmaj london on a xxunk funny .,xxbos xxmaj jack xxmaj frost is xxmaj really a xxmaj cool xxmaj movie . i xxmaj mean xxrep 4 . xxmaj its xxmaj funny . xxmaj its xxmaj violent . and xxmaj very xxmaj enjoyable . xxmaj most xxmaj people xxmaj say that it xxmaj is b xxmaj rated , xxmaj but xxmaj that xxmaj could n't be xxmaj farther from the truth . xxmaj it has xxmaj great xxmaj special xxmaj effects and xxmaj good xxmaj acting . xxmaj the xxmaj only xxmaj weird thing is of xxmaj course , xxmaj the xxmaj killer xxmaj snowman . i xxmaj think this xxmaj movie was xxmaj actually one of xxmaj the xxmaj best xxmaj films of the xxmaj late - xxmaj nineties . xxmaj most xxmaj films these xxmaj days lack the xxmaj xxunk of a xxmaj clive xxmaj barker xxmaj master xxmaj piece . xxmaj that is , xxmaj be xxmaj original and xxmaj give the xxmaj viewer xxmaj what they xxmaj do not xxmaj expect . xxmaj jack xxmaj frost is xxmaj very xxmaj cool . 10 out of 10 . xxmaj grade : xxup a+ . xxmaj ed xxmaj also xxmaj xxunk xxmaj the xxmaj movie xxmaj uncle xxmaj sam to xxmaj fans of xxmaj jack xxmaj frost .,xxbos xxmaj was n't sure what to expect from this movie considering its amazing collection of stars and directors but in the end it did n't disappoint . \n",
              " \n",
              "  xxmaj for me one of the highlights was the final episode with the xxmaj american xxunk speaking with a dreadful xxmaj french accent ( which made me feel better about mine ) which was actually quite touching and a great way to wrap up the movie . \n",
              " \n",
              "  xxmaj the story of the xxunk and the stabbing victim was also very moving and for pure comedy the xxmaj xxunk xxmaj brothers and xxmaj steve xxmaj buscemi take the award . xxmaj the xxmaj tom xxmaj xxunk clip was also impressive although rather ambitious in its scope . \n",
              " \n",
              "  xxmaj however , the xxmaj bob xxmaj xxunk segment was totally cringeworthy and the vampire story was completely farcical . xxmaj the dialogue in xxmaj wes xxmaj craven 's section also felt very forced and the xxmaj xxunk story was completely incomprehensible . \n",
              " \n",
              "  xxmaj on the whole this film is worth watching for the good bits and has a strong finish . xxmaj it 's not too painful to sit through the bad xxunk - they only last 5 minutes anyway . \n",
              " \n",
              "  xxmaj ca xxunk la xxunk ! ! !\n",
              "y: CategoryList\n",
              "positive,negative,positive,positive,positive\n",
              "Path: /root/.fastai/data/imdb_sample;\n",
              "\n",
              "Valid: LabelList (201 items)\n",
              "x: TextList\n",
              "xxbos xxmaj this may have been made for the hell of it , but it was most probably the worst film i 've seen in years , xxmaj the best thing about the entire xxup dvd would be the case ! ! ! i 'm surprised that people took the time to make something so rubbish and yet spend money on it too , i 'm glad i only rented . i suppose the real fans of this film would probably have to be sadistic and xxmaj gothic to care about it without taking in any xxup cgi or any other effects for that matter , i hope xxmaj alex xxmaj xxunk learnt a lesson about lighting and xxup sfx to make a better film in the future , that is , if he is still in work . \n",
              " \n",
              "  xxmaj notes to buyers this is extremely disappointing , xxup don't xxup buy xxup it xxrep 5 !,xxbos xxmaj in a time when xxmaj hollywood is making money by showing our xxunk , despair , crime , drugs , and war , along comes this film which reminds us the concept of the \" xxmaj xxunk xxmaj spirit \" . xxmaj if you are feeling beaten down , this movie will free your mind and set you xxunk . xxmaj we all know how tough life can be , sometime we need to be reminded that xxunk and courage will get us through . xxmaj that 's what this film did for me and i hope it will for you .,xxbos xxmaj okay , i was bored and decided to see this movie . xxmaj but i think the main thing that brought this movie down was that there would be a hour of footage , then basically that same hour repeated 4 times . xxmaj it consists of 1 . xxmaj gathering the troops and discussing the attack plan , 2 . xxmaj flashbacks to the men 's wives 3 . xxmaj the approach of the troops marching in a long line 4 . xxmaj men running up hill and shooting , usually the first getting shot in the head then 3 other men rescuing him . 5 . xxmaj defeat of the enemy and calling to base to tell of success 6 . xxmaj men flashing back to wives and singing 10 minute songs . xxmaj that was the basic movie , and that same order of events happened about 4 or 5 times . and every time it did a flashback to the wives , it would show the man , then his wife and him . xxmaj there were about 10 men or more who would have a flashback so this took up tons of time . xxmaj other than that , the men could n't kill their enemy except with either xxunk or xxunk . i liked the music and there was a lot of action , though the action was repetitive . xxmaj overall , i probably would n't see it again , but it was n't too horrible .,xxbos xxmaj in the many films i have seen xxmaj warren xxmaj oates , i have come to a definite conclusion , here is one talented individual . i first saw xxmaj mr. xxmaj oates back in the 1960 's television series called xxmaj xxunk xxmaj burke . xxmaj from then on , i followed his career closely and felt he was destined for great roles . xxmaj that happened in 1974 , when xxmaj sam xxmaj peckinpah gave him top billing in a film called ' xxmaj bring xxmaj me the xxmaj head of xxmaj xxunk xxmaj garcia . ' xxmaj of course , his biggest claim to fame was his magnificent role in ' xxmaj the xxmaj wild xxmaj bunch ' . i have always thought he was quite able to bring any character a certain magic , that is until i saw him in this flop . xxmaj the movie is called \" xxmaj chandler \" , a tribute to the iron fisted detectives of the 1950 's created by xxmaj raymond xxmaj chandler . xxmaj because , the synopsis said it was about a hard nose xxmaj private xxmaj eye , i was immediately interested . xxmaj however , i sat patiently through the entire film and found it to be a dull , xxunk - interesting , slow pace , twisted , confusing saga which if it had a theme or plot must have been left on some dark back room self . xxmaj xxunk and with some of xxmaj hollywood 's best supporting stars , such as xxmaj alex xxmaj xxunk , xxmaj mitch xxmaj ryan , xxmaj gordon xxmaj xxunk , xxmaj charles xxunk , xxmaj richard xxmaj xxunk and xxmaj scatman xxmaj crothers , this movie had enough power to reach xxmaj xxunk five , however , it xxunk on the xxunk and went no where . xxmaj as a result , one of my favorite actor 's got stuck in a poorly made vehicle which never got off the ground . * *,xxbos xxmaj the case of the xxmaj scorpion 's tail is a highly stylish giallo directed by xxmaj xxunk xxmaj martino , who appears to be a giallo master second only to xxmaj xxunk xxmaj argento . \n",
              " \n",
              "  xxmaj xxunk xxmaj xxunk wrote this fabulous who - xxunk , quite complex but ultimately very satisfying and entertaining murder mystery . xxmaj it also makes sense in the end , a big plus , xxunk that 's not always the case for these giallo 's , as they tend to stretch credibility with their endless red - herrings and ultimate xxunk . xxmaj here , the less you know about the plot , the better . \n",
              " \n",
              "  xxmaj pure giallo trademarks present here are the beautiful cinematography , the catchy music score , the gorgeous females ( xxmaj xxunk xxmaj xxunk is a xxunk ) , brutal murders , black xxunk murderers and explicit sex scenes to name a few . \n",
              " \n",
              "  xxmaj in most parts it 's decently acted , xxmaj xxunk xxmaj hilton his usually suave self and others do fairly well . xxmaj martino directs with a sure hand , keeps things tight and atmospheric with some terrific set pieces . \n",
              " \n",
              "  xxmaj if you 're a giallo fan , this is a must see . xxmaj if you like well written and suspenseful thrillers in general , this comes highly recommended .\n",
              "y: CategoryList\n",
              "negative,positive,negative,negative,positive\n",
              "Path: /root/.fastai/data/imdb_sample;\n",
              "\n",
              "Test: None, model=SequentialRNN(\n",
              "  (0): MultiBatchEncoder(\n",
              "    (module): AWD_LSTM(\n",
              "      (encoder): Embedding(8912, 400, padding_idx=1)\n",
              "      (encoder_dp): EmbeddingDropout(\n",
              "        (emb): Embedding(8912, 400, padding_idx=1)\n",
              "      )\n",
              "      (rnns): ModuleList(\n",
              "        (0): WeightDropout(\n",
              "          (module): LSTM(400, 1152, batch_first=True)\n",
              "        )\n",
              "        (1): WeightDropout(\n",
              "          (module): LSTM(1152, 1152, batch_first=True)\n",
              "        )\n",
              "        (2): WeightDropout(\n",
              "          (module): LSTM(1152, 400, batch_first=True)\n",
              "        )\n",
              "      )\n",
              "      (input_dp): RNNDropout()\n",
              "      (hidden_dps): ModuleList(\n",
              "        (0): RNNDropout()\n",
              "        (1): RNNDropout()\n",
              "        (2): RNNDropout()\n",
              "      )\n",
              "    )\n",
              "  )\n",
              "  (1): PoolingLinearClassifier(\n",
              "    (layers): Sequential(\n",
              "      (0): BatchNorm1d(1200, eps=1e-05, momentum=0.1, affine=True, track_running_stats=True)\n",
              "      (1): Dropout(p=0.2, inplace=False)\n",
              "      (2): Linear(in_features=1200, out_features=50, bias=True)\n",
              "      (3): ReLU(inplace=True)\n",
              "      (4): BatchNorm1d(50, eps=1e-05, momentum=0.1, affine=True, track_running_stats=True)\n",
              "      (5): Dropout(p=0.1, inplace=False)\n",
              "      (6): Linear(in_features=50, out_features=2, bias=True)\n",
              "    )\n",
              "  )\n",
              "), opt_func=functools.partial(<class 'torch.optim.adam.Adam'>, betas=(0.9, 0.99)), loss_func=FlattenedLoss of CrossEntropyLoss(), metrics=[<function accuracy at 0x7fc635cbb620>], true_wd=True, bn_wd=True, wd=0.01, train_bn=True, path=PosixPath('/root/.fastai/data/imdb_sample'), model_dir='models', callback_fns=[functools.partial(<class 'fastai.basic_train.Recorder'>, add_time=True, silent=False)], callbacks=[...], layer_groups=[Sequential(\n",
              "  (0): Embedding(8912, 400, padding_idx=1)\n",
              "  (1): EmbeddingDropout(\n",
              "    (emb): Embedding(8912, 400, padding_idx=1)\n",
              "  )\n",
              "), Sequential(\n",
              "  (0): WeightDropout(\n",
              "    (module): LSTM(400, 1152, batch_first=True)\n",
              "  )\n",
              "  (1): RNNDropout()\n",
              "), Sequential(\n",
              "  (0): WeightDropout(\n",
              "    (module): LSTM(1152, 1152, batch_first=True)\n",
              "  )\n",
              "  (1): RNNDropout()\n",
              "), Sequential(\n",
              "  (0): WeightDropout(\n",
              "    (module): LSTM(1152, 400, batch_first=True)\n",
              "  )\n",
              "  (1): RNNDropout()\n",
              "), Sequential(\n",
              "  (0): PoolingLinearClassifier(\n",
              "    (layers): Sequential(\n",
              "      (0): BatchNorm1d(1200, eps=1e-05, momentum=0.1, affine=True, track_running_stats=True)\n",
              "      (1): Dropout(p=0.2, inplace=False)\n",
              "      (2): Linear(in_features=1200, out_features=50, bias=True)\n",
              "      (3): ReLU(inplace=True)\n",
              "      (4): BatchNorm1d(50, eps=1e-05, momentum=0.1, affine=True, track_running_stats=True)\n",
              "      (5): Dropout(p=0.1, inplace=False)\n",
              "      (6): Linear(in_features=50, out_features=2, bias=True)\n",
              "    )\n",
              "  )\n",
              ")], add_time=True, silent=False)\n",
              "loss_scale: 65536\n",
              "max_noskip: 1000\n",
              "dynamic: True\n",
              "clip: None\n",
              "flat_master: False\n",
              "max_scale: 16777216\n",
              "loss_fp32: True], layer_groups=[Sequential(\n",
              "  (0): Embedding(8912, 400, padding_idx=1)\n",
              "  (1): EmbeddingDropout(\n",
              "    (emb): Embedding(8912, 400, padding_idx=1)\n",
              "  )\n",
              "), Sequential(\n",
              "  (0): WeightDropout(\n",
              "    (module): LSTM(400, 1152, batch_first=True)\n",
              "  )\n",
              "  (1): RNNDropout()\n",
              "), Sequential(\n",
              "  (0): WeightDropout(\n",
              "    (module): LSTM(1152, 1152, batch_first=True)\n",
              "  )\n",
              "  (1): RNNDropout()\n",
              "), Sequential(\n",
              "  (0): WeightDropout(\n",
              "    (module): LSTM(1152, 400, batch_first=True)\n",
              "  )\n",
              "  (1): RNNDropout()\n",
              "), Sequential(\n",
              "  (0): PoolingLinearClassifier(\n",
              "    (layers): Sequential(\n",
              "      (0): BatchNorm1d(1200, eps=1e-05, momentum=0.1, affine=True, track_running_stats=True)\n",
              "      (1): Dropout(p=0.2, inplace=False)\n",
              "      (2): Linear(in_features=1200, out_features=50, bias=True)\n",
              "      (3): ReLU(inplace=True)\n",
              "      (4): BatchNorm1d(50, eps=1e-05, momentum=0.1, affine=True, track_running_stats=True)\n",
              "      (5): Dropout(p=0.1, inplace=False)\n",
              "      (6): Linear(in_features=50, out_features=2, bias=True)\n",
              "    )\n",
              "  )\n",
              ")], add_time=True, silent=False)"
            ]
          },
          "metadata": {
            "tags": []
          },
          "execution_count": 38
        }
      ]
    },
    {
      "cell_type": "code",
      "metadata": {
        "id": "cVx-8wc797tn",
        "colab_type": "code",
        "outputId": "9223869e-1ea2-401f-c35f-1cb5d9e24522",
        "colab": {
          "base_uri": "https://localhost:8080/",
          "height": 323
        }
      },
      "source": [
        "data_clas.show_batch()"
      ],
      "execution_count": 19,
      "outputs": [
        {
          "output_type": "display_data",
          "data": {
            "text/html": [
              "<table border=\"1\" class=\"dataframe\">\n",
              "  <thead>\n",
              "    <tr style=\"text-align: right;\">\n",
              "      <th>text</th>\n",
              "      <th>target</th>\n",
              "    </tr>\n",
              "  </thead>\n",
              "  <tbody>\n",
              "    <tr>\n",
              "      <td>xxbos xxmaj now that xxmaj che(2008 ) has finished its relatively short xxmaj australian cinema run ( extremely limited xxunk screen in xxmaj sydney , after xxunk ) , i can xxunk join both xxunk of \" xxmaj at xxmaj the xxmaj movies \" in taking xxmaj steven xxmaj soderbergh to task . \\n \\n  xxmaj it 's usually satisfying to watch a film director change his style /</td>\n",
              "      <td>negative</td>\n",
              "    </tr>\n",
              "    <tr>\n",
              "      <td>xxbos xxmaj this film sat on my xxmaj tivo for weeks before i watched it . i xxunk a self - indulgent xxunk flick about relationships gone bad . i was wrong ; this was an xxunk xxunk into the screwed - up xxunk of xxmaj new xxmaj yorkers . \\n \\n  xxmaj the format is the same as xxmaj max xxmaj xxunk ' \" xxmaj la xxmaj ronde</td>\n",
              "      <td>positive</td>\n",
              "    </tr>\n",
              "    <tr>\n",
              "      <td>xxbos xxmaj many neglect that this is n't just a classic due to the fact that it 's the first xxup 3d game , or even the first xxunk - up . xxmaj it 's also one of the first stealth games , one of the xxunk definitely the first ) truly claustrophobic games , and just a pretty well - xxunk gaming experience in general . xxmaj with graphics</td>\n",
              "      <td>positive</td>\n",
              "    </tr>\n",
              "    <tr>\n",
              "      <td>xxbos i really wanted to love this show . i truly , honestly did . \\n \\n  xxmaj for the first time , gay viewers get their own version of the \" xxmaj the xxmaj bachelor \" . xxmaj with the help of his obligatory \" hag \" xxmaj xxunk , xxmaj james , a good looking , well - to - do thirty - something has the chance</td>\n",
              "      <td>negative</td>\n",
              "    </tr>\n",
              "    <tr>\n",
              "      <td>xxbos xxmaj to review this movie , i without any doubt would have to quote that memorable scene in xxmaj tarantino 's \" xxmaj pulp xxmaj fiction \" ( xxunk ) when xxmaj jules and xxmaj vincent are talking about xxmaj mia xxmaj wallace and what she does for a living . xxmaj jules tells xxmaj vincent that the \" xxmaj only thing she did worthwhile was pilot \" .</td>\n",
              "      <td>negative</td>\n",
              "    </tr>\n",
              "  </tbody>\n",
              "</table>"
            ],
            "text/plain": [
              "<IPython.core.display.HTML object>"
            ]
          },
          "metadata": {
            "tags": []
          }
        }
      ]
    },
    {
      "cell_type": "code",
      "metadata": {
        "id": "SP9O6YCa97tx",
        "colab_type": "code",
        "outputId": "1f4cbe91-52c7-414e-c81f-d5ef5e4ffd2d",
        "colab": {
          "base_uri": "https://localhost:8080/",
          "height": 80
        }
      },
      "source": [
        "learn.fit_one_cycle(1, 1e-2)"
      ],
      "execution_count": 20,
      "outputs": [
        {
          "output_type": "display_data",
          "data": {
            "text/html": [
              "<table border=\"1\" class=\"dataframe\">\n",
              "  <thead>\n",
              "    <tr style=\"text-align: left;\">\n",
              "      <th>epoch</th>\n",
              "      <th>train_loss</th>\n",
              "      <th>valid_loss</th>\n",
              "      <th>accuracy</th>\n",
              "      <th>time</th>\n",
              "    </tr>\n",
              "  </thead>\n",
              "  <tbody>\n",
              "    <tr>\n",
              "      <td>0</td>\n",
              "      <td>0.692230</td>\n",
              "      <td>0.654549</td>\n",
              "      <td>0.582090</td>\n",
              "      <td>00:05</td>\n",
              "    </tr>\n",
              "  </tbody>\n",
              "</table>"
            ],
            "text/plain": [
              "<IPython.core.display.HTML object>"
            ]
          },
          "metadata": {
            "tags": []
          }
        }
      ]
    },
    {
      "cell_type": "markdown",
      "metadata": {
        "id": "SjS_DsWI97t5",
        "colab_type": "text"
      },
      "source": [
        "Again, we can unfreeze the model and fine-tune it."
      ]
    },
    {
      "cell_type": "code",
      "metadata": {
        "id": "RNyLRYdD97t6",
        "colab_type": "code",
        "outputId": "72973a06-ab46-4a90-ffcb-2cee399bc08d",
        "colab": {
          "base_uri": "https://localhost:8080/",
          "height": 142
        }
      },
      "source": [
        "learn.unfreeze()\n",
        "learn.fit_one_cycle(3, slice(1e-4,1e-2))"
      ],
      "execution_count": 39,
      "outputs": [
        {
          "output_type": "display_data",
          "data": {
            "text/html": [
              "<table border=\"1\" class=\"dataframe\">\n",
              "  <thead>\n",
              "    <tr style=\"text-align: left;\">\n",
              "      <th>epoch</th>\n",
              "      <th>train_loss</th>\n",
              "      <th>valid_loss</th>\n",
              "      <th>accuracy</th>\n",
              "      <th>time</th>\n",
              "    </tr>\n",
              "  </thead>\n",
              "  <tbody>\n",
              "    <tr>\n",
              "      <td>0</td>\n",
              "      <td>0.545835</td>\n",
              "      <td>0.445688</td>\n",
              "      <td>0.781095</td>\n",
              "      <td>00:14</td>\n",
              "    </tr>\n",
              "    <tr>\n",
              "      <td>1</td>\n",
              "      <td>0.426115</td>\n",
              "      <td>0.423973</td>\n",
              "      <td>0.825871</td>\n",
              "      <td>00:14</td>\n",
              "    </tr>\n",
              "    <tr>\n",
              "      <td>2</td>\n",
              "      <td>0.333448</td>\n",
              "      <td>0.398078</td>\n",
              "      <td>0.820895</td>\n",
              "      <td>00:15</td>\n",
              "    </tr>\n",
              "  </tbody>\n",
              "</table>"
            ],
            "text/plain": [
              "<IPython.core.display.HTML object>"
            ]
          },
          "metadata": {
            "tags": []
          }
        }
      ]
    },
    {
      "cell_type": "markdown",
      "metadata": {
        "id": "qUI1uURf97uA",
        "colab_type": "text"
      },
      "source": [
        "Again, we can predict on a raw text by using the [`Learner.predict`](/basic_train.html#Learner.predict) method."
      ]
    },
    {
      "cell_type": "code",
      "metadata": {
        "id": "EB-6n2d097uC",
        "colab_type": "code",
        "outputId": "e23629ad-7cab-4465-d9c7-260e1d535aac",
        "colab": {
          "base_uri": "https://localhost:8080/",
          "height": 35
        }
      },
      "source": [
        "learn.predict(\"This was a great movie!\")"
      ],
      "execution_count": 40,
      "outputs": [
        {
          "output_type": "execute_result",
          "data": {
            "text/plain": [
              "(Category positive, tensor(1), tensor([0.0309, 0.9691]))"
            ]
          },
          "metadata": {
            "tags": []
          },
          "execution_count": 40
        }
      ]
    },
    {
      "cell_type": "code",
      "metadata": {
        "id": "CGN09a5d97uG",
        "colab_type": "code",
        "colab": {
          "base_uri": "https://localhost:8080/",
          "height": 35
        },
        "outputId": "5adcc36d-2491-4c69-b326-7798d204c271"
      },
      "source": [
        "learn.predict(\"This was not a great movie!\")"
      ],
      "execution_count": 41,
      "outputs": [
        {
          "output_type": "execute_result",
          "data": {
            "text/plain": [
              "(Category negative, tensor(0), tensor([0.5926, 0.4074]))"
            ]
          },
          "metadata": {
            "tags": []
          },
          "execution_count": 41
        }
      ]
    },
    {
      "cell_type": "code",
      "metadata": {
        "id": "hkssmehQFv6J",
        "colab_type": "code",
        "colab": {
          "base_uri": "https://localhost:8080/",
          "height": 35
        },
        "outputId": "c4999cdd-9a17-4a58-f1d3-7756623ad902"
      },
      "source": [
        "learn.predict(\"I never see the  kind of  movie  before !\")"
      ],
      "execution_count": 42,
      "outputs": [
        {
          "output_type": "execute_result",
          "data": {
            "text/plain": [
              "(Category negative, tensor(0), tensor([0.5046, 0.4954]))"
            ]
          },
          "metadata": {
            "tags": []
          },
          "execution_count": 42
        }
      ]
    },
    {
      "cell_type": "code",
      "metadata": {
        "id": "awiJjui6F96z",
        "colab_type": "code",
        "colab": {
          "base_uri": "https://localhost:8080/",
          "height": 35
        },
        "outputId": "b8f48265-2dbf-4e75-a362-b4956945b0f6"
      },
      "source": [
        "learn.predict(\"I never see the  kind of  movie  before !  It is so fantastic!\")"
      ],
      "execution_count": 43,
      "outputs": [
        {
          "output_type": "execute_result",
          "data": {
            "text/plain": [
              "(Category positive, tensor(1), tensor([0.3207, 0.6793]))"
            ]
          },
          "metadata": {
            "tags": []
          },
          "execution_count": 43
        }
      ]
    }
  ]
}