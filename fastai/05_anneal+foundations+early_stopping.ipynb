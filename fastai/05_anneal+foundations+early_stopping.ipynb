{
  "nbformat": 4,
  "nbformat_minor": 0,
  "metadata": {
    "kernelspec": {
      "name": "python3",
      "display_name": "Python 3"
    },
    "colab": {
      "name": "05_anneal+foundations+early_stopping.ipynb",
      "provenance": [],
      "collapsed_sections": [
        "X_gW54xQFKxq"
      ],
      "include_colab_link": true
    },
    "accelerator": "GPU",
    "widgets": {
      "application/vnd.jupyter.widget-state+json": {
        "4981bcda328549cd834f0c87ff156d42": {
          "model_module": "@jupyter-widgets/controls",
          "model_name": "ButtonModel",
          "state": {
            "_view_name": "ButtonView",
            "style": "IPY_MODEL_f7608cd03da348f1843ce4068d618a01",
            "_dom_classes": [],
            "description": "Click me",
            "_model_name": "ButtonModel",
            "button_style": "",
            "_view_module": "@jupyter-widgets/controls",
            "_model_module_version": "1.5.0",
            "tooltip": "",
            "_view_count": null,
            "disabled": false,
            "_view_module_version": "1.5.0",
            "layout": "IPY_MODEL_2e8e0fcb9a5047fba38101d9446b37a8",
            "_model_module": "@jupyter-widgets/controls",
            "icon": ""
          }
        },
        "f7608cd03da348f1843ce4068d618a01": {
          "model_module": "@jupyter-widgets/controls",
          "model_name": "ButtonStyleModel",
          "state": {
            "_view_name": "StyleView",
            "_model_name": "ButtonStyleModel",
            "_view_module": "@jupyter-widgets/base",
            "_model_module_version": "1.5.0",
            "_view_count": null,
            "button_color": null,
            "font_weight": "",
            "_view_module_version": "1.2.0",
            "_model_module": "@jupyter-widgets/controls"
          }
        },
        "2e8e0fcb9a5047fba38101d9446b37a8": {
          "model_module": "@jupyter-widgets/base",
          "model_name": "LayoutModel",
          "state": {
            "_view_name": "LayoutView",
            "grid_template_rows": null,
            "right": null,
            "justify_content": null,
            "_view_module": "@jupyter-widgets/base",
            "overflow": null,
            "_model_module_version": "1.2.0",
            "_view_count": null,
            "flex_flow": null,
            "width": null,
            "min_width": null,
            "border": null,
            "align_items": null,
            "bottom": null,
            "_model_module": "@jupyter-widgets/base",
            "top": null,
            "grid_column": null,
            "overflow_y": null,
            "overflow_x": null,
            "grid_auto_flow": null,
            "grid_area": null,
            "grid_template_columns": null,
            "flex": null,
            "_model_name": "LayoutModel",
            "justify_items": null,
            "grid_row": null,
            "max_height": null,
            "align_content": null,
            "visibility": null,
            "align_self": null,
            "height": null,
            "min_height": null,
            "padding": null,
            "grid_auto_rows": null,
            "grid_gap": null,
            "max_width": null,
            "order": null,
            "_view_module_version": "1.2.0",
            "grid_template_areas": null,
            "object_position": null,
            "object_fit": null,
            "grid_auto_columns": null,
            "margin": null,
            "display": null,
            "left": null
          }
        }
      }
    }
  },
  "cells": [
    {
      "cell_type": "markdown",
      "metadata": {
        "id": "view-in-github",
        "colab_type": "text"
      },
      "source": [
        "<a href=\"https://colab.research.google.com/github/Rosefinch-Midsummer/Awesome-Colab/blob/master/fastai/05_anneal%2Bfoundations%2Bearly_stopping.ipynb\" target=\"_parent\"><img src=\"https://colab.research.google.com/assets/colab-badge.svg\" alt=\"Open In Colab\"/></a>"
      ]
    },
    {
      "cell_type": "code",
      "metadata": {
        "id": "Ca1wGB1m8J-W",
        "colab_type": "code",
        "colab": {}
      },
      "source": [
        "%load_ext autoreload\n",
        "%autoreload 2\n",
        "\n",
        "%matplotlib inline"
      ],
      "execution_count": 0,
      "outputs": []
    },
    {
      "cell_type": "code",
      "metadata": {
        "id": "IaohdUdsFDZR",
        "colab_type": "code",
        "colab": {
          "base_uri": "https://localhost:8080/",
          "height": 107
        },
        "outputId": "f8ea2826-3d57-4fc2-a4b7-a74b271b810b"
      },
      "source": [
        "!git clone https://github.com/fastai/course-v3"
      ],
      "execution_count": 2,
      "outputs": [
        {
          "output_type": "stream",
          "text": [
            "Cloning into 'course-v3'...\n",
            "remote: Enumerating objects: 5333, done.\u001b[K\n",
            "remote: Total 5333 (delta 0), reused 0 (delta 0), pack-reused 5333\u001b[K\n",
            "Receiving objects: 100% (5333/5333), 257.77 MiB | 42.82 MiB/s, done.\n",
            "Resolving deltas: 100% (2885/2885), done.\n"
          ],
          "name": "stdout"
        }
      ]
    },
    {
      "cell_type": "code",
      "metadata": {
        "id": "Z7j6Ms_1FD15",
        "colab_type": "code",
        "colab": {
          "base_uri": "https://localhost:8080/",
          "height": 35
        },
        "outputId": "324a9d5b-cb10-46b7-b7e6-20f62c329a52"
      },
      "source": [
        "cd course-v3/nbs/dl2"
      ],
      "execution_count": 3,
      "outputs": [
        {
          "output_type": "stream",
          "text": [
            "/content/course-v3/nbs/dl2\n"
          ],
          "name": "stdout"
        }
      ]
    },
    {
      "cell_type": "markdown",
      "metadata": {
        "id": "2Pt7gXwOFqrH",
        "colab_type": "text"
      },
      "source": [
        "# anneal"
      ]
    },
    {
      "cell_type": "code",
      "metadata": {
        "id": "SPhcFpJOFwMh",
        "colab_type": "code",
        "colab": {}
      },
      "source": [
        "#export\n",
        "from exp.nb_04 import *"
      ],
      "execution_count": 0,
      "outputs": []
    },
    {
      "cell_type": "markdown",
      "metadata": {
        "id": "DNyMeix4Fx0K",
        "colab_type": "text"
      },
      "source": [
        "## Initial setup"
      ]
    },
    {
      "cell_type": "code",
      "metadata": {
        "id": "_iVMg8R-F1Hm",
        "colab_type": "code",
        "colab": {
          "base_uri": "https://localhost:8080/",
          "height": 35
        },
        "outputId": "b2db3ac7-2e32-499c-8cbc-ea94c3257411"
      },
      "source": [
        "x_train,y_train,x_valid,y_valid = get_data()\n",
        "train_ds,valid_ds = Dataset(x_train, y_train),Dataset(x_valid, y_valid)\n",
        "nh,bs = 50,512\n",
        "c = y_train.max().item()+1\n",
        "loss_func = F.cross_entropy\n",
        "\n",
        "data = DataBunch(*get_dls(train_ds, valid_ds, bs), c)"
      ],
      "execution_count": 5,
      "outputs": [
        {
          "output_type": "stream",
          "text": [
            "Downloading http://deeplearning.net/data/mnist/mnist.pkl\n"
          ],
          "name": "stdout"
        },
        {
          "output_type": "display_data",
          "data": {
            "text/html": [
              ""
            ],
            "text/plain": [
              "<IPython.core.display.HTML object>"
            ]
          },
          "metadata": {
            "tags": []
          }
        }
      ]
    },
    {
      "cell_type": "code",
      "metadata": {
        "id": "qB2_TeaPF1fz",
        "colab_type": "code",
        "colab": {
          "base_uri": "https://localhost:8080/",
          "height": 125
        },
        "outputId": "6af2ea63-6e69-4ed5-f66b-e696a6c7044f"
      },
      "source": [
        "#export\n",
        "def create_learner(model_func, loss_func, data):\n",
        "    return Learner(*model_func(data), loss_func, data)\n",
        "\n",
        "learn = create_learner(get_model, loss_func, data)\n",
        "run = Runner([AvgStatsCallback([accuracy])])\n",
        "\n",
        "run.fit(3, learn)"
      ],
      "execution_count": 6,
      "outputs": [
        {
          "output_type": "stream",
          "text": [
            "train: [0.67106984375, tensor(0.8028)]\n",
            "valid: [0.3191350830078125, tensor(0.9030)]\n",
            "train: [0.29694919921875, tensor(0.9125)]\n",
            "valid: [0.247824609375, tensor(0.9304)]\n",
            "train: [0.235924375, tensor(0.9312)]\n",
            "valid: [0.19842041015625, tensor(0.9433)]\n"
          ],
          "name": "stdout"
        }
      ]
    },
    {
      "cell_type": "code",
      "metadata": {
        "id": "YTbdoZfsF1tv",
        "colab_type": "code",
        "colab": {
          "base_uri": "https://localhost:8080/",
          "height": 125
        },
        "outputId": "ba9d1218-c893-4a4b-df00-2b684ae74dde"
      },
      "source": [
        "learn = create_learner(partial(get_model, lr=0.3), loss_func, data)\n",
        "run = Runner([AvgStatsCallback([accuracy])])\n",
        "\n",
        "run.fit(3, learn)"
      ],
      "execution_count": 7,
      "outputs": [
        {
          "output_type": "stream",
          "text": [
            "train: [0.76367515625, tensor(0.7983)]\n",
            "valid: [0.3648052734375, tensor(0.9008)]\n",
            "train: [0.3496009375, tensor(0.8993)]\n",
            "valid: [0.3048053955078125, tensor(0.9108)]\n",
            "train: [0.29737068359375, tensor(0.9147)]\n",
            "valid: [0.2595988525390625, tensor(0.9264)]\n"
          ],
          "name": "stdout"
        }
      ]
    },
    {
      "cell_type": "code",
      "metadata": {
        "id": "eIt5x7dRF16n",
        "colab_type": "code",
        "colab": {}
      },
      "source": [
        "#export\n",
        "def get_model_func(lr=0.5): return partial(get_model, lr=lr)"
      ],
      "execution_count": 0,
      "outputs": []
    },
    {
      "cell_type": "markdown",
      "metadata": {
        "id": "Qiy5UVU0GY-I",
        "colab_type": "text"
      },
      "source": [
        "## Annealing\n",
        "\n",
        "We define two new callbacks: the Recorder to save track of the loss and our scheduled learning rate, and a ParamScheduler that can schedule any hyperparameter as long as it's registered in the state_dict of the optimizer."
      ]
    },
    {
      "cell_type": "code",
      "metadata": {
        "id": "bmbB2aM3GLhr",
        "colab_type": "code",
        "colab": {}
      },
      "source": [
        "#export\n",
        "class Recorder(Callback):\n",
        "    def begin_fit(self): self.lrs,self.losses = [],[]\n",
        "\n",
        "    def after_batch(self):\n",
        "        if not self.in_train: return\n",
        "        self.lrs.append(self.opt.param_groups[-1]['lr'])\n",
        "        self.losses.append(self.loss.detach().cpu())        \n",
        "\n",
        "    def plot_lr  (self): plt.plot(self.lrs)\n",
        "    def plot_loss(self): plt.plot(self.losses)\n",
        "\n",
        "class ParamScheduler(Callback):\n",
        "    _order=1\n",
        "    def __init__(self, pname, sched_func): self.pname,self.sched_func = pname,sched_func\n",
        "\n",
        "    def set_param(self):\n",
        "        for pg in self.opt.param_groups:\n",
        "            pg[self.pname] = self.sched_func(self.n_epochs/self.epochs)\n",
        "            \n",
        "    def begin_batch(self): \n",
        "        if self.in_train: self.set_param()"
      ],
      "execution_count": 0,
      "outputs": []
    },
    {
      "cell_type": "markdown",
      "metadata": {
        "id": "lthEgF5XGgUw",
        "colab_type": "text"
      },
      "source": [
        "Let's start with a simple linear schedule going from start to end. It returns a function that takes a pos argument (going from 0 to 1) such that this function goes from start (at pos=0) to end (at pos=1) in a linear fashion."
      ]
    },
    {
      "cell_type": "code",
      "metadata": {
        "id": "seTzMmVvGLdI",
        "colab_type": "code",
        "colab": {
          "base_uri": "https://localhost:8080/",
          "height": 35
        },
        "outputId": "906abb68-a02f-4056-87df-1162c597863e"
      },
      "source": [
        "def sched_lin(start, end):\n",
        "    def _inner(start, end, pos): return start + pos*(end-start)\n",
        "    return partial(_inner, start, end)\n",
        "\n",
        "#We can refactor this with a decorator.\n",
        "\n",
        "#export\n",
        "def annealer(f):\n",
        "    def _inner(start, end): return partial(f, start, end)\n",
        "    return _inner\n",
        "\n",
        "@annealer\n",
        "def sched_lin(start, end, pos): return start + pos*(end-start)\n",
        "\n",
        "# shift-tab works too, in Jupyter!\n",
        "# sched_lin()\n",
        "\n",
        "f = sched_lin(1,2)\n",
        "f(0.3)"
      ],
      "execution_count": 10,
      "outputs": [
        {
          "output_type": "execute_result",
          "data": {
            "text/plain": [
              "1.3"
            ]
          },
          "metadata": {
            "tags": []
          },
          "execution_count": 10
        }
      ]
    },
    {
      "cell_type": "code",
      "metadata": {
        "id": "ql5SeovRGLYj",
        "colab_type": "code",
        "colab": {}
      },
      "source": [
        "#And here are other scheduler functions:\n",
        "\n",
        "#export\n",
        "@annealer\n",
        "def sched_cos(start, end, pos): return start + (1 + math.cos(math.pi*(1-pos))) * (end-start) / 2\n",
        "@annealer\n",
        "def sched_no(start, end, pos):  return start\n",
        "@annealer\n",
        "def sched_exp(start, end, pos): return start * (end/start) ** pos\n",
        "\n",
        "def cos_1cycle_anneal(start, high, end):\n",
        "    return [sched_cos(start, high), sched_cos(high, end)]\n",
        "\n",
        "#This monkey-patch is there to be able to plot tensors\n",
        "torch.Tensor.ndim = property(lambda x: len(x.shape))"
      ],
      "execution_count": 0,
      "outputs": []
    },
    {
      "cell_type": "code",
      "metadata": {
        "id": "L8DzcY_xHZOQ",
        "colab_type": "code",
        "colab": {
          "base_uri": "https://localhost:8080/",
          "height": 265
        },
        "outputId": "3c6ec4ec-05a4-4680-d124-6ec1ca5367cc"
      },
      "source": [
        "annealings = \"NO LINEAR COS EXP\".split()\n",
        "\n",
        "a = torch.arange(0, 100)\n",
        "p = torch.linspace(0.01,1,100)\n",
        "\n",
        "fns = [sched_no, sched_lin, sched_cos, sched_exp]\n",
        "for fn, t in zip(fns, annealings):\n",
        "    f = fn(2, 1e-2)\n",
        "    plt.plot(a, [f(o) for o in p], label=t)\n",
        "plt.legend();"
      ],
      "execution_count": 12,
      "outputs": [
        {
          "output_type": "display_data",
          "data": {
            "image/png": "[encoded data removed]",
            "text/plain": [
              "<Figure size 432x288 with 1 Axes>"
            ]
          },
          "metadata": {
            "tags": []
          }
        }
      ]
    },
    {
      "cell_type": "code",
      "metadata": {
        "id": "uNx08OHHHZhc",
        "colab_type": "code",
        "colab": {
          "base_uri": "https://localhost:8080/",
          "height": 283
        },
        "outputId": "e5a64792-91d0-4016-9a60-e78637d7b744"
      },
      "source": [
        "#In practice, we'll often want to combine different schedulers, the following function does that: it uses scheds[i] for pcts[i] of the training.\n",
        "\n",
        "#export\n",
        "def combine_scheds(pcts, scheds):\n",
        "    assert sum(pcts) == 1.\n",
        "    pcts = tensor([0] + listify(pcts))\n",
        "    assert torch.all(pcts >= 0)\n",
        "    pcts = torch.cumsum(pcts, 0)\n",
        "    def _inner(pos):\n",
        "        idx = (pos >= pcts).nonzero().max()\n",
        "        actual_pos = (pos-pcts[idx]) / (pcts[idx+1]-pcts[idx])\n",
        "        return scheds[idx](actual_pos)\n",
        "    return _inner\n",
        "\n",
        "#Here is an example: use 30% of the budget to go from 0.3 to 0.6 following a cosine, then the last 70% of the budget to go from 0.6 to 0.2, still following a cosine.\n",
        "\n",
        "sched = combine_scheds([0.3, 0.7], [sched_cos(0.3, 0.6), sched_cos(0.6, 0.2)])\n",
        "plt.plot(a, [sched(o) for o in p])\n"
      ],
      "execution_count": 13,
      "outputs": [
        {
          "output_type": "execute_result",
          "data": {
            "text/plain": [
              "[<matplotlib.lines.Line2D at 0x7f1f38f00160>]"
            ]
          },
          "metadata": {
            "tags": []
          },
          "execution_count": 13
        },
        {
          "output_type": "display_data",
          "data": {
            "image/png": "[encoded data removed]",
            "text/plain": [
              "<Figure size 432x288 with 1 Axes>"
            ]
          },
          "metadata": {
            "tags": []
          }
        }
      ]
    },
    {
      "cell_type": "code",
      "metadata": {
        "id": "tA7mGvy0Hvff",
        "colab_type": "code",
        "colab": {
          "base_uri": "https://localhost:8080/",
          "height": 125
        },
        "outputId": "67c2a4bd-e12a-4405-8d64-fa180bb42c15"
      },
      "source": [
        "#We can use it for training quite easily...\n",
        "\n",
        "cbfs = [Recorder,\n",
        "        partial(AvgStatsCallback,accuracy),\n",
        "        partial(ParamScheduler, 'lr', sched)]\n",
        "\n",
        "learn = create_learner(get_model_func(0.3), loss_func, data)\n",
        "run = Runner(cb_funcs=cbfs)\n",
        "\n",
        "run.fit(3, learn)"
      ],
      "execution_count": 14,
      "outputs": [
        {
          "output_type": "stream",
          "text": [
            "train: [0.775418671875, tensor(0.7933)]\n",
            "valid: [0.31850556640625, tensor(0.9065)]\n",
            "train: [0.30631994140625, tensor(0.9101)]\n",
            "valid: [0.2339670166015625, tensor(0.9311)]\n",
            "train: [0.24077845703125, tensor(0.9313)]\n",
            "valid: [0.211903125, tensor(0.9396)]\n"
          ],
          "name": "stdout"
        }
      ]
    },
    {
      "cell_type": "code",
      "metadata": {
        "id": "ub_d868LHvaX",
        "colab_type": "code",
        "colab": {
          "base_uri": "https://localhost:8080/",
          "height": 265
        },
        "outputId": "371c3cec-0b30-44e5-8bb7-5bc166671d87"
      },
      "source": [
        "#.. then check with our recorder if the learning rate followed the right schedule.\n",
        "run.recorder.plot_lr()"
      ],
      "execution_count": 15,
      "outputs": [
        {
          "output_type": "display_data",
          "data": {
            "image/png": "[encoded data removed]",
            "text/plain": [
              "<Figure size 432x288 with 1 Axes>"
            ]
          },
          "metadata": {
            "tags": []
          }
        }
      ]
    },
    {
      "cell_type": "code",
      "metadata": {
        "id": "uy9Ss6k0IDy4",
        "colab_type": "code",
        "colab": {
          "base_uri": "https://localhost:8080/",
          "height": 265
        },
        "outputId": "fa15f822-5774-4c2d-ee86-066c54262273"
      },
      "source": [
        "run.recorder.plot_loss()"
      ],
      "execution_count": 16,
      "outputs": [
        {
          "output_type": "display_data",
          "data": {
            "image/png": "[encoded data removed]",
            "text/plain": [
              "<Figure size 432x288 with 1 Axes>"
            ]
          },
          "metadata": {
            "tags": []
          }
        }
      ]
    },
    {
      "cell_type": "markdown",
      "metadata": {
        "id": "SErH-CEWIHhm",
        "colab_type": "text"
      },
      "source": [
        "## Export"
      ]
    },
    {
      "cell_type": "code",
      "metadata": {
        "id": "W0PW-05GILC_",
        "colab_type": "code",
        "colab": {}
      },
      "source": [
        "#!./notebook2script.py 05_anneal.ipynb"
      ],
      "execution_count": 0,
      "outputs": []
    },
    {
      "cell_type": "markdown",
      "metadata": {
        "id": "X_gW54xQFKxq",
        "colab_type": "text"
      },
      "source": [
        "# foundations"
      ]
    },
    {
      "cell_type": "code",
      "metadata": {
        "id": "NBvqJaLc8J-j",
        "colab_type": "code",
        "colab": {}
      },
      "source": [
        "import torch\n",
        "import matplotlib.pyplot as plt"
      ],
      "execution_count": 0,
      "outputs": []
    },
    {
      "cell_type": "markdown",
      "metadata": {
        "id": "Ly7bS8tC8J-q",
        "colab_type": "text"
      },
      "source": [
        "[Jump_to opening comments and overview of lesson 10](https://course.fast.ai/videos/?lesson=10&t=108)"
      ]
    },
    {
      "cell_type": "markdown",
      "metadata": {
        "id": "QxGWAX878J-s",
        "colab_type": "text"
      },
      "source": [
        "## Callbacks"
      ]
    },
    {
      "cell_type": "markdown",
      "metadata": {
        "id": "Xr6J4CLc8J-u",
        "colab_type": "text"
      },
      "source": [
        "### Callbacks as GUI events"
      ]
    },
    {
      "cell_type": "markdown",
      "metadata": {
        "id": "kJMGGGFS8J-w",
        "colab_type": "text"
      },
      "source": [
        "[Jump_to lesson 10 video](https://course.fast.ai/videos/?lesson=10&t=432)"
      ]
    },
    {
      "cell_type": "code",
      "metadata": {
        "id": "yWjCRbj88J-y",
        "colab_type": "code",
        "colab": {}
      },
      "source": [
        "import ipywidgets as widgets"
      ],
      "execution_count": 0,
      "outputs": []
    },
    {
      "cell_type": "code",
      "metadata": {
        "id": "QYPn3CfD8J-4",
        "colab_type": "code",
        "colab": {}
      },
      "source": [
        "def f(o): print('hi')"
      ],
      "execution_count": 0,
      "outputs": []
    },
    {
      "cell_type": "markdown",
      "metadata": {
        "id": "LVloRPIL8J-9",
        "colab_type": "text"
      },
      "source": [
        "From the [ipywidget docs](https://ipywidgets.readthedocs.io/en/stable/examples/Widget%20Events.html):\n",
        "\n",
        "- *the button widget is used to handle mouse clicks. The on_click method of the Button can be used to register function to be called when the button is clicked*"
      ]
    },
    {
      "cell_type": "code",
      "metadata": {
        "id": "ZlBSbPx98J-_",
        "colab_type": "code",
        "colab": {}
      },
      "source": [
        "w = widgets.Button(description='Click me')"
      ],
      "execution_count": 0,
      "outputs": []
    },
    {
      "cell_type": "code",
      "metadata": {
        "id": "KKRHg8g38J_E",
        "colab_type": "code",
        "outputId": "352b9611-46a0-4471-d5d3-8ed7a36e1ecf",
        "colab": {
          "base_uri": "https://localhost:8080/",
          "height": 85,
          "referenced_widgets": [
            "4981bcda328549cd834f0c87ff156d42",
            "f7608cd03da348f1843ce4068d618a01",
            "2e8e0fcb9a5047fba38101d9446b37a8"
          ]
        }
      },
      "source": [
        "w"
      ],
      "execution_count": 0,
      "outputs": [
        {
          "output_type": "display_data",
          "data": {
            "application/vnd.jupyter.widget-view+json": {
              "model_id": "4981bcda328549cd834f0c87ff156d42",
              "version_minor": 0,
              "version_major": 2
            },
            "text/plain": [
              "Button(description='Click me', style=ButtonStyle())"
            ]
          },
          "metadata": {
            "tags": []
          }
        },
        {
          "output_type": "stream",
          "text": [
            "hi\n",
            "hi\n"
          ],
          "name": "stdout"
        }
      ]
    },
    {
      "cell_type": "code",
      "metadata": {
        "id": "v_LVyhz-8J_O",
        "colab_type": "code",
        "colab": {}
      },
      "source": [
        "w.on_click(f)"
      ],
      "execution_count": 0,
      "outputs": []
    },
    {
      "cell_type": "markdown",
      "metadata": {
        "id": "Lx85H9wu8J_T",
        "colab_type": "text"
      },
      "source": [
        "*NB: When callbacks are used in this way they are often called \"events\".*\n",
        "\n",
        "Did you know what you can create interactive apps in Jupyter with these widgets? Here's an example from [plotly](https://plot.ly/python/widget-app/):\n",
        "\n",
        "![](https://cloud.githubusercontent.com/assets/12302455/16637308/4e476280-43ac-11e6-9fd3-ada2c9506ee1.gif)"
      ]
    },
    {
      "cell_type": "markdown",
      "metadata": {
        "id": "WMXeka0j8J_V",
        "colab_type": "text"
      },
      "source": [
        "### Creating your own callback\n",
        "\n",
        "回调函数使用\n",
        "\n",
        "回调函数是一个函数的合集，会在训练的阶段中所使用。你可以使用回调函数来查看训练模型的内在状态和统计。你可以传递一个列表的回调函数（作为 callbacks 关键字参数）到 Sequential 或 Model 类型的 .fit() 方法。在训练时，相应的回调函数的方法就会被在各自的阶段被调用。"
      ]
    },
    {
      "cell_type": "markdown",
      "metadata": {
        "id": "Uz4EvMsD8J_X",
        "colab_type": "text"
      },
      "source": [
        "[Jump_to lesson 10 video](https://course.fast.ai/videos/?lesson=10&t=680)"
      ]
    },
    {
      "cell_type": "code",
      "metadata": {
        "id": "PDVxD6Hq8J_Z",
        "colab_type": "code",
        "colab": {}
      },
      "source": [
        "from time import sleep"
      ],
      "execution_count": 0,
      "outputs": []
    },
    {
      "cell_type": "code",
      "metadata": {
        "id": "N_oQw1at8J_f",
        "colab_type": "code",
        "colab": {}
      },
      "source": [
        "def slow_calculation():\n",
        "    res = 0\n",
        "    for i in range(5):\n",
        "        res += i*i\n",
        "        sleep(1)\n",
        "    return res"
      ],
      "execution_count": 0,
      "outputs": []
    },
    {
      "cell_type": "code",
      "metadata": {
        "id": "d7bzWZiV8J_k",
        "colab_type": "code",
        "outputId": "48f90fbf-32a3-4933-8e1d-fda451ceaa6c",
        "colab": {
          "base_uri": "https://localhost:8080/",
          "height": 35
        }
      },
      "source": [
        "slow_calculation()"
      ],
      "execution_count": 0,
      "outputs": [
        {
          "output_type": "execute_result",
          "data": {
            "text/plain": [
              "30"
            ]
          },
          "metadata": {
            "tags": []
          },
          "execution_count": 10
        }
      ]
    },
    {
      "cell_type": "code",
      "metadata": {
        "id": "enS-I8x38J_r",
        "colab_type": "code",
        "colab": {}
      },
      "source": [
        "def slow_calculation(cb=None):\n",
        "    res = 0\n",
        "    for i in range(5):\n",
        "        res += i*i\n",
        "        sleep(1)\n",
        "        if cb: cb(i)\n",
        "    return res"
      ],
      "execution_count": 0,
      "outputs": []
    },
    {
      "cell_type": "code",
      "metadata": {
        "id": "77qz081g8J_v",
        "colab_type": "code",
        "colab": {}
      },
      "source": [
        "def show_progress(epoch):\n",
        "    print(f\"Awesome! We've finished epoch {epoch}!\")"
      ],
      "execution_count": 0,
      "outputs": []
    },
    {
      "cell_type": "code",
      "metadata": {
        "id": "DM6uOkRV8J_0",
        "colab_type": "code",
        "outputId": "2631b9b4-e98c-4711-9306-39cdcad469be",
        "colab": {
          "base_uri": "https://localhost:8080/",
          "height": 125
        }
      },
      "source": [
        "slow_calculation(show_progress)"
      ],
      "execution_count": 0,
      "outputs": [
        {
          "output_type": "stream",
          "text": [
            "Awesome! We've finished epoch 0!\n",
            "Awesome! We've finished epoch 1!\n",
            "Awesome! We've finished epoch 2!\n",
            "Awesome! We've finished epoch 3!\n",
            "Awesome! We've finished epoch 4!\n"
          ],
          "name": "stdout"
        },
        {
          "output_type": "execute_result",
          "data": {
            "text/plain": [
              "30"
            ]
          },
          "metadata": {
            "tags": []
          },
          "execution_count": 13
        }
      ]
    },
    {
      "cell_type": "markdown",
      "metadata": {
        "id": "zhOwiB0J8J_7",
        "colab_type": "text"
      },
      "source": [
        "### Lambdas and partials"
      ]
    },
    {
      "cell_type": "markdown",
      "metadata": {
        "id": "okhZrXpy8J_9",
        "colab_type": "text"
      },
      "source": [
        "[Jump_to lesson 10 video](https://course.fast.ai/videos/?lesson=10&t=811)"
      ]
    },
    {
      "cell_type": "markdown",
      "metadata": {
        "id": "XASiZ-rS95oM",
        "colab_type": "text"
      },
      "source": [
        "在训练进行中创建简单，自定义的回调函数的回调函数。\n",
        "\n",
        "这个回调函数和匿名函数在合适的时间被创建"
      ]
    },
    {
      "cell_type": "code",
      "metadata": {
        "id": "bHRu98yX8J_-",
        "colab_type": "code",
        "outputId": "23eca6aa-b331-4fc7-dfb9-c0247597ca7a",
        "colab": {
          "base_uri": "https://localhost:8080/",
          "height": 125
        }
      },
      "source": [
        "slow_calculation(lambda o: print(f\"Awesome! We've finished epoch {o}!\"))"
      ],
      "execution_count": 0,
      "outputs": [
        {
          "output_type": "stream",
          "text": [
            "Awesome! We've finished epoch 0!\n",
            "Awesome! We've finished epoch 1!\n",
            "Awesome! We've finished epoch 2!\n",
            "Awesome! We've finished epoch 3!\n",
            "Awesome! We've finished epoch 4!\n"
          ],
          "name": "stdout"
        },
        {
          "output_type": "execute_result",
          "data": {
            "text/plain": [
              "30"
            ]
          },
          "metadata": {
            "tags": []
          },
          "execution_count": 14
        }
      ]
    },
    {
      "cell_type": "code",
      "metadata": {
        "id": "rK5LyG3Q8KAF",
        "colab_type": "code",
        "colab": {}
      },
      "source": [
        "def show_progress(exclamation, epoch):\n",
        "    print(f\"{exclamation}! We've finished epoch {epoch}!\")"
      ],
      "execution_count": 0,
      "outputs": []
    },
    {
      "cell_type": "code",
      "metadata": {
        "id": "S5VjpXwm8KAN",
        "colab_type": "code",
        "outputId": "f24226fd-f1b9-4619-b695-dab462e6a550",
        "colab": {
          "base_uri": "https://localhost:8080/",
          "height": 125
        }
      },
      "source": [
        "slow_calculation(lambda o: show_progress(\"OK I guess\", o))"
      ],
      "execution_count": 0,
      "outputs": [
        {
          "output_type": "stream",
          "text": [
            "OK I guess! We've finished epoch 0!\n",
            "OK I guess! We've finished epoch 1!\n",
            "OK I guess! We've finished epoch 2!\n",
            "OK I guess! We've finished epoch 3!\n",
            "OK I guess! We've finished epoch 4!\n"
          ],
          "name": "stdout"
        },
        {
          "output_type": "execute_result",
          "data": {
            "text/plain": [
              "30"
            ]
          },
          "metadata": {
            "tags": []
          },
          "execution_count": 16
        }
      ]
    },
    {
      "cell_type": "code",
      "metadata": {
        "id": "5MlxMjmz8KAT",
        "colab_type": "code",
        "colab": {}
      },
      "source": [
        "def make_show_progress(exclamation):\n",
        "    _inner = lambda epoch: print(f\"{exclamation}! We've finished epoch {epoch}!\")\n",
        "    return _inner"
      ],
      "execution_count": 0,
      "outputs": []
    },
    {
      "cell_type": "code",
      "metadata": {
        "id": "u3BAYmyq8KAa",
        "colab_type": "code",
        "outputId": "460a3484-0eef-47d4-ac8e-2c319b1108d0",
        "colab": {
          "base_uri": "https://localhost:8080/",
          "height": 125
        }
      },
      "source": [
        "slow_calculation(make_show_progress(\"Nice!\"))"
      ],
      "execution_count": 0,
      "outputs": [
        {
          "output_type": "stream",
          "text": [
            "Nice!! We've finished epoch 0!\n",
            "Nice!! We've finished epoch 1!\n",
            "Nice!! We've finished epoch 2!\n",
            "Nice!! We've finished epoch 3!\n",
            "Nice!! We've finished epoch 4!\n"
          ],
          "name": "stdout"
        },
        {
          "output_type": "execute_result",
          "data": {
            "text/plain": [
              "30"
            ]
          },
          "metadata": {
            "tags": []
          },
          "execution_count": 18
        }
      ]
    },
    {
      "cell_type": "code",
      "metadata": {
        "id": "Ci71ukWE8KAm",
        "colab_type": "code",
        "colab": {}
      },
      "source": [
        "def make_show_progress(exclamation):\n",
        "    # Leading \"_\" is generally understood to be \"private\"\n",
        "    def _inner(epoch): print(f\"{exclamation}! We've finished epoch {epoch}!\")\n",
        "    return _inner"
      ],
      "execution_count": 0,
      "outputs": []
    },
    {
      "cell_type": "code",
      "metadata": {
        "id": "xYLL39iB8KAv",
        "colab_type": "code",
        "outputId": "1561da82-0fbb-40cc-ef15-801d9c3fe518",
        "colab": {
          "base_uri": "https://localhost:8080/",
          "height": 125
        }
      },
      "source": [
        "slow_calculation(make_show_progress(\"Nice!\"))"
      ],
      "execution_count": 0,
      "outputs": [
        {
          "output_type": "stream",
          "text": [
            "Nice!! We've finished epoch 0!\n",
            "Nice!! We've finished epoch 1!\n",
            "Nice!! We've finished epoch 2!\n",
            "Nice!! We've finished epoch 3!\n",
            "Nice!! We've finished epoch 4!\n"
          ],
          "name": "stdout"
        },
        {
          "output_type": "execute_result",
          "data": {
            "text/plain": [
              "30"
            ]
          },
          "metadata": {
            "tags": []
          },
          "execution_count": 20
        }
      ]
    },
    {
      "cell_type": "code",
      "metadata": {
        "id": "VJG7ASrj8KA0",
        "colab_type": "code",
        "colab": {}
      },
      "source": [
        "f2 = make_show_progress(\"Terrific\")"
      ],
      "execution_count": 0,
      "outputs": []
    },
    {
      "cell_type": "code",
      "metadata": {
        "id": "ozmHHPdJ8KA5",
        "colab_type": "code",
        "outputId": "a27088b5-6197-4189-c29b-f8acb28bcc3b",
        "colab": {
          "base_uri": "https://localhost:8080/",
          "height": 125
        }
      },
      "source": [
        "slow_calculation(f2)"
      ],
      "execution_count": 0,
      "outputs": [
        {
          "output_type": "stream",
          "text": [
            "Terrific! We've finished epoch 0!\n",
            "Terrific! We've finished epoch 1!\n",
            "Terrific! We've finished epoch 2!\n",
            "Terrific! We've finished epoch 3!\n",
            "Terrific! We've finished epoch 4!\n"
          ],
          "name": "stdout"
        },
        {
          "output_type": "execute_result",
          "data": {
            "text/plain": [
              "30"
            ]
          },
          "metadata": {
            "tags": []
          },
          "execution_count": 22
        }
      ]
    },
    {
      "cell_type": "code",
      "metadata": {
        "id": "HFWh9gVX8KBD",
        "colab_type": "code",
        "outputId": "af85b89a-2853-4580-be95-e12d3c1ff3d0",
        "colab": {
          "base_uri": "https://localhost:8080/",
          "height": 125
        }
      },
      "source": [
        "slow_calculation(make_show_progress(\"Amazing\"))"
      ],
      "execution_count": 0,
      "outputs": [
        {
          "output_type": "stream",
          "text": [
            "Amazing! We've finished epoch 0!\n",
            "Amazing! We've finished epoch 1!\n",
            "Amazing! We've finished epoch 2!\n",
            "Amazing! We've finished epoch 3!\n",
            "Amazing! We've finished epoch 4!\n"
          ],
          "name": "stdout"
        },
        {
          "output_type": "execute_result",
          "data": {
            "text/plain": [
              "30"
            ]
          },
          "metadata": {
            "tags": []
          },
          "execution_count": 23
        }
      ]
    },
    {
      "cell_type": "code",
      "metadata": {
        "id": "P76zyQ-u8KBI",
        "colab_type": "code",
        "colab": {}
      },
      "source": [
        "from functools import partial"
      ],
      "execution_count": 0,
      "outputs": []
    },
    {
      "cell_type": "code",
      "metadata": {
        "id": "zvlrvffQ8KBO",
        "colab_type": "code",
        "outputId": "11e9bcea-4f72-4ecc-dd68-919c295aeb6f",
        "colab": {
          "base_uri": "https://localhost:8080/",
          "height": 125
        }
      },
      "source": [
        "slow_calculation(partial(show_progress, \"OK I guess\"))"
      ],
      "execution_count": 0,
      "outputs": [
        {
          "output_type": "stream",
          "text": [
            "OK I guess! We've finished epoch 0!\n",
            "OK I guess! We've finished epoch 1!\n",
            "OK I guess! We've finished epoch 2!\n",
            "OK I guess! We've finished epoch 3!\n",
            "OK I guess! We've finished epoch 4!\n"
          ],
          "name": "stdout"
        },
        {
          "output_type": "execute_result",
          "data": {
            "text/plain": [
              "30"
            ]
          },
          "metadata": {
            "tags": []
          },
          "execution_count": 25
        }
      ]
    },
    {
      "cell_type": "code",
      "metadata": {
        "id": "rnc-KrSB8KBT",
        "colab_type": "code",
        "colab": {}
      },
      "source": [
        "f2 = partial(show_progress, \"OK I guess\")"
      ],
      "execution_count": 0,
      "outputs": []
    },
    {
      "cell_type": "markdown",
      "metadata": {
        "id": "v8xHiEI18KBX",
        "colab_type": "text"
      },
      "source": [
        "### Callbacks as callable classes"
      ]
    },
    {
      "cell_type": "markdown",
      "metadata": {
        "id": "C6wPPmLb8KBZ",
        "colab_type": "text"
      },
      "source": [
        "[Jump_to lesson 10 video](https://course.fast.ai/videos/?lesson=10&t=1122)"
      ]
    },
    {
      "cell_type": "code",
      "metadata": {
        "id": "BWG4FVn98KBa",
        "colab_type": "code",
        "colab": {}
      },
      "source": [
        "class ProgressShowingCallback():\n",
        "    def __init__(self, exclamation=\"Awesome\"): self.exclamation = exclamation\n",
        "    def __call__(self, epoch): print(f\"{self.exclamation}! We've finished epoch {epoch}!\")"
      ],
      "execution_count": 0,
      "outputs": []
    },
    {
      "cell_type": "code",
      "metadata": {
        "id": "Ma13K0Np8KBi",
        "colab_type": "code",
        "colab": {}
      },
      "source": [
        "cb = ProgressShowingCallback(\"Just super\")"
      ],
      "execution_count": 0,
      "outputs": []
    },
    {
      "cell_type": "code",
      "metadata": {
        "id": "8jhRpUUA8KBp",
        "colab_type": "code",
        "outputId": "c93cf98a-59c4-4272-88a1-1dee58b292ec",
        "colab": {
          "base_uri": "https://localhost:8080/",
          "height": 125
        }
      },
      "source": [
        "slow_calculation(cb)"
      ],
      "execution_count": 0,
      "outputs": [
        {
          "output_type": "stream",
          "text": [
            "Just super! We've finished epoch 0!\n",
            "Just super! We've finished epoch 1!\n",
            "Just super! We've finished epoch 2!\n",
            "Just super! We've finished epoch 3!\n",
            "Just super! We've finished epoch 4!\n"
          ],
          "name": "stdout"
        },
        {
          "output_type": "execute_result",
          "data": {
            "text/plain": [
              "30"
            ]
          },
          "metadata": {
            "tags": []
          },
          "execution_count": 29
        }
      ]
    },
    {
      "cell_type": "markdown",
      "metadata": {
        "id": "ap9AGZ9V8KBy",
        "colab_type": "text"
      },
      "source": [
        "### Multiple callback funcs; `*args` and `**kwargs`"
      ]
    },
    {
      "cell_type": "markdown",
      "metadata": {
        "id": "NEZ9Krmu8KBz",
        "colab_type": "text"
      },
      "source": [
        "[Jump_to lesson 10 video](https://course.fast.ai/videos/?lesson=10&t=1194)"
      ]
    },
    {
      "cell_type": "code",
      "metadata": {
        "id": "JLcl8XQT8KB1",
        "colab_type": "code",
        "colab": {}
      },
      "source": [
        "def f(*args, **kwargs): print(f\"args: {args}; kwargs: {kwargs}\")"
      ],
      "execution_count": 0,
      "outputs": []
    },
    {
      "cell_type": "code",
      "metadata": {
        "id": "B-4ecess8KB6",
        "colab_type": "code",
        "outputId": "895025f8-bd7a-40c9-b043-fd7bd76bf019",
        "colab": {
          "base_uri": "https://localhost:8080/",
          "height": 35
        }
      },
      "source": [
        "f(3, 'a', thing1=\"hello\")"
      ],
      "execution_count": 0,
      "outputs": [
        {
          "output_type": "stream",
          "text": [
            "args: (3, 'a'); kwargs: {'thing1': 'hello'}\n"
          ],
          "name": "stdout"
        }
      ]
    },
    {
      "cell_type": "markdown",
      "metadata": {
        "id": "K8Tr5myg8KCG",
        "colab_type": "text"
      },
      "source": [
        "NB: We've been guilty of over-using kwargs in fastai - it's very convenient for the developer, but is annoying for the end-user unless care is taken to ensure docs show all kwargs too. kwargs can also hide bugs (because it might not tell you about a typo in a param name). In [R](https://www.r-project.org/) there's a very similar issue (R uses `...` for the same thing), and matplotlib uses kwargs a lot too."
      ]
    },
    {
      "cell_type": "code",
      "metadata": {
        "id": "uYqFPQBC8KCJ",
        "colab_type": "code",
        "colab": {}
      },
      "source": [
        "def slow_calculation(cb=None):\n",
        "    res = 0\n",
        "    for i in range(5):\n",
        "        if cb: cb.before_calc(i)\n",
        "        res += i*i\n",
        "        sleep(1)\n",
        "        if cb: cb.after_calc(i, val=res)\n",
        "    return res"
      ],
      "execution_count": 0,
      "outputs": []
    },
    {
      "cell_type": "code",
      "metadata": {
        "id": "H1lg6IMH8KCR",
        "colab_type": "code",
        "colab": {}
      },
      "source": [
        "class PrintStepCallback():\n",
        "    def __init__(self): pass\n",
        "    def before_calc(self, *args, **kwargs): print(f\"About to start\")\n",
        "    def after_calc (self, *args, **kwargs): print(f\"Done step\")"
      ],
      "execution_count": 0,
      "outputs": []
    },
    {
      "cell_type": "code",
      "metadata": {
        "id": "9_JAV1Ig8KCV",
        "colab_type": "code",
        "outputId": "4ef4eaf4-e7af-49e5-89a7-bae9d63b2cd0",
        "colab": {
          "base_uri": "https://localhost:8080/",
          "height": 215
        }
      },
      "source": [
        "slow_calculation(PrintStepCallback())"
      ],
      "execution_count": 0,
      "outputs": [
        {
          "output_type": "stream",
          "text": [
            "About to start\n",
            "Done step\n",
            "About to start\n",
            "Done step\n",
            "About to start\n",
            "Done step\n",
            "About to start\n",
            "Done step\n",
            "About to start\n",
            "Done step\n"
          ],
          "name": "stdout"
        },
        {
          "output_type": "execute_result",
          "data": {
            "text/plain": [
              "30"
            ]
          },
          "metadata": {
            "tags": []
          },
          "execution_count": 34
        }
      ]
    },
    {
      "cell_type": "code",
      "metadata": {
        "id": "PMdxgOpt8KFO",
        "colab_type": "code",
        "colab": {}
      },
      "source": [
        "class PrintStatusCallback():\n",
        "    def __init__(self): pass\n",
        "    def before_calc(self, epoch, **kwargs): print(f\"About to start: {epoch}\")\n",
        "    def after_calc (self, epoch, val, **kwargs): print(f\"After {epoch}: {val}\")"
      ],
      "execution_count": 0,
      "outputs": []
    },
    {
      "cell_type": "code",
      "metadata": {
        "id": "pgPmlroj8KFS",
        "colab_type": "code",
        "outputId": "af50f65e-4556-47b0-84c2-7eb08443ebf9",
        "colab": {
          "base_uri": "https://localhost:8080/",
          "height": 215
        }
      },
      "source": [
        "slow_calculation(PrintStatusCallback())"
      ],
      "execution_count": 0,
      "outputs": [
        {
          "output_type": "stream",
          "text": [
            "About to start: 0\n",
            "After 0: 0\n",
            "About to start: 1\n",
            "After 1: 1\n",
            "About to start: 2\n",
            "After 2: 5\n",
            "About to start: 3\n",
            "After 3: 14\n",
            "About to start: 4\n",
            "After 4: 30\n"
          ],
          "name": "stdout"
        },
        {
          "output_type": "execute_result",
          "data": {
            "text/plain": [
              "30"
            ]
          },
          "metadata": {
            "tags": []
          },
          "execution_count": 36
        }
      ]
    },
    {
      "cell_type": "markdown",
      "metadata": {
        "id": "wecVy1c88KFb",
        "colab_type": "text"
      },
      "source": [
        "### Modifying behavior"
      ]
    },
    {
      "cell_type": "markdown",
      "metadata": {
        "id": "ygF791Mx8KFe",
        "colab_type": "text"
      },
      "source": [
        "[Jump_to lesson 10 video](https://course.fast.ai/videos/?lesson=10&t=1454)"
      ]
    },
    {
      "cell_type": "code",
      "metadata": {
        "id": "OW9vrVAs8KFf",
        "colab_type": "code",
        "colab": {}
      },
      "source": [
        "def slow_calculation(cb=None):\n",
        "    res = 0\n",
        "    for i in range(5):\n",
        "        if cb and hasattr(cb,'before_calc'): cb.before_calc(i)\n",
        "        res += i*i\n",
        "        sleep(1)\n",
        "        if cb and hasattr(cb,'after_calc'):\n",
        "            if cb.after_calc(i, res):\n",
        "                print(\"stopping early\")\n",
        "                break\n",
        "    return res"
      ],
      "execution_count": 0,
      "outputs": []
    },
    {
      "cell_type": "code",
      "metadata": {
        "id": "KXpBFXPG8KFr",
        "colab_type": "code",
        "colab": {}
      },
      "source": [
        "class PrintAfterCallback():\n",
        "    def after_calc (self, epoch, val):\n",
        "        print(f\"After {epoch}: {val}\")\n",
        "        if val>10: return True"
      ],
      "execution_count": 0,
      "outputs": []
    },
    {
      "cell_type": "code",
      "metadata": {
        "id": "sXtG8UNa8KFx",
        "colab_type": "code",
        "outputId": "4e2ccc50-3591-4b87-d41a-2b56d2a76399",
        "colab": {
          "base_uri": "https://localhost:8080/",
          "height": 125
        }
      },
      "source": [
        "slow_calculation(PrintAfterCallback())"
      ],
      "execution_count": 0,
      "outputs": [
        {
          "output_type": "stream",
          "text": [
            "After 0: 0\n",
            "After 1: 1\n",
            "After 2: 5\n",
            "After 3: 14\n",
            "stopping early\n"
          ],
          "name": "stdout"
        },
        {
          "output_type": "execute_result",
          "data": {
            "text/plain": [
              "14"
            ]
          },
          "metadata": {
            "tags": []
          },
          "execution_count": 39
        }
      ]
    },
    {
      "cell_type": "code",
      "metadata": {
        "id": "Euhuxd8t8KF5",
        "colab_type": "code",
        "colab": {}
      },
      "source": [
        "class SlowCalculator():\n",
        "    def __init__(self, cb=None): self.cb,self.res = cb,0\n",
        "    \n",
        "    def callback(self, cb_name, *args):\n",
        "        if not self.cb: return\n",
        "        cb = getattr(self.cb,cb_name, None)\n",
        "        if cb: return cb(self, *args)\n",
        "\n",
        "    def calc(self):\n",
        "        for i in range(5):\n",
        "            self.callback('before_calc', i)\n",
        "            self.res += i*i\n",
        "            sleep(1)\n",
        "            if self.callback('after_calc', i):\n",
        "                print(\"stopping early\")\n",
        "                break"
      ],
      "execution_count": 0,
      "outputs": []
    },
    {
      "cell_type": "code",
      "metadata": {
        "id": "wFegmVdL8KGB",
        "colab_type": "code",
        "colab": {}
      },
      "source": [
        "class ModifyingCallback():\n",
        "    def after_calc (self, calc, epoch):\n",
        "        print(f\"After {epoch}: {calc.res}\")\n",
        "        if calc.res>10: return True\n",
        "        if calc.res<3: calc.res = calc.res*2"
      ],
      "execution_count": 0,
      "outputs": []
    },
    {
      "cell_type": "code",
      "metadata": {
        "id": "rzH8OpJ38KGF",
        "colab_type": "code",
        "colab": {}
      },
      "source": [
        "calculator = SlowCalculator(ModifyingCallback())"
      ],
      "execution_count": 0,
      "outputs": []
    },
    {
      "cell_type": "code",
      "metadata": {
        "id": "w6YRgYvX8KGJ",
        "colab_type": "code",
        "outputId": "8578a07c-ea53-4514-8473-052af5a22368",
        "colab": {
          "base_uri": "https://localhost:8080/",
          "height": 125
        }
      },
      "source": [
        "calculator.calc()\n",
        "calculator.res"
      ],
      "execution_count": 0,
      "outputs": [
        {
          "output_type": "stream",
          "text": [
            "After 0: 0\n",
            "After 1: 1\n",
            "After 2: 6\n",
            "After 3: 15\n",
            "stopping early\n"
          ],
          "name": "stdout"
        },
        {
          "output_type": "execute_result",
          "data": {
            "text/plain": [
              "15"
            ]
          },
          "metadata": {
            "tags": []
          },
          "execution_count": 43
        }
      ]
    },
    {
      "cell_type": "markdown",
      "metadata": {
        "id": "8Hr8NzVT8KGX",
        "colab_type": "text"
      },
      "source": [
        "## `__dunder__` thingies"
      ]
    },
    {
      "cell_type": "markdown",
      "metadata": {
        "id": "h4Jpz4yX8KGc",
        "colab_type": "text"
      },
      "source": [
        "Anything that looks like `__this__` is, in some way, *special*. Python, or some library, can define some functions that they will call at certain documented times. For instance, when your class is setting up a new object, python will call `__init__`. These are defined as part of the python [data model](https://docs.python.org/3/reference/datamodel.html#object.__init__).\n",
        "\n",
        "For instance, if python sees `+`, then it will call the special method `__add__`. If you try to display an object in Jupyter (or lots of other places in Python) it will call `__repr__`."
      ]
    },
    {
      "cell_type": "markdown",
      "metadata": {
        "id": "uCWFwHcQ8KGd",
        "colab_type": "text"
      },
      "source": [
        "[Jump_to lesson 10 video](https://course.fast.ai/videos/?lesson=10&t=1647)"
      ]
    },
    {
      "cell_type": "code",
      "metadata": {
        "id": "Gz2vV4fv8KGe",
        "colab_type": "code",
        "colab": {}
      },
      "source": [
        "class SloppyAdder():\n",
        "    def __init__(self,o): self.o=o\n",
        "    def __add__(self,b): return SloppyAdder(self.o + b.o + 0.01)\n",
        "    def __repr__(self): return str(self.o)"
      ],
      "execution_count": 0,
      "outputs": []
    },
    {
      "cell_type": "code",
      "metadata": {
        "id": "TU7mjYKJ8KGj",
        "colab_type": "code",
        "outputId": "c0958b7e-d72f-4666-dcaa-cb29a0eed05d",
        "colab": {
          "base_uri": "https://localhost:8080/",
          "height": 35
        }
      },
      "source": [
        "a = SloppyAdder(1)\n",
        "b = SloppyAdder(2)\n",
        "a+b"
      ],
      "execution_count": 0,
      "outputs": [
        {
          "output_type": "execute_result",
          "data": {
            "text/plain": [
              "3.01"
            ]
          },
          "metadata": {
            "tags": []
          },
          "execution_count": 45
        }
      ]
    },
    {
      "cell_type": "markdown",
      "metadata": {
        "id": "AC1gel338KGq",
        "colab_type": "text"
      },
      "source": [
        "Special methods you should probably know about (see data model link above) are:\n",
        "\n",
        "- `__getitem__`\n",
        "- `__getattr__`\n",
        "- `__setattr__`\n",
        "- `__del__`\n",
        "- `__init__`\n",
        "- `__new__`\n",
        "- `__enter__`\n",
        "- `__exit__`\n",
        "- `__len__`\n",
        "- `__repr__`\n",
        "- `__str__`"
      ]
    },
    {
      "cell_type": "markdown",
      "metadata": {
        "id": "IA-1p-o48KGs",
        "colab_type": "text"
      },
      "source": [
        "## Variance and stuff"
      ]
    },
    {
      "cell_type": "markdown",
      "metadata": {
        "id": "ii5i88tL8KGu",
        "colab_type": "text"
      },
      "source": [
        "### Variance"
      ]
    },
    {
      "cell_type": "markdown",
      "metadata": {
        "id": "V-3WLH2q8KGv",
        "colab_type": "text"
      },
      "source": [
        "Variance is the average of how far away each data point is from the mean. E.g.:"
      ]
    },
    {
      "cell_type": "markdown",
      "metadata": {
        "id": "Hr9dmaV68KGw",
        "colab_type": "text"
      },
      "source": [
        "[Jump_to lesson 10 video](https://course.fast.ai/videos/?lesson=10&t=2133)"
      ]
    },
    {
      "cell_type": "code",
      "metadata": {
        "id": "o8-zx1Mo8KGx",
        "colab_type": "code",
        "colab": {}
      },
      "source": [
        "t = torch.tensor([1.,2.,4.,18])"
      ],
      "execution_count": 0,
      "outputs": []
    },
    {
      "cell_type": "code",
      "metadata": {
        "id": "LnDHZu208KG_",
        "colab_type": "code",
        "outputId": "f8289b4c-b4de-4a55-8c1e-fecce93feed2",
        "colab": {
          "base_uri": "https://localhost:8080/",
          "height": 35
        }
      },
      "source": [
        "m = t.mean(); m"
      ],
      "execution_count": 0,
      "outputs": [
        {
          "output_type": "execute_result",
          "data": {
            "text/plain": [
              "tensor(6.2500)"
            ]
          },
          "metadata": {
            "tags": []
          },
          "execution_count": 47
        }
      ]
    },
    {
      "cell_type": "code",
      "metadata": {
        "id": "HO0lWFA48KHC",
        "colab_type": "code",
        "outputId": "7fcf9abe-e6c4-4f94-e277-2a4fba9e3367",
        "colab": {
          "base_uri": "https://localhost:8080/",
          "height": 35
        }
      },
      "source": [
        "(t-m).mean()"
      ],
      "execution_count": 0,
      "outputs": [
        {
          "output_type": "execute_result",
          "data": {
            "text/plain": [
              "tensor(0.)"
            ]
          },
          "metadata": {
            "tags": []
          },
          "execution_count": 48
        }
      ]
    },
    {
      "cell_type": "markdown",
      "metadata": {
        "id": "yOFgF6G78KHG",
        "colab_type": "text"
      },
      "source": [
        "Oops. We can't do that. Because by definition the positives and negatives cancel out. So we can fix that in one of (at least) two ways:"
      ]
    },
    {
      "cell_type": "code",
      "metadata": {
        "id": "tCocdM3o8KHH",
        "colab_type": "code",
        "outputId": "f075d6b2-1f38-488c-a780-aa62eee39aae",
        "colab": {
          "base_uri": "https://localhost:8080/",
          "height": 35
        }
      },
      "source": [
        "(t-m).pow(2).mean()"
      ],
      "execution_count": 0,
      "outputs": [
        {
          "output_type": "execute_result",
          "data": {
            "text/plain": [
              "tensor(47.1875)"
            ]
          },
          "metadata": {
            "tags": []
          },
          "execution_count": 49
        }
      ]
    },
    {
      "cell_type": "code",
      "metadata": {
        "id": "cWgrP3RO8KHM",
        "colab_type": "code",
        "outputId": "efc7fe0f-e436-4730-e28c-73c55c6bc4e1",
        "colab": {
          "base_uri": "https://localhost:8080/",
          "height": 35
        }
      },
      "source": [
        "(t-m).abs().mean()"
      ],
      "execution_count": 0,
      "outputs": [
        {
          "output_type": "execute_result",
          "data": {
            "text/plain": [
              "tensor(5.8750)"
            ]
          },
          "metadata": {
            "tags": []
          },
          "execution_count": 50
        }
      ]
    },
    {
      "cell_type": "markdown",
      "metadata": {
        "id": "mQmmWiO98KHQ",
        "colab_type": "text"
      },
      "source": [
        "But the first of these is now a totally different scale, since we squared. So let's undo that at the end."
      ]
    },
    {
      "cell_type": "code",
      "metadata": {
        "id": "HLnH0fI88KHR",
        "colab_type": "code",
        "outputId": "92159625-1bc6-466b-dd3b-1b2d7a0e9d3c",
        "colab": {
          "base_uri": "https://localhost:8080/",
          "height": 35
        }
      },
      "source": [
        "(t-m).pow(2).mean().sqrt()"
      ],
      "execution_count": 0,
      "outputs": [
        {
          "output_type": "execute_result",
          "data": {
            "text/plain": [
              "tensor(6.8693)"
            ]
          },
          "metadata": {
            "tags": []
          },
          "execution_count": 51
        }
      ]
    },
    {
      "cell_type": "markdown",
      "metadata": {
        "id": "OxcD67OG8KHV",
        "colab_type": "text"
      },
      "source": [
        "They're still different. Why?\n",
        "\n",
        "Note that we have one outlier (`18`). In the version where we square everything, it makes that much bigger than everything else.\n",
        "\n",
        "`(t-m).pow(2).mean()` is refered to as **variance**. It's a measure of how spread out the data is, and is particularly sensitive to outliers.\n",
        "\n",
        "When we take the sqrt of the variance, we get the **standard deviation**. Since it's on the same kind of scale as the original data, it's generally more interpretable. However, since `sqrt(1)==1`, it doesn't much matter which we use when talking about *unit variance* for initializing neural nets.\n",
        "\n",
        "`(t-m).abs().mean()` is referred to as the **mean absolute deviation**. It isn't used nearly as much as it deserves to be, because mathematicians don't like how awkward it is to work with. But that shouldn't stop us, because we have computers and stuff.\n",
        "\n",
        "Here's a useful thing to note about variance:"
      ]
    },
    {
      "cell_type": "code",
      "metadata": {
        "id": "T2C_g8n18KHW",
        "colab_type": "code",
        "outputId": "b1d8967e-109a-4161-997b-bc13bea58937",
        "colab": {
          "base_uri": "https://localhost:8080/",
          "height": 35
        }
      },
      "source": [
        "(t-m).pow(2).mean(), (t*t).mean() - (m*m)"
      ],
      "execution_count": 0,
      "outputs": [
        {
          "output_type": "execute_result",
          "data": {
            "text/plain": [
              "(tensor(47.1875), tensor(47.1875))"
            ]
          },
          "metadata": {
            "tags": []
          },
          "execution_count": 52
        }
      ]
    },
    {
      "cell_type": "markdown",
      "metadata": {
        "id": "1KdSQac88KHa",
        "colab_type": "text"
      },
      "source": [
        "You can see why these are equal if you want to work thru the algebra. Or not.\n",
        "\n",
        "But, what's important here is that the latter is generally much easier to work with. In particular, you only have to track two things: the sum of the data, and the sum of squares of the data. Whereas in the first form you actually have to go thru all the data twice (once to calculate the mean, once to calculate the differences).\n",
        "\n",
        "Let's go steal the LaTeX from [Wikipedia](https://en.wikipedia.org/wiki/Variance):\n",
        "\n",
        "$$\\operatorname{E}\\left[X^2 \\right] - \\operatorname{E}[X]^2$$"
      ]
    },
    {
      "cell_type": "markdown",
      "metadata": {
        "id": "47xCP9ak8KHe",
        "colab_type": "text"
      },
      "source": [
        "### Covariance and correlation"
      ]
    },
    {
      "cell_type": "markdown",
      "metadata": {
        "id": "0zZvY6lY8KHm",
        "colab_type": "text"
      },
      "source": [
        "Here's how Wikipedia defines covariance:\n",
        "\n",
        "$$\\operatorname{cov}(X,Y) = \\operatorname{E}{\\big[(X - \\operatorname{E}[X])(Y - \\operatorname{E}[Y])\\big]}$$"
      ]
    },
    {
      "cell_type": "markdown",
      "metadata": {
        "id": "XMlZUH848KHn",
        "colab_type": "text"
      },
      "source": [
        "[Jump_to lesson 10 video](https://course.fast.ai/videos/?lesson=10&t=2414)"
      ]
    },
    {
      "cell_type": "code",
      "metadata": {
        "id": "JHaAEY-L8KHo",
        "colab_type": "code",
        "outputId": "b1f89003-b3b9-4827-92db-c47c54a14f43",
        "colab": {
          "base_uri": "https://localhost:8080/",
          "height": 35
        }
      },
      "source": [
        "t"
      ],
      "execution_count": 0,
      "outputs": [
        {
          "output_type": "execute_result",
          "data": {
            "text/plain": [
              "tensor([ 1.,  2.,  4., 18.])"
            ]
          },
          "metadata": {
            "tags": []
          },
          "execution_count": 53
        }
      ]
    },
    {
      "cell_type": "markdown",
      "metadata": {
        "id": "lMVn0RfO8KHs",
        "colab_type": "text"
      },
      "source": [
        "Let's see that in code. So now we need two vectors."
      ]
    },
    {
      "cell_type": "code",
      "metadata": {
        "id": "wQXreQO_8KHt",
        "colab_type": "code",
        "outputId": "0651f34f-16d4-450e-e701-073ffb783339",
        "colab": {
          "base_uri": "https://localhost:8080/",
          "height": 269
        }
      },
      "source": [
        "# `u` is twice `t`, plus a bit of randomness\n",
        "u = t*2\n",
        "u *= torch.randn_like(t)/10+0.95\n",
        "\n",
        "plt.scatter(t, u);"
      ],
      "execution_count": 0,
      "outputs": [
        {
          "output_type": "display_data",
          "data": {
            "image/png": "[encoded data removed]",
            "text/plain": [
              "<Figure size 432x288 with 1 Axes>"
            ]
          },
          "metadata": {
            "tags": []
          }
        }
      ]
    },
    {
      "cell_type": "code",
      "metadata": {
        "id": "WadWxpqp8KHx",
        "colab_type": "code",
        "outputId": "60b46a85-27e0-4671-dc30-07e5923668e2",
        "colab": {
          "base_uri": "https://localhost:8080/",
          "height": 35
        }
      },
      "source": [
        "prod = (t-t.mean())*(u-u.mean()); prod"
      ],
      "execution_count": 0,
      "outputs": [
        {
          "output_type": "execute_result",
          "data": {
            "text/plain": [
              "tensor([ 51.4734,  33.3787,   9.2685, 255.8870])"
            ]
          },
          "metadata": {
            "tags": []
          },
          "execution_count": 55
        }
      ]
    },
    {
      "cell_type": "code",
      "metadata": {
        "id": "-xyMjCkB8KH1",
        "colab_type": "code",
        "outputId": "64fc4d35-20ca-4cd4-bd99-314f2efe3be6",
        "colab": {
          "base_uri": "https://localhost:8080/",
          "height": 35
        }
      },
      "source": [
        "prod.mean()"
      ],
      "execution_count": 0,
      "outputs": [
        {
          "output_type": "execute_result",
          "data": {
            "text/plain": [
              "tensor(87.5019)"
            ]
          },
          "metadata": {
            "tags": []
          },
          "execution_count": 56
        }
      ]
    },
    {
      "cell_type": "code",
      "metadata": {
        "id": "t4o5yPKO8KH5",
        "colab_type": "code",
        "outputId": "3052182a-9617-486c-8b0c-81a71706fc23",
        "colab": {
          "base_uri": "https://localhost:8080/",
          "height": 265
        }
      },
      "source": [
        "v = torch.randn_like(t)\n",
        "plt.scatter(t, v);"
      ],
      "execution_count": 0,
      "outputs": [
        {
          "output_type": "display_data",
          "data": {
            "image/png": "[encoded data removed]",
            "text/plain": [
              "<Figure size 432x288 with 1 Axes>"
            ]
          },
          "metadata": {
            "tags": []
          }
        }
      ]
    },
    {
      "cell_type": "code",
      "metadata": {
        "id": "e_76b2YH8KH_",
        "colab_type": "code",
        "outputId": "2367dd80-8b37-490c-c480-11c5d6f67fb0",
        "colab": {
          "base_uri": "https://localhost:8080/",
          "height": 35
        }
      },
      "source": [
        "((t-t.mean())*(v-v.mean())).mean()"
      ],
      "execution_count": 0,
      "outputs": [
        {
          "output_type": "execute_result",
          "data": {
            "text/plain": [
              "tensor(-3.5397)"
            ]
          },
          "metadata": {
            "tags": []
          },
          "execution_count": 58
        }
      ]
    },
    {
      "cell_type": "markdown",
      "metadata": {
        "id": "iPAlaccP8KIJ",
        "colab_type": "text"
      },
      "source": [
        "It's generally more conveniently defined like so:\n",
        "\n",
        "$$\\operatorname{E}\\left[X Y\\right] - \\operatorname{E}\\left[X\\right] \\operatorname{E}\\left[Y\\right]$$"
      ]
    },
    {
      "cell_type": "code",
      "metadata": {
        "id": "i0ZTv7ui8KIK",
        "colab_type": "code",
        "outputId": "466e266f-57b3-4a71-95da-4e9a594d0e91",
        "colab": {
          "base_uri": "https://localhost:8080/",
          "height": 35
        }
      },
      "source": [
        "cov = (t*v).mean() - t.mean()*v.mean(); cov"
      ],
      "execution_count": 0,
      "outputs": [
        {
          "output_type": "execute_result",
          "data": {
            "text/plain": [
              "tensor(-3.5397)"
            ]
          },
          "metadata": {
            "tags": []
          },
          "execution_count": 59
        }
      ]
    },
    {
      "cell_type": "markdown",
      "metadata": {
        "id": "Jn43eWSN8KIO",
        "colab_type": "text"
      },
      "source": [
        "From now on, you're not allowed to look at an equation (or especially type it in LaTeX) without also typing it in Python and actually calculating some values. Ideally, you should also plot some values.\n",
        "\n",
        "Finally, here is the Pearson correlation coefficient:\n",
        "\n",
        "$$\\rho_{X,Y}= \\frac{\\operatorname{cov}(X,Y)}{\\sigma_X \\sigma_Y}$$"
      ]
    },
    {
      "cell_type": "code",
      "metadata": {
        "id": "cdP_NDIA8KIP",
        "colab_type": "code",
        "outputId": "42924012-c2e1-4022-9c9d-7c7c9cbd3815",
        "colab": {
          "base_uri": "https://localhost:8080/",
          "height": 35
        }
      },
      "source": [
        "cov / (t.std() * v.std())"
      ],
      "execution_count": 0,
      "outputs": [
        {
          "output_type": "execute_result",
          "data": {
            "text/plain": [
              "tensor(-0.3640)"
            ]
          },
          "metadata": {
            "tags": []
          },
          "execution_count": 60
        }
      ]
    },
    {
      "cell_type": "markdown",
      "metadata": {
        "id": "DCZLiC9N8KIU",
        "colab_type": "text"
      },
      "source": [
        "It's just a scaled version of the same thing. Question: *Why is it scaled by standard deviation, and not by variance or mean or something else?*"
      ]
    },
    {
      "cell_type": "markdown",
      "metadata": {
        "id": "ubwy16qL8KIW",
        "colab_type": "text"
      },
      "source": [
        "## Softmax"
      ]
    },
    {
      "cell_type": "markdown",
      "metadata": {
        "id": "W6LH3ggP8KIX",
        "colab_type": "text"
      },
      "source": [
        "Here's our final `logsoftmax` definition:"
      ]
    },
    {
      "cell_type": "markdown",
      "metadata": {
        "id": "9EkUfTx58KIY",
        "colab_type": "text"
      },
      "source": [
        "[Jump_to lesson 10 video](https://course.fast.ai/videos/?lesson=10&t=2674)"
      ]
    },
    {
      "cell_type": "code",
      "metadata": {
        "id": "sgIDrLsi8KIZ",
        "colab_type": "code",
        "colab": {}
      },
      "source": [
        "def log_softmax(x): return x - x.exp().sum(-1,keepdim=True).log()"
      ],
      "execution_count": 0,
      "outputs": []
    },
    {
      "cell_type": "markdown",
      "metadata": {
        "id": "1TIMMRnh8KId",
        "colab_type": "text"
      },
      "source": [
        "which is:\n",
        "\n",
        "$$\\hbox{logsoftmax(x)}_{i} = x_{i} - \\log \\sum_{j} e^{x_{j}}$$ \n",
        "\n",
        "And our cross entropy loss is:\n",
        "$$-\\log(p_{i})$$"
      ]
    },
    {
      "cell_type": "markdown",
      "metadata": {
        "id": "tMALzRc98KIe",
        "colab_type": "text"
      },
      "source": [
        "## Browsing source code"
      ]
    },
    {
      "cell_type": "markdown",
      "metadata": {
        "id": "nSKtpno78KIg",
        "colab_type": "text"
      },
      "source": [
        "[Jump_to lesson 10 video](https://course.fast.ai/videos/?lesson=10&t=1782)"
      ]
    },
    {
      "cell_type": "markdown",
      "metadata": {
        "id": "fsNlHHbn8KIj",
        "colab_type": "text"
      },
      "source": [
        "- Jump to tag/symbol by with (with completions)\n",
        "- Jump to current tag\n",
        "- Jump to library tags\n",
        "- Go back\n",
        "- Search\n",
        "- Outlining / folding"
      ]
    },
    {
      "cell_type": "markdown",
      "metadata": {
        "id": "qRJdVRgiFQTx",
        "colab_type": "text"
      },
      "source": [
        "#  early_stopping"
      ]
    },
    {
      "cell_type": "code",
      "metadata": {
        "id": "hPs9ijQnFXRl",
        "colab_type": "code",
        "colab": {}
      },
      "source": [
        "#export\n",
        "from exp.nb_05 import *"
      ],
      "execution_count": 0,
      "outputs": []
    },
    {
      "cell_type": "markdown",
      "metadata": {
        "id": "SPCSJVNsIYf6",
        "colab_type": "text"
      },
      "source": [
        "## Early stopping\n",
        "\n",
        "### Better callback cancellation"
      ]
    },
    {
      "cell_type": "code",
      "metadata": {
        "id": "OmbP4iPQFYC3",
        "colab_type": "code",
        "colab": {}
      },
      "source": [
        "x_train,y_train,x_valid,y_valid = get_data()\n",
        "train_ds,valid_ds = Dataset(x_train, y_train),Dataset(x_valid, y_valid)\n",
        "nh,bs = 50,512\n",
        "c = y_train.max().item()+1\n",
        "loss_func = F.cross_entropy\n",
        "\n",
        "data = DataBunch(*get_dls(train_ds, valid_ds, bs), c)"
      ],
      "execution_count": 0,
      "outputs": []
    },
    {
      "cell_type": "code",
      "metadata": {
        "id": "a8uwc00OFX90",
        "colab_type": "code",
        "colab": {}
      },
      "source": [
        "#export\n",
        "class Callback():\n",
        "    _order=0\n",
        "    def set_runner(self, run): self.run=run\n",
        "    def __getattr__(self, k): return getattr(self.run, k)\n",
        "    \n",
        "    @property\n",
        "    def name(self):\n",
        "        name = re.sub(r'Callback$', '', self.__class__.__name__)\n",
        "        return camel2snake(name or 'callback')\n",
        "    \n",
        "    def __call__(self, cb_name):\n",
        "        f = getattr(self, cb_name, None)\n",
        "        if f and f(): return True\n",
        "        return False\n",
        "\n",
        "class TrainEvalCallback(Callback):\n",
        "    def begin_fit(self):\n",
        "        self.run.n_epochs=0.\n",
        "        self.run.n_iter=0\n",
        "    \n",
        "    def after_batch(self):\n",
        "        if not self.in_train: return\n",
        "        self.run.n_epochs += 1./self.iters\n",
        "        self.run.n_iter   += 1\n",
        "        \n",
        "    def begin_epoch(self):\n",
        "        self.run.n_epochs=self.epoch\n",
        "        self.model.train()\n",
        "        self.run.in_train=True\n",
        "\n",
        "    def begin_validate(self):\n",
        "        self.model.eval()\n",
        "        self.run.in_train=False\n",
        "\n",
        "class CancelTrainException(Exception): pass\n",
        "class CancelEpochException(Exception): pass\n",
        "class CancelBatchException(Exception): pass"
      ],
      "execution_count": 0,
      "outputs": []
    },
    {
      "cell_type": "code",
      "metadata": {
        "id": "7bBPAVMPFX4O",
        "colab_type": "code",
        "colab": {}
      },
      "source": [
        "#export\n",
        "class Runner():\n",
        "    def __init__(self, cbs=None, cb_funcs=None):\n",
        "        cbs = listify(cbs)\n",
        "        for cbf in listify(cb_funcs):\n",
        "            cb = cbf()\n",
        "            setattr(self, cb.name, cb)\n",
        "            cbs.append(cb)\n",
        "        self.stop,self.cbs = False,[TrainEvalCallback()]+cbs\n",
        "\n",
        "    @property\n",
        "    def opt(self):       return self.learn.opt\n",
        "    @property\n",
        "    def model(self):     return self.learn.model\n",
        "    @property\n",
        "    def loss_func(self): return self.learn.loss_func\n",
        "    @property\n",
        "    def data(self):      return self.learn.data\n",
        "\n",
        "    def one_batch(self, xb, yb):\n",
        "        try:\n",
        "            self.xb,self.yb = xb,yb\n",
        "            self('begin_batch')\n",
        "            self.pred = self.model(self.xb)\n",
        "            self('after_pred')\n",
        "            self.loss = self.loss_func(self.pred, self.yb)\n",
        "            self('after_loss')\n",
        "            if not self.in_train: return\n",
        "            self.loss.backward()\n",
        "            self('after_backward')\n",
        "            self.opt.step()\n",
        "            self('after_step')\n",
        "            self.opt.zero_grad()\n",
        "        except CancelBatchException: self('after_cancel_batch')\n",
        "        finally: self('after_batch')\n",
        "\n",
        "    def all_batches(self, dl):\n",
        "        self.iters = len(dl)\n",
        "        try:\n",
        "            for xb,yb in dl: self.one_batch(xb, yb)\n",
        "        except CancelEpochException: self('after_cancel_epoch')\n",
        "\n",
        "    def fit(self, epochs, learn):\n",
        "        self.epochs,self.learn,self.loss = epochs,learn,tensor(0.)\n",
        "\n",
        "        try:\n",
        "            for cb in self.cbs: cb.set_runner(self)\n",
        "            self('begin_fit')\n",
        "            for epoch in range(epochs):\n",
        "                self.epoch = epoch\n",
        "                if not self('begin_epoch'): self.all_batches(self.data.train_dl)\n",
        "\n",
        "                with torch.no_grad(): \n",
        "                    if not self('begin_validate'): self.all_batches(self.data.valid_dl)\n",
        "                self('after_epoch')\n",
        "            \n",
        "        except CancelTrainException: self('after_cancel_train')\n",
        "        finally:\n",
        "            self('after_fit')\n",
        "            self.learn = None\n",
        "\n",
        "    def __call__(self, cb_name):\n",
        "        res = False\n",
        "        for cb in sorted(self.cbs, key=lambda x: x._order): res = cb(cb_name) or res\n",
        "        return res"
      ],
      "execution_count": 0,
      "outputs": []
    },
    {
      "cell_type": "code",
      "metadata": {
        "id": "1qFbzjmyFXn-",
        "colab_type": "code",
        "colab": {
          "base_uri": "https://localhost:8080/",
          "height": 215
        },
        "outputId": "d25f5398-1dc9-4445-9845-753a52ef8c41"
      },
      "source": [
        "learn = create_learner(get_model, loss_func, data)\n",
        "\n",
        "class TestCallback(Callback):\n",
        "    _order=1\n",
        "    def after_step(self):\n",
        "        print(self.n_iter)\n",
        "        if self.n_iter>=10: raise CancelTrainException()\n",
        "\n",
        "run = Runner(cb_funcs=TestCallback)\n",
        "\n",
        "run.fit(3, learn)"
      ],
      "execution_count": 22,
      "outputs": [
        {
          "output_type": "stream",
          "text": [
            "0\n",
            "1\n",
            "2\n",
            "3\n",
            "4\n",
            "5\n",
            "6\n",
            "7\n",
            "8\n",
            "9\n",
            "10\n"
          ],
          "name": "stdout"
        }
      ]
    },
    {
      "cell_type": "markdown",
      "metadata": {
        "id": "klwsmmXPI0s7",
        "colab_type": "text"
      },
      "source": [
        "## Other callbacks"
      ]
    },
    {
      "cell_type": "code",
      "metadata": {
        "id": "UPcaoI1_FXf6",
        "colab_type": "code",
        "colab": {}
      },
      "source": [
        "#export\n",
        "class AvgStatsCallback(Callback):\n",
        "    def __init__(self, metrics):\n",
        "        self.train_stats,self.valid_stats = AvgStats(metrics,True),AvgStats(metrics,False)\n",
        "        \n",
        "    def begin_epoch(self):\n",
        "        self.train_stats.reset()\n",
        "        self.valid_stats.reset()\n",
        "        \n",
        "    def after_loss(self):\n",
        "        stats = self.train_stats if self.in_train else self.valid_stats\n",
        "        with torch.no_grad(): stats.accumulate(self.run)\n",
        "    \n",
        "    def after_epoch(self):\n",
        "        print(self.train_stats)\n",
        "        print(self.valid_stats)\n",
        "        \n",
        "class Recorder(Callback):\n",
        "    def begin_fit(self):\n",
        "        self.lrs = [[] for _ in self.opt.param_groups]\n",
        "        self.losses = []\n",
        "\n",
        "    def after_batch(self):\n",
        "        if not self.in_train: return\n",
        "        for pg,lr in zip(self.opt.param_groups,self.lrs): lr.append(pg['lr'])\n",
        "        self.losses.append(self.loss.detach().cpu())        \n",
        "\n",
        "    def plot_lr  (self, pgid=-1): plt.plot(self.lrs[pgid])\n",
        "    def plot_loss(self, skip_last=0): plt.plot(self.losses[:len(self.losses)-skip_last])\n",
        "        \n",
        "    def plot(self, skip_last=0, pgid=-1):\n",
        "        losses = [o.item() for o in self.losses]\n",
        "        lrs    = self.lrs[pgid]\n",
        "        n = len(losses)-skip_last\n",
        "        plt.xscale('log')\n",
        "        plt.plot(lrs[:n], losses[:n])\n",
        "\n",
        "class ParamScheduler(Callback):\n",
        "    _order=1\n",
        "    def __init__(self, pname, sched_funcs): self.pname,self.sched_funcs = pname,sched_funcs\n",
        "        \n",
        "    def begin_fit(self):\n",
        "        if not isinstance(self.sched_funcs, (list,tuple)):\n",
        "            self.sched_funcs = [self.sched_funcs] * len(self.opt.param_groups)\n",
        "\n",
        "    def set_param(self):\n",
        "        assert len(self.opt.param_groups)==len(self.sched_funcs)\n",
        "        for pg,f in zip(self.opt.param_groups,self.sched_funcs):\n",
        "            pg[self.pname] = f(self.n_epochs/self.epochs)\n",
        "            \n",
        "    def begin_batch(self): \n",
        "        if self.in_train: self.set_param()"
      ],
      "execution_count": 0,
      "outputs": []
    },
    {
      "cell_type": "markdown",
      "metadata": {
        "id": "ktpn2VTWI8uK",
        "colab_type": "text"
      },
      "source": [
        "## LR Finder\n",
        "\n",
        "NB: You may want to also add something that saves the model before running this, and loads it back after running - otherwise you'll lose your weights!"
      ]
    },
    {
      "cell_type": "code",
      "metadata": {
        "id": "YhupoGHyI5qS",
        "colab_type": "code",
        "colab": {}
      },
      "source": [
        "class LR_Find(Callback):\n",
        "    _order=1\n",
        "    def __init__(self, max_iter=100, min_lr=1e-6, max_lr=10):\n",
        "        self.max_iter,self.min_lr,self.max_lr = max_iter,min_lr,max_lr\n",
        "        self.best_loss = 1e9\n",
        "        \n",
        "    def begin_batch(self): \n",
        "        if not self.in_train: return\n",
        "        pos = self.n_iter/self.max_iter\n",
        "        lr = self.min_lr * (self.max_lr/self.min_lr) ** pos\n",
        "        for pg in self.opt.param_groups: pg['lr'] = lr\n",
        "            \n",
        "    def after_step(self):\n",
        "        if self.n_iter>=self.max_iter or self.loss>self.best_loss*10:\n",
        "            raise CancelTrainException()\n",
        "        if self.loss < self.best_loss: self.best_loss = self.loss"
      ],
      "execution_count": 0,
      "outputs": []
    },
    {
      "cell_type": "markdown",
      "metadata": {
        "id": "5mE98ASoJG9Y",
        "colab_type": "text"
      },
      "source": [
        "NB: In fastai we also use exponential smoothing on the loss. For that reason we check for best_loss*3 instead of best_loss x 10."
      ]
    },
    {
      "cell_type": "code",
      "metadata": {
        "id": "_rAr7rxmI5lO",
        "colab_type": "code",
        "colab": {}
      },
      "source": [
        "learn = create_learner(get_model, loss_func, data)\n",
        "\n",
        "run = Runner(cb_funcs=[LR_Find, Recorder])\n",
        "\n",
        "run.fit(2, learn)"
      ],
      "execution_count": 0,
      "outputs": []
    },
    {
      "cell_type": "code",
      "metadata": {
        "id": "n16ekaM4I5e9",
        "colab_type": "code",
        "colab": {
          "base_uri": "https://localhost:8080/",
          "height": 269
        },
        "outputId": "aa8eb8ca-edaf-400f-949d-aa144ccad48c"
      },
      "source": [
        "run.recorder.plot(skip_last=5)"
      ],
      "execution_count": 26,
      "outputs": [
        {
          "output_type": "display_data",
          "data": {
            "image/png": "[encoded data removed]",
            "text/plain": [
              "<Figure size 432x288 with 1 Axes>"
            ]
          },
          "metadata": {
            "tags": []
          }
        }
      ]
    },
    {
      "cell_type": "code",
      "metadata": {
        "id": "Xn9AcB1fS4w_",
        "colab_type": "code",
        "colab": {
          "base_uri": "https://localhost:8080/",
          "height": 269
        },
        "outputId": "8067b98a-d8ed-40f7-f136-8af49ef3c15f"
      },
      "source": [
        "run.recorder.plot(skip_last=4)"
      ],
      "execution_count": 29,
      "outputs": [
        {
          "output_type": "display_data",
          "data": {
            "image/png": "[encoded data removed]",
            "text/plain": [
              "<Figure size 432x288 with 1 Axes>"
            ]
          },
          "metadata": {
            "tags": []
          }
        }
      ]
    },
    {
      "cell_type": "code",
      "metadata": {
        "id": "1fokV1-kTLey",
        "colab_type": "code",
        "colab": {
          "base_uri": "https://localhost:8080/",
          "height": 269
        },
        "outputId": "a6a2454f-6b81-4c2d-db96-bf89bdf5ae2c"
      },
      "source": [
        "run.recorder.plot(skip_last=3)"
      ],
      "execution_count": 30,
      "outputs": [
        {
          "output_type": "display_data",
          "data": {
            "image/png": "[encoded data removed]",
            "text/plain": [
              "<Figure size 432x288 with 1 Axes>"
            ]
          },
          "metadata": {
            "tags": []
          }
        }
      ]
    },
    {
      "cell_type": "code",
      "metadata": {
        "id": "KCbIMtglTREq",
        "colab_type": "code",
        "colab": {
          "base_uri": "https://localhost:8080/",
          "height": 269
        },
        "outputId": "9d238ab9-b451-4304-a5f5-5862c6f82c83"
      },
      "source": [
        "run.recorder.plot(skip_last=2)"
      ],
      "execution_count": 31,
      "outputs": [
        {
          "output_type": "display_data",
          "data": {
            "image/png": "[encoded data removed]",
            "text/plain": [
              "<Figure size 432x288 with 1 Axes>"
            ]
          },
          "metadata": {
            "tags": []
          }
        }
      ]
    },
    {
      "cell_type": "code",
      "metadata": {
        "id": "jxrcndvdJbs9",
        "colab_type": "code",
        "colab": {
          "base_uri": "https://localhost:8080/",
          "height": 265
        },
        "outputId": "322c789c-e5a9-439a-8ec5-34be59281b1c"
      },
      "source": [
        "run.recorder.plot_lr()"
      ],
      "execution_count": 27,
      "outputs": [
        {
          "output_type": "display_data",
          "data": {
            "image/png": "[encoded data removed]",
            "text/plain": [
              "<Figure size 432x288 with 1 Axes>"
            ]
          },
          "metadata": {
            "tags": []
          }
        }
      ]
    },
    {
      "cell_type": "markdown",
      "metadata": {
        "id": "Qc3TfOD4Jhco",
        "colab_type": "text"
      },
      "source": [
        "## Export"
      ]
    },
    {
      "cell_type": "code",
      "metadata": {
        "id": "vVjqkpAqJcC_",
        "colab_type": "code",
        "colab": {}
      },
      "source": [
        "#!python notebook2script.py 05b_early_stopping.ipynb"
      ],
      "execution_count": 0,
      "outputs": []
    }
  ]
}