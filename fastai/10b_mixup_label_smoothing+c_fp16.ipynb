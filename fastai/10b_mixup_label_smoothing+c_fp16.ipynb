{
  "nbformat": 4,
  "nbformat_minor": 0,
  "metadata": {
    "kernelspec": {
      "name": "python3",
      "display_name": "Python 3"
    },
    "colab": {
      "name": "10b_mixup_label_smoothing+c_fp16.ipynb",
      "provenance": [],
      "collapsed_sections": [],
      "include_colab_link": true
    },
    "accelerator": "GPU"
  },
  "cells": [
    {
      "cell_type": "markdown",
      "metadata": {
        "id": "view-in-github",
        "colab_type": "text"
      },
      "source": [
        "<a href=\"https://colab.research.google.com/github/Rosefinch-Midsummer/Awesome-Colab/blob/master/fastai/10b_mixup_label_smoothing%2Bc_fp16.ipynb\" target=\"_parent\"><img src=\"https://colab.research.google.com/assets/colab-badge.svg\" alt=\"Open In Colab\"/></a>"
      ]
    },
    {
      "cell_type": "code",
      "metadata": {
        "id": "WW7-fzTjstbJ",
        "colab_type": "code",
        "colab": {}
      },
      "source": [
        "%load_ext autoreload\n",
        "%autoreload 2\n",
        "\n",
        "%matplotlib inline"
      ],
      "execution_count": 0,
      "outputs": []
    },
    {
      "cell_type": "code",
      "metadata": {
        "id": "FKOYKJUItIIs",
        "colab_type": "code",
        "colab": {
          "base_uri": "https://localhost:8080/",
          "height": 35
        },
        "outputId": "831f3b2a-38a4-4366-9236-ea6a82a4ba0d"
      },
      "source": [
        "!git clone https://github.com/fastai/course-v3"
      ],
      "execution_count": 2,
      "outputs": [
        {
          "output_type": "stream",
          "text": [
            "fatal: destination path 'course-v3' already exists and is not an empty directory.\n"
          ],
          "name": "stdout"
        }
      ]
    },
    {
      "cell_type": "code",
      "metadata": {
        "id": "AmS5PoyDtIcs",
        "colab_type": "code",
        "colab": {
          "base_uri": "https://localhost:8080/",
          "height": 35
        },
        "outputId": "bf6081dc-044c-4227-cf39-5b8f223d2655"
      },
      "source": [
        "cd course-v3/nbs/dl2"
      ],
      "execution_count": 3,
      "outputs": [
        {
          "output_type": "stream",
          "text": [
            "/content/course-v3/nbs/dl2\n"
          ],
          "name": "stdout"
        }
      ]
    },
    {
      "cell_type": "markdown",
      "metadata": {
        "id": "F_NOcPeothaz",
        "colab_type": "text"
      },
      "source": [
        "# Mixup / Label smoothing"
      ]
    },
    {
      "cell_type": "code",
      "metadata": {
        "id": "7-AXhbMmtlx3",
        "colab_type": "code",
        "colab": {}
      },
      "source": [
        "#export\n",
        "from exp.nb_10 import *\n",
        "path = datasets.untar_data(datasets.URLs.IMAGENETTE_160)\n",
        "\n",
        "tfms = [make_rgb, ResizeFixed(128), to_byte_tensor, to_float_tensor]\n",
        "bs = 64\n",
        "\n",
        "il = ImageList.from_files(path, tfms=tfms)\n",
        "sd = SplitData.split_by_func(il, partial(grandparent_splitter, valid_name='val'))\n",
        "ll = label_by_func(sd, parent_labeler, proc_y=CategoryProcessor())\n",
        "data = ll.to_databunch(bs, c_in=3, c_out=10, num_workers=4)"
      ],
      "execution_count": 0,
      "outputs": []
    },
    {
      "cell_type": "markdown",
      "metadata": {
        "id": "DQbl0rLLwvYF",
        "colab_type": "text"
      },
      "source": [
        "## Mixup\n",
        "\n",
        "What is mixup?\n",
        "\n",
        "As the name kind of suggests, the authors of the [mixup article ](https://arxiv.org/abs/1710.09412)propose to train the model on a mix of the pictures of the training set. Let's say we're on CIFAR10 for instance, then instead of feeding the model the raw images, we take two (which could be in the same class or not) and do a linear combination of them: in terms of tensor it's\n",
        "\n",
        "new_image = t * image1 + (1-t) * image2\n",
        "where t is a float between 0 and 1. Then the target we assign to that image is the same combination of the original targets:\n",
        "\n",
        "new_target = t * target1 + (1-t) * target2\n",
        "assuming your targets are one-hot encoded (which isn't the case in pytorch usually). And that's as simple as this."
      ]
    },
    {
      "cell_type": "code",
      "metadata": {
        "id": "s4_cAw61tmKj",
        "colab_type": "code",
        "colab": {
          "base_uri": "https://localhost:8080/",
          "height": 177
        },
        "outputId": "5d49a37c-cd08-4c75-b361-0762aa15de96"
      },
      "source": [
        "img1 = PIL.Image.open(ll.train.x.items[0])\n",
        "img1"
      ],
      "execution_count": 5,
      "outputs": [
        {
          "output_type": "execute_result",
          "data": {
            "image/png": "[encoded data removed]",
            "text/plain": [
              "<PIL.JpegImagePlugin.JpegImageFile image mode=RGB size=213x160 at 0x7F8E4E499240>"
            ]
          },
          "metadata": {
            "tags": []
          },
          "execution_count": 5
        }
      ]
    },
    {
      "cell_type": "code",
      "metadata": {
        "id": "F-SUlMpotmF9",
        "colab_type": "code",
        "colab": {
          "base_uri": "https://localhost:8080/",
          "height": 195
        },
        "outputId": "ed82a9c6-8627-4338-a287-8121dcce32d1"
      },
      "source": [
        "img2 = PIL.Image.open(ll.train.x.items[4000])\n",
        "img2"
      ],
      "execution_count": 6,
      "outputs": [
        {
          "output_type": "execute_result",
          "data": {
            "image/png": "[encoded data removed]",
            "text/plain": [
              "<PIL.JpegImagePlugin.JpegImageFile image mode=RGB size=160x178 at 0x7F8DDF1CAEB8>"
            ]
          },
          "metadata": {
            "tags": []
          },
          "execution_count": 6
        }
      ]
    },
    {
      "cell_type": "code",
      "metadata": {
        "id": "5aCIVFMYtlsf",
        "colab_type": "code",
        "colab": {
          "base_uri": "https://localhost:8080/",
          "height": 268
        },
        "outputId": "a7de71a9-14f5-46b4-afe5-31c4867d34df"
      },
      "source": [
        "mixed_up = ll.train.x[0] * 0.3 + ll.train.x[4000] * 0.7\n",
        "plt.imshow(mixed_up.permute(1,2,0));"
      ],
      "execution_count": 7,
      "outputs": [
        {
          "output_type": "display_data",
          "data": {
            "image/png": "[encoded data removed]",
            "text/plain": [
              "<Figure size 432x288 with 1 Axes>"
            ]
          },
          "metadata": {
            "tags": []
          }
        }
      ]
    },
    {
      "cell_type": "markdown",
      "metadata": {
        "id": "pFhL_5RVyNgS",
        "colab_type": "text"
      },
      "source": [
        "## Implementation\n",
        "\n",
        "The implementation relies on something called the beta distribution which in turns uses something which Jeremy still finds mildly terrifying called the gamma function. To get over his fears, Jeremy reminds himself that gamma is just a factorial function that (kinda) interpolates nice and smoothly to non-integers too. How it does that exactly isn't important..."
      ]
    },
    {
      "cell_type": "code",
      "metadata": {
        "id": "RaULMpN8tllv",
        "colab_type": "code",
        "colab": {}
      },
      "source": [
        "# PyTorch has a log-gamma but not a gamma, so we'll create one\n",
        "Γ = lambda x: x.lgamma().exp()\n",
        "\n"
      ],
      "execution_count": 0,
      "outputs": []
    },
    {
      "cell_type": "markdown",
      "metadata": {
        "id": "WNM4wtzwycFh",
        "colab_type": "text"
      },
      "source": [
        "NB: If you see math symbols you don't know you can google them like this: Γ function.\n",
        "\n",
        "If you're not used to typing unicode symbols, on Mac type ctrl-cmd-space to bring up a searchable emoji box. On Linux you can use the compose key. On Windows you can also use a compose key, but you first need to install WinCompose. By default the compose key is the right-hand Alt key.\n",
        "\n",
        "You can search for symbol names in WinCompose. The greek letters are generally compose-\\*-letter (where letter is, for instance, a to get greek α alpha)."
      ]
    },
    {
      "cell_type": "code",
      "metadata": {
        "id": "hcOrFseVydxS",
        "colab_type": "code",
        "colab": {
          "base_uri": "https://localhost:8080/",
          "height": 265
        },
        "outputId": "13b82a1b-2e97-4b21-9e1b-6db957d9a427"
      },
      "source": [
        "facts = [math.factorial(i) for i in range(7)]\n",
        "\n",
        "plt.plot(range(7), facts, 'ro')\n",
        "plt.plot(torch.linspace(0,6), Γ(torch.linspace(0,6)+1))\n",
        "plt.legend(['factorial','Γ']);"
      ],
      "execution_count": 9,
      "outputs": [
        {
          "output_type": "display_data",
          "data": {
            "image/png": "[encoded data removed]",
            "text/plain": [
              "<Figure size 432x288 with 1 Axes>"
            ]
          },
          "metadata": {
            "tags": []
          }
        }
      ]
    },
    {
      "cell_type": "code",
      "metadata": {
        "id": "5_NjI9GAyeUZ",
        "colab_type": "code",
        "colab": {
          "base_uri": "https://localhost:8080/",
          "height": 53
        },
        "outputId": "e479ae64-f85e-4ab0-8e8a-ba78dff588f8"
      },
      "source": [
        "torch.linspace(0,0.9,10)"
      ],
      "execution_count": 10,
      "outputs": [
        {
          "output_type": "execute_result",
          "data": {
            "text/plain": [
              "tensor([0.0000, 0.1000, 0.2000, 0.3000, 0.4000, 0.5000, 0.6000, 0.7000, 0.8000,\n",
              "        0.9000])"
            ]
          },
          "metadata": {
            "tags": []
          },
          "execution_count": 10
        }
      ]
    },
    {
      "cell_type": "markdown",
      "metadata": {
        "id": "068HFBnAyzob",
        "colab_type": "text"
      },
      "source": [
        "In the original article, the authors suggested three things:\n",
        "\n",
        "- 1.Create two separate dataloaders and draw a batch from each at every iteration to mix them up\n",
        "\n",
        "- 2.Draw a t value following a beta distribution with a parameter α (0.4 is suggested in their article)\n",
        "\n",
        "- 3. Mix up the two batches with the same value t.\n",
        "\n",
        "- 4.Use one-hot encoded targets\n",
        "\n",
        "Why the beta distribution with the same parameters α? Well it looks like this:"
      ]
    },
    {
      "cell_type": "code",
      "metadata": {
        "id": "JcX-ZuuqyePf",
        "colab_type": "code",
        "colab": {
          "base_uri": "https://localhost:8080/",
          "height": 281
        },
        "outputId": "5722096d-3c66-490a-ad46-f758b3501d66"
      },
      "source": [
        "_,axs = plt.subplots(1,2, figsize=(12,4))\n",
        "x = torch.linspace(0,1, 100)\n",
        "for α,ax in zip([0.1,0.8], axs):\n",
        "    α = tensor(α)\n",
        "#     y = (x.pow(α-1) * (1-x).pow(α-1)) / (gamma_func(α ** 2) / gamma_func(α))\n",
        "    y = (x**(α-1) * (1-x)**(α-1)) / (Γ(α)**2 / Γ(2*α))\n",
        "    ax.plot(x,y)\n",
        "    ax.set_title(f\"α={α:.1}\")"
      ],
      "execution_count": 11,
      "outputs": [
        {
          "output_type": "display_data",
          "data": {
            "image/png": "[encoded data removed]",
            "text/plain": [
              "<Figure size 864x288 with 2 Axes>"
            ]
          },
          "metadata": {
            "tags": []
          }
        }
      ]
    },
    {
      "cell_type": "markdown",
      "metadata": {
        "id": "f1x9BMWczPVS",
        "colab_type": "text"
      },
      "source": [
        "With a low α, we pick values close to 0. and 1. with a high probability, and the values in the middle all have the same kind of probability. With a greater α, 0. and 1. get a lower probability .\n",
        "\n",
        "While the approach above works very well, it's not the fastest way we can do this. The main point that slows down this process is wanting two different batches at every iteration (which means loading twice the amount of images and applying to them the other data augmentation function). To avoid this slow down, we can be a little smarter and mixup a batch with a shuffled version of itself (this way the images mixed up are still different). This was a trick suggested in the MixUp paper.\n",
        "\n",
        "Then pytorch was very careful to avoid one-hot encoding targets when it could, so it seems a bit of a drag to undo this. Fortunately for us, if the loss is a classic cross-entropy, we have\n",
        "\n",
        "loss(output, new_target) = t * loss(output, target1) + (1-t) * loss(output, target2)\n",
        "so we won't one-hot encode anything and just compute those two losses then do the linear combination.\n",
        "\n",
        "Using the same parameter t for the whole batch also seemed a bit inefficient. In our experiments, we noticed that the model can train faster if we draw a different t for every image in the batch (both options get to the same result in terms of accuracy, it's just that one arrives there more slowly). The last trick we have to apply with this is that there can be some duplicates with this strategy: let's say or shuffle say to mix image0 with image1 then image1 with image0, and that we draw t=0.1 for the first, and t=0.9 for the second. Then\n",
        "\n",
        "image0 * 0.1 + shuffle0 * (1-0.1) = image0 * 0.1 + image1 * 0.9\n",
        "image1 * 0.9 + shuffle1 * (1-0.9) = image1 * 0.9 + image0 * 0.1\n",
        "will be the same. Of course, we have to be a bit unlucky but in practice, we saw there was a drop in accuracy by using this without removing those near-duplicates. To avoid them, the tricks is to replace the vector of parameters we drew by\n",
        "\n",
        "t = max(t, 1-t)\n",
        "The beta distribution with the two parameters equal is symmetric in any case, and this way we insure that the biggest coefficient is always near the first image (the non-shuffled batch).\n",
        "\n",
        "In Mixup we have handle loss functions that have an attribute reduction (like nn.CrossEntropy()). To deal with the reduction=None with various types of loss function without modifying the actual loss function outside of the scope we need to perform those operations with no reduction, we create a context manager:"
      ]
    },
    {
      "cell_type": "code",
      "metadata": {
        "id": "UkdmCY00zKyW",
        "colab_type": "code",
        "colab": {}
      },
      "source": [
        "#export\n",
        "class NoneReduce():\n",
        "    def __init__(self, loss_func): \n",
        "        self.loss_func,self.old_red = loss_func,None\n",
        "        \n",
        "    def __enter__(self):\n",
        "        if hasattr(self.loss_func, 'reduction'):\n",
        "            self.old_red = getattr(self.loss_func, 'reduction')\n",
        "            setattr(self.loss_func, 'reduction', 'none')\n",
        "            return self.loss_func\n",
        "        else: return partial(self.loss_func, reduction='none')\n",
        "        \n",
        "    def __exit__(self, type, value, traceback):\n",
        "        if self.old_red is not None: setattr(self.loss_func, 'reduction', self.old_red)"
      ],
      "execution_count": 0,
      "outputs": []
    },
    {
      "cell_type": "code",
      "metadata": {
        "id": "XtENAHWvzKt7",
        "colab_type": "code",
        "colab": {}
      },
      "source": [
        "#Then we can use it in MixUp:\n",
        "\n",
        "#export\n",
        "from torch.distributions.beta import Beta\n",
        "\n",
        "def unsqueeze(input, dims):\n",
        "    for dim in listify(dims): input = torch.unsqueeze(input, dim)\n",
        "    return input\n",
        "\n",
        "def reduce_loss(loss, reduction='mean'):\n",
        "    return loss.mean() if reduction=='mean' else loss.sum() if reduction=='sum' else loss"
      ],
      "execution_count": 0,
      "outputs": []
    },
    {
      "cell_type": "code",
      "metadata": {
        "id": "wmM8oNUTzKeM",
        "colab_type": "code",
        "colab": {}
      },
      "source": [
        "#export\n",
        "class MixUp(Callback):\n",
        "    _order = 90 #Runs after normalization and cuda\n",
        "    def __init__(self, α:float=0.4): self.distrib = Beta(tensor([α]), tensor([α]))\n",
        "    \n",
        "    def begin_fit(self): self.old_loss_func,self.run.loss_func = self.run.loss_func,self.loss_func\n",
        "    \n",
        "    def begin_batch(self):\n",
        "        if not self.in_train: return #Only mixup things during training\n",
        "        λ = self.distrib.sample((self.yb.size(0),)).squeeze().to(self.xb.device)\n",
        "        λ = torch.stack([λ, 1-λ], 1)\n",
        "        self.λ = unsqueeze(λ.max(1)[0], (1,2,3))\n",
        "        shuffle = torch.randperm(self.yb.size(0)).to(self.xb.device)\n",
        "        xb1,self.yb1 = self.xb[shuffle],self.yb[shuffle]\n",
        "        self.run.xb = lin_comb(self.xb, xb1, self.λ)\n",
        "        \n",
        "    def after_fit(self): self.run.loss_func = self.old_loss_func\n",
        "    \n",
        "    def loss_func(self, pred, yb):\n",
        "        if not self.in_train: return self.old_loss_func(pred, yb)\n",
        "        with NoneReduce(self.old_loss_func) as loss_func:\n",
        "            loss1 = loss_func(pred, yb)\n",
        "            loss2 = loss_func(pred, self.yb1)\n",
        "        loss = lin_comb(loss1, loss2, self.λ)\n",
        "        return reduce_loss(loss, getattr(self.old_loss_func, 'reduction', 'mean'))"
      ],
      "execution_count": 0,
      "outputs": []
    },
    {
      "cell_type": "code",
      "metadata": {
        "id": "CVW20oaf0wf0",
        "colab_type": "code",
        "colab": {}
      },
      "source": [
        "nfs = [32,64,128,256,512]\n",
        "\n",
        "def get_learner(nfs, data, lr, layer, loss_func=F.cross_entropy,\n",
        "                cb_funcs=None, opt_func=optim.SGD, **kwargs):\n",
        "    model = get_cnn_model(data, nfs, layer, **kwargs)\n",
        "    init_cnn(model)\n",
        "    return Learner(model, data, loss_func, lr=lr, cb_funcs=cb_funcs, opt_func=opt_func)"
      ],
      "execution_count": 0,
      "outputs": []
    },
    {
      "cell_type": "code",
      "metadata": {
        "id": "JRZynVbw0wap",
        "colab_type": "code",
        "colab": {
          "base_uri": "https://localhost:8080/",
          "height": 80
        },
        "outputId": "ef189d5b-892f-48a6-8980-c61f71a26127"
      },
      "source": [
        "cbfs = [partial(AvgStatsCallback,accuracy),\n",
        "        CudaCallback, \n",
        "        ProgressCallback,\n",
        "        partial(BatchTransformXCallback, norm_imagenette),\n",
        "        MixUp]\n",
        "\n",
        "learn = get_learner(nfs, data, 0.4, conv_layer, cb_funcs=cbfs)\n",
        "\n",
        "learn.fit(1)"
      ],
      "execution_count": 16,
      "outputs": [
        {
          "output_type": "display_data",
          "data": {
            "text/html": [
              "<table border=\"1\" class=\"dataframe\">\n",
              "  <thead>\n",
              "    <tr style=\"text-align: left;\">\n",
              "      <th>epoch</th>\n",
              "      <th>train_loss</th>\n",
              "      <th>train_accuracy</th>\n",
              "      <th>valid_loss</th>\n",
              "      <th>valid_accuracy</th>\n",
              "      <th>time</th>\n",
              "    </tr>\n",
              "  </thead>\n",
              "  <tbody>\n",
              "    <tr>\n",
              "      <td>0</td>\n",
              "      <td>3.044953</td>\n",
              "      <td>0.218551</td>\n",
              "      <td>2.176063</td>\n",
              "      <td>0.314000</td>\n",
              "      <td>00:20</td>\n",
              "    </tr>\n",
              "  </tbody>\n",
              "</table>"
            ],
            "text/plain": [
              "<IPython.core.display.HTML object>"
            ]
          },
          "metadata": {
            "tags": []
          }
        }
      ]
    },
    {
      "cell_type": "markdown",
      "metadata": {
        "id": "C3aXcm-t1Q4K",
        "colab_type": "text"
      },
      "source": [
        "Questions: How does softmax interact with all this? Should we jump straight from mixup to inference?"
      ]
    },
    {
      "cell_type": "markdown",
      "metadata": {
        "id": "o4V8H5GU1Ugd",
        "colab_type": "text"
      },
      "source": [
        "## Label smoothing\n",
        "\n",
        "Another regularization technique that's often used is label smoothing. It's designed to make the model a little bit less certain of it's decision by changing a little bit its target: instead of wanting to predict 1 for the correct class and 0 for all the others, we ask it to predict 1-ε for the correct class and ε for all the others, with ε a (small) positive number and N the number of classes. This can be written as:\n",
        "\n",
        "$$loss = (1-ε) ce(i) + ε \\sum ce(j) / N$$\n",
        "where ce(x) is cross-entropy of x (i.e. $-\\log(p_{x})$), and i is the correct class. This can be coded in a loss function:"
      ]
    },
    {
      "cell_type": "code",
      "metadata": {
        "id": "xTdP4HFM0wQ7",
        "colab_type": "code",
        "colab": {}
      },
      "source": [
        "#export\n",
        "class LabelSmoothingCrossEntropy(nn.Module):\n",
        "    def __init__(self, ε:float=0.1, reduction='mean'):\n",
        "        super().__init__()\n",
        "        self.ε,self.reduction = ε,reduction\n",
        "    \n",
        "    def forward(self, output, target):\n",
        "        c = output.size()[-1]\n",
        "        log_preds = F.log_softmax(output, dim=-1)\n",
        "        loss = reduce_loss(-log_preds.sum(dim=-1), self.reduction)\n",
        "        nll = F.nll_loss(log_preds, target, reduction=self.reduction)\n",
        "        return lin_comb(loss/c, nll, self.ε)"
      ],
      "execution_count": 0,
      "outputs": []
    },
    {
      "cell_type": "markdown",
      "metadata": {
        "id": "vBwxqRrT1k_h",
        "colab_type": "text"
      },
      "source": [
        "Note: we implement the various reduction attributes so that it plays nicely with MixUp after."
      ]
    },
    {
      "cell_type": "code",
      "metadata": {
        "id": "CWi3jnTs1afL",
        "colab_type": "code",
        "colab": {
          "base_uri": "https://localhost:8080/",
          "height": 80
        },
        "outputId": "4806813d-efe0-4b47-f18c-641f4b9e249d"
      },
      "source": [
        "cbfs = [partial(AvgStatsCallback,accuracy),\n",
        "        CudaCallback,\n",
        "        ProgressCallback,\n",
        "        partial(BatchTransformXCallback, norm_imagenette)]\n",
        "\n",
        "learn = get_learner(nfs, data, 0.4, conv_layer, cb_funcs=cbfs, loss_func=LabelSmoothingCrossEntropy())\n",
        "learn.fit(1)"
      ],
      "execution_count": 18,
      "outputs": [
        {
          "output_type": "display_data",
          "data": {
            "text/html": [
              "<table border=\"1\" class=\"dataframe\">\n",
              "  <thead>\n",
              "    <tr style=\"text-align: left;\">\n",
              "      <th>epoch</th>\n",
              "      <th>train_loss</th>\n",
              "      <th>train_accuracy</th>\n",
              "      <th>valid_loss</th>\n",
              "      <th>valid_accuracy</th>\n",
              "      <th>time</th>\n",
              "    </tr>\n",
              "  </thead>\n",
              "  <tbody>\n",
              "    <tr>\n",
              "      <td>0</td>\n",
              "      <td>2.848476</td>\n",
              "      <td>0.266713</td>\n",
              "      <td>2.349072</td>\n",
              "      <td>0.330000</td>\n",
              "      <td>00:20</td>\n",
              "    </tr>\n",
              "  </tbody>\n",
              "</table>"
            ],
            "text/plain": [
              "<IPython.core.display.HTML object>"
            ]
          },
          "metadata": {
            "tags": []
          }
        }
      ]
    },
    {
      "cell_type": "markdown",
      "metadata": {
        "id": "kYQAsGmS14JX",
        "colab_type": "text"
      },
      "source": [
        "And we can check our loss function reduction attribute hasn't changed outside of the training loop:"
      ]
    },
    {
      "cell_type": "code",
      "metadata": {
        "id": "y4MDz7wA1_M1",
        "colab_type": "code",
        "colab": {}
      },
      "source": [
        "assert learn.loss_func.reduction == 'mean'"
      ],
      "execution_count": 0,
      "outputs": []
    },
    {
      "cell_type": "markdown",
      "metadata": {
        "id": "PxgFuVvN167c",
        "colab_type": "text"
      },
      "source": [
        "## Export"
      ]
    },
    {
      "cell_type": "code",
      "metadata": {
        "id": "jnpJD_jg1aaC",
        "colab_type": "code",
        "colab": {}
      },
      "source": [
        "#./notebook2script.py 10b_mixup_label_smoothing.ipynb"
      ],
      "execution_count": 0,
      "outputs": []
    },
    {
      "cell_type": "markdown",
      "metadata": {
        "id": "8LMYwIX9stbC",
        "colab_type": "text"
      },
      "source": [
        "# Training in mixed precision"
      ]
    },
    {
      "cell_type": "code",
      "metadata": {
        "id": "yudWAqNqstbT",
        "colab_type": "code",
        "colab": {}
      },
      "source": [
        "#export\n",
        "from exp.nb_10b import *"
      ],
      "execution_count": 0,
      "outputs": []
    },
    {
      "cell_type": "markdown",
      "metadata": {
        "id": "5Dy0FbmmstbZ",
        "colab_type": "text"
      },
      "source": [
        "## A little bit of theory"
      ]
    },
    {
      "cell_type": "markdown",
      "metadata": {
        "id": "Q8Oe7hikstbb",
        "colab_type": "text"
      },
      "source": [
        "[Jump_to lesson 12 video](https://course.fast.ai/videos/?lesson=12&t=1318)"
      ]
    },
    {
      "cell_type": "markdown",
      "metadata": {
        "id": "FLw-ES2zstbd",
        "colab_type": "text"
      },
      "source": [
        "Continuing the documentation on the fastai_v1 development here is a brief piece about mixed precision training. A very nice and clear introduction to it is [this video from NVIDIA](http://on-demand.gputechconf.com/gtc/2018/video/S81012/).\n",
        "\n",
        "### What's half precision?\n",
        "In neural nets, all the computations are usually done in single precision, which means all the floats in all the arrays that represent inputs, activations, weights... are 32-bit floats (FP32 in the rest of this post). An idea to reduce memory usage (and avoid those annoying cuda errors) has been to try and do the same thing in half-precision, which means using 16-bits floats (or FP16 in the rest of this post). By definition, they take half the space in RAM, and in theory could allow you to double the size of your model and double your batch size.\n",
        "\n",
        "Another very nice feature is that NVIDIA developed its latest GPUs (the Volta generation) to take fully advantage of half-precision tensors. Basically, if you give half-precision tensors to those, they'll stack them so that each core can do more operations at the same time, and theoretically gives an 8x speed-up (sadly, just in theory).\n",
        "\n",
        "So training at half precision is better for your memory usage, way faster if you have a Volta GPU (still a tiny bit faster if you don't since the computations are easiest). How do we do it? Super easily in pytorch, we just have to put .half() everywhere: on the inputs of our model and all the parameters. Problem is that you usually won't see the same accuracy in the end (so it happens sometimes) because half-precision is... well... not as precise ;).\n",
        "\n",
        "### Problems with half-precision:\n",
        "To understand the problems with half precision, let's look briefly at what an FP16 looks like (more information [here](https://en.wikipedia.org/wiki/Half-precision_floating-point_format)).\n",
        "\n",
        "![half float](https://github.com/fastai/course-v3/blob/master/nbs/dl2/images/half.png?raw=1)\n",
        "\n",
        "The sign bit gives us +1 or -1, then we have 5 bits to code an exponent between -14 and 15, while the fraction part has the remaining 10 bits. Compared to FP32, we have a smaller range of possible values (2e-14 to 2e15 roughly, compared to 2e-126 to 2e127 for FP32) but also a smaller *offset*.\n",
        "\n",
        "For instance, between 1 and 2, the FP16 format only represents the number 1, 1+2e-10, 1+2*2e-10... which means that 1 + 0.0001 = 1 in half precision. That's what will cause a certain numbers of problems, specifically three that can occur and mess up your training.\n",
        "1. The weight update is imprecise: inside your optimizer, you basically do w = w - lr * w.grad for each weight of your network. The problem in performing this operation in half precision is that very often, w.grad is several orders of magnitude below w, and the learning rate is also small. The situation where w=1 and lr*w.grad is 0.0001 (or lower) is therefore very common, but the update doesn't do anything in those cases.\n",
        "2. Your gradients can underflow. In FP16, your gradients can easily be replaced by 0 because they are too low.\n",
        "3. Your activations or loss can overflow. The opposite problem from the gradients: it's easier to hit nan (or infinity) in FP16 precision, and your training might more easily diverge.\n",
        "\n",
        "### The solution: mixed precision training\n",
        "\n",
        "To address those three problems, we don't fully train in FP16 precision. As the name mixed training implies, some of the operations will be done in FP16, others in FP32. This is mainly to take care of the first problem listed above. For the next two there are additional tricks.\n",
        "\n",
        "The main idea is that we want to do the forward pass and the gradient computation in half precision (to go fast) but the update in single precision (to be more precise). It's okay if w and grad are both half floats, but when we do the operation w = w - lr * grad, we need to compute it in FP32. That way our 1 + 0.0001 is going to be 1.0001. \n",
        "\n",
        "This is why we keep a copy of the weights in FP32 (called master model). Then, our training loop will look like:\n",
        "1. compute the output with the FP16 model, then the loss\n",
        "2. back-propagate the gradients in half-precision.\n",
        "3. copy the gradients in FP32 precision\n",
        "4. do the update on the master model (in FP32 precision)\n",
        "5. copy the master model in the FP16 model.\n",
        "\n",
        "Note that we lose precision during step 5, and that the 1.0001 in one of the weights will go back to 1. But if the next update corresponds to add 0.0001 again, since the optimizer step is done on the master model, the 1.0001 will become 1.0002 and if we eventually go like this up to 1.0005, the FP16 model will be able to tell the difference.\n",
        "\n",
        "That takes care of problem 1. For the second problem, we use something called gradient scaling: to avoid the gradients getting zeroed by the FP16 precision, we multiply the loss by a scale factor (scale=512 for instance). That way we can push the gradients to the right in the next figure, and have them not become zero.\n",
        "\n",
        "![half float representation](https://github.com/fastai/course-v3/blob/master/nbs/dl2/images/half_representation.png?raw=1)\n",
        "\n",
        "Of course we don't want those 512-scaled gradients to be in the weight update, so after converting them into FP32, we can divide them by this scale factor (once they have no risks of becoming 0). This changes the loop to:\n",
        "1. compute the output with the FP16 model, then the loss.\n",
        "2. multiply the loss by scale then back-propagate the gradients in half-precision.\n",
        "3. copy the gradients in FP32 precision then divide them by scale.\n",
        "4. do the update on the master model (in FP32 precision).\n",
        "5. copy the master model in the FP16 model.\n",
        "\n",
        "For the last problem, the tricks offered by NVIDIA are to leave the batchnorm layers in single precision (they don't have many weights so it's not a big memory challenge) and compute the loss in single precision (which means converting the last output of the model in single precision before passing it to the loss).\n",
        "\n",
        "![Mixed precision training](https://github.com/fastai/course-v3/blob/master/nbs/dl2/images/Mixed_precision.jpeg?raw=1)\n",
        "\n",
        "Implementing all of this in the new callback system is surprisingly easy, let's dig into this!"
      ]
    },
    {
      "cell_type": "markdown",
      "metadata": {
        "id": "GgiA4Fq1stbh",
        "colab_type": "text"
      },
      "source": [
        "## Util functions"
      ]
    },
    {
      "cell_type": "markdown",
      "metadata": {
        "id": "_zealJIwstbj",
        "colab_type": "text"
      },
      "source": [
        "Before going in the main `Callback` we will need some helper functions. We will refactor using the [APEX library](https://github.com/NVIDIA/apex) util functions. The python-only build is enough for what we will use here if you don't manage to do the CUDA/C++ installation."
      ]
    },
    {
      "cell_type": "code",
      "metadata": {
        "id": "VTEOYexc35zg",
        "colab_type": "code",
        "colab": {}
      },
      "source": [
        "!git clone https://www.github.com/nvidia/apex  && cd apex/apex/fp16_utils"
      ],
      "execution_count": 0,
      "outputs": []
    },
    {
      "cell_type": "code",
      "metadata": {
        "id": "oQa9J6Zjstbl",
        "colab_type": "code",
        "colab": {}
      },
      "source": [
        "# export \n",
        "import fp16util as fp16\n",
        "#from apex import amp"
      ],
      "execution_count": 0,
      "outputs": []
    },
    {
      "cell_type": "markdown",
      "metadata": {
        "id": "NgIxEILXstbq",
        "colab_type": "text"
      },
      "source": [
        "### Converting the model to FP16"
      ]
    },
    {
      "cell_type": "markdown",
      "metadata": {
        "id": "GmwPvg8Jstbs",
        "colab_type": "text"
      },
      "source": [
        "[Jump_to lesson 12 video](https://course.fast.ai/videos/?lesson=12&t=1425)"
      ]
    },
    {
      "cell_type": "markdown",
      "metadata": {
        "id": "sT-Znrbmstbx",
        "colab_type": "text"
      },
      "source": [
        "We will need a function to convert all the layers of the model to FP16 precision except the BatchNorm-like layers (since those need to be done in FP32 precision to be stable). We do this in two steps: first we convert the model to FP16, then we loop over all the layers and put them back to FP32 if they are a BatchNorm layer."
      ]
    },
    {
      "cell_type": "code",
      "metadata": {
        "id": "lY9O0L4vstb0",
        "colab_type": "code",
        "colab": {}
      },
      "source": [
        "bn_types = (nn.BatchNorm1d, nn.BatchNorm2d, nn.BatchNorm3d)"
      ],
      "execution_count": 0,
      "outputs": []
    },
    {
      "cell_type": "code",
      "metadata": {
        "id": "jRvl_pVastb5",
        "colab_type": "code",
        "colab": {}
      },
      "source": [
        "def bn_to_float(model):\n",
        "    if isinstance(model, bn_types): model.float()\n",
        "    for child in model.children():  bn_to_float(child)\n",
        "    return model"
      ],
      "execution_count": 0,
      "outputs": []
    },
    {
      "cell_type": "code",
      "metadata": {
        "id": "vk1ROpjgstcB",
        "colab_type": "code",
        "colab": {}
      },
      "source": [
        "def model_to_half(model):\n",
        "    model = model.half()\n",
        "    return bn_to_float(model)"
      ],
      "execution_count": 0,
      "outputs": []
    },
    {
      "cell_type": "markdown",
      "metadata": {
        "id": "fCL5HkMostcH",
        "colab_type": "text"
      },
      "source": [
        "Let's test this:"
      ]
    },
    {
      "cell_type": "code",
      "metadata": {
        "id": "gt_a_ChDstcJ",
        "colab_type": "code",
        "colab": {}
      },
      "source": [
        "model = nn.Sequential(nn.Linear(10,30), nn.BatchNorm1d(30), nn.Linear(30,2)).cuda()\n",
        "model = model_to_half(model)"
      ],
      "execution_count": 0,
      "outputs": []
    },
    {
      "cell_type": "code",
      "metadata": {
        "id": "ITrjWuOlstcT",
        "colab_type": "code",
        "colab": {}
      },
      "source": [
        "def check_weights(model):\n",
        "    for i,t in enumerate([torch.float16, torch.float32, torch.float16]):\n",
        "        assert model[i].weight.dtype == t\n",
        "        assert model[i].bias.dtype   == t"
      ],
      "execution_count": 0,
      "outputs": []
    },
    {
      "cell_type": "code",
      "metadata": {
        "id": "Eca4geqFstcZ",
        "colab_type": "code",
        "colab": {}
      },
      "source": [
        "check_weights(model)"
      ],
      "execution_count": 0,
      "outputs": []
    },
    {
      "cell_type": "markdown",
      "metadata": {
        "id": "YF730jDPstce",
        "colab_type": "text"
      },
      "source": [
        "In Apex, the function that does this for us is `convert_network`. We can use it to put the model in FP16 or back to FP32."
      ]
    },
    {
      "cell_type": "code",
      "metadata": {
        "id": "qvGQHuMMstci",
        "colab_type": "code",
        "colab": {}
      },
      "source": [
        "model = nn.Sequential(nn.Linear(10,30), nn.BatchNorm1d(30), nn.Linear(30,2)).cuda()\n",
        "model = fp16.convert_network(model, torch.float16)\n",
        "check_weights(model)"
      ],
      "execution_count": 0,
      "outputs": []
    },
    {
      "cell_type": "markdown",
      "metadata": {
        "id": "fFKB-KK8stco",
        "colab_type": "text"
      },
      "source": [
        "### Creating the master copy of the parameters"
      ]
    },
    {
      "cell_type": "markdown",
      "metadata": {
        "id": "Thdh8cgastcp",
        "colab_type": "text"
      },
      "source": [
        "From our model parameters (mostly in FP16), we'll want to create a copy in FP32 (master parameters) that we will use for the step in the optimizer. Optionally, we concatenate all the parameters to do one flat big tensor, which can make that step a little bit faster."
      ]
    },
    {
      "cell_type": "code",
      "metadata": {
        "id": "JbLWvY2Ystcr",
        "colab_type": "code",
        "colab": {}
      },
      "source": [
        "from torch.nn.utils import parameters_to_vector\n",
        "\n",
        "def get_master(model, flat_master=False):\n",
        "    model_params = [param for param in model.parameters() if param.requires_grad]\n",
        "    if flat_master:\n",
        "        master_param = parameters_to_vector([param.data.float() for param in model_params])\n",
        "        master_param = torch.nn.Parameter(master_param, requires_grad=True)\n",
        "        if master_param.grad is None: master_param.grad = master_param.new(*master_param.size())\n",
        "        return model_params, [master_param]\n",
        "    else:\n",
        "        master_params = [param.clone().float().detach() for param in model_params]\n",
        "        for param in master_params: param.requires_grad_(True)\n",
        "        return model_params, master_params"
      ],
      "execution_count": 0,
      "outputs": []
    },
    {
      "cell_type": "markdown",
      "metadata": {
        "id": "3FX-lZ-Hstcz",
        "colab_type": "text"
      },
      "source": [
        "The util function from Apex to do this is `prep_param_lists`."
      ]
    },
    {
      "cell_type": "code",
      "metadata": {
        "id": "7Yq24iyhstc2",
        "colab_type": "code",
        "colab": {}
      },
      "source": [
        "model_p,master_p = get_master(model)\n",
        "model_p1,master_p1 = fp16.prep_param_lists(model)"
      ],
      "execution_count": 0,
      "outputs": []
    },
    {
      "cell_type": "code",
      "metadata": {
        "id": "-0RjNzyJstc7",
        "colab_type": "code",
        "colab": {}
      },
      "source": [
        "def same_lists(ps1, ps2):\n",
        "    assert len(ps1) == len(ps2)\n",
        "    for (p1,p2) in zip(ps1,ps2): \n",
        "        assert p1.requires_grad == p2.requires_grad\n",
        "        assert torch.allclose(p1.data.float(), p2.data.float())"
      ],
      "execution_count": 0,
      "outputs": []
    },
    {
      "cell_type": "code",
      "metadata": {
        "id": "8Apu03rtstdA",
        "colab_type": "code",
        "colab": {}
      },
      "source": [
        "same_lists(model_p,model_p1)\n",
        "same_lists(model_p,master_p)\n",
        "same_lists(master_p,master_p1)\n",
        "same_lists(model_p1,master_p1)"
      ],
      "execution_count": 0,
      "outputs": []
    },
    {
      "cell_type": "markdown",
      "metadata": {
        "id": "PLKhRv-lstdH",
        "colab_type": "text"
      },
      "source": [
        "We can't use flat_master when there is a mix of FP32 and FP16 parameters (like batchnorm here)."
      ]
    },
    {
      "cell_type": "code",
      "metadata": {
        "id": "spcZQxjustdJ",
        "colab_type": "code",
        "colab": {}
      },
      "source": [
        "model1 = nn.Sequential(nn.Linear(10,30), nn.Linear(30,2)).cuda()\n",
        "model1 = fp16.convert_network(model1, torch.float16)"
      ],
      "execution_count": 0,
      "outputs": []
    },
    {
      "cell_type": "code",
      "metadata": {
        "id": "T3FEqt62stdO",
        "colab_type": "code",
        "colab": {}
      },
      "source": [
        "model_p,master_p = get_master(model1, flat_master=True)\n",
        "model_p1,master_p1 = fp16.prep_param_lists(model1, flat_master=True)"
      ],
      "execution_count": 0,
      "outputs": []
    },
    {
      "cell_type": "code",
      "metadata": {
        "id": "eMTjuaW4stdc",
        "colab_type": "code",
        "colab": {}
      },
      "source": [
        "same_lists(model_p,model_p1)\n",
        "same_lists(master_p,master_p1)"
      ],
      "execution_count": 0,
      "outputs": []
    },
    {
      "cell_type": "code",
      "metadata": {
        "id": "xNR4Bbtmstdn",
        "colab_type": "code",
        "colab": {}
      },
      "source": [
        "assert len(master_p[0]) == 10*30 + 30 + 30*2 + 2\n",
        "assert len(master_p1[0]) == 10*30 + 30 + 30*2 + 2"
      ],
      "execution_count": 0,
      "outputs": []
    },
    {
      "cell_type": "markdown",
      "metadata": {
        "id": "qV2SMvLestdt",
        "colab_type": "text"
      },
      "source": [
        "The thing is that we don't always want all the parameters of our model in the same parameter group, because we might:\n",
        "- want to do transfer learning and freeze some layers\n",
        "- apply discriminative learning rates\n",
        "- don't apply weight decay to some layers (like BatchNorm) or the bias terms\n",
        "\n",
        "So we actually need a function that splits the parameters of an optimizer (and not a model) according to the right parameter groups."
      ]
    },
    {
      "cell_type": "code",
      "metadata": {
        "id": "69TX1TLcstdu",
        "colab_type": "code",
        "colab": {}
      },
      "source": [
        "def get_master(opt, flat_master=False):\n",
        "    model_params = [[param for param in pg if param.requires_grad] for pg in opt.param_groups]\n",
        "    if flat_master:\n",
        "        master_params = []\n",
        "        for pg in model_params:\n",
        "            mp = parameters_to_vector([param.data.float() for param in pg])\n",
        "            mp = torch.nn.Parameter(mp, requires_grad=True)\n",
        "            if mp.grad is None: mp.grad = mp.new(*mp.size())\n",
        "            master_params.append(mp)\n",
        "    else:\n",
        "        master_params = [[param.clone().float().detach() for param in pg] for pg in model_params]\n",
        "        for pg in master_params:\n",
        "            for param in pg: param.requires_grad_(True)\n",
        "    return model_params, master_params"
      ],
      "execution_count": 0,
      "outputs": []
    },
    {
      "cell_type": "markdown",
      "metadata": {
        "id": "ZCAjGKM6std4",
        "colab_type": "text"
      },
      "source": [
        "### Copy the gradients from model params to master params"
      ]
    },
    {
      "cell_type": "markdown",
      "metadata": {
        "id": "BAgmo1u3std5",
        "colab_type": "text"
      },
      "source": [
        "After the backward pass, all gradients must be copied to the master params before the optimizer step can be done in FP32. We need a function for that (with a bit of adjustement if we have flat master)."
      ]
    },
    {
      "cell_type": "code",
      "metadata": {
        "id": "wZckIc2_std7",
        "colab_type": "code",
        "colab": {}
      },
      "source": [
        "def to_master_grads(model_params, master_params, flat_master:bool=False)->None:\n",
        "    if flat_master:\n",
        "        if master_params[0].grad is None: master_params[0].grad = master_params[0].data.new(*master_params[0].data.size())\n",
        "        master_params[0].grad.data.copy_(parameters_to_vector([p.grad.data.float() for p in model_params]))\n",
        "    else:\n",
        "        for model, master in zip(model_params, master_params):\n",
        "            if model.grad is not None:\n",
        "                if master.grad is None: master.grad = master.data.new(*master.data.size())\n",
        "                master.grad.data.copy_(model.grad.data)\n",
        "            else: master.grad = None"
      ],
      "execution_count": 0,
      "outputs": []
    },
    {
      "cell_type": "markdown",
      "metadata": {
        "id": "vkKJBD4LsteG",
        "colab_type": "text"
      },
      "source": [
        "The corresponding function in the Apex utils is `model_grads_to_master_grads`."
      ]
    },
    {
      "cell_type": "code",
      "metadata": {
        "id": "IIjwJ4ohsteI",
        "colab_type": "code",
        "colab": {}
      },
      "source": [
        "x = torch.randn(20,10).half().cuda()\n",
        "z = model(x)\n",
        "loss = F.cross_entropy(z, torch.randint(0, 2, (20,)).cuda())\n",
        "loss.backward()"
      ],
      "execution_count": 0,
      "outputs": []
    },
    {
      "cell_type": "code",
      "metadata": {
        "id": "EJwVkphtsteN",
        "colab_type": "code",
        "colab": {}
      },
      "source": [
        "to_master_grads(model_p, master_p)"
      ],
      "execution_count": 0,
      "outputs": []
    },
    {
      "cell_type": "code",
      "metadata": {
        "id": "01Fubr5gsteR",
        "colab_type": "code",
        "colab": {}
      },
      "source": [
        "def check_grads(m1, m2):\n",
        "    for p1,p2 in zip(m1,m2): \n",
        "        if p1.grad is None: assert p2.grad is None\n",
        "        else: assert torch.allclose(p1.grad.data, p2.grad.data) "
      ],
      "execution_count": 0,
      "outputs": []
    },
    {
      "cell_type": "code",
      "metadata": {
        "id": "fNh-ag9FsteZ",
        "colab_type": "code",
        "colab": {}
      },
      "source": [
        "check_grads(model_p, master_p)"
      ],
      "execution_count": 0,
      "outputs": []
    },
    {
      "cell_type": "code",
      "metadata": {
        "id": "PTNISYGbstee",
        "colab_type": "code",
        "colab": {}
      },
      "source": [
        "fp16.model_grads_to_master_grads(model_p, master_p)"
      ],
      "execution_count": 0,
      "outputs": []
    },
    {
      "cell_type": "code",
      "metadata": {
        "id": "T2bcYUKostek",
        "colab_type": "code",
        "colab": {}
      },
      "source": [
        "check_grads(model_p, master_p)"
      ],
      "execution_count": 0,
      "outputs": []
    },
    {
      "cell_type": "markdown",
      "metadata": {
        "id": "NTxknS2Gstev",
        "colab_type": "text"
      },
      "source": [
        "### Copy the master params to the model params"
      ]
    },
    {
      "cell_type": "markdown",
      "metadata": {
        "id": "QltkcN5estew",
        "colab_type": "text"
      },
      "source": [
        "After the step, we need to copy back the master parameters to the model parameters for the next update."
      ]
    },
    {
      "cell_type": "code",
      "metadata": {
        "id": "NDZiNd8wstey",
        "colab_type": "code",
        "colab": {}
      },
      "source": [
        "from torch._utils import _unflatten_dense_tensors\n",
        "\n",
        "def to_model_params(model_params, master_params, flat_master:bool=False)->None:\n",
        "    if flat_master:\n",
        "        for model, master in zip(model_params, _unflatten_dense_tensors(master_params[0].data, model_params)):\n",
        "            model.data.copy_(master)\n",
        "    else:\n",
        "        for model, master in zip(model_params, master_params): model.data.copy_(master.data)"
      ],
      "execution_count": 0,
      "outputs": []
    },
    {
      "cell_type": "markdown",
      "metadata": {
        "id": "D5qtqFhYste6",
        "colab_type": "text"
      },
      "source": [
        "The corresponding function in Apex is `master_params_to_model_params`."
      ]
    },
    {
      "cell_type": "markdown",
      "metadata": {
        "id": "giWbc59Wste8",
        "colab_type": "text"
      },
      "source": [
        "### But we need to handle param groups"
      ]
    },
    {
      "cell_type": "markdown",
      "metadata": {
        "id": "eVFmrq46ste9",
        "colab_type": "text"
      },
      "source": [
        "The thing is that we don't always want all the parameters of our model in the same parameter group, because we might:\n",
        "- want to do transfer learning and freeze some layers\n",
        "- apply discriminative learning rates\n",
        "- don't apply weight decay to some layers (like BatchNorm) or the bias terms\n",
        "\n",
        "So we actually need a function that splits the parameters of an optimizer (and not a model) according to the right parameter groups and the following functions need to handle lists of lists of parameters (one list of each param group in `model_pgs` and `master_pgs`)"
      ]
    },
    {
      "cell_type": "code",
      "metadata": {
        "id": "fvpveoTAste-",
        "colab_type": "code",
        "colab": {}
      },
      "source": [
        "# export \n",
        "def get_master(opt, flat_master=False):\n",
        "    model_pgs = [[param for param in pg if param.requires_grad] for pg in opt.param_groups]\n",
        "    if flat_master:\n",
        "        master_pgs = []\n",
        "        for pg in model_pgs:\n",
        "            mp = parameters_to_vector([param.data.float() for param in pg])\n",
        "            mp = torch.nn.Parameter(mp, requires_grad=True)\n",
        "            if mp.grad is None: mp.grad = mp.new(*mp.size())\n",
        "            master_pgs.append([mp])\n",
        "    else:\n",
        "        master_pgs = [[param.clone().float().detach() for param in pg] for pg in model_pgs]\n",
        "        for pg in master_pgs:\n",
        "            for param in pg: param.requires_grad_(True)\n",
        "    return model_pgs, master_pgs"
      ],
      "execution_count": 0,
      "outputs": []
    },
    {
      "cell_type": "code",
      "metadata": {
        "id": "z7DnE3l2stfZ",
        "colab_type": "code",
        "colab": {}
      },
      "source": [
        "# export \n",
        "def to_master_grads(model_pgs, master_pgs, flat_master:bool=False)->None:\n",
        "    for (model_params,master_params) in zip(model_pgs,master_pgs):\n",
        "        fp16.model_grads_to_master_grads(model_params, master_params, flat_master=flat_master)"
      ],
      "execution_count": 0,
      "outputs": []
    },
    {
      "cell_type": "code",
      "metadata": {
        "id": "R-D43Sg7stfe",
        "colab_type": "code",
        "colab": {}
      },
      "source": [
        "# export \n",
        "def to_model_params(model_pgs, master_pgs, flat_master:bool=False)->None:\n",
        "    for (model_params,master_params) in zip(model_pgs,master_pgs):\n",
        "        fp16.master_params_to_model_params(model_params, master_params, flat_master=flat_master)"
      ],
      "execution_count": 0,
      "outputs": []
    },
    {
      "cell_type": "markdown",
      "metadata": {
        "id": "s9FTCEa1stfj",
        "colab_type": "text"
      },
      "source": [
        "## The main Callback"
      ]
    },
    {
      "cell_type": "markdown",
      "metadata": {
        "id": "VwMlQI70stfs",
        "colab_type": "text"
      },
      "source": [
        "[Jump_to lesson 12 video](https://course.fast.ai/videos/?lesson=12&t=1452)"
      ]
    },
    {
      "cell_type": "code",
      "metadata": {
        "id": "E7UTeYOCstfu",
        "colab_type": "code",
        "colab": {}
      },
      "source": [
        "class MixedPrecision(Callback):\n",
        "    _order = 99\n",
        "    def __init__(self, loss_scale=512, flat_master=False):\n",
        "        assert torch.backends.cudnn.enabled, \"Mixed precision training requires cudnn.\"\n",
        "        self.loss_scale,self.flat_master = loss_scale,flat_master\n",
        "\n",
        "    def begin_fit(self):\n",
        "        self.run.model = fp16.convert_network(self.model, dtype=torch.float16)\n",
        "        self.model_pgs, self.master_pgs = get_master(self.opt, self.flat_master)\n",
        "        #Changes the optimizer so that the optimization step is done in FP32.\n",
        "        self.run.opt.param_groups = self.master_pgs #Put those param groups inside our runner.\n",
        "        \n",
        "    def after_fit(self): self.model.float()\n",
        "\n",
        "    def begin_batch(self): self.run.xb = self.run.xb.half() #Put the inputs to half precision\n",
        "    def after_pred(self):  self.run.pred = self.run.pred.float() #Compute the loss in FP32\n",
        "    def after_loss(self):  self.run.loss *= self.loss_scale #Loss scaling to avoid gradient underflow\n",
        "\n",
        "    def after_backward(self):\n",
        "        #Copy the gradients to master and unscale\n",
        "        to_master_grads(self.model_pgs, self.master_pgs, self.flat_master)\n",
        "        for master_params in self.master_pgs:\n",
        "            for param in master_params:\n",
        "                if param.grad is not None: param.grad.div_(self.loss_scale)\n",
        "\n",
        "    def after_step(self):\n",
        "        #Zero the gradients of the model since the optimizer is disconnected.\n",
        "        self.model.zero_grad()\n",
        "        #Update the params from master to model.\n",
        "        to_model_params(self.model_pgs, self.master_pgs, self.flat_master)"
      ],
      "execution_count": 0,
      "outputs": []
    },
    {
      "cell_type": "markdown",
      "metadata": {
        "id": "vokQKPoGstfy",
        "colab_type": "text"
      },
      "source": [
        "Now let's test this on Imagenette"
      ]
    },
    {
      "cell_type": "code",
      "metadata": {
        "id": "MPrUzZrqstfz",
        "colab_type": "code",
        "colab": {}
      },
      "source": [
        "path = datasets.untar_data(datasets.URLs.IMAGENETTE_160)"
      ],
      "execution_count": 0,
      "outputs": []
    },
    {
      "cell_type": "code",
      "metadata": {
        "id": "36icAftxstf8",
        "colab_type": "code",
        "colab": {}
      },
      "source": [
        "tfms = [make_rgb, ResizeFixed(128), to_byte_tensor, to_float_tensor]\n",
        "bs = 64\n",
        "\n",
        "il = ImageList.from_files(path, tfms=tfms)\n",
        "sd = SplitData.split_by_func(il, partial(grandparent_splitter, valid_name='val'))\n",
        "ll = label_by_func(sd, parent_labeler, proc_y=CategoryProcessor())\n",
        "data = ll.to_databunch(bs, c_in=3, c_out=10, num_workers=4)"
      ],
      "execution_count": 0,
      "outputs": []
    },
    {
      "cell_type": "code",
      "metadata": {
        "id": "rwiV3h23stgC",
        "colab_type": "code",
        "colab": {}
      },
      "source": [
        "nfs = [32,64,128,256,512]"
      ],
      "execution_count": 0,
      "outputs": []
    },
    {
      "cell_type": "code",
      "metadata": {
        "id": "zRfrcfsOstgG",
        "colab_type": "code",
        "colab": {}
      },
      "source": [
        "def get_learner(nfs, data, lr, layer, loss_func=F.cross_entropy,\n",
        "                cb_funcs=None, opt_func=adam_opt(), **kwargs):\n",
        "    model = get_cnn_model(data, nfs, layer, **kwargs)\n",
        "    init_cnn(model)\n",
        "    return Learner(model, data, loss_func, lr=lr, cb_funcs=cb_funcs, opt_func=opt_func)"
      ],
      "execution_count": 0,
      "outputs": []
    },
    {
      "cell_type": "markdown",
      "metadata": {
        "id": "Nd838w8pstgR",
        "colab_type": "text"
      },
      "source": [
        "Training without mixed precision"
      ]
    },
    {
      "cell_type": "code",
      "metadata": {
        "id": "4RsksdHGstgS",
        "colab_type": "code",
        "colab": {}
      },
      "source": [
        "cbfs = [partial(AvgStatsCallback,accuracy),\n",
        "        ProgressCallback,\n",
        "        CudaCallback,\n",
        "        partial(BatchTransformXCallback, norm_imagenette)]"
      ],
      "execution_count": 0,
      "outputs": []
    },
    {
      "cell_type": "code",
      "metadata": {
        "id": "xkDeWdWjstgo",
        "colab_type": "code",
        "colab": {}
      },
      "source": [
        "learn = get_learner(nfs, data, 1e-2, conv_layer, cb_funcs=cbfs)"
      ],
      "execution_count": 0,
      "outputs": []
    },
    {
      "cell_type": "code",
      "metadata": {
        "id": "BYe19NUtstgw",
        "colab_type": "code",
        "colab": {
          "base_uri": "https://localhost:8080/",
          "height": 80
        },
        "outputId": "2d4d2bfd-5024-45f6-a0a1-a5f991644410"
      },
      "source": [
        "learn.fit(1)"
      ],
      "execution_count": 78,
      "outputs": [
        {
          "output_type": "display_data",
          "data": {
            "text/html": [
              "<table border=\"1\" class=\"dataframe\">\n",
              "  <thead>\n",
              "    <tr style=\"text-align: left;\">\n",
              "      <th>epoch</th>\n",
              "      <th>train_loss</th>\n",
              "      <th>train_accuracy</th>\n",
              "      <th>valid_loss</th>\n",
              "      <th>valid_accuracy</th>\n",
              "      <th>time</th>\n",
              "    </tr>\n",
              "  </thead>\n",
              "  <tbody>\n",
              "    <tr>\n",
              "      <td>0</td>\n",
              "      <td>1.889438</td>\n",
              "      <td>0.382271</td>\n",
              "      <td>1.524756</td>\n",
              "      <td>0.486000</td>\n",
              "      <td>00:21</td>\n",
              "    </tr>\n",
              "  </tbody>\n",
              "</table>"
            ],
            "text/plain": [
              "<IPython.core.display.HTML object>"
            ]
          },
          "metadata": {
            "tags": []
          }
        }
      ]
    },
    {
      "cell_type": "markdown",
      "metadata": {
        "id": "NaWccnyHstg1",
        "colab_type": "text"
      },
      "source": [
        "Training with mixed precision"
      ]
    },
    {
      "cell_type": "code",
      "metadata": {
        "id": "b9wnUDtsstg2",
        "colab_type": "code",
        "colab": {}
      },
      "source": [
        "cbfs = [partial(AvgStatsCallback,accuracy),\n",
        "        CudaCallback,\n",
        "        ProgressCallback,\n",
        "        partial(BatchTransformXCallback, norm_imagenette),\n",
        "        MixedPrecision]"
      ],
      "execution_count": 0,
      "outputs": []
    },
    {
      "cell_type": "code",
      "metadata": {
        "id": "H2S1Oencstg6",
        "colab_type": "code",
        "colab": {}
      },
      "source": [
        "learn = get_learner(nfs, data, 1e-2, conv_layer, cb_funcs=cbfs)"
      ],
      "execution_count": 0,
      "outputs": []
    },
    {
      "cell_type": "code",
      "metadata": {
        "id": "Sp9LpJMtsthF",
        "colab_type": "code",
        "colab": {
          "base_uri": "https://localhost:8080/",
          "height": 80
        },
        "outputId": "02c18a6b-d9ba-446c-cbcd-c6fd0738e5b6"
      },
      "source": [
        "learn.fit(1)"
      ],
      "execution_count": 81,
      "outputs": [
        {
          "output_type": "display_data",
          "data": {
            "text/html": [
              "<table border=\"1\" class=\"dataframe\">\n",
              "  <thead>\n",
              "    <tr style=\"text-align: left;\">\n",
              "      <th>epoch</th>\n",
              "      <th>train_loss</th>\n",
              "      <th>train_accuracy</th>\n",
              "      <th>valid_loss</th>\n",
              "      <th>valid_accuracy</th>\n",
              "      <th>time</th>\n",
              "    </tr>\n",
              "  </thead>\n",
              "  <tbody>\n",
              "    <tr>\n",
              "      <td>0</td>\n",
              "      <td>1.887072</td>\n",
              "      <td>0.389794</td>\n",
              "      <td>1.512170</td>\n",
              "      <td>0.498000</td>\n",
              "      <td>00:22</td>\n",
              "    </tr>\n",
              "  </tbody>\n",
              "</table>"
            ],
            "text/plain": [
              "<IPython.core.display.HTML object>"
            ]
          },
          "metadata": {
            "tags": []
          }
        }
      ]
    },
    {
      "cell_type": "code",
      "metadata": {
        "id": "nfTnyTpVsthI",
        "colab_type": "code",
        "colab": {}
      },
      "source": [
        "test_eq(next(learn.model.parameters()).type(), 'torch.cuda.FloatTensor')"
      ],
      "execution_count": 0,
      "outputs": []
    },
    {
      "cell_type": "markdown",
      "metadata": {
        "id": "Q5sXZ8P9sthN",
        "colab_type": "text"
      },
      "source": [
        "## Dynamic loss scaling"
      ]
    },
    {
      "cell_type": "markdown",
      "metadata": {
        "id": "2v7aeQ9YsthP",
        "colab_type": "text"
      },
      "source": [
        "The only annoying thing with the previous implementation of mixed precision training is that it introduces one new hyper-parameter to tune, the value of the loss scaling. Fortunately for us, there is a way around this. We want the loss scaling to be as high as possible so that our gradients can use the whole range of representation, so let's first try a really high value. In all likelihood, this will cause our gradients or our loss to overflow, and we will try again with half that big value, and again, until we get to the largest loss scale possible that doesn't make our gradients overflow.\n",
        "\n",
        "This value will be perfectly fitted to our model and can continue to be dynamically adjusted as the training goes, if it's still too high, by just halving it each time we overflow. After a while though, training will converge and gradients will start to get smaller, so we also need a mechanism to get this dynamic loss scale larger if it's safe to do so. The strategy used in the Apex library is to multiply the loss scale by 2 each time we had a given number of iterations without overflowing.\n",
        "\n",
        "To check if the gradients have overflowed, we check their sum (computed in FP32). If one term is nan, the sum will be nan. Interestingly, on the GPU, it's faster than checking `torch.isnan`:"
      ]
    },
    {
      "cell_type": "markdown",
      "metadata": {
        "id": "8EsI1lARsthR",
        "colab_type": "text"
      },
      "source": [
        "[Jump_to lesson 12 video](https://course.fast.ai/videos/?lesson=12&t=1472)"
      ]
    },
    {
      "cell_type": "code",
      "metadata": {
        "id": "n-RoNXrssthS",
        "colab_type": "code",
        "colab": {}
      },
      "source": [
        "# export \n",
        "def test_overflow(x):\n",
        "    s = float(x.float().sum())\n",
        "    return (s == float('inf') or s == float('-inf') or s != s)"
      ],
      "execution_count": 0,
      "outputs": []
    },
    {
      "cell_type": "code",
      "metadata": {
        "id": "ZD1G9Wu2sthW",
        "colab_type": "code",
        "colab": {}
      },
      "source": [
        "x = torch.randn(512,1024).cuda()"
      ],
      "execution_count": 0,
      "outputs": []
    },
    {
      "cell_type": "code",
      "metadata": {
        "id": "jKgYzFzlstha",
        "colab_type": "code",
        "colab": {
          "base_uri": "https://localhost:8080/",
          "height": 35
        },
        "outputId": "e0990151-c757-4fae-e51d-2d4c2db86684"
      },
      "source": [
        "test_overflow(x)"
      ],
      "execution_count": 85,
      "outputs": [
        {
          "output_type": "execute_result",
          "data": {
            "text/plain": [
              "False"
            ]
          },
          "metadata": {
            "tags": []
          },
          "execution_count": 85
        }
      ]
    },
    {
      "cell_type": "code",
      "metadata": {
        "id": "Vwf8RHK_sthj",
        "colab_type": "code",
        "colab": {
          "base_uri": "https://localhost:8080/",
          "height": 35
        },
        "outputId": "238576b6-4531-4e1e-c94c-3efd9f45c15b"
      },
      "source": [
        "x[123,145] = float('inf')\n",
        "test_overflow(x)"
      ],
      "execution_count": 86,
      "outputs": [
        {
          "output_type": "execute_result",
          "data": {
            "text/plain": [
              "True"
            ]
          },
          "metadata": {
            "tags": []
          },
          "execution_count": 86
        }
      ]
    },
    {
      "cell_type": "code",
      "metadata": {
        "id": "nLDEoGRlstho",
        "colab_type": "code",
        "colab": {
          "base_uri": "https://localhost:8080/",
          "height": 53
        },
        "outputId": "9a6ef9e8-76d5-4215-8941-1508402edd6f"
      },
      "source": [
        "%timeit test_overflow(x)"
      ],
      "execution_count": 87,
      "outputs": [
        {
          "output_type": "stream",
          "text": [
            "The slowest run took 4.68 times longer than the fastest. This could mean that an intermediate result is being cached.\n",
            "10000 loops, best of 3: 52.3 µs per loop\n"
          ],
          "name": "stdout"
        }
      ]
    },
    {
      "cell_type": "code",
      "metadata": {
        "id": "9cY5Lrppsths",
        "colab_type": "code",
        "colab": {
          "base_uri": "https://localhost:8080/",
          "height": 53
        },
        "outputId": "3195f43a-2872-4b6f-9a40-62ff13f37bed"
      },
      "source": [
        "%timeit torch.isnan(x).any().item()"
      ],
      "execution_count": 88,
      "outputs": [
        {
          "output_type": "stream",
          "text": [
            "The slowest run took 10.78 times longer than the fastest. This could mean that an intermediate result is being cached.\n",
            "10000 loops, best of 3: 64 µs per loop\n"
          ],
          "name": "stdout"
        }
      ]
    },
    {
      "cell_type": "markdown",
      "metadata": {
        "id": "2pHv67wtsthz",
        "colab_type": "text"
      },
      "source": [
        "So we can use it in the following function that checks for gradient overflow:"
      ]
    },
    {
      "cell_type": "code",
      "metadata": {
        "id": "sjACZ9uisth0",
        "colab_type": "code",
        "colab": {}
      },
      "source": [
        "# export \n",
        "def grad_overflow(param_groups):\n",
        "    for group in param_groups:\n",
        "        for p in group:\n",
        "            if p.grad is not None:\n",
        "                s = float(p.grad.data.float().sum())\n",
        "                if s == float('inf') or s == float('-inf') or s != s: return True\n",
        "    return False"
      ],
      "execution_count": 0,
      "outputs": []
    },
    {
      "cell_type": "markdown",
      "metadata": {
        "id": "E1NYax0ysth3",
        "colab_type": "text"
      },
      "source": [
        "And now we can write a new version of the `Callback` that handles dynamic loss scaling."
      ]
    },
    {
      "cell_type": "code",
      "metadata": {
        "id": "lFW9MffJsth4",
        "colab_type": "code",
        "colab": {}
      },
      "source": [
        "# export \n",
        "class MixedPrecision(Callback):\n",
        "    _order = 99\n",
        "    def __init__(self, loss_scale=512, flat_master=False, dynamic=True, max_loss_scale=2.**24, div_factor=2.,\n",
        "                 scale_wait=500):\n",
        "        assert torch.backends.cudnn.enabled, \"Mixed precision training requires cudnn.\"\n",
        "        self.flat_master,self.dynamic,self.max_loss_scale = flat_master,dynamic,max_loss_scale\n",
        "        self.div_factor,self.scale_wait = div_factor,scale_wait\n",
        "        self.loss_scale = max_loss_scale if dynamic else loss_scale\n",
        "\n",
        "    def begin_fit(self):\n",
        "        self.run.model = fp16.convert_network(self.model, dtype=torch.float16)\n",
        "        self.model_pgs, self.master_pgs = get_master(self.opt, self.flat_master)\n",
        "        #Changes the optimizer so that the optimization step is done in FP32.\n",
        "        self.run.opt.param_groups = self.master_pgs #Put those param groups inside our runner.\n",
        "        if self.dynamic: self.count = 0\n",
        "\n",
        "    def begin_batch(self): self.run.xb = self.run.xb.half() #Put the inputs to half precision\n",
        "    def after_pred(self):  self.run.pred = self.run.pred.float() #Compute the loss in FP32\n",
        "    def after_loss(self):  \n",
        "        if self.in_train: self.run.loss *= self.loss_scale #Loss scaling to avoid gradient underflow\n",
        "\n",
        "    def after_backward(self):\n",
        "        #First, check for an overflow\n",
        "        if self.dynamic and grad_overflow(self.model_pgs):\n",
        "            #Divide the loss scale by div_factor, zero the grad (after_step will be skipped)\n",
        "            self.loss_scale /= self.div_factor\n",
        "            self.model.zero_grad()\n",
        "            return True #skip step and zero_grad\n",
        "        #Copy the gradients to master and unscale\n",
        "        to_master_grads(self.model_pgs, self.master_pgs, self.flat_master)\n",
        "        for master_params in self.master_pgs:\n",
        "            for param in master_params:\n",
        "                if param.grad is not None: param.grad.div_(self.loss_scale)\n",
        "        #Check if it's been long enough without overflow\n",
        "        if self.dynamic:\n",
        "            self.count += 1\n",
        "            if self.count == self.scale_wait:\n",
        "                self.count = 0\n",
        "                self.loss_scale *= self.div_factor\n",
        "\n",
        "    def after_step(self):\n",
        "        #Zero the gradients of the model since the optimizer is disconnected.\n",
        "        self.model.zero_grad()\n",
        "        #Update the params from master to model.\n",
        "        to_model_params(self.model_pgs, self.master_pgs, self.flat_master)"
      ],
      "execution_count": 0,
      "outputs": []
    },
    {
      "cell_type": "code",
      "metadata": {
        "id": "xU-yYhJLsth8",
        "colab_type": "code",
        "colab": {}
      },
      "source": [
        "cbfs = [partial(AvgStatsCallback,accuracy),\n",
        "        CudaCallback,\n",
        "        ProgressCallback,\n",
        "        partial(BatchTransformXCallback, norm_imagenette),\n",
        "        MixedPrecision]"
      ],
      "execution_count": 0,
      "outputs": []
    },
    {
      "cell_type": "code",
      "metadata": {
        "id": "SriEtdyFstiI",
        "colab_type": "code",
        "colab": {}
      },
      "source": [
        "learn = get_learner(nfs, data, 1e-2, conv_layer, cb_funcs=cbfs)"
      ],
      "execution_count": 0,
      "outputs": []
    },
    {
      "cell_type": "code",
      "metadata": {
        "id": "a3ftSPnLstiM",
        "colab_type": "code",
        "colab": {
          "base_uri": "https://localhost:8080/",
          "height": 80
        },
        "outputId": "9adf9e14-76ed-4a4e-a492-fea246434213"
      },
      "source": [
        "learn.fit(1)"
      ],
      "execution_count": 93,
      "outputs": [
        {
          "output_type": "display_data",
          "data": {
            "text/html": [
              "<table border=\"1\" class=\"dataframe\">\n",
              "  <thead>\n",
              "    <tr style=\"text-align: left;\">\n",
              "      <th>epoch</th>\n",
              "      <th>train_loss</th>\n",
              "      <th>train_accuracy</th>\n",
              "      <th>valid_loss</th>\n",
              "      <th>valid_accuracy</th>\n",
              "      <th>time</th>\n",
              "    </tr>\n",
              "  </thead>\n",
              "  <tbody>\n",
              "    <tr>\n",
              "      <td>0</td>\n",
              "      <td>1.940661</td>\n",
              "      <td>0.365364</td>\n",
              "      <td>1.619411</td>\n",
              "      <td>0.430000</td>\n",
              "      <td>00:22</td>\n",
              "    </tr>\n",
              "  </tbody>\n",
              "</table>"
            ],
            "text/plain": [
              "<IPython.core.display.HTML object>"
            ]
          },
          "metadata": {
            "tags": []
          }
        }
      ]
    },
    {
      "cell_type": "markdown",
      "metadata": {
        "id": "QbTf7zkastiT",
        "colab_type": "text"
      },
      "source": [
        "The loss scale used is way higher than our previous number:"
      ]
    },
    {
      "cell_type": "code",
      "metadata": {
        "id": "UN1XkMD3stiU",
        "colab_type": "code",
        "colab": {
          "base_uri": "https://localhost:8080/",
          "height": 35
        },
        "outputId": "9e99b1a7-b161-4bfb-f21f-b843f3009392"
      },
      "source": [
        "learn.cbs[-1].loss_scale"
      ],
      "execution_count": 94,
      "outputs": [
        {
          "output_type": "execute_result",
          "data": {
            "text/plain": [
              "65536.0"
            ]
          },
          "metadata": {
            "tags": []
          },
          "execution_count": 94
        }
      ]
    },
    {
      "cell_type": "markdown",
      "metadata": {
        "id": "h5GTXrAwstiY",
        "colab_type": "text"
      },
      "source": [
        "## Export"
      ]
    },
    {
      "cell_type": "code",
      "metadata": {
        "id": "BPMW3zqqstia",
        "colab_type": "code",
        "colab": {
          "base_uri": "https://localhost:8080/",
          "height": 35
        },
        "outputId": "5fc5991b-7d01-486e-e25a-12e704303263"
      },
      "source": [
        "!./notebook2script.py 10c_fp16.ipynb"
      ],
      "execution_count": 95,
      "outputs": [
        {
          "output_type": "stream",
          "text": [
            "/bin/bash: ./notebook2script.py: No such file or directory\n"
          ],
          "name": "stdout"
        }
      ]
    },
    {
      "cell_type": "code",
      "metadata": {
        "id": "D0xJjAbxstig",
        "colab_type": "code",
        "colab": {}
      },
      "source": [
        ""
      ],
      "execution_count": 0,
      "outputs": []
    }
  ]
}