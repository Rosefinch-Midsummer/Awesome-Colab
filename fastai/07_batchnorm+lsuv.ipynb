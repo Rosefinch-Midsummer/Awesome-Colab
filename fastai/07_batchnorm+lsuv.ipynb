{
  "nbformat": 4,
  "nbformat_minor": 0,
  "metadata": {
    "kernelspec": {
      "name": "python3",
      "display_name": "Python 3"
    },
    "colab": {
      "name": "07_batchnorm+lsuv.ipynb",
      "provenance": [],
      "collapsed_sections": [],
      "include_colab_link": true
    },
    "accelerator": "GPU"
  },
  "cells": [
    {
      "cell_type": "markdown",
      "metadata": {
        "id": "view-in-github",
        "colab_type": "text"
      },
      "source": [
        "<a href=\"https://colab.research.google.com/github/Rosefinch-Midsummer/Awesome-Colab/blob/master/fastai/07_batchnorm%2Blsuv.ipynb\" target=\"_parent\"><img src=\"https://colab.research.google.com/assets/colab-badge.svg\" alt=\"Open In Colab\"/></a>"
      ]
    },
    {
      "cell_type": "code",
      "metadata": {
        "id": "VnlutcFQhPAF",
        "colab_type": "code",
        "colab": {}
      },
      "source": [
        "%load_ext autoreload\n",
        "%autoreload 2\n",
        "\n",
        "%matplotlib inline"
      ],
      "execution_count": 0,
      "outputs": []
    },
    {
      "cell_type": "code",
      "metadata": {
        "id": "UaSuSPORkM72",
        "colab_type": "code",
        "colab": {}
      },
      "source": [
        "!git clone https://github.com/fastai/course-v3"
      ],
      "execution_count": 0,
      "outputs": []
    },
    {
      "cell_type": "code",
      "metadata": {
        "id": "rkLj_QpFkNRR",
        "colab_type": "code",
        "colab": {
          "base_uri": "https://localhost:8080/",
          "height": 35
        },
        "outputId": "79a51475-603e-49e9-d889-c8f2346d786f"
      },
      "source": [
        "cd course-v3/nbs/dl2"
      ],
      "execution_count": 3,
      "outputs": [
        {
          "output_type": "stream",
          "text": [
            "/content/course-v3/nbs/dl2\n"
          ],
          "name": "stdout"
        }
      ]
    },
    {
      "cell_type": "code",
      "metadata": {
        "id": "H0w5g-vuhPAW",
        "colab_type": "code",
        "colab": {}
      },
      "source": [
        "#export\n",
        "from exp.nb_06 import *"
      ],
      "execution_count": 0,
      "outputs": []
    },
    {
      "cell_type": "markdown",
      "metadata": {
        "id": "ICgAAj3PhPAe",
        "colab_type": "text"
      },
      "source": [
        "## ConvNet"
      ]
    },
    {
      "cell_type": "markdown",
      "metadata": {
        "id": "WjFFwdoUhPAg",
        "colab_type": "text"
      },
      "source": [
        "Let's get the data and training interface from where we left in the last notebook."
      ]
    },
    {
      "cell_type": "markdown",
      "metadata": {
        "id": "FlZoQhi3hPAk",
        "colab_type": "text"
      },
      "source": [
        "[Jump_to lesson 10 video](https://course.fast.ai/videos/?lesson=10&t=5899)"
      ]
    },
    {
      "cell_type": "code",
      "metadata": {
        "id": "WZSu4MsGhPAm",
        "colab_type": "code",
        "colab": {
          "base_uri": "https://localhost:8080/",
          "height": 35
        },
        "outputId": "18666462-36e8-400e-cb63-3aeddd6769ac"
      },
      "source": [
        "x_train,y_train,x_valid,y_valid = get_data()\n",
        "\n",
        "x_train,x_valid = normalize_to(x_train,x_valid)\n",
        "train_ds,valid_ds = Dataset(x_train, y_train),Dataset(x_valid, y_valid)\n",
        "\n",
        "nh,bs = 50,512\n",
        "c = y_train.max().item()+1\n",
        "loss_func = F.cross_entropy\n",
        "\n",
        "data = DataBunch(*get_dls(train_ds, valid_ds, bs), c)"
      ],
      "execution_count": 5,
      "outputs": [
        {
          "output_type": "stream",
          "text": [
            "Downloading http://deeplearning.net/data/mnist/mnist.pkl\n"
          ],
          "name": "stdout"
        },
        {
          "output_type": "display_data",
          "data": {
            "text/html": [
              ""
            ],
            "text/plain": [
              "<IPython.core.display.HTML object>"
            ]
          },
          "metadata": {
            "tags": []
          }
        }
      ]
    },
    {
      "cell_type": "code",
      "metadata": {
        "id": "MYFo1iz2hPAv",
        "colab_type": "code",
        "colab": {}
      },
      "source": [
        "mnist_view = view_tfm(1,28,28)\n",
        "cbfs = [Recorder,\n",
        "        partial(AvgStatsCallback,accuracy),\n",
        "        CudaCallback,\n",
        "        partial(BatchTransformXCallback, mnist_view)]"
      ],
      "execution_count": 0,
      "outputs": []
    },
    {
      "cell_type": "code",
      "metadata": {
        "id": "atPu6p_3hPA3",
        "colab_type": "code",
        "colab": {}
      },
      "source": [
        "nfs = [8,16,32,64,64]"
      ],
      "execution_count": 0,
      "outputs": []
    },
    {
      "cell_type": "code",
      "metadata": {
        "id": "nFFljAcghPA9",
        "colab_type": "code",
        "colab": {}
      },
      "source": [
        "learn,run = get_learn_run(nfs, data, 0.4, conv_layer, cbs=cbfs)"
      ],
      "execution_count": 0,
      "outputs": []
    },
    {
      "cell_type": "code",
      "metadata": {
        "id": "giiz6OFBhPBC",
        "colab_type": "code",
        "outputId": "089ecee0-aae4-471a-be6e-909f96168d9f",
        "colab": {
          "base_uri": "https://localhost:8080/",
          "height": 125
        }
      },
      "source": [
        "%time run.fit(2, learn)"
      ],
      "execution_count": 9,
      "outputs": [
        {
          "output_type": "stream",
          "text": [
            "train: [1.54061578125, tensor(0.4754, device='cuda:0')]\n",
            "valid: [0.374801123046875, tensor(0.8847, device='cuda:0')]\n",
            "train: [0.22092578125, tensor(0.9342, device='cuda:0')]\n",
            "valid: [0.14276248779296874, tensor(0.9572, device='cuda:0')]\n",
            "CPU times: user 4.14 s, sys: 1.13 s, total: 5.27 s\n",
            "Wall time: 11.2 s\n"
          ],
          "name": "stdout"
        }
      ]
    },
    {
      "cell_type": "markdown",
      "metadata": {
        "id": "qAUUD0oXhPBM",
        "colab_type": "text"
      },
      "source": [
        "## Batchnorm"
      ]
    },
    {
      "cell_type": "markdown",
      "metadata": {
        "id": "fc-GAVyshPBO",
        "colab_type": "text"
      },
      "source": [
        "### Custom"
      ]
    },
    {
      "cell_type": "markdown",
      "metadata": {
        "id": "cuF7P2_-hPBQ",
        "colab_type": "text"
      },
      "source": [
        "Let's start by building our own `BatchNorm` layer from scratch."
      ]
    },
    {
      "cell_type": "markdown",
      "metadata": {
        "id": "ze0ehoxehPBR",
        "colab_type": "text"
      },
      "source": [
        "[Jump_to lesson 10 video](https://course.fast.ai/videos/?lesson=10&t=6018)"
      ]
    },
    {
      "cell_type": "code",
      "metadata": {
        "id": "N4GSj3lxhPBU",
        "colab_type": "code",
        "colab": {}
      },
      "source": [
        "class BatchNorm(nn.Module):\n",
        "    def __init__(self, nf, mom=0.1, eps=1e-5):\n",
        "        super().__init__()\n",
        "        # NB: pytorch bn mom is opposite of what you'd expect\n",
        "        self.mom,self.eps = mom,eps\n",
        "        self.mults = nn.Parameter(torch.ones (nf,1,1))\n",
        "        self.adds  = nn.Parameter(torch.zeros(nf,1,1))\n",
        "        self.register_buffer('vars',  torch.ones(1,nf,1,1))\n",
        "        self.register_buffer('means', torch.zeros(1,nf,1,1))\n",
        "\n",
        "    def update_stats(self, x):\n",
        "        m = x.mean((0,2,3), keepdim=True)\n",
        "        v = x.var ((0,2,3), keepdim=True)\n",
        "        self.means.lerp_(m, self.mom)\n",
        "        self.vars.lerp_ (v, self.mom)\n",
        "        return m,v\n",
        "        \n",
        "    def forward(self, x):\n",
        "        if self.training:\n",
        "            with torch.no_grad(): m,v = self.update_stats(x)\n",
        "        else: m,v = self.means,self.vars\n",
        "        x = (x-m) / (v+self.eps).sqrt()\n",
        "        return x*self.mults + self.adds"
      ],
      "execution_count": 0,
      "outputs": []
    },
    {
      "cell_type": "code",
      "metadata": {
        "id": "ait7XHiFhPBb",
        "colab_type": "code",
        "colab": {}
      },
      "source": [
        "def conv_layer(ni, nf, ks=3, stride=2, bn=True, **kwargs):\n",
        "    # No bias needed if using bn\n",
        "    layers = [nn.Conv2d(ni, nf, ks, padding=ks//2, stride=stride, bias=not bn),\n",
        "              GeneralRelu(**kwargs)]\n",
        "    if bn: layers.append(BatchNorm(nf))\n",
        "    return nn.Sequential(*layers)"
      ],
      "execution_count": 0,
      "outputs": []
    },
    {
      "cell_type": "code",
      "metadata": {
        "id": "bQQz2hEWhPBh",
        "colab_type": "code",
        "colab": {}
      },
      "source": [
        "#export\n",
        "def init_cnn_(m, f):\n",
        "    if isinstance(m, nn.Conv2d):\n",
        "        f(m.weight, a=0.1)\n",
        "        if getattr(m, 'bias', None) is not None: m.bias.data.zero_()\n",
        "    for l in m.children(): init_cnn_(l, f)\n",
        "\n",
        "def init_cnn(m, uniform=False):\n",
        "    f = init.kaiming_uniform_ if uniform else init.kaiming_normal_\n",
        "    init_cnn_(m, f)\n",
        "\n",
        "def get_learn_run(nfs, data, lr, layer, cbs=None, opt_func=None, uniform=False, **kwargs):\n",
        "    model = get_cnn_model(data, nfs, layer, **kwargs)\n",
        "    init_cnn(model, uniform=uniform)\n",
        "    return get_runner(model, data, lr=lr, cbs=cbs, opt_func=opt_func)"
      ],
      "execution_count": 0,
      "outputs": []
    },
    {
      "cell_type": "markdown",
      "metadata": {
        "id": "4P8ErPtChPBq",
        "colab_type": "text"
      },
      "source": [
        "We can then use it in training and see how it helps keep the activations means to 0 and the std to 1."
      ]
    },
    {
      "cell_type": "code",
      "metadata": {
        "id": "QqUVQva8hPBs",
        "colab_type": "code",
        "colab": {}
      },
      "source": [
        "learn,run = get_learn_run(nfs, data, 0.9, conv_layer, cbs=cbfs)"
      ],
      "execution_count": 0,
      "outputs": []
    },
    {
      "cell_type": "code",
      "metadata": {
        "id": "ZfiPhwuyhPBz",
        "colab_type": "code",
        "outputId": "d12b1f91-0f69-4e2f-fa2c-aab83c05ecb9",
        "colab": {
          "base_uri": "https://localhost:8080/",
          "height": 549
        }
      },
      "source": [
        "with Hooks(learn.model, append_stats) as hooks:\n",
        "    run.fit(1, learn)\n",
        "    fig,(ax0,ax1) = plt.subplots(1,2, figsize=(10,4))\n",
        "    for h in hooks[:-1]:\n",
        "        ms,ss = h.stats\n",
        "        ax0.plot(ms[:10])\n",
        "        ax1.plot(ss[:10])\n",
        "        h.remove()\n",
        "    plt.legend(range(6));\n",
        "    \n",
        "    fig,(ax0,ax1) = plt.subplots(1,2, figsize=(10,4))\n",
        "    for h in hooks[:-1]:\n",
        "        ms,ss = h.stats\n",
        "        ax0.plot(ms)\n",
        "        ax1.plot(ss)"
      ],
      "execution_count": 14,
      "outputs": [
        {
          "output_type": "stream",
          "text": [
            "train: [0.28439931640625, tensor(0.9098, device='cuda:0')]\n",
            "valid: [0.1267755859375, tensor(0.9618, device='cuda:0')]\n"
          ],
          "name": "stdout"
        },
        {
          "output_type": "display_data",
          "data": {
            "image/png": "[encoded data removed]",
            "text/plain": [
              "<Figure size 720x288 with 2 Axes>"
            ]
          },
          "metadata": {
            "tags": []
          }
        },
        {
          "output_type": "display_data",
          "data": {
            "image/png": "[encoded data removed]",
            "text/plain": [
              "<Figure size 720x288 with 2 Axes>"
            ]
          },
          "metadata": {
            "tags": []
          }
        }
      ]
    },
    {
      "cell_type": "code",
      "metadata": {
        "id": "4jP3iSvkhPB9",
        "colab_type": "code",
        "colab": {}
      },
      "source": [
        "learn,run = get_learn_run(nfs, data, 1.0, conv_layer, cbs=cbfs)"
      ],
      "execution_count": 0,
      "outputs": []
    },
    {
      "cell_type": "code",
      "metadata": {
        "id": "pnlboFvahPCC",
        "colab_type": "code",
        "outputId": "71e68045-e42c-4b7c-b5a3-ed4c3ba06387",
        "colab": {
          "base_uri": "https://localhost:8080/",
          "height": 161
        }
      },
      "source": [
        "%time run.fit(3, learn)"
      ],
      "execution_count": 16,
      "outputs": [
        {
          "output_type": "stream",
          "text": [
            "train: [0.2683153515625, tensor(0.9150, device='cuda:0')]\n",
            "valid: [0.11495645751953125, tensor(0.9668, device='cuda:0')]\n",
            "train: [0.08236111328125, tensor(0.9751, device='cuda:0')]\n",
            "valid: [0.1501632080078125, tensor(0.9510, device='cuda:0')]\n",
            "train: [0.0604461181640625, tensor(0.9815, device='cuda:0')]\n",
            "valid: [0.07413959350585937, tensor(0.9781, device='cuda:0')]\n",
            "CPU times: user 3 s, sys: 373 ms, total: 3.37 s\n",
            "Wall time: 3.35 s\n"
          ],
          "name": "stdout"
        }
      ]
    },
    {
      "cell_type": "markdown",
      "metadata": {
        "id": "vWCn-kgfhPCL",
        "colab_type": "text"
      },
      "source": [
        "### Builtin batchnorm"
      ]
    },
    {
      "cell_type": "markdown",
      "metadata": {
        "id": "S5SJtr8XhPCM",
        "colab_type": "text"
      },
      "source": [
        "[Jump_to lesson 10 video](https://course.fast.ai/videos/?lesson=10&t=6679)"
      ]
    },
    {
      "cell_type": "code",
      "metadata": {
        "id": "cl0WMGUdhPCO",
        "colab_type": "code",
        "colab": {}
      },
      "source": [
        "#export\n",
        "def conv_layer(ni, nf, ks=3, stride=2, bn=True, **kwargs):\n",
        "    layers = [nn.Conv2d(ni, nf, ks, padding=ks//2, stride=stride, bias=not bn),\n",
        "              GeneralRelu(**kwargs)]\n",
        "    if bn: layers.append(nn.BatchNorm2d(nf, eps=1e-5, momentum=0.1))\n",
        "    return nn.Sequential(*layers)"
      ],
      "execution_count": 0,
      "outputs": []
    },
    {
      "cell_type": "code",
      "metadata": {
        "id": "vVSuRL65hPCV",
        "colab_type": "code",
        "colab": {}
      },
      "source": [
        "learn,run = get_learn_run(nfs, data, 1., conv_layer, cbs=cbfs)"
      ],
      "execution_count": 0,
      "outputs": []
    },
    {
      "cell_type": "code",
      "metadata": {
        "id": "2-JGG0xDhPCd",
        "colab_type": "code",
        "outputId": "fb124e7a-4586-453d-c31d-0ed89fbcfdfd",
        "colab": {
          "base_uri": "https://localhost:8080/",
          "height": 161
        }
      },
      "source": [
        "%time run.fit(3, learn)"
      ],
      "execution_count": 19,
      "outputs": [
        {
          "output_type": "stream",
          "text": [
            "train: [0.216511171875, tensor(0.9324, device='cuda:0')]\n",
            "valid: [0.08217789916992188, tensor(0.9758, device='cuda:0')]\n",
            "train: [0.062379228515625, tensor(0.9807, device='cuda:0')]\n",
            "valid: [0.06469453735351563, tensor(0.9802, device='cuda:0')]\n",
            "train: [0.04240828125, tensor(0.9870, device='cuda:0')]\n",
            "valid: [0.06012373657226563, tensor(0.9820, device='cuda:0')]\n",
            "CPU times: user 2.88 s, sys: 365 ms, total: 3.25 s\n",
            "Wall time: 3.23 s\n"
          ],
          "name": "stdout"
        }
      ]
    },
    {
      "cell_type": "markdown",
      "metadata": {
        "id": "spR0tcidhPCj",
        "colab_type": "text"
      },
      "source": [
        "### With scheduler"
      ]
    },
    {
      "cell_type": "markdown",
      "metadata": {
        "id": "kKamn_gXhPCu",
        "colab_type": "text"
      },
      "source": [
        "Now let's add the usual warm-up/annealing."
      ]
    },
    {
      "cell_type": "code",
      "metadata": {
        "id": "59itCua5hPCw",
        "colab_type": "code",
        "colab": {}
      },
      "source": [
        "sched = combine_scheds([0.3, 0.7], [sched_lin(0.6, 2.), sched_lin(2., 0.1)]) "
      ],
      "execution_count": 0,
      "outputs": []
    },
    {
      "cell_type": "code",
      "metadata": {
        "id": "im7zQfAKhPC7",
        "colab_type": "code",
        "colab": {}
      },
      "source": [
        "learn,run = get_learn_run(nfs, data, 0.9, conv_layer, cbs=cbfs\n",
        "                          +[partial(ParamScheduler,'lr', sched)])"
      ],
      "execution_count": 0,
      "outputs": []
    },
    {
      "cell_type": "code",
      "metadata": {
        "id": "hJEQxJXAhPDB",
        "colab_type": "code",
        "outputId": "0517b4fa-85aa-47f9-8656-be2fd8f79fee",
        "colab": {
          "base_uri": "https://localhost:8080/",
          "height": 305
        }
      },
      "source": [
        "run.fit(8, learn)"
      ],
      "execution_count": 22,
      "outputs": [
        {
          "output_type": "stream",
          "text": [
            "train: [0.25468876953125, tensor(0.9220, device='cuda:0')]\n",
            "valid: [0.2212282470703125, tensor(0.9298, device='cuda:0')]\n",
            "train: [0.08443138671875, tensor(0.9735, device='cuda:0')]\n",
            "valid: [0.0806427734375, tensor(0.9753, device='cuda:0')]\n",
            "train: [0.0564021533203125, tensor(0.9820, device='cuda:0')]\n",
            "valid: [0.05879434204101563, tensor(0.9833, device='cuda:0')]\n",
            "train: [0.033332607421875, tensor(0.9890, device='cuda:0')]\n",
            "valid: [0.0689575439453125, tensor(0.9811, device='cuda:0')]\n",
            "train: [0.020893935546875, tensor(0.9939, device='cuda:0')]\n",
            "valid: [0.04840125732421875, tensor(0.9868, device='cuda:0')]\n",
            "train: [0.012028076171875, tensor(0.9969, device='cuda:0')]\n",
            "valid: [0.04455964050292969, tensor(0.9874, device='cuda:0')]\n",
            "train: [0.0072020751953125, tensor(0.9985, device='cuda:0')]\n",
            "valid: [0.042341143798828126, tensor(0.9876, device='cuda:0')]\n",
            "train: [0.004905939331054688, tensor(0.9992, device='cuda:0')]\n",
            "valid: [0.041592825317382814, tensor(0.9882, device='cuda:0')]\n"
          ],
          "name": "stdout"
        }
      ]
    },
    {
      "cell_type": "markdown",
      "metadata": {
        "id": "CR3CnJHahPDH",
        "colab_type": "text"
      },
      "source": [
        "## More norms"
      ]
    },
    {
      "cell_type": "markdown",
      "metadata": {
        "id": "ZItvQGRPhPDL",
        "colab_type": "text"
      },
      "source": [
        "### Layer norm"
      ]
    },
    {
      "cell_type": "markdown",
      "metadata": {
        "id": "ZGVFSkarhPDN",
        "colab_type": "text"
      },
      "source": [
        "From [the paper](https://arxiv.org/abs/1607.06450): \"*batch normalization cannot be applied to online learning tasks or to extremely large distributed models where the minibatches have to be small*\"."
      ]
    },
    {
      "cell_type": "markdown",
      "metadata": {
        "id": "seKMlKgkhPDP",
        "colab_type": "text"
      },
      "source": [
        "General equation for a norm layer with learnable affine:\n",
        "\n",
        "$$y = \\frac{x - \\mathrm{E}[x]}{ \\sqrt{\\mathrm{Var}[x] + \\epsilon}} * \\gamma + \\beta$$\n",
        "\n",
        "The difference with BatchNorm is\n",
        "1. we don't keep a moving average\n",
        "2. we don't average over the batches dimension but over the hidden dimension, so it's independent of the batch size"
      ]
    },
    {
      "cell_type": "markdown",
      "metadata": {
        "id": "k1xCrBf1hPDQ",
        "colab_type": "text"
      },
      "source": [
        "[Jump_to lesson 10 video](https://course.fast.ai/videos/?lesson=10&t=6717)"
      ]
    },
    {
      "cell_type": "code",
      "metadata": {
        "id": "-UwaEDAGhPDS",
        "colab_type": "code",
        "colab": {}
      },
      "source": [
        "class LayerNorm(nn.Module):\n",
        "    __constants__ = ['eps']\n",
        "    def __init__(self, eps=1e-5):\n",
        "        super().__init__()\n",
        "        self.eps = eps\n",
        "        self.mult = nn.Parameter(tensor(1.))\n",
        "        self.add  = nn.Parameter(tensor(0.))\n",
        "\n",
        "    def forward(self, x):\n",
        "        m = x.mean((1,2,3), keepdim=True)\n",
        "        v = x.var ((1,2,3), keepdim=True)\n",
        "        x = (x-m) / ((v+self.eps).sqrt())\n",
        "        return x*self.mult + self.add"
      ],
      "execution_count": 0,
      "outputs": []
    },
    {
      "cell_type": "code",
      "metadata": {
        "id": "7iVN3tJfhPDY",
        "colab_type": "code",
        "colab": {}
      },
      "source": [
        "def conv_ln(ni, nf, ks=3, stride=2, bn=True, **kwargs):\n",
        "    layers = [nn.Conv2d(ni, nf, ks, padding=ks//2, stride=stride, bias=True),\n",
        "              GeneralRelu(**kwargs)]\n",
        "    if bn: layers.append(LayerNorm())\n",
        "    return nn.Sequential(*layers)"
      ],
      "execution_count": 0,
      "outputs": []
    },
    {
      "cell_type": "code",
      "metadata": {
        "id": "zj4UYI1VhPDf",
        "colab_type": "code",
        "colab": {}
      },
      "source": [
        "learn,run = get_learn_run(nfs, data, 0.8, conv_ln, cbs=cbfs)"
      ],
      "execution_count": 0,
      "outputs": []
    },
    {
      "cell_type": "code",
      "metadata": {
        "id": "6VIoNIwRhPDm",
        "colab_type": "code",
        "outputId": "b1599d82-2ebf-4d8c-d5fc-f23510dbcec5",
        "colab": {
          "base_uri": "https://localhost:8080/",
          "height": 161
        }
      },
      "source": [
        "%time run.fit(3, learn)"
      ],
      "execution_count": 26,
      "outputs": [
        {
          "output_type": "stream",
          "text": [
            "train: [nan, tensor(0.1141, device='cuda:0')]\n",
            "valid: [nan, tensor(0.0991, device='cuda:0')]\n",
            "train: [nan, tensor(0.0986, device='cuda:0')]\n",
            "valid: [nan, tensor(0.0991, device='cuda:0')]\n",
            "train: [nan, tensor(0.0986, device='cuda:0')]\n",
            "valid: [nan, tensor(0.0991, device='cuda:0')]\n",
            "CPU times: user 3.51 s, sys: 388 ms, total: 3.9 s\n",
            "Wall time: 3.87 s\n"
          ],
          "name": "stdout"
        }
      ]
    },
    {
      "cell_type": "markdown",
      "metadata": {
        "id": "71x1amtfhPDv",
        "colab_type": "text"
      },
      "source": [
        "*Thought experiment*: can this distinguish foggy days from sunny days (assuming you're using it before the first conv)?"
      ]
    },
    {
      "cell_type": "markdown",
      "metadata": {
        "id": "Oqux3XlrhPDw",
        "colab_type": "text"
      },
      "source": [
        "### Instance norm"
      ]
    },
    {
      "cell_type": "markdown",
      "metadata": {
        "id": "JiKEOwnghPD1",
        "colab_type": "text"
      },
      "source": [
        "From [the paper](https://arxiv.org/abs/1607.08022): "
      ]
    },
    {
      "cell_type": "markdown",
      "metadata": {
        "id": "TploIO1lhPD3",
        "colab_type": "text"
      },
      "source": [
        "The key difference between **contrast** and batch normalization is that the latter applies the normalization to a  whole batch of images instead for single ones:\n",
        "\n",
        "\\begin{equation}\\label{eq:bnorm}\n",
        "    y_{tijk} =  \\frac{x_{tijk} - \\mu_{i}}{\\sqrt{\\sigma_i^2 + \\epsilon}},\n",
        "    \\quad\n",
        "    \\mu_i = \\frac{1}{HWT}\\sum_{t=1}^T\\sum_{l=1}^W \\sum_{m=1}^H x_{tilm},\n",
        "    \\quad\n",
        "    \\sigma_i^2 = \\frac{1}{HWT}\\sum_{t=1}^T\\sum_{l=1}^W \\sum_{m=1}^H (x_{tilm} - mu_i)^2.\n",
        "\\end{equation}\n",
        "\n",
        "In order to combine the effects of instance-specific normalization and batch normalization, we propose to replace the latter by the *instance normalization* (also known as *contrast normalization*) layer:\n",
        "\n",
        "\\begin{equation}\\label{eq:inorm}\n",
        "    y_{tijk} =  \\frac{x_{tijk} - \\mu_{ti}}{\\sqrt{\\sigma_{ti}^2 + \\epsilon}},\n",
        "    \\quad\n",
        "    \\mu_{ti} = \\frac{1}{HW}\\sum_{l=1}^W \\sum_{m=1}^H x_{tilm},\n",
        "    \\quad\n",
        "    \\sigma_{ti}^2 = \\frac{1}{HW}\\sum_{l=1}^W \\sum_{m=1}^H (x_{tilm} - mu_{ti})^2.\n",
        "\\end{equation}"
      ]
    },
    {
      "cell_type": "markdown",
      "metadata": {
        "id": "L4S2WL3zhPD4",
        "colab_type": "text"
      },
      "source": [
        "[Jump_to lesson 10 video](https://course.fast.ai/videos/?lesson=10&t=7114)"
      ]
    },
    {
      "cell_type": "code",
      "metadata": {
        "id": "HWrRYxr3hPD9",
        "colab_type": "code",
        "colab": {}
      },
      "source": [
        "class InstanceNorm(nn.Module):\n",
        "    __constants__ = ['eps']\n",
        "    def __init__(self, nf, eps=1e-0):\n",
        "        super().__init__()\n",
        "        self.eps = eps\n",
        "        self.mults = nn.Parameter(torch.ones (nf,1,1))\n",
        "        self.adds  = nn.Parameter(torch.zeros(nf,1,1))\n",
        "\n",
        "    def forward(self, x):\n",
        "        m = x.mean((2,3), keepdim=True)\n",
        "        v = x.var ((2,3), keepdim=True)\n",
        "        res = (x-m) / ((v+self.eps).sqrt())\n",
        "        return res*self.mults + self.adds"
      ],
      "execution_count": 0,
      "outputs": []
    },
    {
      "cell_type": "code",
      "metadata": {
        "id": "bvbkZOhLhPEC",
        "colab_type": "code",
        "colab": {}
      },
      "source": [
        "def conv_in(ni, nf, ks=3, stride=2, bn=True, **kwargs):\n",
        "    layers = [nn.Conv2d(ni, nf, ks, padding=ks//2, stride=stride, bias=True),\n",
        "              GeneralRelu(**kwargs)]\n",
        "    if bn: layers.append(InstanceNorm(nf))\n",
        "    return nn.Sequential(*layers)"
      ],
      "execution_count": 0,
      "outputs": []
    },
    {
      "cell_type": "code",
      "metadata": {
        "id": "7ULw91JqhPEH",
        "colab_type": "code",
        "colab": {}
      },
      "source": [
        "learn,run = get_learn_run(nfs, data, 0.1, conv_in, cbs=cbfs)"
      ],
      "execution_count": 0,
      "outputs": []
    },
    {
      "cell_type": "code",
      "metadata": {
        "id": "cW8UYpR8hPEM",
        "colab_type": "code",
        "outputId": "f0a141ea-745a-4ee5-e461-c834ca94309f",
        "colab": {
          "base_uri": "https://localhost:8080/",
          "height": 161
        }
      },
      "source": [
        "%time run.fit(3, learn)"
      ],
      "execution_count": 30,
      "outputs": [
        {
          "output_type": "stream",
          "text": [
            "train: [nan, tensor(0.0986, device='cuda:0')]\n",
            "valid: [nan, tensor(0.0991, device='cuda:0')]\n",
            "train: [nan, tensor(0.0986, device='cuda:0')]\n",
            "valid: [nan, tensor(0.0991, device='cuda:0')]\n",
            "train: [nan, tensor(0.0986, device='cuda:0')]\n",
            "valid: [nan, tensor(0.0991, device='cuda:0')]\n",
            "CPU times: user 3.61 s, sys: 411 ms, total: 4.02 s\n",
            "Wall time: 4 s\n"
          ],
          "name": "stdout"
        }
      ]
    },
    {
      "cell_type": "markdown",
      "metadata": {
        "id": "5vBNqOqwhPEV",
        "colab_type": "text"
      },
      "source": [
        "*Question*: why can't this classify anything?"
      ]
    },
    {
      "cell_type": "markdown",
      "metadata": {
        "id": "yr7xaQYahPEX",
        "colab_type": "text"
      },
      "source": [
        "Lost in all those norms? The authors from the [group norm paper](https://arxiv.org/pdf/1803.08494.pdf) have you covered:\n",
        "\n",
        "![Various norms](https://github.com/fastai/course-v3/blob/master/nbs/dl2/images/norms.png?raw=1)"
      ]
    },
    {
      "cell_type": "markdown",
      "metadata": {
        "id": "4Pqg8WAxhPEZ",
        "colab_type": "text"
      },
      "source": [
        "### Group norm"
      ]
    },
    {
      "cell_type": "markdown",
      "metadata": {
        "id": "Lea12niihPEa",
        "colab_type": "text"
      },
      "source": [
        "[Jump_to lesson 10 video](https://course.fast.ai/videos/?lesson=10&t=7213)"
      ]
    },
    {
      "cell_type": "markdown",
      "metadata": {
        "id": "4LQGwaDLhPEd",
        "colab_type": "text"
      },
      "source": [
        "*From the PyTorch docs:*"
      ]
    },
    {
      "cell_type": "markdown",
      "metadata": {
        "id": "vHCRRe3JhPEo",
        "colab_type": "text"
      },
      "source": [
        "`GroupNorm(num_groups, num_channels, eps=1e-5, affine=True)`\n",
        "\n",
        "The input channels are separated into `num_groups` groups, each containing\n",
        "``num_channels / num_groups`` channels. The mean and standard-deviation are calculated\n",
        "separately over the each group. $\\gamma$ and $\\beta$ are learnable\n",
        "per-channel affine transform parameter vectorss of size `num_channels` if\n",
        "`affine` is ``True``.\n",
        "\n",
        "This layer uses statistics computed from input data in both training and\n",
        "evaluation modes.\n",
        "\n",
        "Args:\n",
        "-    num_groups (int): number of groups to separate the channels into\n",
        "-    num_channels (int): number of channels expected in input\n",
        "-    eps: a value added to the denominator for numerical stability. Default: 1e-5\n",
        "-    affine: a boolean value that when set to ``True``, this module\n",
        "        has learnable per-channel affine parameters initialized to ones (for weights)\n",
        "        and zeros (for biases). Default: ``True``.\n",
        "\n",
        "Shape:\n",
        "- Input: `(N, num_channels, *)`\n",
        "- Output: `(N, num_channels, *)` (same shape as input)\n",
        "\n",
        "Examples::\n",
        "\n",
        "    >>> input = torch.randn(20, 6, 10, 10)\n",
        "    >>> # Separate 6 channels into 3 groups\n",
        "    >>> m = nn.GroupNorm(3, 6)\n",
        "    >>> # Separate 6 channels into 6 groups (equivalent with InstanceNorm)\n",
        "    >>> m = nn.GroupNorm(6, 6)\n",
        "    >>> # Put all 6 channels into a single group (equivalent with LayerNorm)\n",
        "    >>> m = nn.GroupNorm(1, 6)\n",
        "    >>> # Activating the module\n",
        "    >>> output = m(input)"
      ]
    },
    {
      "cell_type": "markdown",
      "metadata": {
        "id": "Sta8zcNIhPEz",
        "colab_type": "text"
      },
      "source": [
        "## Fix small batch sizes"
      ]
    },
    {
      "cell_type": "markdown",
      "metadata": {
        "id": "WGxO5s2phPE1",
        "colab_type": "text"
      },
      "source": [
        "### What's the problem?"
      ]
    },
    {
      "cell_type": "markdown",
      "metadata": {
        "id": "9tEML21chPE3",
        "colab_type": "text"
      },
      "source": [
        "When we compute the statistics (mean and std) for a BatchNorm Layer on a small batch, it is possible that we get a standard deviation very close to 0. because there aren't many samples (the variance of one thing is 0. since it's equal to its mean)."
      ]
    },
    {
      "cell_type": "markdown",
      "metadata": {
        "id": "8N4riNmBhPE4",
        "colab_type": "text"
      },
      "source": [
        "[Jump_to lesson 10 video](https://course.fast.ai/videos/?lesson=10&t=7304)"
      ]
    },
    {
      "cell_type": "code",
      "metadata": {
        "id": "cGXnrwBshPE5",
        "colab_type": "code",
        "colab": {}
      },
      "source": [
        "data = DataBunch(*get_dls(train_ds, valid_ds, 2), c)"
      ],
      "execution_count": 0,
      "outputs": []
    },
    {
      "cell_type": "code",
      "metadata": {
        "id": "RwcyTkt0hPFA",
        "colab_type": "code",
        "colab": {}
      },
      "source": [
        "def conv_layer(ni, nf, ks=3, stride=2, bn=True, **kwargs):\n",
        "    layers = [nn.Conv2d(ni, nf, ks, padding=ks//2, stride=stride, bias=not bn),\n",
        "              GeneralRelu(**kwargs)]\n",
        "    if bn: layers.append(nn.BatchNorm2d(nf, eps=1e-5, momentum=0.1))\n",
        "    return nn.Sequential(*layers)"
      ],
      "execution_count": 0,
      "outputs": []
    },
    {
      "cell_type": "code",
      "metadata": {
        "id": "JSTJj70LhPFE",
        "colab_type": "code",
        "colab": {}
      },
      "source": [
        "learn,run = get_learn_run(nfs, data, 0.4, conv_layer, cbs=cbfs)"
      ],
      "execution_count": 0,
      "outputs": []
    },
    {
      "cell_type": "code",
      "metadata": {
        "id": "AJFG-i05hPFJ",
        "colab_type": "code",
        "outputId": "6583084e-4885-4b3d-b8e3-1f24275f143b",
        "colab": {
          "base_uri": "https://localhost:8080/",
          "height": 89
        }
      },
      "source": [
        "%time run.fit(1, learn)"
      ],
      "execution_count": 34,
      "outputs": [
        {
          "output_type": "stream",
          "text": [
            "train: [2.2824771875, tensor(0.2106, device='cuda:0')]\n",
            "valid: [8582311863.9104, tensor(0.1238, device='cuda:0')]\n",
            "CPU times: user 1min 14s, sys: 1.25 s, total: 1min 15s\n",
            "Wall time: 1min 16s\n"
          ],
          "name": "stdout"
        }
      ]
    },
    {
      "cell_type": "markdown",
      "metadata": {
        "id": "Q5ZgkjrVhPFR",
        "colab_type": "text"
      },
      "source": [
        "### Running Batch Norm"
      ]
    },
    {
      "cell_type": "markdown",
      "metadata": {
        "id": "D7CJtasWhPFT",
        "colab_type": "text"
      },
      "source": [
        "To solve this problem we introduce a Running BatchNorm that uses smoother running mean and variance for the mean and std."
      ]
    },
    {
      "cell_type": "markdown",
      "metadata": {
        "id": "xXbvBmKdhPFa",
        "colab_type": "text"
      },
      "source": [
        "[Jump_to lesson 10 video](https://course.fast.ai/videos/?lesson=10&t=7516)"
      ]
    },
    {
      "cell_type": "code",
      "metadata": {
        "id": "GA55Zcx8hPFb",
        "colab_type": "code",
        "colab": {}
      },
      "source": [
        "class RunningBatchNorm(nn.Module):\n",
        "    def __init__(self, nf, mom=0.1, eps=1e-5):\n",
        "        super().__init__()\n",
        "        self.mom,self.eps = mom,eps\n",
        "        self.mults = nn.Parameter(torch.ones (nf,1,1))\n",
        "        self.adds = nn.Parameter(torch.zeros(nf,1,1))\n",
        "        self.register_buffer('sums', torch.zeros(1,nf,1,1))\n",
        "        self.register_buffer('sqrs', torch.zeros(1,nf,1,1))\n",
        "        self.register_buffer('batch', tensor(0.))\n",
        "        self.register_buffer('count', tensor(0.))\n",
        "        self.register_buffer('step', tensor(0.))\n",
        "        self.register_buffer('dbias', tensor(0.))\n",
        "\n",
        "    def update_stats(self, x):\n",
        "        bs,nc,*_ = x.shape\n",
        "        self.sums.detach_()\n",
        "        self.sqrs.detach_()\n",
        "        dims = (0,2,3)\n",
        "        s = x.sum(dims, keepdim=True)\n",
        "        ss = (x*x).sum(dims, keepdim=True)\n",
        "        c = self.count.new_tensor(x.numel()/nc)\n",
        "        mom1 = 1 - (1-self.mom)/math.sqrt(bs-1)\n",
        "        self.mom1 = self.dbias.new_tensor(mom1)\n",
        "        self.sums.lerp_(s, self.mom1)\n",
        "        self.sqrs.lerp_(ss, self.mom1)\n",
        "        self.count.lerp_(c, self.mom1)\n",
        "        self.dbias = self.dbias*(1-self.mom1) + self.mom1\n",
        "        self.batch += bs\n",
        "        self.step += 1\n",
        "\n",
        "    def forward(self, x):\n",
        "        if self.training: self.update_stats(x)\n",
        "        sums = self.sums\n",
        "        sqrs = self.sqrs\n",
        "        c = self.count\n",
        "        if self.step<100:\n",
        "            sums = sums / self.dbias\n",
        "            sqrs = sqrs / self.dbias\n",
        "            c    = c    / self.dbias\n",
        "        means = sums/c\n",
        "        vars = (sqrs/c).sub_(means*means)\n",
        "        if bool(self.batch < 20): vars.clamp_min_(0.01)\n",
        "        x = (x-means).div_((vars.add_(self.eps)).sqrt())\n",
        "        return x.mul_(self.mults).add_(self.adds)"
      ],
      "execution_count": 0,
      "outputs": []
    },
    {
      "cell_type": "code",
      "metadata": {
        "id": "h28Qd3k8hPFr",
        "colab_type": "code",
        "colab": {}
      },
      "source": [
        "def conv_rbn(ni, nf, ks=3, stride=2, bn=True, **kwargs):\n",
        "    layers = [nn.Conv2d(ni, nf, ks, padding=ks//2, stride=stride, bias=not bn),\n",
        "              GeneralRelu(**kwargs)]\n",
        "    if bn: layers.append(RunningBatchNorm(nf))\n",
        "    return nn.Sequential(*layers)"
      ],
      "execution_count": 0,
      "outputs": []
    },
    {
      "cell_type": "code",
      "metadata": {
        "id": "LrGS0x2PhPF4",
        "colab_type": "code",
        "colab": {}
      },
      "source": [
        "learn,run = get_learn_run(nfs, data, 0.4, conv_rbn, cbs=cbfs)"
      ],
      "execution_count": 0,
      "outputs": []
    },
    {
      "cell_type": "code",
      "metadata": {
        "id": "lL-mSQ3khPF8",
        "colab_type": "code",
        "outputId": "db4c6c03-4fa7-425f-8b5e-89d3b659c468",
        "colab": {
          "base_uri": "https://localhost:8080/",
          "height": 89
        }
      },
      "source": [
        "%time run.fit(1, learn)"
      ],
      "execution_count": 38,
      "outputs": [
        {
          "output_type": "stream",
          "text": [
            "train: [0.3791311328125, tensor(0.9017, device='cuda:0')]\n",
            "valid: [0.1332256591796875, tensor(0.9739, device='cuda:0')]\n",
            "CPU times: user 3min 9s, sys: 2.47 s, total: 3min 11s\n",
            "Wall time: 3min 12s\n"
          ],
          "name": "stdout"
        }
      ]
    },
    {
      "cell_type": "markdown",
      "metadata": {
        "id": "VR5xN1xLhPGF",
        "colab_type": "text"
      },
      "source": [
        "This solves the small batch size issue!"
      ]
    },
    {
      "cell_type": "markdown",
      "metadata": {
        "id": "dK4WmXxghPGH",
        "colab_type": "text"
      },
      "source": [
        "### What can we do in a single epoch?"
      ]
    },
    {
      "cell_type": "markdown",
      "metadata": {
        "id": "96R0zYOuhPGI",
        "colab_type": "text"
      },
      "source": [
        "Now let's see with a decent batch size what result we can get."
      ]
    },
    {
      "cell_type": "markdown",
      "metadata": {
        "id": "T4qIMESVhPGJ",
        "colab_type": "text"
      },
      "source": [
        "[Jump_to lesson 10 video](https://course.fast.ai/videos/?lesson=10&t=8068)"
      ]
    },
    {
      "cell_type": "code",
      "metadata": {
        "id": "rq5zLcVnhPGK",
        "colab_type": "code",
        "colab": {}
      },
      "source": [
        "data = DataBunch(*get_dls(train_ds, valid_ds, 32), c)"
      ],
      "execution_count": 0,
      "outputs": []
    },
    {
      "cell_type": "code",
      "metadata": {
        "id": "PxRV4LWEhPGT",
        "colab_type": "code",
        "colab": {}
      },
      "source": [
        "learn,run = get_learn_run(nfs, data, 0.9, conv_rbn, cbs=cbfs\n",
        "                          +[partial(ParamScheduler,'lr', sched_lin(1., 0.2))])"
      ],
      "execution_count": 0,
      "outputs": []
    },
    {
      "cell_type": "code",
      "metadata": {
        "id": "A8B9PM0IhPGf",
        "colab_type": "code",
        "outputId": "de0490bc-5254-449d-ef27-df733d5143e9",
        "colab": {
          "base_uri": "https://localhost:8080/",
          "height": 89
        }
      },
      "source": [
        "%time run.fit(1, learn)"
      ],
      "execution_count": 41,
      "outputs": [
        {
          "output_type": "stream",
          "text": [
            "train: [0.15600373046875, tensor(0.9506, device='cuda:0')]\n",
            "valid: [0.07289594116210937, tensor(0.9791, device='cuda:0')]\n",
            "CPU times: user 12.4 s, sys: 173 ms, total: 12.6 s\n",
            "Wall time: 12.7 s\n"
          ],
          "name": "stdout"
        }
      ]
    },
    {
      "cell_type": "markdown",
      "metadata": {
        "id": "T18ZhSlMhPGt",
        "colab_type": "text"
      },
      "source": [
        "## Export"
      ]
    },
    {
      "cell_type": "code",
      "metadata": {
        "id": "BmSpa7rthPGv",
        "colab_type": "code",
        "outputId": "6736d983-4226-4f93-95ca-0a32511cb0dc",
        "colab": {
          "base_uri": "https://localhost:8080/",
          "height": 17
        }
      },
      "source": [
        "nb_auto_export()"
      ],
      "execution_count": 42,
      "outputs": [
        {
          "output_type": "display_data",
          "data": {
            "application/javascript": [
              "{\n",
              "const ip = IPython.notebook\n",
              "if (ip) {\n",
              "    ip.save_notebook()\n",
              "    console.log('a')\n",
              "    const s = `!python notebook2script.py ${ip.notebook_name}`\n",
              "    if (ip.kernel) { ip.kernel.execute(s) }\n",
              "}\n",
              "}"
            ],
            "text/plain": [
              "<IPython.core.display.Javascript object>"
            ]
          },
          "metadata": {
            "tags": []
          }
        }
      ]
    },
    {
      "cell_type": "markdown",
      "metadata": {
        "id": "csMXxJ1FmBB4",
        "colab_type": "text"
      },
      "source": [
        "# lsuv"
      ]
    },
    {
      "cell_type": "code",
      "metadata": {
        "id": "sqzhVNKSmHNa",
        "colab_type": "code",
        "colab": {
          "base_uri": "https://localhost:8080/",
          "height": 53
        },
        "outputId": "9b1d116a-d146-4eef-f8f5-9095db33b05b"
      },
      "source": [
        "%load_ext autoreload\n",
        "%autoreload 2\n",
        "\n",
        "%matplotlib inline\n",
        "\n",
        "#export\n",
        "from exp.nb_07 import *"
      ],
      "execution_count": 43,
      "outputs": [
        {
          "output_type": "stream",
          "text": [
            "The autoreload extension is already loaded. To reload it, use:\n",
            "  %reload_ext autoreload\n"
          ],
          "name": "stdout"
        }
      ]
    },
    {
      "cell_type": "markdown",
      "metadata": {
        "id": "mpBT3myimaC2",
        "colab_type": "text"
      },
      "source": [
        "## Layerwise Sequential Unit Variance (LSUV)\n",
        "\n",
        "Getting the MNIST data and a CNN"
      ]
    },
    {
      "cell_type": "code",
      "metadata": {
        "id": "yNSWc7VhmHG9",
        "colab_type": "code",
        "colab": {}
      },
      "source": [
        "x_train,y_train,x_valid,y_valid = get_data()\n",
        "\n",
        "x_train,x_valid = normalize_to(x_train,x_valid)\n",
        "train_ds,valid_ds = Dataset(x_train, y_train),Dataset(x_valid, y_valid)\n",
        "\n",
        "nh,bs = 50,512\n",
        "c = y_train.max().item()+1\n",
        "loss_func = F.cross_entropy\n",
        "\n",
        "data = DataBunch(*get_dls(train_ds, valid_ds, bs), c)\n",
        "\n",
        "mnist_view = view_tfm(1,28,28)\n",
        "cbfs = [Recorder,\n",
        "        partial(AvgStatsCallback,accuracy),\n",
        "        CudaCallback,\n",
        "        partial(BatchTransformXCallback, mnist_view)]"
      ],
      "execution_count": 0,
      "outputs": []
    },
    {
      "cell_type": "code",
      "metadata": {
        "id": "7-Ec1xOPmG-W",
        "colab_type": "code",
        "colab": {}
      },
      "source": [
        "nfs = [8,16,32,64,64]\n",
        "\n",
        "class ConvLayer(nn.Module):\n",
        "    def __init__(self, ni, nf, ks=3, stride=2, sub=0., **kwargs):\n",
        "        super().__init__()\n",
        "        self.conv = nn.Conv2d(ni, nf, ks, padding=ks//2, stride=stride, bias=True)\n",
        "        self.relu = GeneralRelu(sub=sub, **kwargs)\n",
        "    \n",
        "    def forward(self, x): return self.relu(self.conv(x))\n",
        "    \n",
        "    @property\n",
        "    def bias(self): return -self.relu.sub\n",
        "    @bias.setter\n",
        "    def bias(self,v): self.relu.sub = -v\n",
        "    @property\n",
        "    def weight(self): return self.conv.weight\n",
        "\n",
        "learn,run = get_learn_run(nfs, data, 0.6, ConvLayer, cbs=cbfs)"
      ],
      "execution_count": 0,
      "outputs": []
    },
    {
      "cell_type": "markdown",
      "metadata": {
        "id": "ezNH-x1vmwsK",
        "colab_type": "text"
      },
      "source": [
        "Now we're going to look at the paper [All You Need is a Good Init](https://arxiv.org/pdf/1511.06422.pdf), which introduces Layer-wise Sequential Unit-Variance (LSUV). We initialize our neural net with the usual technique, then we pass a batch through the model and check the outputs of the linear and convolutional layers. We can then rescale the weights according to the actual variance we observe on the activations, and subtract the mean we observe from the initial bias. That way we will have activations that stay normalized.\n",
        "\n",
        "We repeat this process until we are satisfied with the mean/variance we observe.\n",
        "\n",
        "Let's start by looking at a baseline:"
      ]
    },
    {
      "cell_type": "code",
      "metadata": {
        "id": "4mzwfCRSmG2F",
        "colab_type": "code",
        "colab": {
          "base_uri": "https://localhost:8080/",
          "height": 89
        },
        "outputId": "d61326e7-514d-4aa1-daa8-cf67bf6cdce1"
      },
      "source": [
        "run.fit(2, learn)"
      ],
      "execution_count": 46,
      "outputs": [
        {
          "output_type": "stream",
          "text": [
            "train: [2.106005, tensor(0.2683, device='cuda:0')]\n",
            "valid: [0.92323720703125, tensor(0.6495, device='cuda:0')]\n",
            "train: [0.4642139453125, tensor(0.8429, device='cuda:0')]\n",
            "valid: [0.3443484619140625, tensor(0.8968, device='cuda:0')]\n"
          ],
          "name": "stdout"
        }
      ]
    },
    {
      "cell_type": "markdown",
      "metadata": {
        "id": "xAvStA2ym-4w",
        "colab_type": "text"
      },
      "source": [
        "Now we recreate our model and we'll try again with LSUV. Hopefully, we'll get better results!"
      ]
    },
    {
      "cell_type": "code",
      "metadata": {
        "id": "V2OAgIWPhPG-",
        "colab_type": "code",
        "colab": {}
      },
      "source": [
        "learn,run = get_learn_run(nfs, data, 0.6, ConvLayer, cbs=cbfs)"
      ],
      "execution_count": 0,
      "outputs": []
    },
    {
      "cell_type": "markdown",
      "metadata": {
        "id": "DUw-T1_TnFJL",
        "colab_type": "text"
      },
      "source": [
        "Helper function to get one batch of a given dataloader, with the callbacks called to preprocess it."
      ]
    },
    {
      "cell_type": "code",
      "metadata": {
        "id": "HLc1zoOunKuK",
        "colab_type": "code",
        "colab": {}
      },
      "source": [
        "#export\n",
        "def get_batch(dl, run):\n",
        "    run.xb,run.yb = next(iter(dl))\n",
        "    for cb in run.cbs: cb.set_runner(run)\n",
        "    run('begin_batch')\n",
        "    return run.xb,run.yb\n",
        "\n",
        "xb,yb = get_batch(data.train_dl, run)"
      ],
      "execution_count": 0,
      "outputs": []
    },
    {
      "cell_type": "markdown",
      "metadata": {
        "id": "suzjr7cznNtQ",
        "colab_type": "text"
      },
      "source": [
        "We only want the outputs of convolutional or linear layers. To find them, we need a recursive function. We can use sum(list, []) to concatenate the lists the function finds (sum applies the + operate between the elements of the list you pass it, beginning with the initial state in the second argument)."
      ]
    },
    {
      "cell_type": "code",
      "metadata": {
        "id": "6ahH3MDXnZkI",
        "colab_type": "code",
        "colab": {
          "base_uri": "https://localhost:8080/",
          "height": 305
        },
        "outputId": "049b08a7-7faf-420d-d612-fbf8013665e7"
      },
      "source": [
        "#export\n",
        "def find_modules(m, cond):\n",
        "    if cond(m): return [m]\n",
        "    return sum([find_modules(o,cond) for o in m.children()], [])\n",
        "\n",
        "def is_lin_layer(l):\n",
        "    lin_layers = (nn.Conv1d, nn.Conv2d, nn.Conv3d, nn.Linear, nn.ReLU)\n",
        "    return isinstance(l, lin_layers)\n",
        "\n",
        "mods = find_modules(learn.model, lambda o: isinstance(o,ConvLayer))\n",
        "\n",
        "mods"
      ],
      "execution_count": 49,
      "outputs": [
        {
          "output_type": "execute_result",
          "data": {
            "text/plain": [
              "[ConvLayer(\n",
              "   (conv): Conv2d(1, 8, kernel_size=(5, 5), stride=(2, 2), padding=(2, 2))\n",
              "   (relu): GeneralRelu()\n",
              " ), ConvLayer(\n",
              "   (conv): Conv2d(8, 16, kernel_size=(3, 3), stride=(2, 2), padding=(1, 1))\n",
              "   (relu): GeneralRelu()\n",
              " ), ConvLayer(\n",
              "   (conv): Conv2d(16, 32, kernel_size=(3, 3), stride=(2, 2), padding=(1, 1))\n",
              "   (relu): GeneralRelu()\n",
              " ), ConvLayer(\n",
              "   (conv): Conv2d(32, 64, kernel_size=(3, 3), stride=(2, 2), padding=(1, 1))\n",
              "   (relu): GeneralRelu()\n",
              " ), ConvLayer(\n",
              "   (conv): Conv2d(64, 64, kernel_size=(3, 3), stride=(2, 2), padding=(1, 1))\n",
              "   (relu): GeneralRelu()\n",
              " )]"
            ]
          },
          "metadata": {
            "tags": []
          },
          "execution_count": 49
        }
      ]
    },
    {
      "cell_type": "markdown",
      "metadata": {
        "id": "LDuYURLhnk_f",
        "colab_type": "text"
      },
      "source": [
        "This is a helper function to grab the mean and std of the output of a hooked layer."
      ]
    },
    {
      "cell_type": "code",
      "metadata": {
        "id": "BhvHF1YonZOF",
        "colab_type": "code",
        "colab": {}
      },
      "source": [
        "def append_stat(hook, mod, inp, outp):\n",
        "    d = outp.data\n",
        "    hook.mean,hook.std = d.mean().item(),d.std().item()"
      ],
      "execution_count": 0,
      "outputs": []
    },
    {
      "cell_type": "code",
      "metadata": {
        "id": "PuNNS9ttnZIT",
        "colab_type": "code",
        "colab": {}
      },
      "source": [
        "mdl = learn.model.cuda()"
      ],
      "execution_count": 0,
      "outputs": []
    },
    {
      "cell_type": "markdown",
      "metadata": {
        "id": "xWppfXMUnwnG",
        "colab_type": "text"
      },
      "source": [
        "So now we can look at the mean and std of the conv layers of our model."
      ]
    },
    {
      "cell_type": "code",
      "metadata": {
        "id": "NQWhQutlnZA8",
        "colab_type": "code",
        "colab": {
          "base_uri": "https://localhost:8080/",
          "height": 107
        },
        "outputId": "4e640d5b-978e-4cea-9226-095e0ed9eb38"
      },
      "source": [
        "with Hooks(mods, append_stat) as hooks:\n",
        "    mdl(xb)\n",
        "    for hook in hooks: print(hook.mean,hook.std)"
      ],
      "execution_count": 52,
      "outputs": [
        {
          "output_type": "stream",
          "text": [
            "0.37947285175323486 0.8837525844573975\n",
            "0.247650146484375 0.7131402492523193\n",
            "0.2943534255027771 0.618182361125946\n",
            "0.3359931409358978 0.5304023027420044\n",
            "0.18318921327590942 0.28497058153152466\n"
          ],
          "name": "stdout"
        }
      ]
    },
    {
      "cell_type": "markdown",
      "metadata": {
        "id": "qkLUEC3-n2ns",
        "colab_type": "text"
      },
      "source": [
        "We first adjust the bias terms to make the means 0, then we adjust the standard deviations to make the stds 1 (with a threshold of 1e-3). The mdl(xb) is not None clause is just there to pass xb through mdl and compute all the activations so that the hooks get updated."
      ]
    },
    {
      "cell_type": "code",
      "metadata": {
        "id": "oPPisxDNnY6Q",
        "colab_type": "code",
        "colab": {}
      },
      "source": [
        "#export\n",
        "def lsuv_module(m, xb):\n",
        "    h = Hook(m, append_stat)\n",
        "\n",
        "    while mdl(xb) is not None and abs(h.mean)  > 1e-3: m.bias -= h.mean\n",
        "    while mdl(xb) is not None and abs(h.std-1) > 1e-3: m.weight.data /= h.std\n",
        "\n",
        "    h.remove()\n",
        "    return h.mean,h.std"
      ],
      "execution_count": 0,
      "outputs": []
    },
    {
      "cell_type": "markdown",
      "metadata": {
        "id": "IqjyP3NUn9WG",
        "colab_type": "text"
      },
      "source": [
        "We execute that initialization on all the conv layers in order:"
      ]
    },
    {
      "cell_type": "code",
      "metadata": {
        "id": "EpRye_WNnYwv",
        "colab_type": "code",
        "colab": {
          "base_uri": "https://localhost:8080/",
          "height": 107
        },
        "outputId": "d2138f6e-af7f-44a7-aa10-bc2eeddbf3c5"
      },
      "source": [
        "for m in mods: print(lsuv_module(m, xb))"
      ],
      "execution_count": 54,
      "outputs": [
        {
          "output_type": "stream",
          "text": [
            "(0.04991528019309044, 1.0)\n",
            "(0.12461666017770767, 0.9999999403953552)\n",
            "(0.10516810417175293, 0.9999998807907104)\n",
            "(0.14159101247787476, 0.9999999403953552)\n",
            "(0.3418874144554138, 1.0)\n"
          ],
          "name": "stdout"
        }
      ]
    },
    {
      "cell_type": "markdown",
      "metadata": {
        "id": "UQCj9vA3oFJd",
        "colab_type": "text"
      },
      "source": [
        "Note that the mean doesn't exactly stay at 0. since we change the standard deviation after by scaling the weight.\n",
        "\n",
        "Then training is beginning on better grounds."
      ]
    },
    {
      "cell_type": "code",
      "metadata": {
        "id": "gyzXvkKzoGgy",
        "colab_type": "code",
        "colab": {
          "base_uri": "https://localhost:8080/",
          "height": 125
        },
        "outputId": "c5df3319-64b2-40ea-f0ee-123350630a44"
      },
      "source": [
        "%time run.fit(2, learn)"
      ],
      "execution_count": 55,
      "outputs": [
        {
          "output_type": "stream",
          "text": [
            "train: [0.509484765625, tensor(0.8343, device='cuda:0')]\n",
            "valid: [0.131029345703125, tensor(0.9597, device='cuda:0')]\n",
            "train: [0.105779970703125, tensor(0.9683, device='cuda:0')]\n",
            "valid: [0.09691842041015625, tensor(0.9714, device='cuda:0')]\n",
            "CPU times: user 1.86 s, sys: 343 ms, total: 2.2 s\n",
            "Wall time: 2.19 s\n"
          ],
          "name": "stdout"
        }
      ]
    },
    {
      "cell_type": "markdown",
      "metadata": {
        "id": "YUyeShJloNgD",
        "colab_type": "text"
      },
      "source": [
        "LSUV is particularly useful for more complex and deeper architectures that are hard to initialize to get unit variance at the last layer."
      ]
    },
    {
      "cell_type": "markdown",
      "metadata": {
        "id": "QNid8Xy8oUR1",
        "colab_type": "text"
      },
      "source": [
        "## Export"
      ]
    },
    {
      "cell_type": "code",
      "metadata": {
        "id": "9SFd5nw9oHIk",
        "colab_type": "code",
        "colab": {}
      },
      "source": [
        "#!python notebook2script.py 07a_lsuv.ipynb"
      ],
      "execution_count": 0,
      "outputs": []
    }
  ]
}