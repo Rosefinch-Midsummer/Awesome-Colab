{
  "nbformat": 4,
  "nbformat_minor": 0,
  "metadata": {
    "colab": {
      "name": "Python批量处理Excel表格.ipynb",
      "provenance": [],
      "collapsed_sections": [],
      "include_colab_link": true
    },
    "kernelspec": {
      "name": "python3",
      "display_name": "Python 3"
    }
  },
  "cells": [
    {
      "cell_type": "markdown",
      "metadata": {
        "id": "view-in-github",
        "colab_type": "text"
      },
      "source": [
        "<a href=\"https://colab.research.google.com/github/Rosefinch-Midsummer/Awesome-Colab/blob/master/DS/Python%E6%89%B9%E9%87%8F%E5%A4%84%E7%90%86Excel%E8%A1%A8%E6%A0%BC.ipynb\" target=\"_parent\"><img src=\"https://colab.research.google.com/assets/colab-badge.svg\" alt=\"Open In Colab\"/></a>"
      ]
    },
    {
      "cell_type": "markdown",
      "metadata": {
        "id": "gLGIkLvuSKAy",
        "colab_type": "text"
      },
      "source": [
        "[Python批量处理Excel表格](https://github.com/seizeeveryday/DA-cases)"
      ]
    },
    {
      "cell_type": "code",
      "metadata": {
        "id": "c8iNnSQ5STFA",
        "colab_type": "code",
        "colab": {
          "base_uri": "https://localhost:8080/",
          "height": 325
        },
        "outputId": "edc5a2bf-96e8-4f1a-d85b-70b26068e0fe"
      },
      "source": [
        "!wget https://github.com/seizeeveryday/DA-cases/raw/master/Python%2Bexcel/%E6%BA%90%E6%95%B0%E6%8D%AE128%E5%BC%A0%E8%A1%A8%E6%A0%BC/%E5%9E%82%E9%92%93%E8%A3%85%E5%A4%87%26%E7%BB%91%E9%92%A9%E5%99%A8.xlsx"
      ],
      "execution_count": 1,
      "outputs": [
        {
          "output_type": "stream",
          "text": [
            "--2020-01-02 08:09:32--  https://github.com/seizeeveryday/DA-cases/raw/master/Python%2Bexcel/%E6%BA%90%E6%95%B0%E6%8D%AE128%E5%BC%A0%E8%A1%A8%E6%A0%BC/%E5%9E%82%E9%92%93%E8%A3%85%E5%A4%87%26%E7%BB%91%E9%92%A9%E5%99%A8.xlsx\n",
            "Resolving github.com (github.com)... 140.82.114.3\n",
            "Connecting to github.com (github.com)|140.82.114.3|:443... connected.\n",
            "HTTP request sent, awaiting response... 302 Found\n",
            "Location: https://raw.githubusercontent.com/seizeeveryday/DA-cases/master/Python%2Bexcel/%E6%BA%90%E6%95%B0%E6%8D%AE128%E5%BC%A0%E8%A1%A8%E6%A0%BC/%E5%9E%82%E9%92%93%E8%A3%85%E5%A4%87%26%E7%BB%91%E9%92%A9%E5%99%A8.xlsx [following]\n",
            "--2020-01-02 08:09:33--  https://raw.githubusercontent.com/seizeeveryday/DA-cases/master/Python%2Bexcel/%E6%BA%90%E6%95%B0%E6%8D%AE128%E5%BC%A0%E8%A1%A8%E6%A0%BC/%E5%9E%82%E9%92%93%E8%A3%85%E5%A4%87%26%E7%BB%91%E9%92%A9%E5%99%A8.xlsx\n",
            "Resolving raw.githubusercontent.com (raw.githubusercontent.com)... 151.101.0.133, 151.101.64.133, 151.101.128.133, ...\n",
            "Connecting to raw.githubusercontent.com (raw.githubusercontent.com)|151.101.0.133|:443... connected.\n",
            "HTTP request sent, awaiting response... 200 OK\n",
            "Length: 22041 (22K) [application/octet-stream]\n",
            "Saving to: ‘垂钓装备&绑钩器.xlsx’\n",
            "\n",
            "\r垂钓装备&绑钩器.xls   0%[                    ]       0  --.-KB/s               \r垂钓装备&绑钩器.xls 100%[===================>]  21.52K  --.-KB/s    in 0.008s  \n",
            "\n",
            "2020-01-02 08:09:33 (2.77 MB/s) - ‘垂钓装备&绑钩器.xlsx’ saved [22041/22041]\n",
            "\n"
          ],
          "name": "stdout"
        }
      ]
    },
    {
      "cell_type": "code",
      "metadata": {
        "id": "IZPBYwaVSTCE",
        "colab_type": "code",
        "colab": {}
      },
      "source": [
        "!wget https://github.com/seizeeveryday/DA-cases/raw/master/Python%2Bexcel/%E6%BA%90%E6%95%B0%E6%8D%AE128%E5%BC%A0%E8%A1%A8%E6%A0%BC/%E4%B8%93%E9%A1%B9%E6%88%B7%E5%A4%96%E8%BF%90%E5%8A%A8%E8%A3%85%E5%A4%87%26%E5%86%B0%E7%88%AA.xlsx"
      ],
      "execution_count": 0,
      "outputs": []
    },
    {
      "cell_type": "code",
      "metadata": {
        "id": "6GXjSOqESS5R",
        "colab_type": "code",
        "colab": {}
      },
      "source": [
        "!wget https://github.com/seizeeveryday/DA-cases/raw/master/Python%2Bexcel/%E6%BA%90%E6%95%B0%E6%8D%AE128%E5%BC%A0%E8%A1%A8%E6%A0%BC/%E4%B8%93%E9%A1%B9%E6%88%B7%E5%A4%96%E8%BF%90%E5%8A%A8%E8%A3%85%E5%A4%87%26%E6%95%91%E7%94%9F%E8%A1%A3.xlsx"
      ],
      "execution_count": 0,
      "outputs": []
    },
    {
      "cell_type": "code",
      "metadata": {
        "id": "gZYTiWetSSzy",
        "colab_type": "code",
        "colab": {}
      },
      "source": [
        "!wget https://github.com/seizeeveryday/DA-cases/raw/master/Python%2Bexcel/%E6%BA%90%E6%95%B0%E6%8D%AE128%E5%BC%A0%E8%A1%A8%E6%A0%BC/%E4%B8%93%E9%A1%B9%E6%88%B7%E5%A4%96%E8%BF%90%E5%8A%A8%E8%A3%85%E5%A4%87%26%E6%BB%91%E9%9B%AA%E5%A4%B4%E7%9B%94.xlsx"
      ],
      "execution_count": 0,
      "outputs": []
    },
    {
      "cell_type": "code",
      "metadata": {
        "id": "rpvPJ_36SSvG",
        "colab_type": "code",
        "colab": {}
      },
      "source": [
        "import time\n",
        "import pandas as pd"
      ],
      "execution_count": 0,
      "outputs": []
    },
    {
      "cell_type": "code",
      "metadata": {
        "id": "I6FQVZLzSSrs",
        "colab_type": "code",
        "colab": {
          "base_uri": "https://localhost:8080/",
          "height": 204
        },
        "outputId": "4ee0a458-5871-4955-a8f1-d7e2f0854b48"
      },
      "source": [
        "#打开单个表格\n",
        "name = '垂钓装备&绑钩器.xlsx'\n",
        "df = pd.read_excel(name)\n",
        "df.head()"
      ],
      "execution_count": 3,
      "outputs": [
        {
          "output_type": "execute_result",
          "data": {
            "text/html": [
              "<div>\n",
              "<style scoped>\n",
              "    .dataframe tbody tr th:only-of-type {\n",
              "        vertical-align: middle;\n",
              "    }\n",
              "\n",
              "    .dataframe tbody tr th {\n",
              "        vertical-align: top;\n",
              "    }\n",
              "\n",
              "    .dataframe thead th {\n",
              "        text-align: right;\n",
              "    }\n",
              "</style>\n",
              "<table border=\"1\" class=\"dataframe\">\n",
              "  <thead>\n",
              "    <tr style=\"text-align: right;\">\n",
              "      <th></th>\n",
              "      <th>日期</th>\n",
              "      <th>转化率</th>\n",
              "      <th>访客数</th>\n",
              "      <th>三级类目</th>\n",
              "      <th>客单价</th>\n",
              "      <th>品牌</th>\n",
              "    </tr>\n",
              "  </thead>\n",
              "  <tbody>\n",
              "    <tr>\n",
              "      <th>0</th>\n",
              "      <td>2019-08</td>\n",
              "      <td>0.025806</td>\n",
              "      <td>221402</td>\n",
              "      <td>绑钩器</td>\n",
              "      <td>33.284283</td>\n",
              "      <td>品牌-17</td>\n",
              "    </tr>\n",
              "    <tr>\n",
              "      <th>1</th>\n",
              "      <td>2019-08</td>\n",
              "      <td>0.019638</td>\n",
              "      <td>14074</td>\n",
              "      <td>绑钩器</td>\n",
              "      <td>233.995330</td>\n",
              "      <td>品牌-12</td>\n",
              "    </tr>\n",
              "    <tr>\n",
              "      <th>2</th>\n",
              "      <td>2019-08</td>\n",
              "      <td>0.065407</td>\n",
              "      <td>75392</td>\n",
              "      <td>绑钩器</td>\n",
              "      <td>11.938785</td>\n",
              "      <td>品牌-20</td>\n",
              "    </tr>\n",
              "    <tr>\n",
              "      <th>3</th>\n",
              "      <td>2019-08</td>\n",
              "      <td>0.015905</td>\n",
              "      <td>85529</td>\n",
              "      <td>绑钩器</td>\n",
              "      <td>41.059966</td>\n",
              "      <td>品牌-13</td>\n",
              "    </tr>\n",
              "    <tr>\n",
              "      <th>4</th>\n",
              "      <td>2019-08</td>\n",
              "      <td>0.039033</td>\n",
              "      <td>23839</td>\n",
              "      <td>绑钩器</td>\n",
              "      <td>44.502008</td>\n",
              "      <td>品牌-1</td>\n",
              "    </tr>\n",
              "  </tbody>\n",
              "</table>\n",
              "</div>"
            ],
            "text/plain": [
              "        日期       转化率     访客数 三级类目         客单价     品牌\n",
              "0  2019-08  0.025806  221402  绑钩器   33.284283  品牌-17\n",
              "1  2019-08  0.019638   14074  绑钩器  233.995330  品牌-12\n",
              "2  2019-08  0.065407   75392  绑钩器   11.938785  品牌-20\n",
              "3  2019-08  0.015905   85529  绑钩器   41.059966  品牌-13\n",
              "4  2019-08  0.039033   23839  绑钩器   44.502008   品牌-1"
            ]
          },
          "metadata": {
            "tags": []
          },
          "execution_count": 3
        }
      ]
    },
    {
      "cell_type": "code",
      "metadata": {
        "id": "xSHEm8RESSm8",
        "colab_type": "code",
        "colab": {
          "base_uri": "https://localhost:8080/",
          "height": 71
        },
        "outputId": "42a4def7-295e-424e-c644-ebecffd328c6"
      },
      "source": [
        "#查看日期范围\n",
        "df['日期'].unique()"
      ],
      "execution_count": 4,
      "outputs": [
        {
          "output_type": "execute_result",
          "data": {
            "text/plain": [
              "array(['2019-08', '2019-07', '2019-06', '2019-05', '2019-04', '2019-03',\n",
              "       '2019-02', '2019-01', '2018-12', '2018-11', '2018-10', '2018-09'],\n",
              "      dtype=object)"
            ]
          },
          "metadata": {
            "tags": []
          },
          "execution_count": 4
        }
      ]
    },
    {
      "cell_type": "code",
      "metadata": {
        "id": "tutISivLSSiB",
        "colab_type": "code",
        "colab": {
          "base_uri": "https://localhost:8080/",
          "height": 204
        },
        "outputId": "0ad7a91e-de7c-4433-c288-da4d52c9ab44"
      },
      "source": [
        "#计算销售额\n",
        "df['销售额'] = df['访客数'] * df['转化率'] * df['客单价']\n",
        "df.head()"
      ],
      "execution_count": 5,
      "outputs": [
        {
          "output_type": "execute_result",
          "data": {
            "text/html": [
              "<div>\n",
              "<style scoped>\n",
              "    .dataframe tbody tr th:only-of-type {\n",
              "        vertical-align: middle;\n",
              "    }\n",
              "\n",
              "    .dataframe tbody tr th {\n",
              "        vertical-align: top;\n",
              "    }\n",
              "\n",
              "    .dataframe thead th {\n",
              "        text-align: right;\n",
              "    }\n",
              "</style>\n",
              "<table border=\"1\" class=\"dataframe\">\n",
              "  <thead>\n",
              "    <tr style=\"text-align: right;\">\n",
              "      <th></th>\n",
              "      <th>日期</th>\n",
              "      <th>转化率</th>\n",
              "      <th>访客数</th>\n",
              "      <th>三级类目</th>\n",
              "      <th>客单价</th>\n",
              "      <th>品牌</th>\n",
              "      <th>销售额</th>\n",
              "    </tr>\n",
              "  </thead>\n",
              "  <tbody>\n",
              "    <tr>\n",
              "      <th>0</th>\n",
              "      <td>2019-08</td>\n",
              "      <td>0.025806</td>\n",
              "      <td>221402</td>\n",
              "      <td>绑钩器</td>\n",
              "      <td>33.284283</td>\n",
              "      <td>品牌-17</td>\n",
              "      <td>190167.455681</td>\n",
              "    </tr>\n",
              "    <tr>\n",
              "      <th>1</th>\n",
              "      <td>2019-08</td>\n",
              "      <td>0.019638</td>\n",
              "      <td>14074</td>\n",
              "      <td>绑钩器</td>\n",
              "      <td>233.995330</td>\n",
              "      <td>品牌-12</td>\n",
              "      <td>64673.807815</td>\n",
              "    </tr>\n",
              "    <tr>\n",
              "      <th>2</th>\n",
              "      <td>2019-08</td>\n",
              "      <td>0.065407</td>\n",
              "      <td>75392</td>\n",
              "      <td>绑钩器</td>\n",
              "      <td>11.938785</td>\n",
              "      <td>品牌-20</td>\n",
              "      <td>58871.997672</td>\n",
              "    </tr>\n",
              "    <tr>\n",
              "      <th>3</th>\n",
              "      <td>2019-08</td>\n",
              "      <td>0.015905</td>\n",
              "      <td>85529</td>\n",
              "      <td>绑钩器</td>\n",
              "      <td>41.059966</td>\n",
              "      <td>品牌-13</td>\n",
              "      <td>55856.842507</td>\n",
              "    </tr>\n",
              "    <tr>\n",
              "      <th>4</th>\n",
              "      <td>2019-08</td>\n",
              "      <td>0.039033</td>\n",
              "      <td>23839</td>\n",
              "      <td>绑钩器</td>\n",
              "      <td>44.502008</td>\n",
              "      <td>品牌-1</td>\n",
              "      <td>41409.600947</td>\n",
              "    </tr>\n",
              "  </tbody>\n",
              "</table>\n",
              "</div>"
            ],
            "text/plain": [
              "        日期       转化率     访客数 三级类目         客单价     品牌            销售额\n",
              "0  2019-08  0.025806  221402  绑钩器   33.284283  品牌-17  190167.455681\n",
              "1  2019-08  0.019638   14074  绑钩器  233.995330  品牌-12   64673.807815\n",
              "2  2019-08  0.065407   75392  绑钩器   11.938785  品牌-20   58871.997672\n",
              "3  2019-08  0.015905   85529  绑钩器   41.059966  品牌-13   55856.842507\n",
              "4  2019-08  0.039033   23839  绑钩器   44.502008   品牌-1   41409.600947"
            ]
          },
          "metadata": {
            "tags": []
          },
          "execution_count": 5
        }
      ]
    },
    {
      "cell_type": "code",
      "metadata": {
        "id": "nXZS-wnQSGvl",
        "colab_type": "code",
        "colab": {
          "base_uri": "https://localhost:8080/",
          "height": 204
        },
        "outputId": "aa0f1348-a8d8-4957-eb01-ebf437762d56"
      },
      "source": [
        "#单表销售额合并\n",
        "df_sum = df.groupby('品牌')['销售额'].sum().reset_index()\n",
        "df_sum.head()"
      ],
      "execution_count": 6,
      "outputs": [
        {
          "output_type": "execute_result",
          "data": {
            "text/html": [
              "<div>\n",
              "<style scoped>\n",
              "    .dataframe tbody tr th:only-of-type {\n",
              "        vertical-align: middle;\n",
              "    }\n",
              "\n",
              "    .dataframe tbody tr th {\n",
              "        vertical-align: top;\n",
              "    }\n",
              "\n",
              "    .dataframe thead th {\n",
              "        text-align: right;\n",
              "    }\n",
              "</style>\n",
              "<table border=\"1\" class=\"dataframe\">\n",
              "  <thead>\n",
              "    <tr style=\"text-align: right;\">\n",
              "      <th></th>\n",
              "      <th>品牌</th>\n",
              "      <th>销售额</th>\n",
              "    </tr>\n",
              "  </thead>\n",
              "  <tbody>\n",
              "    <tr>\n",
              "      <th>0</th>\n",
              "      <td>品牌-1</td>\n",
              "      <td>529837.745358</td>\n",
              "    </tr>\n",
              "    <tr>\n",
              "      <th>1</th>\n",
              "      <td>品牌-10</td>\n",
              "      <td>217976.661847</td>\n",
              "    </tr>\n",
              "    <tr>\n",
              "      <th>2</th>\n",
              "      <td>品牌-11</td>\n",
              "      <td>327093.079507</td>\n",
              "    </tr>\n",
              "    <tr>\n",
              "      <th>3</th>\n",
              "      <td>品牌-12</td>\n",
              "      <td>485635.295843</td>\n",
              "    </tr>\n",
              "    <tr>\n",
              "      <th>4</th>\n",
              "      <td>品牌-13</td>\n",
              "      <td>438391.195855</td>\n",
              "    </tr>\n",
              "  </tbody>\n",
              "</table>\n",
              "</div>"
            ],
            "text/plain": [
              "      品牌            销售额\n",
              "0   品牌-1  529837.745358\n",
              "1  品牌-10  217976.661847\n",
              "2  品牌-11  327093.079507\n",
              "3  品牌-12  485635.295843\n",
              "4  品牌-13  438391.195855"
            ]
          },
          "metadata": {
            "tags": []
          },
          "execution_count": 6
        }
      ]
    },
    {
      "cell_type": "code",
      "metadata": {
        "id": "DMwAohSQStCw",
        "colab_type": "code",
        "colab": {
          "base_uri": "https://localhost:8080/",
          "height": 204
        },
        "outputId": "51ec7fa1-1ba0-45b7-8701-d7ca469b2c13"
      },
      "source": [
        "#增加行业标签\n",
        "df_sum['行业'] = name.replace('.xlsx','')\n",
        "df_sum.head()"
      ],
      "execution_count": 7,
      "outputs": [
        {
          "output_type": "execute_result",
          "data": {
            "text/html": [
              "<div>\n",
              "<style scoped>\n",
              "    .dataframe tbody tr th:only-of-type {\n",
              "        vertical-align: middle;\n",
              "    }\n",
              "\n",
              "    .dataframe tbody tr th {\n",
              "        vertical-align: top;\n",
              "    }\n",
              "\n",
              "    .dataframe thead th {\n",
              "        text-align: right;\n",
              "    }\n",
              "</style>\n",
              "<table border=\"1\" class=\"dataframe\">\n",
              "  <thead>\n",
              "    <tr style=\"text-align: right;\">\n",
              "      <th></th>\n",
              "      <th>品牌</th>\n",
              "      <th>销售额</th>\n",
              "      <th>行业</th>\n",
              "    </tr>\n",
              "  </thead>\n",
              "  <tbody>\n",
              "    <tr>\n",
              "      <th>0</th>\n",
              "      <td>品牌-1</td>\n",
              "      <td>529837.745358</td>\n",
              "      <td>垂钓装备&amp;绑钩器</td>\n",
              "    </tr>\n",
              "    <tr>\n",
              "      <th>1</th>\n",
              "      <td>品牌-10</td>\n",
              "      <td>217976.661847</td>\n",
              "      <td>垂钓装备&amp;绑钩器</td>\n",
              "    </tr>\n",
              "    <tr>\n",
              "      <th>2</th>\n",
              "      <td>品牌-11</td>\n",
              "      <td>327093.079507</td>\n",
              "      <td>垂钓装备&amp;绑钩器</td>\n",
              "    </tr>\n",
              "    <tr>\n",
              "      <th>3</th>\n",
              "      <td>品牌-12</td>\n",
              "      <td>485635.295843</td>\n",
              "      <td>垂钓装备&amp;绑钩器</td>\n",
              "    </tr>\n",
              "    <tr>\n",
              "      <th>4</th>\n",
              "      <td>品牌-13</td>\n",
              "      <td>438391.195855</td>\n",
              "      <td>垂钓装备&amp;绑钩器</td>\n",
              "    </tr>\n",
              "  </tbody>\n",
              "</table>\n",
              "</div>"
            ],
            "text/plain": [
              "      品牌            销售额        行业\n",
              "0   品牌-1  529837.745358  垂钓装备&绑钩器\n",
              "1  品牌-10  217976.661847  垂钓装备&绑钩器\n",
              "2  品牌-11  327093.079507  垂钓装备&绑钩器\n",
              "3  品牌-12  485635.295843  垂钓装备&绑钩器\n",
              "4  品牌-13  438391.195855  垂钓装备&绑钩器"
            ]
          },
          "metadata": {
            "tags": []
          },
          "execution_count": 7
        }
      ]
    },
    {
      "cell_type": "code",
      "metadata": {
        "id": "6JLYemWCUeE6",
        "colab_type": "code",
        "colab": {}
      },
      "source": [
        "import os\n",
        "os.mkdir('data')"
      ],
      "execution_count": 0,
      "outputs": []
    },
    {
      "cell_type": "code",
      "metadata": {
        "id": "dQjV348GUHDt",
        "colab_type": "code",
        "colab": {
          "base_uri": "https://localhost:8080/",
          "height": 35
        },
        "outputId": "944b5f08-40d5-4c5f-f279-336c9adcf5af"
      },
      "source": [
        "os.listdir()"
      ],
      "execution_count": 12,
      "outputs": [
        {
          "output_type": "execute_result",
          "data": {
            "text/plain": [
              "['.config', '垂钓装备&绑钩器.xlsx', 'sample_data']"
            ]
          },
          "metadata": {
            "tags": []
          },
          "execution_count": 12
        }
      ]
    },
    {
      "cell_type": "code",
      "metadata": {
        "id": "neDIP_XPStRa",
        "colab_type": "code",
        "colab": {
          "base_uri": "https://localhost:8080/",
          "height": 35
        },
        "outputId": "079a4aa7-1b21-4ac6-d74a-b10f343ed3bf"
      },
      "source": [
        "#搞定单个文件，批量处理只需要循环即可\n",
        "import time\n",
        "\n",
        "os.chdir('/content/data')\n",
        "\n",
        "#开始时间\n",
        "start = time.time()\n",
        "\n",
        "#存储汇总的结果\n",
        "result = pd.DataFrame()\n",
        "\n",
        "#循环遍历表格名称\n",
        "for name in os.listdir():\n",
        "    df = pd.read_excel(name)\n",
        "    #计算销售额字段\n",
        "    df['销售额'] = df['访客数'] * df['转化率'] * df['客单价']\n",
        "    #按品牌对细分行业销售额进行汇总\n",
        "    df_sum = df.groupby('品牌')['销售额'].sum().reset_index()\n",
        "    df_sum['类目'] = name.replace('.xlsx','')\n",
        "    result = pd.concat([result,df_sum])\n",
        "\n",
        "#对最终结果按销售额进行排序\n",
        "final = result.groupby('品牌')['销售额'].sum().reset_index().sort_values('销售额',ascending = False)\n",
        "\n",
        "#结束时间\n",
        "end = time.time()\n",
        "print('用Python操作所花费时间：{} s'.format(end-start))"
      ],
      "execution_count": 15,
      "outputs": [
        {
          "output_type": "stream",
          "text": [
            "用Python操作所花费时间：0.03563046455383301 s\n"
          ],
          "name": "stdout"
        }
      ]
    },
    {
      "cell_type": "code",
      "metadata": {
        "id": "BGuhLW-AS582",
        "colab_type": "code",
        "colab": {
          "base_uri": "https://localhost:8080/",
          "height": 204
        },
        "outputId": "8859713e-c5c5-4646-c8fa-74992ae71a0e"
      },
      "source": [
        "final.head()"
      ],
      "execution_count": 16,
      "outputs": [
        {
          "output_type": "execute_result",
          "data": {
            "text/html": [
              "<div>\n",
              "<style scoped>\n",
              "    .dataframe tbody tr th:only-of-type {\n",
              "        vertical-align: middle;\n",
              "    }\n",
              "\n",
              "    .dataframe tbody tr th {\n",
              "        vertical-align: top;\n",
              "    }\n",
              "\n",
              "    .dataframe thead th {\n",
              "        text-align: right;\n",
              "    }\n",
              "</style>\n",
              "<table border=\"1\" class=\"dataframe\">\n",
              "  <thead>\n",
              "    <tr style=\"text-align: right;\">\n",
              "      <th></th>\n",
              "      <th>品牌</th>\n",
              "      <th>销售额</th>\n",
              "    </tr>\n",
              "  </thead>\n",
              "  <tbody>\n",
              "    <tr>\n",
              "      <th>11</th>\n",
              "      <td>品牌-2</td>\n",
              "      <td>638200.385731</td>\n",
              "    </tr>\n",
              "    <tr>\n",
              "      <th>13</th>\n",
              "      <td>品牌-3</td>\n",
              "      <td>590737.080541</td>\n",
              "    </tr>\n",
              "    <tr>\n",
              "      <th>16</th>\n",
              "      <td>品牌-6</td>\n",
              "      <td>569413.997897</td>\n",
              "    </tr>\n",
              "    <tr>\n",
              "      <th>14</th>\n",
              "      <td>品牌-4</td>\n",
              "      <td>562816.767092</td>\n",
              "    </tr>\n",
              "    <tr>\n",
              "      <th>0</th>\n",
              "      <td>品牌-1</td>\n",
              "      <td>529837.745358</td>\n",
              "    </tr>\n",
              "  </tbody>\n",
              "</table>\n",
              "</div>"
            ],
            "text/plain": [
              "      品牌            销售额\n",
              "11  品牌-2  638200.385731\n",
              "13  品牌-3  590737.080541\n",
              "16  品牌-6  569413.997897\n",
              "14  品牌-4  562816.767092\n",
              "0   品牌-1  529837.745358"
            ]
          },
          "metadata": {
            "tags": []
          },
          "execution_count": 16
        }
      ]
    },
    {
      "cell_type": "code",
      "metadata": {
        "id": "i-QlMfanS9HG",
        "colab_type": "code",
        "colab": {
          "base_uri": "https://localhost:8080/",
          "height": 204
        },
        "outputId": "362b23be-a02d-41b1-c860-86ecb20d06b8"
      },
      "source": [
        "#不显示科学计数法，保留小数点两位数\n",
        "pd.set_option('display.float_format', lambda x: '%.2f' % x)\n",
        "final.head()"
      ],
      "execution_count": 17,
      "outputs": [
        {
          "output_type": "execute_result",
          "data": {
            "text/html": [
              "<div>\n",
              "<style scoped>\n",
              "    .dataframe tbody tr th:only-of-type {\n",
              "        vertical-align: middle;\n",
              "    }\n",
              "\n",
              "    .dataframe tbody tr th {\n",
              "        vertical-align: top;\n",
              "    }\n",
              "\n",
              "    .dataframe thead th {\n",
              "        text-align: right;\n",
              "    }\n",
              "</style>\n",
              "<table border=\"1\" class=\"dataframe\">\n",
              "  <thead>\n",
              "    <tr style=\"text-align: right;\">\n",
              "      <th></th>\n",
              "      <th>品牌</th>\n",
              "      <th>销售额</th>\n",
              "    </tr>\n",
              "  </thead>\n",
              "  <tbody>\n",
              "    <tr>\n",
              "      <th>11</th>\n",
              "      <td>品牌-2</td>\n",
              "      <td>638200.39</td>\n",
              "    </tr>\n",
              "    <tr>\n",
              "      <th>13</th>\n",
              "      <td>品牌-3</td>\n",
              "      <td>590737.08</td>\n",
              "    </tr>\n",
              "    <tr>\n",
              "      <th>16</th>\n",
              "      <td>品牌-6</td>\n",
              "      <td>569414.00</td>\n",
              "    </tr>\n",
              "    <tr>\n",
              "      <th>14</th>\n",
              "      <td>品牌-4</td>\n",
              "      <td>562816.77</td>\n",
              "    </tr>\n",
              "    <tr>\n",
              "      <th>0</th>\n",
              "      <td>品牌-1</td>\n",
              "      <td>529837.75</td>\n",
              "    </tr>\n",
              "  </tbody>\n",
              "</table>\n",
              "</div>"
            ],
            "text/plain": [
              "      品牌       销售额\n",
              "11  品牌-2 638200.39\n",
              "13  品牌-3 590737.08\n",
              "16  品牌-6 569414.00\n",
              "14  品牌-4 562816.77\n",
              "0   品牌-1 529837.75"
            ]
          },
          "metadata": {
            "tags": []
          },
          "execution_count": 17
        }
      ]
    }
  ]
}