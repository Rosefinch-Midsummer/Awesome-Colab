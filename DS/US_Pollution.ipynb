{
  "nbformat": 4,
  "nbformat_minor": 0,
  "metadata": {
    "colab": {
      "name": "US-Pollution.ipynb",
      "provenance": [],
      "include_colab_link": true
    },
    "kernelspec": {
      "name": "python3",
      "display_name": "Python 3"
    }
  },
  "cells": [
    {
      "cell_type": "markdown",
      "metadata": {
        "id": "view-in-github",
        "colab_type": "text"
      },
      "source": [
        "<a href=\"https://colab.research.google.com/github/Rosefinch-Midsummer/Awesome-Colab/blob/master/DS/US_Pollution.ipynb\" target=\"_parent\"><img src=\"https://colab.research.google.com/assets/colab-badge.svg\" alt=\"Open In Colab\"/></a>"
      ]
    },
    {
      "cell_type": "code",
      "metadata": {
        "id": "MfhLenkvmBIk",
        "colab_type": "code",
        "outputId": "5e8da5e9-ed8e-4175-9c8a-45228c786dd6",
        "colab": {
          "base_uri": "https://localhost:8080/",
          "height": 71
        }
      },
      "source": [
        "import os\n",
        "os.environ['KAGGLE_USERNAME'] = \"naesaranderzhang\" # username from the json file\n",
        "os.environ['KAGGLE_KEY'] = \"d580334ca87c88ae66a1995d318dca80\" # key from the json file\n",
        "!kaggle datasets download -d sogun3/uspollution # api copied from kaggle"
      ],
      "execution_count": 0,
      "outputs": [
        {
          "output_type": "stream",
          "text": [
            "Downloading uspollution.zip to /content\n",
            " 94% 24.0M/25.6M [00:00<00:00, 17.3MB/s]\n",
            "100% 25.6M/25.6M [00:00<00:00, 32.6MB/s]\n"
          ],
          "name": "stdout"
        }
      ]
    },
    {
      "cell_type": "code",
      "metadata": {
        "id": "OOTY4EyYmm6l",
        "colab_type": "code",
        "outputId": "88e9d0a1-2d25-4275-cdc9-b7e74357fdab",
        "colab": {
          "base_uri": "https://localhost:8080/",
          "height": 53
        }
      },
      "source": [
        "!unzip uspollution.zip"
      ],
      "execution_count": 0,
      "outputs": [
        {
          "output_type": "stream",
          "text": [
            "Archive:  uspollution.zip\n",
            "  inflating: pollution_us_2000_2016.csv  \n"
          ],
          "name": "stdout"
        }
      ]
    },
    {
      "cell_type": "code",
      "metadata": {
        "id": "hYuIlIbdmm3E",
        "colab_type": "code",
        "colab": {}
      },
      "source": [
        "import pandas as pd\n",
        "df=pd.read_csv('pollution_us_2000_2016.csv')"
      ],
      "execution_count": 0,
      "outputs": []
    },
    {
      "cell_type": "code",
      "metadata": {
        "id": "8mGD-JbWmmvH",
        "colab_type": "code",
        "outputId": "43688d12-1a79-4ace-e149-d6e8c042ed94",
        "colab": {
          "base_uri": "https://localhost:8080/",
          "height": 615
        }
      },
      "source": [
        "df.tail()"
      ],
      "execution_count": 0,
      "outputs": [
        {
          "output_type": "execute_result",
          "data": {
            "text/html": [
              "<div>\n",
              "<style scoped>\n",
              "    .dataframe tbody tr th:only-of-type {\n",
              "        vertical-align: middle;\n",
              "    }\n",
              "\n",
              "    .dataframe tbody tr th {\n",
              "        vertical-align: top;\n",
              "    }\n",
              "\n",
              "    .dataframe thead th {\n",
              "        text-align: right;\n",
              "    }\n",
              "</style>\n",
              "<table border=\"1\" class=\"dataframe\">\n",
              "  <thead>\n",
              "    <tr style=\"text-align: right;\">\n",
              "      <th></th>\n",
              "      <th>Unnamed: 0</th>\n",
              "      <th>State Code</th>\n",
              "      <th>County Code</th>\n",
              "      <th>Site Num</th>\n",
              "      <th>Address</th>\n",
              "      <th>State</th>\n",
              "      <th>County</th>\n",
              "      <th>City</th>\n",
              "      <th>Date Local</th>\n",
              "      <th>NO2 Units</th>\n",
              "      <th>NO2 Mean</th>\n",
              "      <th>NO2 1st Max Value</th>\n",
              "      <th>NO2 1st Max Hour</th>\n",
              "      <th>NO2 AQI</th>\n",
              "      <th>O3 Units</th>\n",
              "      <th>O3 Mean</th>\n",
              "      <th>O3 1st Max Value</th>\n",
              "      <th>O3 1st Max Hour</th>\n",
              "      <th>O3 AQI</th>\n",
              "      <th>SO2 Units</th>\n",
              "      <th>SO2 Mean</th>\n",
              "      <th>SO2 1st Max Value</th>\n",
              "      <th>SO2 1st Max Hour</th>\n",
              "      <th>SO2 AQI</th>\n",
              "      <th>CO Units</th>\n",
              "      <th>CO Mean</th>\n",
              "      <th>CO 1st Max Value</th>\n",
              "      <th>CO 1st Max Hour</th>\n",
              "      <th>CO AQI</th>\n",
              "    </tr>\n",
              "  </thead>\n",
              "  <tbody>\n",
              "    <tr>\n",
              "      <th>1746656</th>\n",
              "      <td>24599</td>\n",
              "      <td>56</td>\n",
              "      <td>21</td>\n",
              "      <td>100</td>\n",
              "      <td>NCore - North Cheyenne Soccer Complex</td>\n",
              "      <td>Wyoming</td>\n",
              "      <td>Laramie</td>\n",
              "      <td>Not in a city</td>\n",
              "      <td>2016-03-30</td>\n",
              "      <td>Parts per billion</td>\n",
              "      <td>1.083333</td>\n",
              "      <td>1.6</td>\n",
              "      <td>9</td>\n",
              "      <td>1</td>\n",
              "      <td>Parts per million</td>\n",
              "      <td>0.043917</td>\n",
              "      <td>0.048</td>\n",
              "      <td>18</td>\n",
              "      <td>44</td>\n",
              "      <td>Parts per billion</td>\n",
              "      <td>0.000000</td>\n",
              "      <td>0.0</td>\n",
              "      <td>2</td>\n",
              "      <td>NaN</td>\n",
              "      <td>Parts per million</td>\n",
              "      <td>0.091667</td>\n",
              "      <td>0.100</td>\n",
              "      <td>2</td>\n",
              "      <td>1.0</td>\n",
              "    </tr>\n",
              "    <tr>\n",
              "      <th>1746657</th>\n",
              "      <td>24600</td>\n",
              "      <td>56</td>\n",
              "      <td>21</td>\n",
              "      <td>100</td>\n",
              "      <td>NCore - North Cheyenne Soccer Complex</td>\n",
              "      <td>Wyoming</td>\n",
              "      <td>Laramie</td>\n",
              "      <td>Not in a city</td>\n",
              "      <td>2016-03-31</td>\n",
              "      <td>Parts per billion</td>\n",
              "      <td>0.939130</td>\n",
              "      <td>1.3</td>\n",
              "      <td>5</td>\n",
              "      <td>1</td>\n",
              "      <td>Parts per million</td>\n",
              "      <td>0.045263</td>\n",
              "      <td>0.047</td>\n",
              "      <td>9</td>\n",
              "      <td>44</td>\n",
              "      <td>Parts per billion</td>\n",
              "      <td>-0.022727</td>\n",
              "      <td>0.0</td>\n",
              "      <td>0</td>\n",
              "      <td>0.0</td>\n",
              "      <td>Parts per million</td>\n",
              "      <td>0.067714</td>\n",
              "      <td>0.127</td>\n",
              "      <td>0</td>\n",
              "      <td>NaN</td>\n",
              "    </tr>\n",
              "    <tr>\n",
              "      <th>1746658</th>\n",
              "      <td>24601</td>\n",
              "      <td>56</td>\n",
              "      <td>21</td>\n",
              "      <td>100</td>\n",
              "      <td>NCore - North Cheyenne Soccer Complex</td>\n",
              "      <td>Wyoming</td>\n",
              "      <td>Laramie</td>\n",
              "      <td>Not in a city</td>\n",
              "      <td>2016-03-31</td>\n",
              "      <td>Parts per billion</td>\n",
              "      <td>0.939130</td>\n",
              "      <td>1.3</td>\n",
              "      <td>5</td>\n",
              "      <td>1</td>\n",
              "      <td>Parts per million</td>\n",
              "      <td>0.045263</td>\n",
              "      <td>0.047</td>\n",
              "      <td>9</td>\n",
              "      <td>44</td>\n",
              "      <td>Parts per billion</td>\n",
              "      <td>-0.022727</td>\n",
              "      <td>0.0</td>\n",
              "      <td>0</td>\n",
              "      <td>0.0</td>\n",
              "      <td>Parts per million</td>\n",
              "      <td>0.100000</td>\n",
              "      <td>0.100</td>\n",
              "      <td>0</td>\n",
              "      <td>1.0</td>\n",
              "    </tr>\n",
              "    <tr>\n",
              "      <th>1746659</th>\n",
              "      <td>24602</td>\n",
              "      <td>56</td>\n",
              "      <td>21</td>\n",
              "      <td>100</td>\n",
              "      <td>NCore - North Cheyenne Soccer Complex</td>\n",
              "      <td>Wyoming</td>\n",
              "      <td>Laramie</td>\n",
              "      <td>Not in a city</td>\n",
              "      <td>2016-03-31</td>\n",
              "      <td>Parts per billion</td>\n",
              "      <td>0.939130</td>\n",
              "      <td>1.3</td>\n",
              "      <td>5</td>\n",
              "      <td>1</td>\n",
              "      <td>Parts per million</td>\n",
              "      <td>0.045263</td>\n",
              "      <td>0.047</td>\n",
              "      <td>9</td>\n",
              "      <td>44</td>\n",
              "      <td>Parts per billion</td>\n",
              "      <td>0.000000</td>\n",
              "      <td>0.0</td>\n",
              "      <td>5</td>\n",
              "      <td>NaN</td>\n",
              "      <td>Parts per million</td>\n",
              "      <td>0.067714</td>\n",
              "      <td>0.127</td>\n",
              "      <td>0</td>\n",
              "      <td>NaN</td>\n",
              "    </tr>\n",
              "    <tr>\n",
              "      <th>1746660</th>\n",
              "      <td>24603</td>\n",
              "      <td>56</td>\n",
              "      <td>21</td>\n",
              "      <td>100</td>\n",
              "      <td>NCore - North Cheyenne Soccer Complex</td>\n",
              "      <td>Wyoming</td>\n",
              "      <td>Laramie</td>\n",
              "      <td>Not in a city</td>\n",
              "      <td>2016-03-31</td>\n",
              "      <td>Parts per billion</td>\n",
              "      <td>0.939130</td>\n",
              "      <td>1.3</td>\n",
              "      <td>5</td>\n",
              "      <td>1</td>\n",
              "      <td>Parts per million</td>\n",
              "      <td>0.045263</td>\n",
              "      <td>0.047</td>\n",
              "      <td>9</td>\n",
              "      <td>44</td>\n",
              "      <td>Parts per billion</td>\n",
              "      <td>0.000000</td>\n",
              "      <td>0.0</td>\n",
              "      <td>5</td>\n",
              "      <td>NaN</td>\n",
              "      <td>Parts per million</td>\n",
              "      <td>0.100000</td>\n",
              "      <td>0.100</td>\n",
              "      <td>0</td>\n",
              "      <td>1.0</td>\n",
              "    </tr>\n",
              "  </tbody>\n",
              "</table>\n",
              "</div>"
            ],
            "text/plain": [
              "         Unnamed: 0  State Code  ...  CO 1st Max Hour  CO AQI\n",
              "1746656       24599          56  ...                2     1.0\n",
              "1746657       24600          56  ...                0     NaN\n",
              "1746658       24601          56  ...                0     1.0\n",
              "1746659       24602          56  ...                0     NaN\n",
              "1746660       24603          56  ...                0     1.0\n",
              "\n",
              "[5 rows x 29 columns]"
            ]
          },
          "metadata": {
            "tags": []
          },
          "execution_count": 4
        }
      ]
    },
    {
      "cell_type": "code",
      "metadata": {
        "id": "3w6ICsgoqfGK",
        "colab_type": "code",
        "outputId": "eb417d28-edce-45b8-cff2-86ca072d51f0",
        "colab": {
          "base_uri": "https://localhost:8080/",
          "height": 611
        }
      },
      "source": [
        "del df['Unnamed: 0']\n",
        "\n",
        "df.info()"
      ],
      "execution_count": 0,
      "outputs": [
        {
          "output_type": "stream",
          "text": [
            "<class 'pandas.core.frame.DataFrame'>\n",
            "RangeIndex: 1746661 entries, 0 to 1746660\n",
            "Data columns (total 28 columns):\n",
            "State Code           int64\n",
            "County Code          int64\n",
            "Site Num             int64\n",
            "Address              object\n",
            "State                object\n",
            "County               object\n",
            "City                 object\n",
            "Date Local           object\n",
            "NO2 Units            object\n",
            "NO2 Mean             float64\n",
            "NO2 1st Max Value    float64\n",
            "NO2 1st Max Hour     int64\n",
            "NO2 AQI              int64\n",
            "O3 Units             object\n",
            "O3 Mean              float64\n",
            "O3 1st Max Value     float64\n",
            "O3 1st Max Hour      int64\n",
            "O3 AQI               int64\n",
            "SO2 Units            object\n",
            "SO2 Mean             float64\n",
            "SO2 1st Max Value    float64\n",
            "SO2 1st Max Hour     int64\n",
            "SO2 AQI              float64\n",
            "CO Units             object\n",
            "CO Mean              float64\n",
            "CO 1st Max Value     float64\n",
            "CO 1st Max Hour      int64\n",
            "CO AQI               float64\n",
            "dtypes: float64(10), int64(9), object(9)\n",
            "memory usage: 373.1+ MB\n"
          ],
          "name": "stdout"
        }
      ]
    },
    {
      "cell_type": "code",
      "metadata": {
        "id": "GoejptGCqfab",
        "colab_type": "code",
        "outputId": "cdc0918f-8717-47c7-a8ae-ad2ba463cf38",
        "colab": {
          "base_uri": "https://localhost:8080/",
          "height": 539
        }
      },
      "source": [
        "df.isnull().any()"
      ],
      "execution_count": 0,
      "outputs": [
        {
          "output_type": "execute_result",
          "data": {
            "text/plain": [
              "State Code           False\n",
              "County Code          False\n",
              "Site Num             False\n",
              "Address              False\n",
              "State                False\n",
              "County               False\n",
              "City                 False\n",
              "Date Local           False\n",
              "NO2 Units            False\n",
              "NO2 Mean             False\n",
              "NO2 1st Max Value    False\n",
              "NO2 1st Max Hour     False\n",
              "NO2 AQI              False\n",
              "O3 Units             False\n",
              "O3 Mean              False\n",
              "O3 1st Max Value     False\n",
              "O3 1st Max Hour      False\n",
              "O3 AQI               False\n",
              "SO2 Units            False\n",
              "SO2 Mean             False\n",
              "SO2 1st Max Value    False\n",
              "SO2 1st Max Hour     False\n",
              "SO2 AQI               True\n",
              "CO Units             False\n",
              "CO Mean              False\n",
              "CO 1st Max Value     False\n",
              "CO 1st Max Hour      False\n",
              "CO AQI                True\n",
              "dtype: bool"
            ]
          },
          "metadata": {
            "tags": []
          },
          "execution_count": 6
        }
      ]
    },
    {
      "cell_type": "code",
      "metadata": {
        "id": "1pF5N_IFqfxY",
        "colab_type": "code",
        "colab": {}
      },
      "source": [
        "df=df.dropna()"
      ],
      "execution_count": 0,
      "outputs": []
    },
    {
      "cell_type": "code",
      "metadata": {
        "id": "Blla6ltFqft7",
        "colab_type": "code",
        "outputId": "1d10f8d0-9d03-476d-8e51-103aeba36892",
        "colab": {
          "base_uri": "https://localhost:8080/",
          "height": 611
        }
      },
      "source": [
        "df.info()"
      ],
      "execution_count": 0,
      "outputs": [
        {
          "output_type": "stream",
          "text": [
            "<class 'pandas.core.frame.DataFrame'>\n",
            "Int64Index: 436876 entries, 1 to 1746658\n",
            "Data columns (total 28 columns):\n",
            "State Code           436876 non-null int64\n",
            "County Code          436876 non-null int64\n",
            "Site Num             436876 non-null int64\n",
            "Address              436876 non-null object\n",
            "State                436876 non-null object\n",
            "County               436876 non-null object\n",
            "City                 436876 non-null object\n",
            "Date Local           436876 non-null object\n",
            "NO2 Units            436876 non-null object\n",
            "NO2 Mean             436876 non-null float64\n",
            "NO2 1st Max Value    436876 non-null float64\n",
            "NO2 1st Max Hour     436876 non-null int64\n",
            "NO2 AQI              436876 non-null int64\n",
            "O3 Units             436876 non-null object\n",
            "O3 Mean              436876 non-null float64\n",
            "O3 1st Max Value     436876 non-null float64\n",
            "O3 1st Max Hour      436876 non-null int64\n",
            "O3 AQI               436876 non-null int64\n",
            "SO2 Units            436876 non-null object\n",
            "SO2 Mean             436876 non-null float64\n",
            "SO2 1st Max Value    436876 non-null float64\n",
            "SO2 1st Max Hour     436876 non-null int64\n",
            "SO2 AQI              436876 non-null float64\n",
            "CO Units             436876 non-null object\n",
            "CO Mean              436876 non-null float64\n",
            "CO 1st Max Value     436876 non-null float64\n",
            "CO 1st Max Hour      436876 non-null int64\n",
            "CO AQI               436876 non-null float64\n",
            "dtypes: float64(10), int64(9), object(9)\n",
            "memory usage: 96.7+ MB\n"
          ],
          "name": "stdout"
        }
      ]
    },
    {
      "cell_type": "code",
      "metadata": {
        "id": "NrqaVa_Oqfq0",
        "colab_type": "code",
        "colab": {}
      },
      "source": [
        "df.to_csv('pollution_new.csv')"
      ],
      "execution_count": 0,
      "outputs": []
    },
    {
      "cell_type": "code",
      "metadata": {
        "id": "OT9fjzbgqflK",
        "colab_type": "code",
        "outputId": "fa7860e8-4628-4eda-bc2d-fae24df4fc31",
        "colab": {
          "base_uri": "https://localhost:8080/",
          "height": 615
        }
      },
      "source": [
        "df=pd.read_csv('pollution_new.csv')\n",
        "df.tail()"
      ],
      "execution_count": 0,
      "outputs": [
        {
          "output_type": "execute_result",
          "data": {
            "text/html": [
              "<div>\n",
              "<style scoped>\n",
              "    .dataframe tbody tr th:only-of-type {\n",
              "        vertical-align: middle;\n",
              "    }\n",
              "\n",
              "    .dataframe tbody tr th {\n",
              "        vertical-align: top;\n",
              "    }\n",
              "\n",
              "    .dataframe thead th {\n",
              "        text-align: right;\n",
              "    }\n",
              "</style>\n",
              "<table border=\"1\" class=\"dataframe\">\n",
              "  <thead>\n",
              "    <tr style=\"text-align: right;\">\n",
              "      <th></th>\n",
              "      <th>Unnamed: 0</th>\n",
              "      <th>State Code</th>\n",
              "      <th>County Code</th>\n",
              "      <th>Site Num</th>\n",
              "      <th>Address</th>\n",
              "      <th>State</th>\n",
              "      <th>County</th>\n",
              "      <th>City</th>\n",
              "      <th>Date Local</th>\n",
              "      <th>NO2 Units</th>\n",
              "      <th>NO2 Mean</th>\n",
              "      <th>NO2 1st Max Value</th>\n",
              "      <th>NO2 1st Max Hour</th>\n",
              "      <th>NO2 AQI</th>\n",
              "      <th>O3 Units</th>\n",
              "      <th>O3 Mean</th>\n",
              "      <th>O3 1st Max Value</th>\n",
              "      <th>O3 1st Max Hour</th>\n",
              "      <th>O3 AQI</th>\n",
              "      <th>SO2 Units</th>\n",
              "      <th>SO2 Mean</th>\n",
              "      <th>SO2 1st Max Value</th>\n",
              "      <th>SO2 1st Max Hour</th>\n",
              "      <th>SO2 AQI</th>\n",
              "      <th>CO Units</th>\n",
              "      <th>CO Mean</th>\n",
              "      <th>CO 1st Max Value</th>\n",
              "      <th>CO 1st Max Hour</th>\n",
              "      <th>CO AQI</th>\n",
              "    </tr>\n",
              "  </thead>\n",
              "  <tbody>\n",
              "    <tr>\n",
              "      <th>436871</th>\n",
              "      <td>1746642</td>\n",
              "      <td>56</td>\n",
              "      <td>21</td>\n",
              "      <td>100</td>\n",
              "      <td>NCore - North Cheyenne Soccer Complex</td>\n",
              "      <td>Wyoming</td>\n",
              "      <td>Laramie</td>\n",
              "      <td>Not in a city</td>\n",
              "      <td>2016-03-27</td>\n",
              "      <td>Parts per billion</td>\n",
              "      <td>4.277273</td>\n",
              "      <td>23.5</td>\n",
              "      <td>23</td>\n",
              "      <td>22</td>\n",
              "      <td>Parts per million</td>\n",
              "      <td>0.041958</td>\n",
              "      <td>0.050</td>\n",
              "      <td>10</td>\n",
              "      <td>46</td>\n",
              "      <td>Parts per billion</td>\n",
              "      <td>-0.095238</td>\n",
              "      <td>0.0</td>\n",
              "      <td>0</td>\n",
              "      <td>0.0</td>\n",
              "      <td>Parts per million</td>\n",
              "      <td>0.100000</td>\n",
              "      <td>0.1</td>\n",
              "      <td>0</td>\n",
              "      <td>1.0</td>\n",
              "    </tr>\n",
              "    <tr>\n",
              "      <th>436872</th>\n",
              "      <td>1746646</td>\n",
              "      <td>56</td>\n",
              "      <td>21</td>\n",
              "      <td>100</td>\n",
              "      <td>NCore - North Cheyenne Soccer Complex</td>\n",
              "      <td>Wyoming</td>\n",
              "      <td>Laramie</td>\n",
              "      <td>Not in a city</td>\n",
              "      <td>2016-03-28</td>\n",
              "      <td>Parts per billion</td>\n",
              "      <td>8.317391</td>\n",
              "      <td>22.6</td>\n",
              "      <td>6</td>\n",
              "      <td>21</td>\n",
              "      <td>Parts per million</td>\n",
              "      <td>0.041292</td>\n",
              "      <td>0.052</td>\n",
              "      <td>9</td>\n",
              "      <td>48</td>\n",
              "      <td>Parts per billion</td>\n",
              "      <td>0.117391</td>\n",
              "      <td>0.5</td>\n",
              "      <td>7</td>\n",
              "      <td>0.0</td>\n",
              "      <td>Parts per million</td>\n",
              "      <td>0.100000</td>\n",
              "      <td>0.1</td>\n",
              "      <td>0</td>\n",
              "      <td>1.0</td>\n",
              "    </tr>\n",
              "    <tr>\n",
              "      <th>436873</th>\n",
              "      <td>1746650</td>\n",
              "      <td>56</td>\n",
              "      <td>21</td>\n",
              "      <td>100</td>\n",
              "      <td>NCore - North Cheyenne Soccer Complex</td>\n",
              "      <td>Wyoming</td>\n",
              "      <td>Laramie</td>\n",
              "      <td>Not in a city</td>\n",
              "      <td>2016-03-29</td>\n",
              "      <td>Parts per billion</td>\n",
              "      <td>2.564706</td>\n",
              "      <td>3.6</td>\n",
              "      <td>6</td>\n",
              "      <td>3</td>\n",
              "      <td>Parts per million</td>\n",
              "      <td>0.028000</td>\n",
              "      <td>0.040</td>\n",
              "      <td>23</td>\n",
              "      <td>37</td>\n",
              "      <td>Parts per billion</td>\n",
              "      <td>0.143750</td>\n",
              "      <td>0.7</td>\n",
              "      <td>8</td>\n",
              "      <td>0.0</td>\n",
              "      <td>Parts per million</td>\n",
              "      <td>0.006667</td>\n",
              "      <td>0.1</td>\n",
              "      <td>0</td>\n",
              "      <td>1.0</td>\n",
              "    </tr>\n",
              "    <tr>\n",
              "      <th>436874</th>\n",
              "      <td>1746654</td>\n",
              "      <td>56</td>\n",
              "      <td>21</td>\n",
              "      <td>100</td>\n",
              "      <td>NCore - North Cheyenne Soccer Complex</td>\n",
              "      <td>Wyoming</td>\n",
              "      <td>Laramie</td>\n",
              "      <td>Not in a city</td>\n",
              "      <td>2016-03-30</td>\n",
              "      <td>Parts per billion</td>\n",
              "      <td>1.083333</td>\n",
              "      <td>1.6</td>\n",
              "      <td>9</td>\n",
              "      <td>1</td>\n",
              "      <td>Parts per million</td>\n",
              "      <td>0.043917</td>\n",
              "      <td>0.048</td>\n",
              "      <td>18</td>\n",
              "      <td>44</td>\n",
              "      <td>Parts per billion</td>\n",
              "      <td>0.016667</td>\n",
              "      <td>0.1</td>\n",
              "      <td>0</td>\n",
              "      <td>0.0</td>\n",
              "      <td>Parts per million</td>\n",
              "      <td>0.091667</td>\n",
              "      <td>0.1</td>\n",
              "      <td>2</td>\n",
              "      <td>1.0</td>\n",
              "    </tr>\n",
              "    <tr>\n",
              "      <th>436875</th>\n",
              "      <td>1746658</td>\n",
              "      <td>56</td>\n",
              "      <td>21</td>\n",
              "      <td>100</td>\n",
              "      <td>NCore - North Cheyenne Soccer Complex</td>\n",
              "      <td>Wyoming</td>\n",
              "      <td>Laramie</td>\n",
              "      <td>Not in a city</td>\n",
              "      <td>2016-03-31</td>\n",
              "      <td>Parts per billion</td>\n",
              "      <td>0.939130</td>\n",
              "      <td>1.3</td>\n",
              "      <td>5</td>\n",
              "      <td>1</td>\n",
              "      <td>Parts per million</td>\n",
              "      <td>0.045263</td>\n",
              "      <td>0.047</td>\n",
              "      <td>9</td>\n",
              "      <td>44</td>\n",
              "      <td>Parts per billion</td>\n",
              "      <td>-0.022727</td>\n",
              "      <td>0.0</td>\n",
              "      <td>0</td>\n",
              "      <td>0.0</td>\n",
              "      <td>Parts per million</td>\n",
              "      <td>0.100000</td>\n",
              "      <td>0.1</td>\n",
              "      <td>0</td>\n",
              "      <td>1.0</td>\n",
              "    </tr>\n",
              "  </tbody>\n",
              "</table>\n",
              "</div>"
            ],
            "text/plain": [
              "        Unnamed: 0  State Code  ...  CO 1st Max Hour  CO AQI\n",
              "436871     1746642          56  ...                0     1.0\n",
              "436872     1746646          56  ...                0     1.0\n",
              "436873     1746650          56  ...                0     1.0\n",
              "436874     1746654          56  ...                2     1.0\n",
              "436875     1746658          56  ...                0     1.0\n",
              "\n",
              "[5 rows x 29 columns]"
            ]
          },
          "metadata": {
            "tags": []
          },
          "execution_count": 10
        }
      ]
    },
    {
      "cell_type": "code",
      "metadata": {
        "id": "WWJlHsl3qfWl",
        "colab_type": "code",
        "colab": {}
      },
      "source": [
        "del df['Unnamed: 0']\n"
      ],
      "execution_count": 0,
      "outputs": []
    },
    {
      "cell_type": "code",
      "metadata": {
        "id": "nC8wdQT0qfSR",
        "colab_type": "code",
        "outputId": "ea6d01e7-f361-445a-fe68-427dbdf7aa6f",
        "colab": {
          "base_uri": "https://localhost:8080/",
          "height": 915
        }
      },
      "source": [
        "df[df['County']=='Queens']"
      ],
      "execution_count": 0,
      "outputs": [
        {
          "output_type": "execute_result",
          "data": {
            "text/html": [
              "<div>\n",
              "<style scoped>\n",
              "    .dataframe tbody tr th:only-of-type {\n",
              "        vertical-align: middle;\n",
              "    }\n",
              "\n",
              "    .dataframe tbody tr th {\n",
              "        vertical-align: top;\n",
              "    }\n",
              "\n",
              "    .dataframe thead th {\n",
              "        text-align: right;\n",
              "    }\n",
              "</style>\n",
              "<table border=\"1\" class=\"dataframe\">\n",
              "  <thead>\n",
              "    <tr style=\"text-align: right;\">\n",
              "      <th></th>\n",
              "      <th>State Code</th>\n",
              "      <th>County Code</th>\n",
              "      <th>Site Num</th>\n",
              "      <th>Address</th>\n",
              "      <th>State</th>\n",
              "      <th>County</th>\n",
              "      <th>City</th>\n",
              "      <th>Date Local</th>\n",
              "      <th>NO2 Units</th>\n",
              "      <th>NO2 Mean</th>\n",
              "      <th>NO2 1st Max Value</th>\n",
              "      <th>NO2 1st Max Hour</th>\n",
              "      <th>NO2 AQI</th>\n",
              "      <th>O3 Units</th>\n",
              "      <th>O3 Mean</th>\n",
              "      <th>O3 1st Max Value</th>\n",
              "      <th>O3 1st Max Hour</th>\n",
              "      <th>O3 AQI</th>\n",
              "      <th>SO2 Units</th>\n",
              "      <th>SO2 Mean</th>\n",
              "      <th>SO2 1st Max Value</th>\n",
              "      <th>SO2 1st Max Hour</th>\n",
              "      <th>SO2 AQI</th>\n",
              "      <th>CO Units</th>\n",
              "      <th>CO Mean</th>\n",
              "      <th>CO 1st Max Value</th>\n",
              "      <th>CO 1st Max Hour</th>\n",
              "      <th>CO AQI</th>\n",
              "    </tr>\n",
              "  </thead>\n",
              "  <tbody>\n",
              "    <tr>\n",
              "      <th>16079</th>\n",
              "      <td>36</td>\n",
              "      <td>81</td>\n",
              "      <td>97</td>\n",
              "      <td>56TH AVE AT SPRINGFIELD BLVD</td>\n",
              "      <td>New York</td>\n",
              "      <td>Queens</td>\n",
              "      <td>New York</td>\n",
              "      <td>2000-01-01</td>\n",
              "      <td>Parts per billion</td>\n",
              "      <td>28.041667</td>\n",
              "      <td>38.0</td>\n",
              "      <td>23</td>\n",
              "      <td>36</td>\n",
              "      <td>Parts per million</td>\n",
              "      <td>0.001667</td>\n",
              "      <td>0.004</td>\n",
              "      <td>8</td>\n",
              "      <td>3</td>\n",
              "      <td>Parts per billion</td>\n",
              "      <td>16.541667</td>\n",
              "      <td>26.0</td>\n",
              "      <td>21</td>\n",
              "      <td>37.0</td>\n",
              "      <td>Parts per million</td>\n",
              "      <td>0.652632</td>\n",
              "      <td>1.1</td>\n",
              "      <td>23</td>\n",
              "      <td>13.0</td>\n",
              "    </tr>\n",
              "    <tr>\n",
              "      <th>16080</th>\n",
              "      <td>36</td>\n",
              "      <td>81</td>\n",
              "      <td>97</td>\n",
              "      <td>56TH AVE AT SPRINGFIELD BLVD</td>\n",
              "      <td>New York</td>\n",
              "      <td>Queens</td>\n",
              "      <td>New York</td>\n",
              "      <td>2000-01-02</td>\n",
              "      <td>Parts per billion</td>\n",
              "      <td>35.375000</td>\n",
              "      <td>45.0</td>\n",
              "      <td>17</td>\n",
              "      <td>42</td>\n",
              "      <td>Parts per million</td>\n",
              "      <td>0.007375</td>\n",
              "      <td>0.012</td>\n",
              "      <td>11</td>\n",
              "      <td>10</td>\n",
              "      <td>Parts per billion</td>\n",
              "      <td>13.791667</td>\n",
              "      <td>29.0</td>\n",
              "      <td>2</td>\n",
              "      <td>41.0</td>\n",
              "      <td>Parts per million</td>\n",
              "      <td>0.833333</td>\n",
              "      <td>1.6</td>\n",
              "      <td>2</td>\n",
              "      <td>18.0</td>\n",
              "    </tr>\n",
              "    <tr>\n",
              "      <th>16081</th>\n",
              "      <td>36</td>\n",
              "      <td>81</td>\n",
              "      <td>97</td>\n",
              "      <td>56TH AVE AT SPRINGFIELD BLVD</td>\n",
              "      <td>New York</td>\n",
              "      <td>Queens</td>\n",
              "      <td>New York</td>\n",
              "      <td>2000-01-03</td>\n",
              "      <td>Parts per billion</td>\n",
              "      <td>32.875000</td>\n",
              "      <td>41.0</td>\n",
              "      <td>0</td>\n",
              "      <td>39</td>\n",
              "      <td>Parts per million</td>\n",
              "      <td>0.003958</td>\n",
              "      <td>0.016</td>\n",
              "      <td>23</td>\n",
              "      <td>14</td>\n",
              "      <td>Parts per billion</td>\n",
              "      <td>9.958333</td>\n",
              "      <td>19.0</td>\n",
              "      <td>6</td>\n",
              "      <td>27.0</td>\n",
              "      <td>Parts per million</td>\n",
              "      <td>0.383333</td>\n",
              "      <td>0.7</td>\n",
              "      <td>19</td>\n",
              "      <td>8.0</td>\n",
              "    </tr>\n",
              "    <tr>\n",
              "      <th>16082</th>\n",
              "      <td>36</td>\n",
              "      <td>81</td>\n",
              "      <td>97</td>\n",
              "      <td>56TH AVE AT SPRINGFIELD BLVD</td>\n",
              "      <td>New York</td>\n",
              "      <td>Queens</td>\n",
              "      <td>New York</td>\n",
              "      <td>2000-01-04</td>\n",
              "      <td>Parts per billion</td>\n",
              "      <td>22.125000</td>\n",
              "      <td>41.0</td>\n",
              "      <td>21</td>\n",
              "      <td>39</td>\n",
              "      <td>Parts per million</td>\n",
              "      <td>0.011125</td>\n",
              "      <td>0.017</td>\n",
              "      <td>0</td>\n",
              "      <td>14</td>\n",
              "      <td>Parts per billion</td>\n",
              "      <td>3.541667</td>\n",
              "      <td>12.0</td>\n",
              "      <td>22</td>\n",
              "      <td>17.0</td>\n",
              "      <td>Parts per million</td>\n",
              "      <td>0.150000</td>\n",
              "      <td>0.5</td>\n",
              "      <td>0</td>\n",
              "      <td>6.0</td>\n",
              "    </tr>\n",
              "    <tr>\n",
              "      <th>16083</th>\n",
              "      <td>36</td>\n",
              "      <td>81</td>\n",
              "      <td>97</td>\n",
              "      <td>56TH AVE AT SPRINGFIELD BLVD</td>\n",
              "      <td>New York</td>\n",
              "      <td>Queens</td>\n",
              "      <td>New York</td>\n",
              "      <td>2000-01-05</td>\n",
              "      <td>Parts per billion</td>\n",
              "      <td>15.958333</td>\n",
              "      <td>23.0</td>\n",
              "      <td>18</td>\n",
              "      <td>22</td>\n",
              "      <td>Parts per million</td>\n",
              "      <td>0.017333</td>\n",
              "      <td>0.025</td>\n",
              "      <td>8</td>\n",
              "      <td>21</td>\n",
              "      <td>Parts per billion</td>\n",
              "      <td>3.291667</td>\n",
              "      <td>5.0</td>\n",
              "      <td>19</td>\n",
              "      <td>7.0</td>\n",
              "      <td>Parts per million</td>\n",
              "      <td>0.050000</td>\n",
              "      <td>0.2</td>\n",
              "      <td>0</td>\n",
              "      <td>2.0</td>\n",
              "    </tr>\n",
              "    <tr>\n",
              "      <th>...</th>\n",
              "      <td>...</td>\n",
              "      <td>...</td>\n",
              "      <td>...</td>\n",
              "      <td>...</td>\n",
              "      <td>...</td>\n",
              "      <td>...</td>\n",
              "      <td>...</td>\n",
              "      <td>...</td>\n",
              "      <td>...</td>\n",
              "      <td>...</td>\n",
              "      <td>...</td>\n",
              "      <td>...</td>\n",
              "      <td>...</td>\n",
              "      <td>...</td>\n",
              "      <td>...</td>\n",
              "      <td>...</td>\n",
              "      <td>...</td>\n",
              "      <td>...</td>\n",
              "      <td>...</td>\n",
              "      <td>...</td>\n",
              "      <td>...</td>\n",
              "      <td>...</td>\n",
              "      <td>...</td>\n",
              "      <td>...</td>\n",
              "      <td>...</td>\n",
              "      <td>...</td>\n",
              "      <td>...</td>\n",
              "      <td>...</td>\n",
              "    </tr>\n",
              "    <tr>\n",
              "      <th>434837</th>\n",
              "      <td>36</td>\n",
              "      <td>81</td>\n",
              "      <td>124</td>\n",
              "      <td>Queens College   65-30 Kissena Blvd  Parking L...</td>\n",
              "      <td>New York</td>\n",
              "      <td>Queens</td>\n",
              "      <td>New York</td>\n",
              "      <td>2016-04-26</td>\n",
              "      <td>Parts per billion</td>\n",
              "      <td>11.462500</td>\n",
              "      <td>17.5</td>\n",
              "      <td>5</td>\n",
              "      <td>16</td>\n",
              "      <td>Parts per million</td>\n",
              "      <td>0.029292</td>\n",
              "      <td>0.034</td>\n",
              "      <td>7</td>\n",
              "      <td>31</td>\n",
              "      <td>Parts per billion</td>\n",
              "      <td>0.012500</td>\n",
              "      <td>0.1</td>\n",
              "      <td>2</td>\n",
              "      <td>0.0</td>\n",
              "      <td>Parts per million</td>\n",
              "      <td>0.200000</td>\n",
              "      <td>0.2</td>\n",
              "      <td>0</td>\n",
              "      <td>2.0</td>\n",
              "    </tr>\n",
              "    <tr>\n",
              "      <th>434838</th>\n",
              "      <td>36</td>\n",
              "      <td>81</td>\n",
              "      <td>124</td>\n",
              "      <td>Queens College   65-30 Kissena Blvd  Parking L...</td>\n",
              "      <td>New York</td>\n",
              "      <td>Queens</td>\n",
              "      <td>New York</td>\n",
              "      <td>2016-04-27</td>\n",
              "      <td>Parts per billion</td>\n",
              "      <td>13.480000</td>\n",
              "      <td>30.1</td>\n",
              "      <td>22</td>\n",
              "      <td>28</td>\n",
              "      <td>Parts per million</td>\n",
              "      <td>0.021208</td>\n",
              "      <td>0.029</td>\n",
              "      <td>9</td>\n",
              "      <td>27</td>\n",
              "      <td>Parts per billion</td>\n",
              "      <td>0.157143</td>\n",
              "      <td>0.4</td>\n",
              "      <td>16</td>\n",
              "      <td>0.0</td>\n",
              "      <td>Parts per million</td>\n",
              "      <td>0.208333</td>\n",
              "      <td>0.3</td>\n",
              "      <td>22</td>\n",
              "      <td>3.0</td>\n",
              "    </tr>\n",
              "    <tr>\n",
              "      <th>434839</th>\n",
              "      <td>36</td>\n",
              "      <td>81</td>\n",
              "      <td>124</td>\n",
              "      <td>Queens College   65-30 Kissena Blvd  Parking L...</td>\n",
              "      <td>New York</td>\n",
              "      <td>Queens</td>\n",
              "      <td>New York</td>\n",
              "      <td>2016-04-28</td>\n",
              "      <td>Parts per billion</td>\n",
              "      <td>11.989474</td>\n",
              "      <td>29.7</td>\n",
              "      <td>1</td>\n",
              "      <td>27</td>\n",
              "      <td>Parts per million</td>\n",
              "      <td>0.037542</td>\n",
              "      <td>0.043</td>\n",
              "      <td>8</td>\n",
              "      <td>40</td>\n",
              "      <td>Parts per billion</td>\n",
              "      <td>0.287500</td>\n",
              "      <td>0.7</td>\n",
              "      <td>19</td>\n",
              "      <td>0.0</td>\n",
              "      <td>Parts per million</td>\n",
              "      <td>0.229167</td>\n",
              "      <td>0.3</td>\n",
              "      <td>0</td>\n",
              "      <td>3.0</td>\n",
              "    </tr>\n",
              "    <tr>\n",
              "      <th>434840</th>\n",
              "      <td>36</td>\n",
              "      <td>81</td>\n",
              "      <td>124</td>\n",
              "      <td>Queens College   65-30 Kissena Blvd  Parking L...</td>\n",
              "      <td>New York</td>\n",
              "      <td>Queens</td>\n",
              "      <td>New York</td>\n",
              "      <td>2016-04-29</td>\n",
              "      <td>Parts per billion</td>\n",
              "      <td>9.041667</td>\n",
              "      <td>19.6</td>\n",
              "      <td>5</td>\n",
              "      <td>18</td>\n",
              "      <td>Parts per million</td>\n",
              "      <td>0.036750</td>\n",
              "      <td>0.045</td>\n",
              "      <td>8</td>\n",
              "      <td>42</td>\n",
              "      <td>Parts per billion</td>\n",
              "      <td>0.170833</td>\n",
              "      <td>0.5</td>\n",
              "      <td>5</td>\n",
              "      <td>0.0</td>\n",
              "      <td>Parts per million</td>\n",
              "      <td>0.187500</td>\n",
              "      <td>0.2</td>\n",
              "      <td>0</td>\n",
              "      <td>2.0</td>\n",
              "    </tr>\n",
              "    <tr>\n",
              "      <th>434841</th>\n",
              "      <td>36</td>\n",
              "      <td>81</td>\n",
              "      <td>124</td>\n",
              "      <td>Queens College   65-30 Kissena Blvd  Parking L...</td>\n",
              "      <td>New York</td>\n",
              "      <td>Queens</td>\n",
              "      <td>New York</td>\n",
              "      <td>2016-04-30</td>\n",
              "      <td>Parts per billion</td>\n",
              "      <td>8.204167</td>\n",
              "      <td>12.8</td>\n",
              "      <td>20</td>\n",
              "      <td>11</td>\n",
              "      <td>Parts per million</td>\n",
              "      <td>0.038684</td>\n",
              "      <td>0.046</td>\n",
              "      <td>8</td>\n",
              "      <td>43</td>\n",
              "      <td>Parts per billion</td>\n",
              "      <td>0.245833</td>\n",
              "      <td>0.9</td>\n",
              "      <td>20</td>\n",
              "      <td>0.0</td>\n",
              "      <td>Parts per million</td>\n",
              "      <td>0.195833</td>\n",
              "      <td>0.2</td>\n",
              "      <td>0</td>\n",
              "      <td>2.0</td>\n",
              "    </tr>\n",
              "  </tbody>\n",
              "</table>\n",
              "<p>6047 rows × 28 columns</p>\n",
              "</div>"
            ],
            "text/plain": [
              "        State Code  County Code  ...  CO 1st Max Hour CO AQI\n",
              "16079           36           81  ...               23   13.0\n",
              "16080           36           81  ...                2   18.0\n",
              "16081           36           81  ...               19    8.0\n",
              "16082           36           81  ...                0    6.0\n",
              "16083           36           81  ...                0    2.0\n",
              "...            ...          ...  ...              ...    ...\n",
              "434837          36           81  ...                0    2.0\n",
              "434838          36           81  ...               22    3.0\n",
              "434839          36           81  ...                0    3.0\n",
              "434840          36           81  ...                0    2.0\n",
              "434841          36           81  ...                0    2.0\n",
              "\n",
              "[6047 rows x 28 columns]"
            ]
          },
          "metadata": {
            "tags": []
          },
          "execution_count": 13
        }
      ]
    },
    {
      "cell_type": "code",
      "metadata": {
        "id": "JJZRBSKmqfA8",
        "colab_type": "code",
        "outputId": "7d62e380-6d0a-4ed4-8ef7-e7775c7623fe",
        "colab": {
          "base_uri": "https://localhost:8080/",
          "height": 107
        }
      },
      "source": [
        "%pylab inline\n",
        "from datetime  import datetime\n",
        "df['Date Local']=pd.to_datetime(df['Date Local'])\n",
        "type(df['Date Local'])"
      ],
      "execution_count": 0,
      "outputs": [
        {
          "output_type": "stream",
          "text": [
            "Populating the interactive namespace from numpy and matplotlib\n"
          ],
          "name": "stdout"
        },
        {
          "output_type": "stream",
          "text": [
            "/usr/local/lib/python3.6/dist-packages/IPython/core/magics/pylab.py:161: UserWarning: pylab import has clobbered these variables: ['datetime']\n",
            "`%matplotlib` prevents importing * from pylab and numpy\n",
            "  \"\\n`%matplotlib` prevents importing * from pylab and numpy\"\n"
          ],
          "name": "stderr"
        },
        {
          "output_type": "execute_result",
          "data": {
            "text/plain": [
              "pandas.core.series.Series"
            ]
          },
          "metadata": {
            "tags": []
          },
          "execution_count": 18
        }
      ]
    },
    {
      "cell_type": "code",
      "metadata": {
        "id": "UizuDKTrqe6E",
        "colab_type": "code",
        "outputId": "b1a983a4-427f-40db-fd71-890bfc3f1e29",
        "colab": {
          "base_uri": "https://localhost:8080/",
          "height": 35
        }
      },
      "source": [
        "print(type(df['Date Local']))"
      ],
      "execution_count": 0,
      "outputs": [
        {
          "output_type": "stream",
          "text": [
            "<class 'pandas.core.series.Series'>\n"
          ],
          "name": "stdout"
        }
      ]
    },
    {
      "cell_type": "code",
      "metadata": {
        "id": "gQOuCpuEqe0S",
        "colab_type": "code",
        "outputId": "640ca19d-571a-4520-c5f8-a2a79fc173d2",
        "colab": {
          "base_uri": "https://localhost:8080/",
          "height": 611
        }
      },
      "source": [
        "df.info()"
      ],
      "execution_count": 0,
      "outputs": [
        {
          "output_type": "stream",
          "text": [
            "<class 'pandas.core.frame.DataFrame'>\n",
            "RangeIndex: 436876 entries, 0 to 436875\n",
            "Data columns (total 28 columns):\n",
            "State Code           436876 non-null int64\n",
            "County Code          436876 non-null int64\n",
            "Site Num             436876 non-null int64\n",
            "Address              436876 non-null object\n",
            "State                436876 non-null object\n",
            "County               436876 non-null object\n",
            "City                 436876 non-null object\n",
            "Date Local           436876 non-null datetime64[ns]\n",
            "NO2 Units            436876 non-null object\n",
            "NO2 Mean             436876 non-null float64\n",
            "NO2 1st Max Value    436876 non-null float64\n",
            "NO2 1st Max Hour     436876 non-null int64\n",
            "NO2 AQI              436876 non-null int64\n",
            "O3 Units             436876 non-null object\n",
            "O3 Mean              436876 non-null float64\n",
            "O3 1st Max Value     436876 non-null float64\n",
            "O3 1st Max Hour      436876 non-null int64\n",
            "O3 AQI               436876 non-null int64\n",
            "SO2 Units            436876 non-null object\n",
            "SO2 Mean             436876 non-null float64\n",
            "SO2 1st Max Value    436876 non-null float64\n",
            "SO2 1st Max Hour     436876 non-null int64\n",
            "SO2 AQI              436876 non-null float64\n",
            "CO Units             436876 non-null object\n",
            "CO Mean              436876 non-null float64\n",
            "CO 1st Max Value     436876 non-null float64\n",
            "CO 1st Max Hour      436876 non-null int64\n",
            "CO AQI               436876 non-null float64\n",
            "dtypes: datetime64[ns](1), float64(10), int64(9), object(8)\n",
            "memory usage: 93.3+ MB\n"
          ],
          "name": "stdout"
        }
      ]
    },
    {
      "cell_type": "code",
      "metadata": {
        "id": "FPy7lK49qery",
        "colab_type": "code",
        "colab": {}
      },
      "source": [
        "df_Queens=df[df['County']=='Queens']\n",
        "df_Queens_2000=df_Queens[df_Queens['Date Local'].dt.year==2000]"
      ],
      "execution_count": 0,
      "outputs": []
    },
    {
      "cell_type": "code",
      "metadata": {
        "id": "asYhX8GBtNDi",
        "colab_type": "code",
        "outputId": "457d6015-f15f-4a2e-9cc7-25014c6badb3",
        "colab": {
          "base_uri": "https://localhost:8080/",
          "height": 269
        }
      },
      "source": [
        "df_Queens_2000['NO2 Mean'].groupby(df_Queens_2000['Date Local'].dt.month).mean()"
      ],
      "execution_count": 0,
      "outputs": [
        {
          "output_type": "execute_result",
          "data": {
            "text/plain": [
              "Date Local\n",
              "1     26.125948\n",
              "2     31.132626\n",
              "3     27.974982\n",
              "4     22.449245\n",
              "5     25.126116\n",
              "6     24.926126\n",
              "7     22.789881\n",
              "8     23.449218\n",
              "9     23.094957\n",
              "10    29.664284\n",
              "11    24.721150\n",
              "12    27.156692\n",
              "Name: NO2 Mean, dtype: float64"
            ]
          },
          "metadata": {
            "tags": []
          },
          "execution_count": 21
        }
      ]
    },
    {
      "cell_type": "code",
      "metadata": {
        "id": "53Yrsl7EtNt9",
        "colab_type": "code",
        "outputId": "154a014d-5bfd-4c75-81e0-d746160c3eca",
        "colab": {
          "base_uri": "https://localhost:8080/",
          "height": 299
        }
      },
      "source": [
        "df_Queens_2000['NO2 Mean'].groupby(df_Queens_2000['Date Local'].dt.month).mean().plot(kind='hist',title='points')"
      ],
      "execution_count": 0,
      "outputs": [
        {
          "output_type": "execute_result",
          "data": {
            "text/plain": [
              "<matplotlib.axes._subplots.AxesSubplot at 0x7fa38a23a5c0>"
            ]
          },
          "metadata": {
            "tags": []
          },
          "execution_count": 22
        },
        {
          "output_type": "display_data",
          "data": {
            "image/png": "[encoded data removed]",
            "text/plain": [
              "<Figure size 432x288 with 1 Axes>"
            ]
          },
          "metadata": {
            "tags": []
          }
        }
      ]
    },
    {
      "cell_type": "code",
      "metadata": {
        "id": "9GGqc7fPtN-L",
        "colab_type": "code",
        "outputId": "e99a9950-f3f6-4c8a-c989-58179f2be39a",
        "colab": {
          "base_uri": "https://localhost:8080/",
          "height": 337
        }
      },
      "source": [
        "df_Queens_2000['NO2 Mean'].groupby(df_Queens_2000['Date Local'].dt.month).mean().value_counts().plot(kind='pie',figsize=[5,5],counterclock=True,startangle=90,legend=False,title='NO2 Mean of Queens in 2000')"
      ],
      "execution_count": 0,
      "outputs": [
        {
          "output_type": "execute_result",
          "data": {
            "text/plain": [
              "<matplotlib.axes._subplots.AxesSubplot at 0x7fa389a81748>"
            ]
          },
          "metadata": {
            "tags": []
          },
          "execution_count": 23
        },
        {
          "output_type": "display_data",
          "data": {
            "image/png": "[encoded data removed]",
            "text/plain": [
              "<Figure size 360x360 with 1 Axes>"
            ]
          },
          "metadata": {
            "tags": []
          }
        }
      ]
    },
    {
      "cell_type": "code",
      "metadata": {
        "id": "cYvjIG23tNq0",
        "colab_type": "code",
        "outputId": "0c2865e9-72a4-44bb-dd75-b9a63c9e7673",
        "colab": {
          "base_uri": "https://localhost:8080/",
          "height": 125
        }
      },
      "source": [
        "df_Queens['AQI']=df_Queens[['NO2 AQI', 'O3 AQI', 'SO2 AQI', 'CO AQI']].apply(lambda x: max(x), axis=1)"
      ],
      "execution_count": 0,
      "outputs": [
        {
          "output_type": "stream",
          "text": [
            "/usr/local/lib/python3.6/dist-packages/ipykernel_launcher.py:1: SettingWithCopyWarning: \n",
            "A value is trying to be set on a copy of a slice from a DataFrame.\n",
            "Try using .loc[row_indexer,col_indexer] = value instead\n",
            "\n",
            "See the caveats in the documentation: http://pandas.pydata.org/pandas-docs/stable/user_guide/indexing.html#returning-a-view-versus-a-copy\n",
            "  \"\"\"Entry point for launching an IPython kernel.\n"
          ],
          "name": "stderr"
        }
      ]
    },
    {
      "cell_type": "code",
      "metadata": {
        "id": "oNyP2sWgtNng",
        "colab_type": "code",
        "outputId": "0a8e64ef-3070-46dd-e179-9c3a47643ad2",
        "colab": {
          "base_uri": "https://localhost:8080/",
          "height": 125
        }
      },
      "source": [
        "df_Queens['AQI'].head()"
      ],
      "execution_count": 0,
      "outputs": [
        {
          "output_type": "execute_result",
          "data": {
            "text/plain": [
              "16079    37.0\n",
              "16080    42.0\n",
              "16081    39.0\n",
              "16082    39.0\n",
              "16083    22.0\n",
              "Name: AQI, dtype: float64"
            ]
          },
          "metadata": {
            "tags": []
          },
          "execution_count": 26
        }
      ]
    },
    {
      "cell_type": "code",
      "metadata": {
        "id": "2C0Sbx2xtNkM",
        "colab_type": "code",
        "outputId": "f0b837f7-e112-4e57-87fa-af3cf4e00ddc",
        "colab": {
          "base_uri": "https://localhost:8080/",
          "height": 179
        }
      },
      "source": [
        "df_Queens['AQI'].describe()"
      ],
      "execution_count": 0,
      "outputs": [
        {
          "output_type": "execute_result",
          "data": {
            "text/plain": [
              "count    6047.000000\n",
              "mean       41.809162\n",
              "std        17.105014\n",
              "min        12.000000\n",
              "25%        31.000000\n",
              "50%        39.000000\n",
              "75%        47.000000\n",
              "max       201.000000\n",
              "Name: AQI, dtype: float64"
            ]
          },
          "metadata": {
            "tags": []
          },
          "execution_count": 27
        }
      ]
    },
    {
      "cell_type": "code",
      "metadata": {
        "id": "2xlvxLBQtNZC",
        "colab_type": "code",
        "outputId": "cd7d3963-bdd0-4879-8a0e-f8259671f8a0",
        "colab": {
          "base_uri": "https://localhost:8080/",
          "height": 35
        }
      },
      "source": [
        "def AQI_level(e):\n",
        "  if e<50:\n",
        "    return \"Good\"\n",
        "  elif e>50 and e<=100:\n",
        "    return \"Moderate\"\n",
        "  elif e>100 and e<=150:\n",
        "      return \"Unhealthy for Sensitive Groups\"\n",
        "  elif e>150 and e<=200:\n",
        "      return \"Unhealthy\"\n",
        "  elif e>200 and e<=300:\n",
        "      return \"Hazardous\"\n",
        "AQI_level(144)"
      ],
      "execution_count": 0,
      "outputs": [
        {
          "output_type": "execute_result",
          "data": {
            "text/plain": [
              "'Unhealthy for Sensitive Groups'"
            ]
          },
          "metadata": {
            "tags": []
          },
          "execution_count": 29
        }
      ]
    },
    {
      "cell_type": "code",
      "metadata": {
        "id": "x6r9Bd7ftNRB",
        "colab_type": "code",
        "outputId": "1b620912-c109-46df-fa2b-836125954994",
        "colab": {
          "base_uri": "https://localhost:8080/",
          "height": 125
        }
      },
      "source": [
        "df_Queens['AQI_level']=df_Queens['AQI'].map(AQI_level)"
      ],
      "execution_count": 0,
      "outputs": [
        {
          "output_type": "stream",
          "text": [
            "/usr/local/lib/python3.6/dist-packages/ipykernel_launcher.py:1: SettingWithCopyWarning: \n",
            "A value is trying to be set on a copy of a slice from a DataFrame.\n",
            "Try using .loc[row_indexer,col_indexer] = value instead\n",
            "\n",
            "See the caveats in the documentation: http://pandas.pydata.org/pandas-docs/stable/user_guide/indexing.html#returning-a-view-versus-a-copy\n",
            "  \"\"\"Entry point for launching an IPython kernel.\n"
          ],
          "name": "stderr"
        }
      ]
    },
    {
      "cell_type": "code",
      "metadata": {
        "id": "Fyzl9iafxc66",
        "colab_type": "code",
        "outputId": "028e9918-230c-4137-9370-4a4f060120c6",
        "colab": {
          "base_uri": "https://localhost:8080/",
          "height": 125
        }
      },
      "source": [
        "df_Queens['AQI_level'].head()"
      ],
      "execution_count": 0,
      "outputs": [
        {
          "output_type": "execute_result",
          "data": {
            "text/plain": [
              "16079    Good\n",
              "16080    Good\n",
              "16081    Good\n",
              "16082    Good\n",
              "16083    Good\n",
              "Name: AQI_level, dtype: object"
            ]
          },
          "metadata": {
            "tags": []
          },
          "execution_count": 31
        }
      ]
    },
    {
      "cell_type": "code",
      "metadata": {
        "id": "ivn7MmSsxdTN",
        "colab_type": "code",
        "outputId": "7d2461be-1df4-4538-c678-a7fbfd8c2aa2",
        "colab": {
          "base_uri": "https://localhost:8080/",
          "height": 125
        }
      },
      "source": [
        "df_Queens['AQI_level'].value_counts()"
      ],
      "execution_count": 0,
      "outputs": [
        {
          "output_type": "execute_result",
          "data": {
            "text/plain": [
              "Good                              4849\n",
              "Moderate                           998\n",
              "Unhealthy for Sensitive Groups      91\n",
              "Unhealthy                            9\n",
              "Hazardous                            1\n",
              "Name: AQI_level, dtype: int64"
            ]
          },
          "metadata": {
            "tags": []
          },
          "execution_count": 32
        }
      ]
    },
    {
      "cell_type": "code",
      "metadata": {
        "id": "ymQLVqs8xdlA",
        "colab_type": "code",
        "outputId": "fda6b761-80d2-4ff6-8d54-d437a943290c",
        "colab": {
          "base_uri": "https://localhost:8080/",
          "height": 354
        }
      },
      "source": [
        "df_Queens['AQI'].plot(kind='hist', figsize=[5,5],legend=False, title='AQI 2000-2016')"
      ],
      "execution_count": 0,
      "outputs": [
        {
          "output_type": "execute_result",
          "data": {
            "text/plain": [
              "<matplotlib.axes._subplots.AxesSubplot at 0x7fa389868dd8>"
            ]
          },
          "metadata": {
            "tags": []
          },
          "execution_count": 33
        },
        {
          "output_type": "display_data",
          "data": {
            "image/png": "[encoded data removed]",
            "text/plain": [
              "<Figure size 360x360 with 1 Axes>"
            ]
          },
          "metadata": {
            "tags": []
          }
        }
      ]
    },
    {
      "cell_type": "code",
      "metadata": {
        "id": "sIBmrGk0xd57",
        "colab_type": "code",
        "outputId": "f434f565-6bc8-4513-84f4-4ed31a01fc75",
        "colab": {
          "base_uri": "https://localhost:8080/",
          "height": 337
        }
      },
      "source": [
        "df_Queens['AQI_level'].value_counts().plot(kind='pie', figsize=[5,5], counterclock=True, startangle=0,  legend=False, title='AQI 2000-2016')"
      ],
      "execution_count": 0,
      "outputs": [
        {
          "output_type": "execute_result",
          "data": {
            "text/plain": [
              "<matplotlib.axes._subplots.AxesSubplot at 0x7fa389761dd8>"
            ]
          },
          "metadata": {
            "tags": []
          },
          "execution_count": 34
        },
        {
          "output_type": "display_data",
          "data": {
            "image/png": "[encoded data removed]",
            "text/plain": [
              "<Figure size 360x360 with 1 Axes>"
            ]
          },
          "metadata": {
            "tags": []
          }
        }
      ]
    }
  ]
}