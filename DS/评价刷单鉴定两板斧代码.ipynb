{
  "nbformat": 4,
  "nbformat_minor": 0,
  "metadata": {
    "colab": {
      "name": "评价刷单鉴定两板斧代码.ipynb",
      "provenance": [],
      "collapsed_sections": [],
      "include_colab_link": true
    },
    "kernelspec": {
      "name": "python3",
      "display_name": "Python 3"
    }
  },
  "cells": [
    {
      "cell_type": "markdown",
      "metadata": {
        "id": "view-in-github",
        "colab_type": "text"
      },
      "source": [
        "<a href=\"https://colab.research.google.com/github/Rosefinch-Midsummer/Awesome-Colab/blob/master/DS/%E8%AF%84%E4%BB%B7%E5%88%B7%E5%8D%95%E9%89%B4%E5%AE%9A%E4%B8%A4%E6%9D%BF%E6%96%A7%E4%BB%A3%E7%A0%81.ipynb\" target=\"_parent\"><img src=\"https://colab.research.google.com/assets/colab-badge.svg\" alt=\"Open In Colab\"/></a>"
      ]
    },
    {
      "cell_type": "markdown",
      "metadata": {
        "id": "KqlQRsN7Bp5Q",
        "colab_type": "text"
      },
      "source": [
        "[评价刷单鉴定两板斧代码](https://github.com/seizeeveryday/DA-cases)"
      ]
    },
    {
      "cell_type": "code",
      "metadata": {
        "id": "ao5Ot1xzBkuy",
        "colab_type": "code",
        "colab": {
          "base_uri": "https://localhost:8080/",
          "height": 613
        },
        "outputId": "c91fc402-0be2-4849-e8e3-8295730cf691"
      },
      "source": [
        "!wget https://github.com/seizeeveryday/DA-cases/raw/master/Comments/%E5%88%B7%E5%8D%95%E9%89%B4%E5%AE%9A%E8%AF%84%E4%BB%B7%E6%95%B0%E6%8D%AE.xlsx\n",
        "!wget  https://github.com/seizeeveryday/DA-cases/raw/master/Comments/%E7%94%9F%E5%A7%9C%E9%98%B2%E8%84%B1%E6%B4%97%E5%8F%91%E6%B0%B4.xlsx"
      ],
      "execution_count": 1,
      "outputs": [
        {
          "output_type": "stream",
          "text": [
            "--2020-01-02 06:54:29--  https://github.com/seizeeveryday/DA-cases/raw/master/Comments/%E5%88%B7%E5%8D%95%E9%89%B4%E5%AE%9A%E8%AF%84%E4%BB%B7%E6%95%B0%E6%8D%AE.xlsx\n",
            "Resolving github.com (github.com)... 140.82.114.3\n",
            "Connecting to github.com (github.com)|140.82.114.3|:443... connected.\n",
            "HTTP request sent, awaiting response... 302 Found\n",
            "Location: https://raw.githubusercontent.com/seizeeveryday/DA-cases/master/Comments/%E5%88%B7%E5%8D%95%E9%89%B4%E5%AE%9A%E8%AF%84%E4%BB%B7%E6%95%B0%E6%8D%AE.xlsx [following]\n",
            "--2020-01-02 06:54:34--  https://raw.githubusercontent.com/seizeeveryday/DA-cases/master/Comments/%E5%88%B7%E5%8D%95%E9%89%B4%E5%AE%9A%E8%AF%84%E4%BB%B7%E6%95%B0%E6%8D%AE.xlsx\n",
            "Resolving raw.githubusercontent.com (raw.githubusercontent.com)... 151.101.0.133, 151.101.64.133, 151.101.128.133, ...\n",
            "Connecting to raw.githubusercontent.com (raw.githubusercontent.com)|151.101.0.133|:443... connected.\n",
            "HTTP request sent, awaiting response... 200 OK\n",
            "Length: 16178 (16K) [application/octet-stream]\n",
            "Saving to: ‘刷单鉴定评价数据.xlsx’\n",
            "\n",
            "刷单鉴定评价数据.xl 100%[===================>]  15.80K  --.-KB/s    in 0.01s   \n",
            "\n",
            "2020-01-02 06:54:34 (1.34 MB/s) - ‘刷单鉴定评价数据.xlsx’ saved [16178/16178]\n",
            "\n",
            "--2020-01-02 06:54:36--  https://github.com/seizeeveryday/DA-cases/raw/master/Comments/%E7%94%9F%E5%A7%9C%E9%98%B2%E8%84%B1%E6%B4%97%E5%8F%91%E6%B0%B4.xlsx\n",
            "Resolving github.com (github.com)... 140.82.114.3\n",
            "Connecting to github.com (github.com)|140.82.114.3|:443... connected.\n",
            "HTTP request sent, awaiting response... 302 Found\n",
            "Location: https://raw.githubusercontent.com/seizeeveryday/DA-cases/master/Comments/%E7%94%9F%E5%A7%9C%E9%98%B2%E8%84%B1%E6%B4%97%E5%8F%91%E6%B0%B4.xlsx [following]\n",
            "--2020-01-02 06:54:37--  https://raw.githubusercontent.com/seizeeveryday/DA-cases/master/Comments/%E7%94%9F%E5%A7%9C%E9%98%B2%E8%84%B1%E6%B4%97%E5%8F%91%E6%B0%B4.xlsx\n",
            "Resolving raw.githubusercontent.com (raw.githubusercontent.com)... 151.101.0.133, 151.101.64.133, 151.101.128.133, ...\n",
            "Connecting to raw.githubusercontent.com (raw.githubusercontent.com)|151.101.0.133|:443... connected.\n",
            "HTTP request sent, awaiting response... 200 OK\n",
            "Length: 130519 (127K) [application/octet-stream]\n",
            "Saving to: ‘生姜防脱洗发水.xlsx’\n",
            "\n",
            "生姜防脱洗发水.xlsx 100%[===================>] 127.46K  --.-KB/s    in 0.04s   \n",
            "\n",
            "2020-01-02 06:54:37 (3.35 MB/s) - ‘生姜防脱洗发水.xlsx’ saved [130519/130519]\n",
            "\n"
          ],
          "name": "stdout"
        }
      ]
    },
    {
      "cell_type": "code",
      "metadata": {
        "id": "bwTLnqZfBymS",
        "colab_type": "code",
        "colab": {}
      },
      "source": [
        "import pandas as pd\n",
        "import matplotlib.pyplot as plt\n",
        "\n",
        "%matplotlib inline"
      ],
      "execution_count": 0,
      "outputs": []
    },
    {
      "cell_type": "code",
      "metadata": {
        "id": "AWu1JsFtBzDK",
        "colab_type": "code",
        "colab": {
          "base_uri": "https://localhost:8080/",
          "height": 204
        },
        "outputId": "b0f9589c-2abd-46fc-ad92-0be595d92cf1"
      },
      "source": [
        "df = pd.read_excel('刷单鉴定评价数据.xlsx')\n",
        "df.head()"
      ],
      "execution_count": 3,
      "outputs": [
        {
          "output_type": "execute_result",
          "data": {
            "text/html": [
              "<div>\n",
              "<style scoped>\n",
              "    .dataframe tbody tr th:only-of-type {\n",
              "        vertical-align: middle;\n",
              "    }\n",
              "\n",
              "    .dataframe tbody tr th {\n",
              "        vertical-align: top;\n",
              "    }\n",
              "\n",
              "    .dataframe thead th {\n",
              "        text-align: right;\n",
              "    }\n",
              "</style>\n",
              "<table border=\"1\" class=\"dataframe\">\n",
              "  <thead>\n",
              "    <tr style=\"text-align: right;\">\n",
              "      <th></th>\n",
              "      <th>产品ID</th>\n",
              "      <th>价格</th>\n",
              "      <th>总销量</th>\n",
              "      <th>总评价数</th>\n",
              "      <th>规格类型</th>\n",
              "    </tr>\n",
              "  </thead>\n",
              "  <tbody>\n",
              "    <tr>\n",
              "      <th>0</th>\n",
              "      <td>59497802</td>\n",
              "      <td>189.0</td>\n",
              "      <td>22153</td>\n",
              "      <td>12269</td>\n",
              "      <td>套装</td>\n",
              "    </tr>\n",
              "    <tr>\n",
              "      <th>1</th>\n",
              "      <td>55594403</td>\n",
              "      <td>95.0</td>\n",
              "      <td>227064</td>\n",
              "      <td>53842</td>\n",
              "      <td>NaN</td>\n",
              "    </tr>\n",
              "    <tr>\n",
              "      <th>2</th>\n",
              "      <td>56419172</td>\n",
              "      <td>79.0</td>\n",
              "      <td>733418</td>\n",
              "      <td>130106</td>\n",
              "      <td>正常规格</td>\n",
              "    </tr>\n",
              "    <tr>\n",
              "      <th>3</th>\n",
              "      <td>58567235</td>\n",
              "      <td>89.0</td>\n",
              "      <td>480040</td>\n",
              "      <td>103975</td>\n",
              "      <td>常规单品</td>\n",
              "    </tr>\n",
              "    <tr>\n",
              "      <th>4</th>\n",
              "      <td>53625235</td>\n",
              "      <td>59.0</td>\n",
              "      <td>253606</td>\n",
              "      <td>49611</td>\n",
              "      <td>常规单品</td>\n",
              "    </tr>\n",
              "  </tbody>\n",
              "</table>\n",
              "</div>"
            ],
            "text/plain": [
              "       产品ID     价格     总销量    总评价数  规格类型\n",
              "0  59497802  189.0   22153   12269    套装\n",
              "1  55594403   95.0  227064   53842   NaN\n",
              "2  56419172   79.0  733418  130106  正常规格\n",
              "3  58567235   89.0  480040  103975  常规单品\n",
              "4  53625235   59.0  253606   49611  常规单品"
            ]
          },
          "metadata": {
            "tags": []
          },
          "execution_count": 3
        }
      ]
    },
    {
      "cell_type": "code",
      "metadata": {
        "id": "iD4HqeQLBzAo",
        "colab_type": "code",
        "colab": {
          "base_uri": "https://localhost:8080/",
          "height": 204
        },
        "outputId": "db5b44f9-5dd4-44ad-af65-e4a1cd908b87"
      },
      "source": [
        "#计算评销比\n",
        "df['评销比'] = df['总评价数'] / df['总销量'] * 100\n",
        "df.head()"
      ],
      "execution_count": 4,
      "outputs": [
        {
          "output_type": "execute_result",
          "data": {
            "text/html": [
              "<div>\n",
              "<style scoped>\n",
              "    .dataframe tbody tr th:only-of-type {\n",
              "        vertical-align: middle;\n",
              "    }\n",
              "\n",
              "    .dataframe tbody tr th {\n",
              "        vertical-align: top;\n",
              "    }\n",
              "\n",
              "    .dataframe thead th {\n",
              "        text-align: right;\n",
              "    }\n",
              "</style>\n",
              "<table border=\"1\" class=\"dataframe\">\n",
              "  <thead>\n",
              "    <tr style=\"text-align: right;\">\n",
              "      <th></th>\n",
              "      <th>产品ID</th>\n",
              "      <th>价格</th>\n",
              "      <th>总销量</th>\n",
              "      <th>总评价数</th>\n",
              "      <th>规格类型</th>\n",
              "      <th>评销比</th>\n",
              "    </tr>\n",
              "  </thead>\n",
              "  <tbody>\n",
              "    <tr>\n",
              "      <th>0</th>\n",
              "      <td>59497802</td>\n",
              "      <td>189.0</td>\n",
              "      <td>22153</td>\n",
              "      <td>12269</td>\n",
              "      <td>套装</td>\n",
              "      <td>55.383018</td>\n",
              "    </tr>\n",
              "    <tr>\n",
              "      <th>1</th>\n",
              "      <td>55594403</td>\n",
              "      <td>95.0</td>\n",
              "      <td>227064</td>\n",
              "      <td>53842</td>\n",
              "      <td>NaN</td>\n",
              "      <td>23.712257</td>\n",
              "    </tr>\n",
              "    <tr>\n",
              "      <th>2</th>\n",
              "      <td>56419172</td>\n",
              "      <td>79.0</td>\n",
              "      <td>733418</td>\n",
              "      <td>130106</td>\n",
              "      <td>正常规格</td>\n",
              "      <td>17.739679</td>\n",
              "    </tr>\n",
              "    <tr>\n",
              "      <th>3</th>\n",
              "      <td>58567235</td>\n",
              "      <td>89.0</td>\n",
              "      <td>480040</td>\n",
              "      <td>103975</td>\n",
              "      <td>常规单品</td>\n",
              "      <td>21.659653</td>\n",
              "    </tr>\n",
              "    <tr>\n",
              "      <th>4</th>\n",
              "      <td>53625235</td>\n",
              "      <td>59.0</td>\n",
              "      <td>253606</td>\n",
              "      <td>49611</td>\n",
              "      <td>常规单品</td>\n",
              "      <td>19.562234</td>\n",
              "    </tr>\n",
              "  </tbody>\n",
              "</table>\n",
              "</div>"
            ],
            "text/plain": [
              "       产品ID     价格     总销量    总评价数  规格类型        评销比\n",
              "0  59497802  189.0   22153   12269    套装  55.383018\n",
              "1  55594403   95.0  227064   53842   NaN  23.712257\n",
              "2  56419172   79.0  733418  130106  正常规格  17.739679\n",
              "3  58567235   89.0  480040  103975  常规单品  21.659653\n",
              "4  53625235   59.0  253606   49611  常规单品  19.562234"
            ]
          },
          "metadata": {
            "tags": []
          },
          "execution_count": 4
        }
      ]
    },
    {
      "cell_type": "code",
      "metadata": {
        "id": "GPyauqyvBy51",
        "colab_type": "code",
        "colab": {
          "base_uri": "https://localhost:8080/",
          "height": 356
        },
        "outputId": "ba411bb4-a9e3-427e-dee4-b05abad4197a"
      },
      "source": [
        "#查看评销比分布\n",
        "import seaborn as sns\n",
        "import matplotlib.pyplot as plt\n",
        "\n",
        "fig,ax = plt.subplots(1,1,figsize = (10,5))\n",
        "sns.distplot(df['评销比'],color = 'red',kde = False)\n",
        "\n",
        "plt.yticks(fontsize=11)\n",
        "plt.xticks(fontsize=11)\n",
        "\n",
        "ax.set_xlabel('ratio', fontsize=14)"
      ],
      "execution_count": 5,
      "outputs": [
        {
          "output_type": "execute_result",
          "data": {
            "text/plain": [
              "Text(0.5, 0, 'ratio')"
            ]
          },
          "metadata": {
            "tags": []
          },
          "execution_count": 5
        },
        {
          "output_type": "display_data",
          "data": {
            "image/png": "[encoded data removed]",
            "text/plain": [
              "<Figure size 720x360 with 1 Axes>"
            ]
          },
          "metadata": {
            "tags": []
          }
        }
      ]
    },
    {
      "cell_type": "code",
      "metadata": {
        "id": "AhcYKbYuByiq",
        "colab_type": "code",
        "colab": {
          "base_uri": "https://localhost:8080/",
          "height": 71
        },
        "outputId": "72c7e776-c956-4bc4-daad-a37a2dd3e94d"
      },
      "source": [
        "#判断是否有刷单嫌疑\n",
        "df['是否有刷单嫌疑'] = df['评销比'] > 40\n",
        "df['是否有刷单嫌疑'].value_counts()"
      ],
      "execution_count": 6,
      "outputs": [
        {
          "output_type": "execute_result",
          "data": {
            "text/plain": [
              "False    166\n",
              "True      22\n",
              "Name: 是否有刷单嫌疑, dtype: int64"
            ]
          },
          "metadata": {
            "tags": []
          },
          "execution_count": 6
        }
      ]
    },
    {
      "cell_type": "code",
      "metadata": {
        "id": "uN6ydWeXByfm",
        "colab_type": "code",
        "colab": {
          "base_uri": "https://localhost:8080/",
          "height": 204
        },
        "outputId": "ff30c97c-0314-4f7a-c2a4-b1e6d662042a"
      },
      "source": [
        "#导入评论数据\n",
        "comments = pd.read_excel('生姜防脱洗发水.xlsx')\n",
        "comments.head()"
      ],
      "execution_count": 7,
      "outputs": [
        {
          "output_type": "execute_result",
          "data": {
            "text/html": [
              "<div>\n",
              "<style scoped>\n",
              "    .dataframe tbody tr th:only-of-type {\n",
              "        vertical-align: middle;\n",
              "    }\n",
              "\n",
              "    .dataframe tbody tr th {\n",
              "        vertical-align: top;\n",
              "    }\n",
              "\n",
              "    .dataframe thead th {\n",
              "        text-align: right;\n",
              "    }\n",
              "</style>\n",
              "<table border=\"1\" class=\"dataframe\">\n",
              "  <thead>\n",
              "    <tr style=\"text-align: right;\">\n",
              "      <th></th>\n",
              "      <th>买家</th>\n",
              "      <th>初评内容</th>\n",
              "      <th>评价日期</th>\n",
              "      <th>追评</th>\n",
              "    </tr>\n",
              "  </thead>\n",
              "  <tbody>\n",
              "    <tr>\n",
              "      <th>0</th>\n",
              "      <td>摈**唉</td>\n",
              "      <td>昨天晚上用了一次， 姜味很浓，用过一段时间再看看效果吧，好用会再回购的！</td>\n",
              "      <td>2019-11-29</td>\n",
              "      <td>-</td>\n",
              "    </tr>\n",
              "    <tr>\n",
              "      <th>1</th>\n",
              "      <td>t**4</td>\n",
              "      <td>最近脱发特别严重，鬓角的头发最是损失惨重，抱着试试看的态度来的，目前我用了1个疗程感觉恢复得...</td>\n",
              "      <td>2019-11-29</td>\n",
              "      <td>-</td>\n",
              "    </tr>\n",
              "    <tr>\n",
              "      <th>2</th>\n",
              "      <td>露**发</td>\n",
              "      <td>最近头发大把大把的脱，特别是洗头的时候！刚开始是抱着试试的心态，每次都会隔断时间拍照自己对比...</td>\n",
              "      <td>2019-11-29</td>\n",
              "      <td>-</td>\n",
              "    </tr>\n",
              "    <tr>\n",
              "      <th>3</th>\n",
              "      <td>t**6</td>\n",
              "      <td>质量很好，效果不错</td>\n",
              "      <td>2019-11-29</td>\n",
              "      <td>-</td>\n",
              "    </tr>\n",
              "    <tr>\n",
              "      <th>4</th>\n",
              "      <td>去**5</td>\n",
              "      <td>这次放假回家看到老爸的大脑门，莫名的揪心，老爸为家庭操心了太多，头发一直在掉，这次买了这款防...</td>\n",
              "      <td>2019-11-29</td>\n",
              "      <td>-</td>\n",
              "    </tr>\n",
              "  </tbody>\n",
              "</table>\n",
              "</div>"
            ],
            "text/plain": [
              "     买家                                               初评内容       评价日期 追评\n",
              "0  摈**唉               昨天晚上用了一次， 姜味很浓，用过一段时间再看看效果吧，好用会再回购的！ 2019-11-29  -\n",
              "1  t**4  最近脱发特别严重，鬓角的头发最是损失惨重，抱着试试看的态度来的，目前我用了1个疗程感觉恢复得... 2019-11-29  -\n",
              "2  露**发  最近头发大把大把的脱，特别是洗头的时候！刚开始是抱着试试的心态，每次都会隔断时间拍照自己对比... 2019-11-29  -\n",
              "3  t**6                                          质量很好，效果不错 2019-11-29  -\n",
              "4  去**5  这次放假回家看到老爸的大脑门，莫名的揪心，老爸为家庭操心了太多，头发一直在掉，这次买了这款防... 2019-11-29  -"
            ]
          },
          "metadata": {
            "tags": []
          },
          "execution_count": 7
        }
      ]
    },
    {
      "cell_type": "code",
      "metadata": {
        "id": "BMaXg6x6DFmK",
        "colab_type": "code",
        "colab": {
          "base_uri": "https://localhost:8080/",
          "height": 222
        },
        "outputId": "0f2c69f4-9cc1-4017-ce98-55156d8698a9"
      },
      "source": [
        "#评价长度筛选\n",
        "comments['评价长度'] = comments['初评内容'].apply(len)\n",
        "comments = comments.loc[comments['评价长度'] > 15,:]\n",
        "print(comments.shape)\n",
        "comments.head()"
      ],
      "execution_count": 8,
      "outputs": [
        {
          "output_type": "stream",
          "text": [
            "(1200, 5)\n"
          ],
          "name": "stdout"
        },
        {
          "output_type": "execute_result",
          "data": {
            "text/html": [
              "<div>\n",
              "<style scoped>\n",
              "    .dataframe tbody tr th:only-of-type {\n",
              "        vertical-align: middle;\n",
              "    }\n",
              "\n",
              "    .dataframe tbody tr th {\n",
              "        vertical-align: top;\n",
              "    }\n",
              "\n",
              "    .dataframe thead th {\n",
              "        text-align: right;\n",
              "    }\n",
              "</style>\n",
              "<table border=\"1\" class=\"dataframe\">\n",
              "  <thead>\n",
              "    <tr style=\"text-align: right;\">\n",
              "      <th></th>\n",
              "      <th>买家</th>\n",
              "      <th>初评内容</th>\n",
              "      <th>评价日期</th>\n",
              "      <th>追评</th>\n",
              "      <th>评价长度</th>\n",
              "    </tr>\n",
              "  </thead>\n",
              "  <tbody>\n",
              "    <tr>\n",
              "      <th>0</th>\n",
              "      <td>摈**唉</td>\n",
              "      <td>昨天晚上用了一次， 姜味很浓，用过一段时间再看看效果吧，好用会再回购的！</td>\n",
              "      <td>2019-11-29</td>\n",
              "      <td>-</td>\n",
              "      <td>36</td>\n",
              "    </tr>\n",
              "    <tr>\n",
              "      <th>1</th>\n",
              "      <td>t**4</td>\n",
              "      <td>最近脱发特别严重，鬓角的头发最是损失惨重，抱着试试看的态度来的，目前我用了1个疗程感觉恢复得...</td>\n",
              "      <td>2019-11-29</td>\n",
              "      <td>-</td>\n",
              "      <td>80</td>\n",
              "    </tr>\n",
              "    <tr>\n",
              "      <th>2</th>\n",
              "      <td>露**发</td>\n",
              "      <td>最近头发大把大把的脱，特别是洗头的时候！刚开始是抱着试试的心态，每次都会隔断时间拍照自己对比...</td>\n",
              "      <td>2019-11-29</td>\n",
              "      <td>-</td>\n",
              "      <td>85</td>\n",
              "    </tr>\n",
              "    <tr>\n",
              "      <th>4</th>\n",
              "      <td>去**5</td>\n",
              "      <td>这次放假回家看到老爸的大脑门，莫名的揪心，老爸为家庭操心了太多，头发一直在掉，这次买了这款防...</td>\n",
              "      <td>2019-11-29</td>\n",
              "      <td>-</td>\n",
              "      <td>76</td>\n",
              "    </tr>\n",
              "    <tr>\n",
              "      <th>5</th>\n",
              "      <td>德**艺</td>\n",
              "      <td>以前就用过这款生姜洗发水防脱发效果真的很好，这次这个疗程是买来巩固的用过之后脱发已经很少了，...</td>\n",
              "      <td>2019-11-29</td>\n",
              "      <td>-</td>\n",
              "      <td>60</td>\n",
              "    </tr>\n",
              "  </tbody>\n",
              "</table>\n",
              "</div>"
            ],
            "text/plain": [
              "     买家                                               初评内容       评价日期 追评  评价长度\n",
              "0  摈**唉               昨天晚上用了一次， 姜味很浓，用过一段时间再看看效果吧，好用会再回购的！ 2019-11-29  -    36\n",
              "1  t**4  最近脱发特别严重，鬓角的头发最是损失惨重，抱着试试看的态度来的，目前我用了1个疗程感觉恢复得... 2019-11-29  -    80\n",
              "2  露**发  最近头发大把大把的脱，特别是洗头的时候！刚开始是抱着试试的心态，每次都会隔断时间拍照自己对比... 2019-11-29  -    85\n",
              "4  去**5  这次放假回家看到老爸的大脑门，莫名的揪心，老爸为家庭操心了太多，头发一直在掉，这次买了这款防... 2019-11-29  -    76\n",
              "5  德**艺  以前就用过这款生姜洗发水防脱发效果真的很好，这次这个疗程是买来巩固的用过之后脱发已经很少了，... 2019-11-29  -    60"
            ]
          },
          "metadata": {
            "tags": []
          },
          "execution_count": 8
        }
      ]
    },
    {
      "cell_type": "code",
      "metadata": {
        "id": "IJoDQV44DFgG",
        "colab_type": "code",
        "colab": {
          "base_uri": "https://localhost:8080/",
          "height": 354
        },
        "outputId": "4a25d723-cc28-4cb6-c99a-0046addc1cda"
      },
      "source": [
        "#按内容排序，找到嫌疑评价\n",
        "comments = comments.sort_values(['评价长度','初评内容'],ascending = False)\n",
        "comments.head(6)"
      ],
      "execution_count": 9,
      "outputs": [
        {
          "output_type": "execute_result",
          "data": {
            "text/html": [
              "<div>\n",
              "<style scoped>\n",
              "    .dataframe tbody tr th:only-of-type {\n",
              "        vertical-align: middle;\n",
              "    }\n",
              "\n",
              "    .dataframe tbody tr th {\n",
              "        vertical-align: top;\n",
              "    }\n",
              "\n",
              "    .dataframe thead th {\n",
              "        text-align: right;\n",
              "    }\n",
              "</style>\n",
              "<table border=\"1\" class=\"dataframe\">\n",
              "  <thead>\n",
              "    <tr style=\"text-align: right;\">\n",
              "      <th></th>\n",
              "      <th>买家</th>\n",
              "      <th>初评内容</th>\n",
              "      <th>评价日期</th>\n",
              "      <th>追评</th>\n",
              "      <th>评价长度</th>\n",
              "    </tr>\n",
              "  </thead>\n",
              "  <tbody>\n",
              "    <tr>\n",
              "      <th>1307</th>\n",
              "      <td>你**个</td>\n",
              "      <td>感觉越洗头发掉得越多，每次洗必须要用洗发水两次以上，还要搓按5分钟，这样洗下去头发本来就少，...</td>\n",
              "      <td>2019-07-11</td>\n",
              "      <td>我是短发，洗一次掉这么多，以前洗只掉几根，洗了之后头痒的要死，当初客服说用了不适应可以退，现...</td>\n",
              "      <td>348</td>\n",
              "    </tr>\n",
              "    <tr>\n",
              "      <th>1147</th>\n",
              "      <td>y**8</td>\n",
              "      <td>使用了第二次才来评价的，我头发很长（齐膝）掉得特别厉害。之前使用防脱洗发水用完之后呢换成了潘...</td>\n",
              "      <td>2019-09-02</td>\n",
              "      <td>长头发的妹子可以试试这款洗发水哦！我现在掉发已经开始在变少了，开心</td>\n",
              "      <td>290</td>\n",
              "    </tr>\n",
              "    <tr>\n",
              "      <th>629</th>\n",
              "      <td>0**b</td>\n",
              "      <td>1客服小海马说寄来的品牌是柏诗春天，我下单购买的海洋诗韵，俩不同品牌都是一个厂家生产的，让我...</td>\n",
              "      <td>2019-10-22</td>\n",
              "      <td>-</td>\n",
              "      <td>290</td>\n",
              "    </tr>\n",
              "    <tr>\n",
              "      <th>151</th>\n",
              "      <td>t**1</td>\n",
              "      <td>自从高考那个紧张的阶段后，我的头发就很会掉，每天都房间里，床铺上地上都可以看到我的掉发，每次...</td>\n",
              "      <td>2019-11-21</td>\n",
              "      <td>-</td>\n",
              "      <td>177</td>\n",
              "    </tr>\n",
              "    <tr>\n",
              "      <th>587</th>\n",
              "      <td>女**8</td>\n",
              "      <td>自从高考那个紧张的阶段后，我的头发就很会掉，每天都房间里，床铺上地上都可以看到我的掉发，每次...</td>\n",
              "      <td>2019-10-24</td>\n",
              "      <td>-</td>\n",
              "      <td>177</td>\n",
              "    </tr>\n",
              "    <tr>\n",
              "      <th>674</th>\n",
              "      <td>e**1</td>\n",
              "      <td>自从高考那个紧张的阶段后，我的头发就很会掉，每天都房间里，床铺上地上都可以看到我的掉发，每次...</td>\n",
              "      <td>2019-10-16</td>\n",
              "      <td>-</td>\n",
              "      <td>177</td>\n",
              "    </tr>\n",
              "  </tbody>\n",
              "</table>\n",
              "</div>"
            ],
            "text/plain": [
              "        买家  ... 评价长度\n",
              "1307  你**个  ...  348\n",
              "1147  y**8  ...  290\n",
              "629   0**b  ...  290\n",
              "151   t**1  ...  177\n",
              "587   女**8  ...  177\n",
              "674   e**1  ...  177\n",
              "\n",
              "[6 rows x 5 columns]"
            ]
          },
          "metadata": {
            "tags": []
          },
          "execution_count": 9
        }
      ]
    },
    {
      "cell_type": "code",
      "metadata": {
        "id": "qCSnRbe8Byca",
        "colab_type": "code",
        "colab": {
          "base_uri": "https://localhost:8080/",
          "height": 53
        },
        "outputId": "0ca8c749-67e0-4a0b-d354-7daabc8a9905"
      },
      "source": [
        "#统计重复评价数\n",
        "#按内容分组，统计每条评价出现的次数\n",
        "filt = comments.groupby('初评内容')['买家'].count().reset_index()\n",
        "filt.columns = ['初评内容','重复次数']\n",
        "\n",
        "#统计重复评价出现的次数\n",
        "reap = filt.loc[filt['重复次数'] > 1,'重复次数'].sum()\n",
        "\n",
        "print('总评价数：',len(comments))\n",
        "print('重复的评价数占比：{}%'.format(reap / len(comments) * 100))"
      ],
      "execution_count": 11,
      "outputs": [
        {
          "output_type": "stream",
          "text": [
            "总评价数： 1200\n",
            "重复的评价数占比：31.5%\n"
          ],
          "name": "stdout"
        }
      ]
    }
  ]
}