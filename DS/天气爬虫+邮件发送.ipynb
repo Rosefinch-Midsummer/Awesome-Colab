{
  "nbformat": 4,
  "nbformat_minor": 0,
  "metadata": {
    "colab": {
      "name": "天气爬虫+邮件发送.ipynb",
      "provenance": [],
      "collapsed_sections": [],
      "include_colab_link": true
    },
    "kernelspec": {
      "name": "python3",
      "display_name": "Python 3"
    }
  },
  "cells": [
    {
      "cell_type": "markdown",
      "metadata": {
        "id": "view-in-github",
        "colab_type": "text"
      },
      "source": [
        "<a href=\"https://colab.research.google.com/github/Rosefinch-Midsummer/Awesome-Colab/blob/master/DS/%E5%A4%A9%E6%B0%94%E7%88%AC%E8%99%AB%2B%E9%82%AE%E4%BB%B6%E5%8F%91%E9%80%81.ipynb\" target=\"_parent\"><img src=\"https://colab.research.google.com/assets/colab-badge.svg\" alt=\"Open In Colab\"/></a>"
      ]
    },
    {
      "cell_type": "markdown",
      "metadata": {
        "id": "1_gInO0eI_vP",
        "colab_type": "text"
      },
      "source": [
        "[天气爬虫+邮件发送](https://github.com/seizeeveryday/DA-cases)"
      ]
    },
    {
      "cell_type": "code",
      "metadata": {
        "id": "kC5uCJgdJEhC",
        "colab_type": "code",
        "colab": {}
      },
      "source": [
        "import pandas as pd\n",
        "import numpy as np"
      ],
      "execution_count": 0,
      "outputs": []
    },
    {
      "cell_type": "code",
      "metadata": {
        "id": "GkJwf7Z3JE9V",
        "colab_type": "code",
        "colab": {}
      },
      "source": [
        "import requests\n",
        "from lxml import etree\n",
        "\n",
        "def parse(url = 'https://www.tianqi.com/shanghai'):\n",
        "    headers = {'User-Agent':'Mozilla/5.0 (Windows NT 6.1; WOW64) AppleWebKit/537.36 (KHTML, like Gecko) Chrome/55.0.2883.87 Safari/537.36'}\n",
        "    html = requests.get(url,headers = headers)\n",
        "    bs = etree.HTML(html.text)\n",
        "    \n",
        "    #今天天气相关数据：日期，星期几，天气，最低气温，最高气温\n",
        "    today_date = bs.xpath('//ul[@class = \"week\"]/li[1]/b/text()')[0]\n",
        "    today_week = bs.xpath('//ul[@class = \"week\"]/li[1]/span/text()')[0]\n",
        "    today_weather = bs.xpath('//ul[@class = \"txt txt2\"]/li[1]/text()')[0]\n",
        "    today_low = bs.xpath('//div[@class = \"zxt_shuju\"]/ul/li[1]/b/text()')[0]\n",
        "    today_high = bs.xpath('//div[@class = \"zxt_shuju\"]/ul/li[1]/span/text()')[0]\n",
        "\n",
        "    #明天天气相关数据，维度和上述一致\n",
        "    tomorrow_date = bs.xpath('//ul[@class = \"week\"]/li[2]/b/text()')[0]\n",
        "    tomorrow_week = bs.xpath('//ul[@class = \"week\"]/li[2]/span/text()')[0]\n",
        "    tomorrow_weather = bs.xpath('//ul[@class = \"txt txt2\"]/li[2]/text()')[0]\n",
        "    tomorrow_low = bs.xpath('//div[@class = \"zxt_shuju\"]/ul/li[2]/b/text()')[0]\n",
        "    tomorrow_high = bs.xpath('//div[@class = \"zxt_shuju\"]/ul/li[2]/span/text()')[0]\n",
        "    \n",
        "    tomorrow = ('明天是%s，%s,%s，%s-%s度，温差%d度')% \\\n",
        "          (tomorrow_date,tomorrow_week,tomorrow_weather,tomorrow_low,tomorrow_high,int(int(tomorrow_high)-int(tomorrow_low)))\n",
        "    \n",
        "    print(('明天是%s，%s,%s，%s-%s度，温差%d度')% \\\n",
        "          (tomorrow_date,tomorrow_week,tomorrow_weather,tomorrow_low,tomorrow_high,int(int(tomorrow_high)-int(tomorrow_low))))\n",
        "    \n",
        "    #计算今明两天温度差异，这里用的是最高温度\n",
        "    temperature_distance = int(tomorrow_high) - int(today_high)\n",
        "    \n",
        "    if temperature_distance > 0:\n",
        "        a = '明日升温%d' % temperature_distance\n",
        "        print('明日升温%d' % temperature_distance)\n",
        "    if temperature_distance < 0:\n",
        "        a = '明日降温%d' % temperature_distance\n",
        "        print('明日降温%d' % temperature_distance)\n",
        "    else:\n",
        "        a = '最高气温不变'\n",
        "        print('最高气温不变')\n",
        "    content = tomorrow,a\n",
        "    return content"
      ],
      "execution_count": 0,
      "outputs": []
    },
    {
      "cell_type": "code",
      "metadata": {
        "id": "nAyw7sgmJFaC",
        "colab_type": "code",
        "colab": {
          "base_uri": "https://localhost:8080/",
          "height": 71
        },
        "outputId": "ed74341f-52fd-4195-eb38-bcd275db0c76"
      },
      "source": [
        "#默认爬取上海，可以找到自己城市所对应的地址\n",
        "weather = parse()"
      ],
      "execution_count": 3,
      "outputs": [
        {
          "output_type": "stream",
          "text": [
            "明天是01月03日，星期五,阴，9-13度，温差4度\n",
            "明日升温1\n",
            "最高气温不变\n"
          ],
          "name": "stdout"
        }
      ]
    },
    {
      "cell_type": "code",
      "metadata": {
        "id": "-U89H_f-JEdD",
        "colab_type": "code",
        "colab": {}
      },
      "source": [
        "import yagmail\n",
        "\n",
        "def send_email(contents,send_to = 'receiver_email@xx.com'):\n",
        "    #登录邮箱，设置登录的账号，密码和port等信息\n",
        "    yag = yagmail.SMTP(user = 'youremail@sohu.com',password = 'yourpass',\n",
        "                       host = 'smtp.sohu.com',port = '465')\n",
        "    \n",
        "    #登录完即可一件发送，设置发送给谁，和邮件主题，邮件内容\n",
        "    yag.send(to = send_to,\n",
        "             subject = '天气关怀',\n",
        "             contents = contents)\n",
        "    print('发送成功！~')"
      ],
      "execution_count": 0,
      "outputs": []
    },
    {
      "cell_type": "code",
      "metadata": {
        "id": "DZ0lE8fAJEYk",
        "colab_type": "code",
        "colab": {}
      },
      "source": [
        "#最终执行，设置自己的邮箱名，密码，host和port参数，以及要发给谁\n",
        "send_email(weather,send_to = 'xxxx')"
      ],
      "execution_count": 0,
      "outputs": []
    }
  ]
}