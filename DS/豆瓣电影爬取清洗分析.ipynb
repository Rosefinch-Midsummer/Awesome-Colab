{
  "nbformat": 4,
  "nbformat_minor": 0,
  "metadata": {
    "colab": {
      "name": "豆瓣电影爬取清洗分析.ipynb",
      "provenance": [],
      "collapsed_sections": [],
      "include_colab_link": true
    },
    "kernelspec": {
      "name": "python3",
      "display_name": "Python 3"
    }
  },
  "cells": [
    {
      "cell_type": "markdown",
      "metadata": {
        "id": "view-in-github",
        "colab_type": "text"
      },
      "source": [
        "<a href=\"https://colab.research.google.com/github/Rosefinch-Midsummer/Awesome-Colab/blob/master/DS/%E8%B1%86%E7%93%A3%E7%94%B5%E5%BD%B1%E7%88%AC%E5%8F%96%E6%B8%85%E6%B4%97%E5%88%86%E6%9E%90.ipynb\" target=\"_parent\"><img src=\"https://colab.research.google.com/assets/colab-badge.svg\" alt=\"Open In Colab\"/></a>"
      ]
    },
    {
      "cell_type": "markdown",
      "metadata": {
        "id": "WAra-DC7fIet",
        "colab_type": "text"
      },
      "source": [
        "[豆瓣电影爬取](https://github.com/seizeeveryday/DA-cases)"
      ]
    },
    {
      "cell_type": "code",
      "metadata": {
        "id": "R4xKmmcYe_sI",
        "colab_type": "code",
        "colab": {}
      },
      "source": [
        "import os\n",
        "import requests\n",
        "import pandas as pd\n",
        "import numpy as np\n",
        "import json\n",
        "import time\n",
        "import random\n",
        "from lxml import etree"
      ],
      "execution_count": 0,
      "outputs": []
    },
    {
      "cell_type": "markdown",
      "metadata": {
        "id": "j46Senw_figp",
        "colab_type": "text"
      },
      "source": [
        "构造爬取的网址"
      ]
    },
    {
      "cell_type": "code",
      "metadata": {
        "id": "N3gqKUhxfOYU",
        "colab_type": "code",
        "colab": {}
      },
      "source": [
        "def format_url(num):\n",
        "    urls = []\n",
        "    base_url = 'https://movie.douban.com/j/new_search_subjects?sort=T&range=0,10&tags=%E7%94%B5%E5%BD%B1&start={}'\n",
        "    for i in range(0,20 * num,20):\n",
        "        url = base_url.format(i)\n",
        "        urls.append(url)\n",
        "    return urls\n",
        "\n",
        "#这里是爬取10页，可以自行更改参数\n",
        "urls = format_url(10)\n",
        "#伪装请求头\n",
        "headers = {'User-Agent':'Mozilla/5.0 (Windows NT 6.1; WOW64) AppleWebKit/537.36 (KHTML, like Gecko) Chrome/63.0.3239.132 Safari/537.36'}"
      ],
      "execution_count": 0,
      "outputs": []
    },
    {
      "cell_type": "markdown",
      "metadata": {
        "id": "lcbeQFTxf8U6",
        "colab_type": "text"
      },
      "source": [
        "解析单页"
      ]
    },
    {
      "cell_type": "code",
      "metadata": {
        "id": "VRt0nEOBfO_3",
        "colab_type": "code",
        "colab": {}
      },
      "source": [
        "def parse_base_info(url,headers):\n",
        "    html = requests.get(url,headers = headers)   \n",
        "    bs = json.loads(html.text)\n",
        "    df = pd.DataFrame()\n",
        "    for i in bs['data']:\n",
        "        casts = i['casts']  #主演\n",
        "        cover = i['cover']  #海报\n",
        "        directors = i['directors']  #导演\n",
        "        m_id = i['id']  #ID\n",
        "        rate = i['rate'] #评分\n",
        "        star = i['star'] #标记人数 \n",
        "        title = i['title']  #片名\n",
        "        url = i['url']  #网址\n",
        "        cache = pd.DataFrame({'主演':[casts],'海报':[cover],'导演':[directors],\n",
        "                              'ID':[m_id],'评分':[rate],'标记':[star],'片名':[title],'网址':[url]})\n",
        "        df = pd.concat([df,cache])\n",
        "    return df"
      ],
      "execution_count": 0,
      "outputs": []
    },
    {
      "cell_type": "markdown",
      "metadata": {
        "id": "aol6Y2E9gB6S",
        "colab_type": "text"
      },
      "source": [
        "循环批量爬取电影"
      ]
    },
    {
      "cell_type": "code",
      "metadata": {
        "id": "SlYbQH5dfO71",
        "colab_type": "code",
        "outputId": "62424cd5-3846-4eeb-d396-8adc9fda5ac9",
        "colab": {
          "base_uri": "https://localhost:8080/",
          "height": 197
        }
      },
      "source": [
        "result = pd.DataFrame()\n",
        "\n",
        "count = 1\n",
        "for url in urls:\n",
        "    df = parse_base_info(url,headers = headers)\n",
        "    result = pd.concat([result,df])\n",
        "    time.sleep(random.random() + 2)\n",
        "    print('I had crawled page of:%d' % count)\n",
        "    count += 1"
      ],
      "execution_count": 0,
      "outputs": [
        {
          "output_type": "stream",
          "text": [
            "I had crawled page of:1\n",
            "I had crawled page of:2\n",
            "I had crawled page of:3\n",
            "I had crawled page of:4\n",
            "I had crawled page of:5\n",
            "I had crawled page of:6\n",
            "I had crawled page of:7\n",
            "I had crawled page of:8\n",
            "I had crawled page of:9\n",
            "I had crawled page of:10\n"
          ],
          "name": "stdout"
        }
      ]
    },
    {
      "cell_type": "code",
      "metadata": {
        "id": "wsRyPqU9fO4M",
        "colab_type": "code",
        "outputId": "79def0a2-dec9-4570-aaf0-c06ae761d14e",
        "colab": {
          "base_uri": "https://localhost:8080/",
          "height": 357
        }
      },
      "source": [
        "result.head()"
      ],
      "execution_count": 0,
      "outputs": [
        {
          "output_type": "execute_result",
          "data": {
            "text/html": [
              "<div>\n",
              "<style scoped>\n",
              "    .dataframe tbody tr th:only-of-type {\n",
              "        vertical-align: middle;\n",
              "    }\n",
              "\n",
              "    .dataframe tbody tr th {\n",
              "        vertical-align: top;\n",
              "    }\n",
              "\n",
              "    .dataframe thead th {\n",
              "        text-align: right;\n",
              "    }\n",
              "</style>\n",
              "<table border=\"1\" class=\"dataframe\">\n",
              "  <thead>\n",
              "    <tr style=\"text-align: right;\">\n",
              "      <th></th>\n",
              "      <th>主演</th>\n",
              "      <th>海报</th>\n",
              "      <th>导演</th>\n",
              "      <th>ID</th>\n",
              "      <th>评分</th>\n",
              "      <th>标记</th>\n",
              "      <th>片名</th>\n",
              "      <th>网址</th>\n",
              "    </tr>\n",
              "  </thead>\n",
              "  <tbody>\n",
              "    <tr>\n",
              "      <th>0</th>\n",
              "      <td>[徐峥, 王传君, 周一围, 谭卓, 章宇]</td>\n",
              "      <td>https://img3.doubanio.com/view/photo/s_ratio_p...</td>\n",
              "      <td>[文牧野]</td>\n",
              "      <td>26752088</td>\n",
              "      <td>9.0</td>\n",
              "      <td>45</td>\n",
              "      <td>我不是药神</td>\n",
              "      <td>https://movie.douban.com/subject/26752088/</td>\n",
              "    </tr>\n",
              "    <tr>\n",
              "      <th>0</th>\n",
              "      <td>[让·雷诺, 娜塔莉·波特曼, 加里·奥德曼, 丹尼·爱罗, 彼得·阿佩尔]</td>\n",
              "      <td>https://img3.doubanio.com/view/photo/s_ratio_p...</td>\n",
              "      <td>[吕克·贝松]</td>\n",
              "      <td>1295644</td>\n",
              "      <td>9.4</td>\n",
              "      <td>45</td>\n",
              "      <td>这个杀手不太冷</td>\n",
              "      <td>https://movie.douban.com/subject/1295644/</td>\n",
              "    </tr>\n",
              "    <tr>\n",
              "      <th>0</th>\n",
              "      <td>[蒂姆·罗宾斯, 摩根·弗里曼, 鲍勃·冈顿, 威廉姆·赛德勒, 克兰西·布朗]</td>\n",
              "      <td>https://img3.doubanio.com/view/photo/s_ratio_p...</td>\n",
              "      <td>[弗兰克·德拉邦特]</td>\n",
              "      <td>1292052</td>\n",
              "      <td>9.7</td>\n",
              "      <td>50</td>\n",
              "      <td>肖申克的救赎</td>\n",
              "      <td>https://movie.douban.com/subject/1292052/</td>\n",
              "    </tr>\n",
              "    <tr>\n",
              "      <th>0</th>\n",
              "      <td>[屈楚萧, 吴京, 李光洁, 吴孟达, 赵今麦]</td>\n",
              "      <td>https://img3.doubanio.com/view/photo/s_ratio_p...</td>\n",
              "      <td>[郭帆]</td>\n",
              "      <td>26266893</td>\n",
              "      <td>7.9</td>\n",
              "      <td>40</td>\n",
              "      <td>流浪地球</td>\n",
              "      <td>https://movie.douban.com/subject/26266893/</td>\n",
              "    </tr>\n",
              "    <tr>\n",
              "      <th>0</th>\n",
              "      <td>[汤姆·汉克斯, 罗宾·怀特, 加里·西尼斯, 麦凯尔泰·威廉逊, 莎莉·菲尔德]</td>\n",
              "      <td>https://img3.doubanio.com/view/photo/s_ratio_p...</td>\n",
              "      <td>[罗伯特·泽米吉斯]</td>\n",
              "      <td>1292720</td>\n",
              "      <td>9.5</td>\n",
              "      <td>50</td>\n",
              "      <td>阿甘正传</td>\n",
              "      <td>https://movie.douban.com/subject/1292720/</td>\n",
              "    </tr>\n",
              "  </tbody>\n",
              "</table>\n",
              "</div>"
            ],
            "text/plain": [
              "                                          主演  ...                                          网址\n",
              "0                     [徐峥, 王传君, 周一围, 谭卓, 章宇]  ...  https://movie.douban.com/subject/26752088/\n",
              "0     [让·雷诺, 娜塔莉·波特曼, 加里·奥德曼, 丹尼·爱罗, 彼得·阿佩尔]  ...   https://movie.douban.com/subject/1295644/\n",
              "0   [蒂姆·罗宾斯, 摩根·弗里曼, 鲍勃·冈顿, 威廉姆·赛德勒, 克兰西·布朗]  ...   https://movie.douban.com/subject/1292052/\n",
              "0                   [屈楚萧, 吴京, 李光洁, 吴孟达, 赵今麦]  ...  https://movie.douban.com/subject/26266893/\n",
              "0  [汤姆·汉克斯, 罗宾·怀特, 加里·西尼斯, 麦凯尔泰·威廉逊, 莎莉·菲尔德]  ...   https://movie.douban.com/subject/1292720/\n",
              "\n",
              "[5 rows x 8 columns]"
            ]
          },
          "metadata": {
            "tags": []
          },
          "execution_count": 5
        }
      ]
    },
    {
      "cell_type": "markdown",
      "metadata": {
        "id": "vZQv647fgwT0",
        "colab_type": "text"
      },
      "source": [
        "解析单个页面，获取详细的电影信息"
      ]
    },
    {
      "cell_type": "code",
      "metadata": {
        "id": "JOx4Ir9QfOUp",
        "colab_type": "code",
        "colab": {}
      },
      "source": [
        "def parse_movie_info(url,headers = headers,ip = ''):\n",
        "    if ip == '':\n",
        "        html = requests.get(url,headers = headers)\n",
        "    else:\n",
        "        html = requests.get(url,headers = headers,proxies = ip)\n",
        "    bs = etree.HTML(html.text)\n",
        "    #片名\n",
        "    title = bs.xpath('//div[@id = \"wrapper\"]/div/h1/span')[0].text  \n",
        "    #上映时间\n",
        "    year = bs.xpath('//div[@id = \"wrapper\"]/div/h1/span')[1].text   \n",
        "    #电影类型\n",
        "    m_type = []\n",
        "    for t in bs.xpath('//span[@property = \"v:genre\"]'):\n",
        "        m_type.append(t.text)   \n",
        "    a = bs.xpath('//div[@id= \"info\"]')[0].xpath('string()')\n",
        "    #片长\n",
        "    m_time =a[a.find('片长: ') + 4:a.find('分钟\\n')]  #时长\n",
        "    #地区\n",
        "    area = a[a.find('制片国家/地区:') + 9:a.find('\\n        语言')]  #地区\n",
        "    #评分人数\n",
        "    try:\n",
        "        people = bs.xpath('//a[@class = \"rating_people\"]/span')[0].text\n",
        "    #评分分布\n",
        "        rating = {}\n",
        "        rate_count = bs.xpath('//div[@class = \"ratings-on-weight\"]/div')\n",
        "        for rate in rate_count:\n",
        "            rating[rate.xpath('span/@title')[0]] = rate.xpath('span[@class = \"rating_per\"]')[0].text\n",
        "    except:\n",
        "        people = 'None'\n",
        "        rating = {}\n",
        "    #简介\n",
        "    try:\n",
        "        brief = bs.xpath('//span[@property = \"v:summary\"]')[0].text.strip('\\n                                \\u3000\\u3000')\n",
        "    except:\n",
        "        brief = 'None'\n",
        "    try:\n",
        "        hot_comment = bs.xpath('//div[@id = \"hot-comments\"]/div/div/p/span')[0].text\n",
        "    except:\n",
        "        hot_comment = 'None'\n",
        "    cache = pd.DataFrame({'片名':[title],'上映时间':[year],'电影类型':[m_type],'片长':[m_time],\n",
        "                          '地区':[area],'评分人数':[people],'评分分布':[rating],'简介':[brief],'热评':[hot_comment],'网址':[url]})\n",
        "    return cache"
      ],
      "execution_count": 0,
      "outputs": []
    },
    {
      "cell_type": "markdown",
      "metadata": {
        "id": "fKvQsPYug3Wk",
        "colab_type": "text"
      },
      "source": [
        "批量访问单个电影页面"
      ]
    },
    {
      "cell_type": "code",
      "metadata": {
        "id": "uDVG6jlrfORP",
        "colab_type": "code",
        "outputId": "6a417c28-89f8-4adf-9cfc-27d3b4d24488",
        "colab": {
          "base_uri": "https://localhost:8080/",
          "height": 1000
        }
      },
      "source": [
        "movie_result = pd.DataFrame()\n",
        "ip = ''  #这里构建自己的IP池\n",
        "count2 = 1\n",
        "cw = 1\n",
        "\n",
        "for url,name in zip(result['网址'].values,result['片名'].values):\n",
        "#for name,url in wrongs.items():\n",
        "    try:\n",
        "        cache = parse_movie_info(url,headers = headers,ip = ip)\n",
        "        movie_result = pd.concat([movie_result,cache])\n",
        "        #time.sleep(random.random())\n",
        "        print('我们爬取了第:%d部电影-------%s' % (count2,name))\n",
        "        count2 += 1\n",
        "    except:\n",
        "        print('滴滴滴滴滴，第{}次报错'.format(cw))\n",
        "        print('ip is:{}'.format(ip))\n",
        "        cw += 1\n",
        "        time.sleep(2)\n",
        "        continue"
      ],
      "execution_count": 0,
      "outputs": [
        {
          "output_type": "stream",
          "text": [
            "我们爬取了第:1部电影-------我不是药神\n",
            "我们爬取了第:2部电影-------这个杀手不太冷\n",
            "我们爬取了第:3部电影-------肖申克的救赎\n",
            "我们爬取了第:4部电影-------流浪地球\n",
            "我们爬取了第:5部电影-------阿甘正传\n",
            "我们爬取了第:6部电影-------盗梦空间\n",
            "我们爬取了第:7部电影-------泰坦尼克号\n",
            "我们爬取了第:8部电影-------千与千寻\n",
            "我们爬取了第:9部电影-------复仇者联盟3：无限战争\n",
            "我们爬取了第:10部电影-------西虹市首富\n",
            "我们爬取了第:11部电影-------霸王别姬\n",
            "我们爬取了第:12部电影-------三傻大闹宝莱坞\n",
            "我们爬取了第:13部电影-------让子弹飞\n",
            "我们爬取了第:14部电影-------摔跤吧！爸爸\n",
            "我们爬取了第:15部电影-------怦然心动\n",
            "我们爬取了第:16部电影-------疯狂动物城\n",
            "我们爬取了第:17部电影-------海上钢琴师\n",
            "我们爬取了第:18部电影-------毒液：致命守护者\n",
            "我们爬取了第:19部电影-------忠犬八公的故事\n",
            "我们爬取了第:20部电影-------当幸福来敲门\n",
            "我们爬取了第:21部电影-------一出好戏\n",
            "我们爬取了第:22部电影-------大话西游之大圣娶亲\n",
            "我们爬取了第:23部电影-------哪吒之魔童降世\n",
            "我们爬取了第:24部电影-------你的名字。\n",
            "我们爬取了第:25部电影-------头号玩家\n",
            "我们爬取了第:26部电影-------海王\n",
            "我们爬取了第:27部电影-------阿凡达\n",
            "我们爬取了第:28部电影-------楚门的世界\n",
            "我们爬取了第:29部电影-------星际穿越\n",
            "我们爬取了第:30部电影-------少年派的奇幻漂流\n",
            "我们爬取了第:31部电影-------寻梦环游记\n",
            "我们爬取了第:32部电影-------飞屋环游记\n",
            "我们爬取了第:33部电影-------放牛班的春天\n",
            "我们爬取了第:34部电影-------无双\n",
            "我们爬取了第:35部电影-------红海行动\n",
            "我们爬取了第:36部电影-------龙猫\n",
            "我们爬取了第:37部电影-------机器人总动员\n",
            "我们爬取了第:38部电影-------大话西游之月光宝盒\n",
            "我们爬取了第:39部电影-------那些年，我们一起追的女孩\n",
            "我们爬取了第:40部电影-------无名之辈\n",
            "我们爬取了第:41部电影-------绿皮书\n",
            "我们爬取了第:42部电影-------无间道\n",
            "我们爬取了第:43部电影-------初恋这件小事\n",
            "我们爬取了第:44部电影-------复仇者联盟\n",
            "我们爬取了第:45部电影-------战狼2\n",
            "我们爬取了第:46部电影-------飞驰人生\n",
            "我们爬取了第:47部电影-------剪刀手爱德华\n",
            "我们爬取了第:48部电影-------唐人街探案2\n",
            "我们爬取了第:49部电影-------天使爱美丽\n",
            "我们爬取了第:50部电影-------复仇者联盟4：终局之战\n",
            "我们爬取了第:51部电影-------唐伯虎点秋香\n",
            "我们爬取了第:52部电影-------碟中谍6：全面瓦解\n",
            "我们爬取了第:53部电影-------美丽人生\n",
            "我们爬取了第:54部电影-------夏洛特烦恼\n",
            "我们爬取了第:55部电影-------罗马假日\n",
            "我们爬取了第:56部电影-------V字仇杀队\n",
            "我们爬取了第:57部电影-------釜山行\n",
            "我们爬取了第:58部电影-------芳华\n",
            "我们爬取了第:59部电影-------神偷奶爸\n",
            "我们爬取了第:60部电影-------辛德勒的名单\n",
            "我们爬取了第:61部电影-------疯狂的外星人\n",
            "我们爬取了第:62部电影-------动物世界\n",
            "我们爬取了第:63部电影-------看不见的客人\n",
            "我们爬取了第:64部电影-------哈尔的移动城堡\n",
            "我们爬取了第:65部电影-------人再囧途之泰囧\n",
            "我们爬取了第:66部电影-------老炮儿\n",
            "我们爬取了第:67部电影-------喜剧之王\n",
            "我们爬取了第:68部电影-------蝙蝠侠：黑暗骑士\n",
            "我们爬取了第:69部电影-------钢铁侠\n",
            "我们爬取了第:70部电影-------蚁人2：黄蜂女现身\n",
            "我们爬取了第:71部电影-------加勒比海盗\n",
            "我们爬取了第:72部电影-------邪不压正\n",
            "我们爬取了第:73部电影-------蝴蝶效应\n",
            "我们爬取了第:74部电影-------奇异博士\n",
            "我们爬取了第:75部电影-------美人鱼\n",
            "我们爬取了第:76部电影-------功夫\n",
            "我们爬取了第:77部电影-------七宗罪\n",
            "我们爬取了第:78部电影-------湄公河行动\n",
            "我们爬取了第:79部电影-------西西里的美丽传说\n",
            "我们爬取了第:80部电影-------复仇者联盟2：奥创纪元\n",
            "我们爬取了第:81部电影-------超能陆战队\n",
            "我们爬取了第:82部电影-------羞羞的铁拳\n",
            "我们爬取了第:83部电影-------银河护卫队\n",
            "我们爬取了第:84部电影-------小偷家族\n",
            "我们爬取了第:85部电影-------本杰明·巴顿奇事\n",
            "我们爬取了第:86部电影-------唐人街探案\n",
            "我们爬取了第:87部电影-------无问西东\n",
            "我们爬取了第:88部电影-------天空之城\n",
            "我们爬取了第:89部电影-------疯狂原始人\n",
            "我们爬取了第:90部电影-------触不可及\n",
            "我们爬取了第:91部电影-------失恋33天\n",
            "我们爬取了第:92部电影-------超时空同居\n",
            "我们爬取了第:93部电影-------中国合伙人\n",
            "我们爬取了第:94部电影-------教父\n",
            "我们爬取了第:95部电影-------哈利·波特与魔法石\n",
            "我们爬取了第:96部电影-------倩女幽魂\n",
            "我们爬取了第:97部电影-------血战钢锯岭\n",
            "我们爬取了第:98部电影-------情书\n",
            "我们爬取了第:99部电影-------后会无期\n",
            "我们爬取了第:100部电影-------狮子王\n",
            "我们爬取了第:101部电影-------禁闭岛\n",
            "我们爬取了第:102部电影-------七月与安生\n",
            "我们爬取了第:103部电影-------黑天鹅\n",
            "我们爬取了第:104部电影-------驴得水\n",
            "我们爬取了第:105部电影-------美国队长3\n",
            "我们爬取了第:106部电影-------北京遇上西雅图\n",
            "我们爬取了第:107部电影-------钢铁侠3\n",
            "我们爬取了第:108部电影-------疯狂的石头\n",
            "我们爬取了第:109部电影-------妖猫传\n",
            "我们爬取了第:110部电影-------钢铁侠2\n",
            "我们爬取了第:111部电影-------少年的你\n",
            "我们爬取了第:112部电影-------美国队长2\n",
            "我们爬取了第:113部电影-------闻香识女人\n",
            "我们爬取了第:114部电影-------爱乐之城\n",
            "我们爬取了第:115部电影-------蚁人\n",
            "我们爬取了第:116部电影-------天才枪手\n",
            "我们爬取了第:117部电影-------搏击俱乐部\n",
            "我们爬取了第:118部电影-------贫民窟的百万富翁\n",
            "我们爬取了第:119部电影-------黑客帝国\n",
            "我们爬取了第:120部电影-------沉默的羔羊\n",
            "我们爬取了第:121部电影-------蜘蛛侠：英雄归来\n",
            "我们爬取了第:122部电影-------熔炉\n",
            "我们爬取了第:123部电影-------源代码\n",
            "我们爬取了第:124部电影-------穿普拉达的女王\n",
            "我们爬取了第:125部电影-------银河护卫队2\n",
            "我们爬取了第:126部电影-------西游记之大圣归来\n",
            "我们爬取了第:127部电影-------指环王1：魔戒再现\n",
            "我们爬取了第:128部电影-------我的少女时代\n",
            "我们爬取了第:129部电影-------影\n",
            "我们爬取了第:130部电影-------敦刻尔克\n",
            "我们爬取了第:131部电影-------人在囧途\n",
            "我们爬取了第:132部电影-------美国队长\n",
            "我们爬取了第:133部电影-------低俗小说\n",
            "我们爬取了第:134部电影-------调音师\n",
            "我们爬取了第:135部电影-------重庆森林\n",
            "我们爬取了第:136部电影-------美丽心灵\n",
            "我们爬取了第:137部电影-------傲慢与偏见\n",
            "我们爬取了第:138部电影-------三块广告牌\n",
            "我们爬取了第:139部电影-------消失的爱人\n",
            "我们爬取了第:140部电影-------火星救援\n",
            "我们爬取了第:141部电影-------黑豹\n",
            "我们爬取了第:142部电影-------王牌特工：特工学院\n",
            "我们爬取了第:143部电影-------布达佩斯大饭店\n",
            "我们爬取了第:144部电影-------雷神3：诸神黄昏\n",
            "我们爬取了第:145部电影-------指环王3：王者无敌\n",
            "我们爬取了第:146部电影-------致命魔术\n",
            "我们爬取了第:147部电影-------活着\n",
            "我们爬取了第:148部电影-------哈利·波特与死亡圣器(下)\n",
            "我们爬取了第:149部电影-------驯龙高手\n",
            "我们爬取了第:150部电影-------国王的演讲\n",
            "我们爬取了第:151部电影-------寻龙诀\n",
            "我们爬取了第:152部电影-------东邪西毒\n",
            "我们爬取了第:153部电影-------冰雪奇缘\n",
            "我们爬取了第:154部电影-------断背山\n",
            "我们爬取了第:155部电影-------乘风破浪\n",
            "我们爬取了第:156部电影-------冰川时代\n",
            "我们爬取了第:157部电影-------白蛇：缘起\n",
            "我们爬取了第:158部电影-------西游降魔篇\n",
            "我们爬取了第:159部电影-------神奇动物：格林德沃之罪\n",
            "我们爬取了第:160部电影-------雷神\n",
            "我们爬取了第:161部电影-------恐怖游轮\n",
            "我们爬取了第:162部电影-------秒速5厘米\n",
            "我们爬取了第:163部电影-------蝙蝠侠：黑暗骑士崛起\n",
            "我们爬取了第:164部电影-------2012\n",
            "我们爬取了第:165部电影-------雷神2：黑暗世界\n",
            "我们爬取了第:166部电影-------指环王2：双塔奇兵\n",
            "我们爬取了第:167部电影-------蜘蛛侠：平行宇宙\n",
            "我们爬取了第:168部电影-------大黄蜂\n",
            "我们爬取了第:169部电影-------被嫌弃的松子的一生\n",
            "我们爬取了第:170部电影-------捉妖记\n",
            "我们爬取了第:171部电影-------猫鼠游戏\n",
            "我们爬取了第:172部电影-------致命ID\n",
            "我们爬取了第:173部电影-------功夫熊猫\n",
            "我们爬取了第:174部电影-------告白\n",
            "我们爬取了第:175部电影-------惊奇队长\n",
            "我们爬取了第:176部电影-------射雕英雄传之东成西就\n",
            "我们爬取了第:177部电影-------惊天魔盗团\n",
            "我们爬取了第:178部电影-------金陵十三钗\n",
            "我们爬取了第:179部电影-------我和我的祖国\n",
            "我们爬取了第:180部电影-------怪兽电力公司\n",
            "我们爬取了第:181部电影-------阿丽塔：战斗天使\n",
            "我们爬取了第:182部电影-------速度与激情7\n",
            "我们爬取了第:183部电影-------何以为家\n",
            "我们爬取了第:184部电影-------神奇动物在哪里\n",
            "我们爬取了第:185部电影-------真爱至上\n",
            "我们爬取了第:186部电影-------拯救大兵瑞恩\n",
            "我们爬取了第:187部电影-------心灵捕手\n",
            "我们爬取了第:188部电影-------致我们终将逝去的青春\n",
            "我们爬取了第:189部电影-------X战警：逆转未来\n",
            "我们爬取了第:190部电影-------天堂电影院\n",
            "我们爬取了第:191部电影-------勇敢的心\n",
            "我们爬取了第:192部电影-------烈日灼心\n",
            "我们爬取了第:193部电影-------色，戒\n",
            "我们爬取了第:194部电影-------末代皇帝\n",
            "我们爬取了第:195部电影-------了不起的盖茨比\n",
            "我们爬取了第:196部电影-------志明与春娇\n",
            "我们爬取了第:197部电影-------乱世佳人\n",
            "我们爬取了第:198部电影-------死亡诗社\n",
            "我们爬取了第:199部电影-------超体\n",
            "我们爬取了第:200部电影-------蜘蛛侠：英雄远征\n"
          ],
          "name": "stdout"
        }
      ]
    },
    {
      "cell_type": "code",
      "metadata": {
        "id": "dby8FUJSfONL",
        "colab_type": "code",
        "outputId": "f2179716-fdd8-4643-c691-d32f122d45fc",
        "colab": {
          "base_uri": "https://localhost:8080/",
          "height": 612
        }
      },
      "source": [
        "movie_result.head()"
      ],
      "execution_count": 0,
      "outputs": [
        {
          "output_type": "execute_result",
          "data": {
            "text/html": [
              "<div>\n",
              "<style scoped>\n",
              "    .dataframe tbody tr th:only-of-type {\n",
              "        vertical-align: middle;\n",
              "    }\n",
              "\n",
              "    .dataframe tbody tr th {\n",
              "        vertical-align: top;\n",
              "    }\n",
              "\n",
              "    .dataframe thead th {\n",
              "        text-align: right;\n",
              "    }\n",
              "</style>\n",
              "<table border=\"1\" class=\"dataframe\">\n",
              "  <thead>\n",
              "    <tr style=\"text-align: right;\">\n",
              "      <th></th>\n",
              "      <th>片名</th>\n",
              "      <th>上映时间</th>\n",
              "      <th>电影类型</th>\n",
              "      <th>片长</th>\n",
              "      <th>地区</th>\n",
              "      <th>评分人数</th>\n",
              "      <th>评分分布</th>\n",
              "      <th>简介</th>\n",
              "      <th>热评</th>\n",
              "      <th>网址</th>\n",
              "    </tr>\n",
              "  </thead>\n",
              "  <tbody>\n",
              "    <tr>\n",
              "      <th>0</th>\n",
              "      <td>我不是药神</td>\n",
              "      <td>(2018)</td>\n",
              "      <td>[剧情, 喜剧]</td>\n",
              "      <td>117</td>\n",
              "      <td>中国大陆</td>\n",
              "      <td>1314699</td>\n",
              "      <td>{'力荐': '57.6%', '推荐': '34.8%', '还行': '6.9%', '...</td>\n",
              "      <td>普通中年男子程勇（徐峥 饰）经营着一家保健品店，失意又失婚。不速之客吕受益（王传君 饰）的到...</td>\n",
              "      <td>最大的病，其实是穷病。真的被感动了，整体都很成熟，也有些许韩片的影子。几个演员表演都非常出色...</td>\n",
              "      <td>https://movie.douban.com/subject/26752088/</td>\n",
              "    </tr>\n",
              "    <tr>\n",
              "      <th>0</th>\n",
              "      <td>这个杀手不太冷 Léon</td>\n",
              "      <td>(1994)</td>\n",
              "      <td>[剧情, 动作, 犯罪]</td>\n",
              "      <td>110分钟(剧场版) / 133分钟(国际版)\\n        又名: 杀手莱昂 / 终极...</td>\n",
              "      <td>法国</td>\n",
              "      <td>1536845</td>\n",
              "      <td>{'力荐': '74.1%', '推荐': '22.5%', '还行': '3.1%', '...</td>\n",
              "      <td>里昂（让·雷诺饰）是名孤独的职业杀手，受人雇佣。一天，邻居家小姑娘马蒂尔达（纳塔丽·波特曼饰...</td>\n",
              "      <td>萝莉有颗御姐心，正太有个大叔身——邪恶又天真、残酷又温柔，多完美~</td>\n",
              "      <td>https://movie.douban.com/subject/1295644/</td>\n",
              "    </tr>\n",
              "    <tr>\n",
              "      <th>0</th>\n",
              "      <td>肖申克的救赎 The Shawshank Redemption</td>\n",
              "      <td>(1994)</td>\n",
              "      <td>[剧情, 犯罪]</td>\n",
              "      <td>142</td>\n",
              "      <td>美国</td>\n",
              "      <td>1739705</td>\n",
              "      <td>{'力荐': '84.8%', '推荐': '13.6%', '还行': '1.4%', '...</td>\n",
              "      <td>20世纪40年代末，小有成就的青年银行家安迪（蒂姆·罗宾斯 Tim Robbins 饰）因涉...</td>\n",
              "      <td>恐惧让你沦为囚犯，希望让你重获自由。——《肖申克的救赎》</td>\n",
              "      <td>https://movie.douban.com/subject/1292052/</td>\n",
              "    </tr>\n",
              "    <tr>\n",
              "      <th>0</th>\n",
              "      <td>流浪地球</td>\n",
              "      <td>(2019)</td>\n",
              "      <td>[科幻, 灾难]</td>\n",
              "      <td>125</td>\n",
              "      <td>中国大陆</td>\n",
              "      <td>1385197</td>\n",
              "      <td>{'力荐': '32.9%', '推荐': '37.8%', '还行': '22.1%', ...</td>\n",
              "      <td>近未来，科学家们发现太阳急速衰老膨胀，短时间内包括地球在内的整个太阳系都将被太阳所吞没。为了...</td>\n",
              "      <td>“北京道路安全委提醒你：道路千万条，安全第一条，行车不规范，亲人两行泪” 这句广播语真是又土...</td>\n",
              "      <td>https://movie.douban.com/subject/26266893/</td>\n",
              "    </tr>\n",
              "    <tr>\n",
              "      <th>0</th>\n",
              "      <td>阿甘正传 Forrest Gump</td>\n",
              "      <td>(1994)</td>\n",
              "      <td>[剧情, 爱情]</td>\n",
              "      <td>142</td>\n",
              "      <td>美国</td>\n",
              "      <td>1342185</td>\n",
              "      <td>{'力荐': '76.2%', '推荐': '20.7%', '还行': '2.8%', '...</td>\n",
              "      <td>阿甘（汤姆·汉克斯 饰）于二战结束后不久出生在美国南方阿拉巴马州一个闭塞的小镇，他先天弱智，...</td>\n",
              "      <td>每年看一遍，每年哭一遍，看看自己幸福还是阿甘幸福！时间：从2003开始每年一遍</td>\n",
              "      <td>https://movie.douban.com/subject/1292720/</td>\n",
              "    </tr>\n",
              "  </tbody>\n",
              "</table>\n",
              "</div>"
            ],
            "text/plain": [
              "                                片名  ...                                          网址\n",
              "0                            我不是药神  ...  https://movie.douban.com/subject/26752088/\n",
              "0                     这个杀手不太冷 Léon  ...   https://movie.douban.com/subject/1295644/\n",
              "0  肖申克的救赎 The Shawshank Redemption  ...   https://movie.douban.com/subject/1292052/\n",
              "0                             流浪地球  ...  https://movie.douban.com/subject/26266893/\n",
              "0                阿甘正传 Forrest Gump  ...   https://movie.douban.com/subject/1292720/\n",
              "\n",
              "[5 rows x 10 columns]"
            ]
          },
          "metadata": {
            "tags": []
          },
          "execution_count": 8
        }
      ]
    },
    {
      "cell_type": "markdown",
      "metadata": {
        "id": "9VsUcbPMhHbq",
        "colab_type": "text"
      },
      "source": [
        "文件存储"
      ]
    },
    {
      "cell_type": "code",
      "metadata": {
        "id": "bnQrug12hDmf",
        "colab_type": "code",
        "colab": {}
      },
      "source": [
        "result.to_excel('电影基本信息大全.xlsx')\n",
        "movie_result.to_excel('电影详细信息.xlsx')"
      ],
      "execution_count": 0,
      "outputs": []
    },
    {
      "cell_type": "code",
      "metadata": {
        "id": "RRZQleGJhEUo",
        "colab_type": "code",
        "colab": {}
      },
      "source": [
        "result.to_csv('电影基本信息大全.csv')\n",
        "movie_result.to_csv('电影详细信息.csv')"
      ],
      "execution_count": 0,
      "outputs": []
    },
    {
      "cell_type": "code",
      "metadata": {
        "id": "cUK3M45JhEQU",
        "colab_type": "code",
        "colab": {}
      },
      "source": [
        "import pandas as pd\n",
        "import numpy as np\n",
        "import json\n",
        "import seaborn as sns\n",
        "import matplotlib.pyplot as plt\n",
        "%matplotlib inline"
      ],
      "execution_count": 0,
      "outputs": []
    },
    {
      "cell_type": "code",
      "metadata": {
        "id": "xO8NgUHThDie",
        "colab_type": "code",
        "outputId": "918e8a92-fe4b-4158-af98-158158797c0c",
        "colab": {
          "base_uri": "https://localhost:8080/",
          "height": 213
        }
      },
      "source": [
        "base_info = pd.read_excel('电影基本信息大全.xlsx')\n",
        "base_info.head(2)"
      ],
      "execution_count": 0,
      "outputs": [
        {
          "output_type": "execute_result",
          "data": {
            "text/html": [
              "<div>\n",
              "<style scoped>\n",
              "    .dataframe tbody tr th:only-of-type {\n",
              "        vertical-align: middle;\n",
              "    }\n",
              "\n",
              "    .dataframe tbody tr th {\n",
              "        vertical-align: top;\n",
              "    }\n",
              "\n",
              "    .dataframe thead th {\n",
              "        text-align: right;\n",
              "    }\n",
              "</style>\n",
              "<table border=\"1\" class=\"dataframe\">\n",
              "  <thead>\n",
              "    <tr style=\"text-align: right;\">\n",
              "      <th></th>\n",
              "      <th>Unnamed: 0</th>\n",
              "      <th>主演</th>\n",
              "      <th>海报</th>\n",
              "      <th>导演</th>\n",
              "      <th>ID</th>\n",
              "      <th>评分</th>\n",
              "      <th>标记</th>\n",
              "      <th>片名</th>\n",
              "      <th>网址</th>\n",
              "    </tr>\n",
              "  </thead>\n",
              "  <tbody>\n",
              "    <tr>\n",
              "      <th>0</th>\n",
              "      <td>0</td>\n",
              "      <td>['徐峥', '王传君', '周一围', '谭卓', '章宇']</td>\n",
              "      <td>https://img3.doubanio.com/view/photo/s_ratio_p...</td>\n",
              "      <td>['文牧野']</td>\n",
              "      <td>26752088</td>\n",
              "      <td>9.0</td>\n",
              "      <td>45</td>\n",
              "      <td>我不是药神</td>\n",
              "      <td>https://movie.douban.com/subject/26752088/</td>\n",
              "    </tr>\n",
              "    <tr>\n",
              "      <th>1</th>\n",
              "      <td>0</td>\n",
              "      <td>['让·雷诺', '娜塔莉·波特曼', '加里·奥德曼', '丹尼·爱罗', '彼得·阿佩尔']</td>\n",
              "      <td>https://img3.doubanio.com/view/photo/s_ratio_p...</td>\n",
              "      <td>['吕克·贝松']</td>\n",
              "      <td>1295644</td>\n",
              "      <td>9.4</td>\n",
              "      <td>45</td>\n",
              "      <td>这个杀手不太冷</td>\n",
              "      <td>https://movie.douban.com/subject/1295644/</td>\n",
              "    </tr>\n",
              "  </tbody>\n",
              "</table>\n",
              "</div>"
            ],
            "text/plain": [
              "   Unnamed: 0  ...                                          网址\n",
              "0           0  ...  https://movie.douban.com/subject/26752088/\n",
              "1           0  ...   https://movie.douban.com/subject/1295644/\n",
              "\n",
              "[2 rows x 9 columns]"
            ]
          },
          "metadata": {
            "tags": []
          },
          "execution_count": 12
        }
      ]
    },
    {
      "cell_type": "code",
      "metadata": {
        "id": "GYYuwljmhDet",
        "colab_type": "code",
        "outputId": "3e318d16-8c68-4039-ea18-0dc2684fa9c9",
        "colab": {
          "base_uri": "https://localhost:8080/",
          "height": 281
        }
      },
      "source": [
        "movie_info = pd.read_excel('电影详细信息.xlsx')\n",
        "movie_info.head(2)"
      ],
      "execution_count": 0,
      "outputs": [
        {
          "output_type": "execute_result",
          "data": {
            "text/html": [
              "<div>\n",
              "<style scoped>\n",
              "    .dataframe tbody tr th:only-of-type {\n",
              "        vertical-align: middle;\n",
              "    }\n",
              "\n",
              "    .dataframe tbody tr th {\n",
              "        vertical-align: top;\n",
              "    }\n",
              "\n",
              "    .dataframe thead th {\n",
              "        text-align: right;\n",
              "    }\n",
              "</style>\n",
              "<table border=\"1\" class=\"dataframe\">\n",
              "  <thead>\n",
              "    <tr style=\"text-align: right;\">\n",
              "      <th></th>\n",
              "      <th>Unnamed: 0</th>\n",
              "      <th>片名</th>\n",
              "      <th>上映时间</th>\n",
              "      <th>电影类型</th>\n",
              "      <th>片长</th>\n",
              "      <th>地区</th>\n",
              "      <th>评分人数</th>\n",
              "      <th>评分分布</th>\n",
              "      <th>简介</th>\n",
              "      <th>热评</th>\n",
              "      <th>网址</th>\n",
              "    </tr>\n",
              "  </thead>\n",
              "  <tbody>\n",
              "    <tr>\n",
              "      <th>0</th>\n",
              "      <td>0</td>\n",
              "      <td>我不是药神</td>\n",
              "      <td>(2018)</td>\n",
              "      <td>['剧情', '喜剧']</td>\n",
              "      <td>117</td>\n",
              "      <td>中国大陆</td>\n",
              "      <td>1314699</td>\n",
              "      <td>{'力荐': '57.6%', '推荐': '34.8%', '还行': '6.9%', '...</td>\n",
              "      <td>普通中年男子程勇（徐峥 饰）经营着一家保健品店，失意又失婚。不速之客吕受益（王传君 饰）的到...</td>\n",
              "      <td>最大的病，其实是穷病。真的被感动了，整体都很成熟，也有些许韩片的影子。几个演员表演都非常出色...</td>\n",
              "      <td>https://movie.douban.com/subject/26752088/</td>\n",
              "    </tr>\n",
              "    <tr>\n",
              "      <th>1</th>\n",
              "      <td>0</td>\n",
              "      <td>这个杀手不太冷 Léon</td>\n",
              "      <td>(1994)</td>\n",
              "      <td>['剧情', '动作', '犯罪']</td>\n",
              "      <td>110分钟(剧场版) / 133分钟(国际版)\\n        又名: 杀手莱昂 / 终极...</td>\n",
              "      <td>法国</td>\n",
              "      <td>1536845</td>\n",
              "      <td>{'力荐': '74.1%', '推荐': '22.5%', '还行': '3.1%', '...</td>\n",
              "      <td>里昂（让·雷诺饰）是名孤独的职业杀手，受人雇佣。一天，邻居家小姑娘马蒂尔达（纳塔丽·波特曼饰...</td>\n",
              "      <td>萝莉有颗御姐心，正太有个大叔身——邪恶又天真、残酷又温柔，多完美~</td>\n",
              "      <td>https://movie.douban.com/subject/1295644/</td>\n",
              "    </tr>\n",
              "  </tbody>\n",
              "</table>\n",
              "</div>"
            ],
            "text/plain": [
              "   Unnamed: 0  ...                                          网址\n",
              "0           0  ...  https://movie.douban.com/subject/26752088/\n",
              "1           0  ...   https://movie.douban.com/subject/1295644/\n",
              "\n",
              "[2 rows x 11 columns]"
            ]
          },
          "metadata": {
            "tags": []
          },
          "execution_count": 13
        }
      ]
    },
    {
      "cell_type": "code",
      "metadata": {
        "id": "R9GhvNlhnnZW",
        "colab_type": "code",
        "colab": {}
      },
      "source": [
        "base_info = pd.read_csv('电影基本信息大全.csv')\n",
        "movie_info = pd.read_csv('电影详细信息.csv')"
      ],
      "execution_count": 0,
      "outputs": []
    },
    {
      "cell_type": "markdown",
      "metadata": {
        "id": "NM4cZcgKh3Js",
        "colab_type": "text"
      },
      "source": [
        "数据清洗\n",
        "\n",
        "1.双表合并"
      ]
    },
    {
      "cell_type": "code",
      "metadata": {
        "id": "Nrqtjdn2hDaD",
        "colab_type": "code",
        "colab": {}
      },
      "source": [
        "movie_combine = pd.merge(base_info,movie_info,left_on = '网址',right_on = '网址',how = 'inner')"
      ],
      "execution_count": 0,
      "outputs": []
    },
    {
      "cell_type": "markdown",
      "metadata": {
        "id": "ruhlbGZfkP1x",
        "colab_type": "text"
      },
      "source": [
        "2.上映时间清洗"
      ]
    },
    {
      "cell_type": "code",
      "metadata": {
        "id": "lPFEylVXkRVD",
        "colab_type": "code",
        "outputId": "926e978a-5241-46da-fe76-6b241d9637ef",
        "colab": {
          "base_uri": "https://localhost:8080/",
          "height": 125
        }
      },
      "source": [
        "movie_combine['上映时间'].head()"
      ],
      "execution_count": 73,
      "outputs": [
        {
          "output_type": "execute_result",
          "data": {
            "text/plain": [
              "0    (2018)\n",
              "1    (1994)\n",
              "2    (1994)\n",
              "3    (2019)\n",
              "4    (1994)\n",
              "Name: 上映时间, dtype: object"
            ]
          },
          "metadata": {
            "tags": []
          },
          "execution_count": 73
        }
      ]
    },
    {
      "cell_type": "code",
      "metadata": {
        "id": "0BHjuwRrkRQp",
        "colab_type": "code",
        "outputId": "d88daea3-821a-4c3d-9e21-98453382cd45",
        "colab": {
          "base_uri": "https://localhost:8080/",
          "height": 125
        }
      },
      "source": [
        "movie_combine['上映时间'] = movie_combine['上映时间'] * -1\n",
        "movie_combine['上映时间'].head()"
      ],
      "execution_count": 74,
      "outputs": [
        {
          "output_type": "execute_result",
          "data": {
            "text/plain": [
              "0    \n",
              "1    \n",
              "2    \n",
              "3    \n",
              "4    \n",
              "Name: 上映时间, dtype: object"
            ]
          },
          "metadata": {
            "tags": []
          },
          "execution_count": 74
        }
      ]
    },
    {
      "cell_type": "markdown",
      "metadata": {
        "id": "0Jt3up06ka5R",
        "colab_type": "text"
      },
      "source": [
        "3.评分分布规整"
      ]
    },
    {
      "cell_type": "code",
      "metadata": {
        "id": "BKM9SPckkRMY",
        "colab_type": "code",
        "outputId": "0661ec39-b5c4-4c53-a4b9-32cd5a9c8841",
        "colab": {
          "base_uri": "https://localhost:8080/",
          "height": 53
        }
      },
      "source": [
        "#查看评分分布字段的格式\n",
        "print(type(movie_combine['评分分布'].values[0]))\n",
        "movie_combine['评分分布'].values[0]"
      ],
      "execution_count": 75,
      "outputs": [
        {
          "output_type": "stream",
          "text": [
            "<class 'str'>\n"
          ],
          "name": "stdout"
        },
        {
          "output_type": "execute_result",
          "data": {
            "text/plain": [
              "\"{'力荐': '57.6%', '推荐': '34.8%', '还行': '6.9%', '较差': '0.5%', '很差': '0.2%'}\""
            ]
          },
          "metadata": {
            "tags": []
          },
          "execution_count": 75
        }
      ]
    },
    {
      "cell_type": "code",
      "metadata": {
        "id": "dhSSWxN_kRFr",
        "colab_type": "code",
        "outputId": "e11531cb-11f0-4036-9ba3-417694c12f33",
        "colab": {
          "base_uri": "https://localhost:8080/",
          "height": 35
        }
      },
      "source": [
        "#先替换成单引号\n",
        "var = movie_combine['评分分布'].values[0].replace(\"\\'\",'\\\"')\n",
        "#再进行解析\n",
        "type(json.loads(var))"
      ],
      "execution_count": 76,
      "outputs": [
        {
          "output_type": "execute_result",
          "data": {
            "text/plain": [
              "dict"
            ]
          },
          "metadata": {
            "tags": []
          },
          "execution_count": 76
        }
      ]
    },
    {
      "cell_type": "code",
      "metadata": {
        "id": "OjmN2h9UkiY9",
        "colab_type": "code",
        "colab": {}
      },
      "source": [
        "#批量对评分进行操作\n",
        "def transform(x):\n",
        "    return json.loads(x.replace(\"\\'\",'\\\"'))\n",
        "\n",
        "movie_combine['format_评分'] = movie_combine['评分分布'].apply(transform)"
      ],
      "execution_count": 0,
      "outputs": []
    },
    {
      "cell_type": "code",
      "metadata": {
        "id": "aaiqAbaZkiw5",
        "colab_type": "code",
        "outputId": "b68739ab-7545-4856-b66c-4d20c72bf8e7",
        "colab": {
          "base_uri": "https://localhost:8080/",
          "height": 559
        }
      },
      "source": [
        "#把单列字典的评分分布转化成分开的5列，且每一列是数值型的\n",
        "def get_rate(x,types):\n",
        "    try:\n",
        "        return float(x[types].strip('%'))\n",
        "    except:\n",
        "        pass\n",
        "    \n",
        "movie_combine['5星'] = movie_combine['format_评分'].apply(get_rate,types = '力荐')\n",
        "movie_combine['4星'] = movie_combine['format_评分'].apply(get_rate,types = '推荐')\n",
        "movie_combine['3星'] = movie_combine['format_评分'].apply(get_rate,types = '还行')\n",
        "movie_combine['2星'] = movie_combine['format_评分'].apply(get_rate,types = '较差')\n",
        "movie_combine['1星'] = movie_combine['format_评分'].apply(get_rate,types = '很差')\n",
        "\n",
        "movie_combine.head(1)"
      ],
      "execution_count": 78,
      "outputs": [
        {
          "output_type": "execute_result",
          "data": {
            "text/html": [
              "<div>\n",
              "<style scoped>\n",
              "    .dataframe tbody tr th:only-of-type {\n",
              "        vertical-align: middle;\n",
              "    }\n",
              "\n",
              "    .dataframe tbody tr th {\n",
              "        vertical-align: top;\n",
              "    }\n",
              "\n",
              "    .dataframe thead th {\n",
              "        text-align: right;\n",
              "    }\n",
              "</style>\n",
              "<table border=\"1\" class=\"dataframe\">\n",
              "  <thead>\n",
              "    <tr style=\"text-align: right;\">\n",
              "      <th></th>\n",
              "      <th>Unnamed: 0_x</th>\n",
              "      <th>主演</th>\n",
              "      <th>海报</th>\n",
              "      <th>导演</th>\n",
              "      <th>ID</th>\n",
              "      <th>评分</th>\n",
              "      <th>标记</th>\n",
              "      <th>片名_x</th>\n",
              "      <th>网址</th>\n",
              "      <th>Unnamed: 0_y</th>\n",
              "      <th>片名_y</th>\n",
              "      <th>上映时间</th>\n",
              "      <th>电影类型</th>\n",
              "      <th>片长</th>\n",
              "      <th>地区</th>\n",
              "      <th>评分人数</th>\n",
              "      <th>评分分布</th>\n",
              "      <th>简介</th>\n",
              "      <th>热评</th>\n",
              "      <th>format_评分</th>\n",
              "      <th>5星</th>\n",
              "      <th>4星</th>\n",
              "      <th>3星</th>\n",
              "      <th>2星</th>\n",
              "      <th>1星</th>\n",
              "    </tr>\n",
              "  </thead>\n",
              "  <tbody>\n",
              "    <tr>\n",
              "      <th>0</th>\n",
              "      <td>0</td>\n",
              "      <td>['徐峥', '王传君', '周一围', '谭卓', '章宇']</td>\n",
              "      <td>https://img3.doubanio.com/view/photo/s_ratio_p...</td>\n",
              "      <td>['文牧野']</td>\n",
              "      <td>26752088</td>\n",
              "      <td>9.0</td>\n",
              "      <td>45</td>\n",
              "      <td>我不是药神</td>\n",
              "      <td>https://movie.douban.com/subject/26752088/</td>\n",
              "      <td>0</td>\n",
              "      <td>我不是药神</td>\n",
              "      <td></td>\n",
              "      <td>['剧情', '喜剧']</td>\n",
              "      <td>117</td>\n",
              "      <td>中国大陆</td>\n",
              "      <td>1314699</td>\n",
              "      <td>{'力荐': '57.6%', '推荐': '34.8%', '还行': '6.9%', '...</td>\n",
              "      <td>普通中年男子程勇（徐峥 饰）经营着一家保健品店，失意又失婚。不速之客吕受益（王传君 饰）的到...</td>\n",
              "      <td>最大的病，其实是穷病。真的被感动了，整体都很成熟，也有些许韩片的影子。几个演员表演都非常出色...</td>\n",
              "      <td>{'力荐': '57.6%', '推荐': '34.8%', '还行': '6.9%', '...</td>\n",
              "      <td>57.6</td>\n",
              "      <td>34.8</td>\n",
              "      <td>6.9</td>\n",
              "      <td>0.5</td>\n",
              "      <td>0.2</td>\n",
              "    </tr>\n",
              "  </tbody>\n",
              "</table>\n",
              "</div>"
            ],
            "text/plain": [
              "   Unnamed: 0_x                                主演  ...   2星   1星\n",
              "0             0  ['徐峥', '王传君', '周一围', '谭卓', '章宇']  ...  0.5  0.2\n",
              "\n",
              "[1 rows x 25 columns]"
            ]
          },
          "metadata": {
            "tags": []
          },
          "execution_count": 78
        }
      ]
    },
    {
      "cell_type": "markdown",
      "metadata": {
        "id": "J4JSKOT5ktVa",
        "colab_type": "text"
      },
      "source": [
        "数据分析"
      ]
    },
    {
      "cell_type": "code",
      "metadata": {
        "id": "rq_rkRnNki-r",
        "colab_type": "code",
        "outputId": "ed6ae33e-911c-4b26-8dd3-a1aff2ef23bd",
        "colab": {
          "base_uri": "https://localhost:8080/",
          "height": 542
        }
      },
      "source": [
        "#按照总评分，5星评分人数占比，4星占比，3星..依次类推\n",
        "movie_combine.sort_values(['评分','5星','4星','3星','2星','1星'],ascending = False,inplace = True)\n",
        "movie_combine.head(1)"
      ],
      "execution_count": 79,
      "outputs": [
        {
          "output_type": "execute_result",
          "data": {
            "text/html": [
              "<div>\n",
              "<style scoped>\n",
              "    .dataframe tbody tr th:only-of-type {\n",
              "        vertical-align: middle;\n",
              "    }\n",
              "\n",
              "    .dataframe tbody tr th {\n",
              "        vertical-align: top;\n",
              "    }\n",
              "\n",
              "    .dataframe thead th {\n",
              "        text-align: right;\n",
              "    }\n",
              "</style>\n",
              "<table border=\"1\" class=\"dataframe\">\n",
              "  <thead>\n",
              "    <tr style=\"text-align: right;\">\n",
              "      <th></th>\n",
              "      <th>Unnamed: 0_x</th>\n",
              "      <th>主演</th>\n",
              "      <th>海报</th>\n",
              "      <th>导演</th>\n",
              "      <th>ID</th>\n",
              "      <th>评分</th>\n",
              "      <th>标记</th>\n",
              "      <th>片名_x</th>\n",
              "      <th>网址</th>\n",
              "      <th>Unnamed: 0_y</th>\n",
              "      <th>片名_y</th>\n",
              "      <th>上映时间</th>\n",
              "      <th>电影类型</th>\n",
              "      <th>片长</th>\n",
              "      <th>地区</th>\n",
              "      <th>评分人数</th>\n",
              "      <th>评分分布</th>\n",
              "      <th>简介</th>\n",
              "      <th>热评</th>\n",
              "      <th>format_评分</th>\n",
              "      <th>5星</th>\n",
              "      <th>4星</th>\n",
              "      <th>3星</th>\n",
              "      <th>2星</th>\n",
              "      <th>1星</th>\n",
              "    </tr>\n",
              "  </thead>\n",
              "  <tbody>\n",
              "    <tr>\n",
              "      <th>2</th>\n",
              "      <td>0</td>\n",
              "      <td>['蒂姆·罗宾斯', '摩根·弗里曼', '鲍勃·冈顿', '威廉姆·赛德勒', '克兰西·...</td>\n",
              "      <td>https://img3.doubanio.com/view/photo/s_ratio_p...</td>\n",
              "      <td>['弗兰克·德拉邦特']</td>\n",
              "      <td>1292052</td>\n",
              "      <td>9.7</td>\n",
              "      <td>50</td>\n",
              "      <td>肖申克的救赎</td>\n",
              "      <td>https://movie.douban.com/subject/1292052/</td>\n",
              "      <td>0</td>\n",
              "      <td>肖申克的救赎 The Shawshank Redemption</td>\n",
              "      <td></td>\n",
              "      <td>['剧情', '犯罪']</td>\n",
              "      <td>142</td>\n",
              "      <td>美国</td>\n",
              "      <td>1739705</td>\n",
              "      <td>{'力荐': '84.8%', '推荐': '13.6%', '还行': '1.4%', '...</td>\n",
              "      <td>20世纪40年代末，小有成就的青年银行家安迪（蒂姆·罗宾斯 Tim Robbins 饰）因涉...</td>\n",
              "      <td>恐惧让你沦为囚犯，希望让你重获自由。——《肖申克的救赎》</td>\n",
              "      <td>{'力荐': '84.8%', '推荐': '13.6%', '还行': '1.4%', '...</td>\n",
              "      <td>84.8</td>\n",
              "      <td>13.6</td>\n",
              "      <td>1.4</td>\n",
              "      <td>0.1</td>\n",
              "      <td>0.1</td>\n",
              "    </tr>\n",
              "  </tbody>\n",
              "</table>\n",
              "</div>"
            ],
            "text/plain": [
              "   Unnamed: 0_x                                                 主演  ...   2星   1星\n",
              "2             0  ['蒂姆·罗宾斯', '摩根·弗里曼', '鲍勃·冈顿', '威廉姆·赛德勒', '克兰西·...  ...  0.1  0.1\n",
              "\n",
              "[1 rows x 25 columns]"
            ]
          },
          "metadata": {
            "tags": []
          },
          "execution_count": 79
        }
      ]
    },
    {
      "cell_type": "code",
      "metadata": {
        "id": "1LuzN9dW0Ls_",
        "colab_type": "code",
        "colab": {}
      },
      "source": [
        ""
      ],
      "execution_count": 0,
      "outputs": []
    },
    {
      "cell_type": "code",
      "metadata": {
        "id": "XLYut-F2qIyD",
        "colab_type": "code",
        "outputId": "b534df0d-6e9c-4227-860d-8ccaa122ad66",
        "colab": {
          "base_uri": "https://localhost:8080/",
          "height": 557
        }
      },
      "source": [
        "movie_combine.info()"
      ],
      "execution_count": 0,
      "outputs": [
        {
          "output_type": "stream",
          "text": [
            "<class 'pandas.core.frame.DataFrame'>\n",
            "Int64Index: 200 entries, 2 to 60\n",
            "Data columns (total 25 columns):\n",
            "Unnamed: 0_x    200 non-null int64\n",
            "主演              200 non-null object\n",
            "海报              200 non-null object\n",
            "导演              200 non-null object\n",
            "ID              200 non-null int64\n",
            "评分              200 non-null float64\n",
            "标记              200 non-null int64\n",
            "片名_x            200 non-null object\n",
            "网址              200 non-null object\n",
            "Unnamed: 0_y    200 non-null int64\n",
            "片名_y            200 non-null object\n",
            "上映时间            200 non-null object\n",
            "电影类型            200 non-null object\n",
            "片长              200 non-null object\n",
            "地区              200 non-null object\n",
            "评分人数            200 non-null int64\n",
            "评分分布            200 non-null object\n",
            "简介              200 non-null object\n",
            "热评              200 non-null object\n",
            "format_评分       200 non-null object\n",
            "5星              200 non-null float64\n",
            "4星              200 non-null float64\n",
            "3星              200 non-null float64\n",
            "2星              200 non-null float64\n",
            "1星              200 non-null float64\n",
            "dtypes: float64(6), int64(5), object(14)\n",
            "memory usage: 40.6+ KB\n"
          ],
          "name": "stdout"
        }
      ]
    },
    {
      "cell_type": "markdown",
      "metadata": {
        "id": "C2Xjobb_k0bs",
        "colab_type": "text"
      },
      "source": [
        "1.剔除掉没有评分的电影并绘制"
      ]
    },
    {
      "cell_type": "code",
      "metadata": {
        "id": "jIl9kDaQkiNv",
        "colab_type": "code",
        "outputId": "7856e459-26a8-4a3c-d394-379ce2e59b7c",
        "colab": {
          "base_uri": "https://localhost:8080/",
          "height": 754
        }
      },
      "source": [
        "movie_combine = movie_combine.loc[movie_combine['评分人数'] != 'None',:]\n",
        "\n",
        "fig,ax = plt.subplots(1,1,figsize = (13,5))\n",
        "#plt.figure(figsize = (12,5))\n",
        "sns.distplot(movie_combine['评分人数'].values,color = 'red',kde = False,bins = 200,ax = ax)\n",
        "ax.axvline(movie_combine['评分人数'].mean(),color = 'red',alpha = 0.7)\n",
        "ax.axvline(movie_combine['评分人数'].median(),color = 'blue',alpha = 0.5)\n",
        "plt.xlim(0,600000)\n",
        "plt.yticks(fontsize=11)\n",
        "plt.xticks(fontsize=11)\n",
        "ax.set_xlabel('评分人数', fontsize=14)\n",
        "ax.set_ylabel('数量', fontsize=13)"
      ],
      "execution_count": 0,
      "outputs": [
        {
          "output_type": "stream",
          "text": [
            "/usr/local/lib/python3.6/dist-packages/pandas/core/ops/__init__.py:1115: FutureWarning: elementwise comparison failed; returning scalar instead, but in the future will perform elementwise comparison\n",
            "  result = method(y)\n"
          ],
          "name": "stderr"
        },
        {
          "output_type": "execute_result",
          "data": {
            "text/plain": [
              "Text(0, 0.5, '数量')"
            ]
          },
          "metadata": {
            "tags": []
          },
          "execution_count": 40
        },
        {
          "output_type": "stream",
          "text": [
            "/usr/local/lib/python3.6/dist-packages/matplotlib/backends/backend_agg.py:211: RuntimeWarning: Glyph 35780 missing from current font.\n",
            "  font.set_text(s, 0.0, flags=flags)\n",
            "/usr/local/lib/python3.6/dist-packages/matplotlib/backends/backend_agg.py:211: RuntimeWarning: Glyph 20998 missing from current font.\n",
            "  font.set_text(s, 0.0, flags=flags)\n",
            "/usr/local/lib/python3.6/dist-packages/matplotlib/backends/backend_agg.py:211: RuntimeWarning: Glyph 20154 missing from current font.\n",
            "  font.set_text(s, 0.0, flags=flags)\n",
            "/usr/local/lib/python3.6/dist-packages/matplotlib/backends/backend_agg.py:211: RuntimeWarning: Glyph 25968 missing from current font.\n",
            "  font.set_text(s, 0.0, flags=flags)\n",
            "/usr/local/lib/python3.6/dist-packages/matplotlib/backends/backend_agg.py:180: RuntimeWarning: Glyph 35780 missing from current font.\n",
            "  font.set_text(s, 0, flags=flags)\n",
            "/usr/local/lib/python3.6/dist-packages/matplotlib/backends/backend_agg.py:180: RuntimeWarning: Glyph 20998 missing from current font.\n",
            "  font.set_text(s, 0, flags=flags)\n",
            "/usr/local/lib/python3.6/dist-packages/matplotlib/backends/backend_agg.py:180: RuntimeWarning: Glyph 20154 missing from current font.\n",
            "  font.set_text(s, 0, flags=flags)\n",
            "/usr/local/lib/python3.6/dist-packages/matplotlib/backends/backend_agg.py:180: RuntimeWarning: Glyph 25968 missing from current font.\n",
            "  font.set_text(s, 0, flags=flags)\n",
            "/usr/local/lib/python3.6/dist-packages/matplotlib/backends/backend_agg.py:211: RuntimeWarning: Glyph 37327 missing from current font.\n",
            "  font.set_text(s, 0.0, flags=flags)\n",
            "/usr/local/lib/python3.6/dist-packages/matplotlib/backends/backend_agg.py:180: RuntimeWarning: Glyph 37327 missing from current font.\n",
            "  font.set_text(s, 0, flags=flags)\n"
          ],
          "name": "stderr"
        },
        {
          "output_type": "display_data",
          "data": {
            "image/png": "[encoded data removed]",
            "text/plain": [
              "<Figure size 936x360 with 1 Axes>"
            ]
          },
          "metadata": {
            "tags": []
          }
        }
      ]
    },
    {
      "cell_type": "markdown",
      "metadata": {
        "id": "TWa_d1PTq1FC",
        "colab_type": "text"
      },
      "source": [
        "Pandas中进行数据类型转换有三种基本方法：\n",
        "\n",
        "1.使用astype()函数进行强制类型转换\n",
        "\n",
        "```\n",
        "data['状态'].astype('bool')\n",
        "```\n",
        "\n",
        "总结一下astype()函数有效的情形：\n",
        "\n",
        "数据列中的每一个单位都能简单的解释为数字(2, 2.12等）\n",
        "\n",
        "数据列中的每一个单位都是数值类型且向字符串object类型转换\n",
        "\n",
        "如果数据中含有缺失值、特殊字符astype()函数可能失效。\n",
        "\n",
        "2.自定义函数进行数据类型转换\n",
        "\n",
        "```\n",
        "data['2016'].apply(lambda x: x.replace('￥', '').replace(',', '')).astype('float')\n",
        "```\n",
        "或者\n",
        "```\n",
        "data['状态'] = np.where(data['状态'] == 'Y', True, False)\n",
        "```\n",
        "\n",
        "3.使用Pandas提供的函数如to_numeric()、to_datetime()\n",
        "\n",
        "Pandas的astype()函数和复杂的自定函数之间有一个中间段，那就是Pandas的一些辅助函数。这些辅助函数对于某些特定数据类型的转换非常有用(如to_numeric()、to_datetime())。\n",
        "\n",
        "所属组数据列中包含一个非数值，用astype()转换出现了错误，然而用to_numeric()函数处理就优雅很多。\n",
        "\n",
        "```\n",
        "pd.to_numeric(data['所属组'], errors='coerce').fillna(0)\n",
        "```\n",
        "```\n",
        "pd.to_datetime(data[['day', 'month', 'year']])\n",
        "```\n",
        "在读取数据时就对数据类型进行转换，一步到位\n",
        "```\n",
        "data2 = pd.read_csv(\"data.csv\",\n",
        "                   converters={\n",
        "                               '客户编号': str,\n",
        "                               '2016': convert_currency,\n",
        "                               '2017': convert_currency,\n",
        "                               '增长率': convert_percent,\n",
        "                               '所属组': lambda x: pd.to_numeric(x, errors='coerce'),\n",
        "                               '状态': lambda x: np.where(x == \"Y\", True, False)\n",
        "                              },\n",
        "                   encoding='gbk')\n",
        "```"
      ]
    },
    {
      "cell_type": "code",
      "metadata": {
        "id": "_rlIz0S3q3m8",
        "colab_type": "code",
        "colab": {}
      },
      "source": [
        "movie_combine['上映时间']=pd.to_numeric(movie_combine['上映时间'], errors='coerce')\n",
        "#pd.to_datetime(movie_combine['上映时间'], errors='ignore').fillna(0)\n",
        "#pd.to_numeric(movie_combine['上映时间'], errors='coerce').fillna(0)"
      ],
      "execution_count": 0,
      "outputs": []
    },
    {
      "cell_type": "code",
      "metadata": {
        "id": "ECqLivgjyQe6",
        "colab_type": "code",
        "outputId": "a63de63f-43e8-49ef-a754-1361e1719ed9",
        "colab": {
          "base_uri": "https://localhost:8080/",
          "height": 233
        }
      },
      "source": [
        "movie_combine['上映时间']"
      ],
      "execution_count": 104,
      "outputs": [
        {
          "output_type": "execute_result",
          "data": {
            "text/plain": [
              "2      0\n",
              "10     0\n",
              "52     0\n",
              "59     0\n",
              "4      0\n",
              "      ..\n",
              "47     0\n",
              "187    0\n",
              "9      0\n",
              "140    0\n",
              "60     0\n",
              "Name: 上映时间, Length: 200, dtype: int64"
            ]
          },
          "metadata": {
            "tags": []
          },
          "execution_count": 104
        }
      ]
    },
    {
      "cell_type": "code",
      "metadata": {
        "id": "w3h-hL3Bye3B",
        "colab_type": "code",
        "colab": {}
      },
      "source": [
        "movie_combine['上映时间'] = movie_combine['上映时间'].convert_objects(convert_numeric=True)"
      ],
      "execution_count": 0,
      "outputs": []
    },
    {
      "cell_type": "code",
      "metadata": {
        "id": "FjL3l8yVwVfb",
        "colab_type": "code",
        "colab": {}
      },
      "source": [
        "from sklearn import preprocessing\n",
        "def convert(data):\n",
        "    number = preprocessing.LabelEncoder()\n",
        "    data['column_name'] = number.fit_transform(data['上映时间'])\n",
        "    data=data.fillna(-999)\n",
        "    return data"
      ],
      "execution_count": 0,
      "outputs": []
    },
    {
      "cell_type": "code",
      "metadata": {
        "id": "5TBudm78tovB",
        "colab_type": "code",
        "colab": {}
      },
      "source": [
        "movie_combine['上映时间']=pd.DataFrame(movie_combine['上映时间'],dtype=np.float)"
      ],
      "execution_count": 0,
      "outputs": []
    },
    {
      "cell_type": "code",
      "metadata": {
        "id": "4C2zhtOwq3dK",
        "colab_type": "code",
        "outputId": "6f3433ea-5727-48a2-b6ef-da64fcb21dce",
        "colab": {
          "base_uri": "https://localhost:8080/",
          "height": 557
        }
      },
      "source": [
        "movie_combine.info()"
      ],
      "execution_count": 105,
      "outputs": [
        {
          "output_type": "stream",
          "text": [
            "<class 'pandas.core.frame.DataFrame'>\n",
            "Int64Index: 200 entries, 2 to 60\n",
            "Data columns (total 25 columns):\n",
            "Unnamed: 0_x    200 non-null int64\n",
            "主演              200 non-null object\n",
            "海报              200 non-null object\n",
            "导演              200 non-null object\n",
            "ID              200 non-null int64\n",
            "评分              200 non-null float64\n",
            "标记              200 non-null int64\n",
            "片名_x            200 non-null object\n",
            "网址              200 non-null object\n",
            "Unnamed: 0_y    200 non-null int64\n",
            "片名_y            200 non-null object\n",
            "上映时间            200 non-null int64\n",
            "电影类型            200 non-null object\n",
            "片长              200 non-null object\n",
            "地区              200 non-null object\n",
            "评分人数            200 non-null int64\n",
            "评分分布            200 non-null object\n",
            "简介              200 non-null object\n",
            "热评              200 non-null object\n",
            "format_评分       200 non-null object\n",
            "5星              200 non-null float64\n",
            "4星              200 non-null float64\n",
            "3星              200 non-null float64\n",
            "2星              200 non-null float64\n",
            "1星              200 non-null float64\n",
            "dtypes: float64(6), int64(6), object(13)\n",
            "memory usage: 40.6+ KB\n"
          ],
          "name": "stdout"
        }
      ]
    },
    {
      "cell_type": "markdown",
      "metadata": {
        "id": "tl1HYZiolEsT",
        "colab_type": "text"
      },
      "source": [
        "2.用中位数作为人数筛选机制"
      ]
    },
    {
      "cell_type": "code",
      "metadata": {
        "id": "iSILCLqykiJv",
        "colab_type": "code",
        "outputId": "6edc099e-3a5c-401c-8ee1-cff2261e3c74",
        "colab": {
          "base_uri": "https://localhost:8080/",
          "height": 53
        }
      },
      "source": [
        "print('中位数:',movie_combine['评分人数'].median())\n",
        "print('均值:',movie_combine['评分人数'].mean())\n",
        "movie_f = movie_combine.loc[movie_combine['评分人数'] > movie_combine['评分人数'].median(),:]"
      ],
      "execution_count": 106,
      "outputs": [
        {
          "output_type": "stream",
          "text": [
            "中位数: 519162.5\n",
            "均值: 596749.865\n"
          ],
          "name": "stdout"
        }
      ]
    },
    {
      "cell_type": "markdown",
      "metadata": {
        "id": "bPaDRC8UlMTW",
        "colab_type": "text"
      },
      "source": [
        "3.上映时间和数量分布趋势"
      ]
    },
    {
      "cell_type": "code",
      "metadata": {
        "id": "obHOBN6YkiGc",
        "colab_type": "code",
        "outputId": "e421dee6-c7d2-4fe4-ce90-ea2fb1029863",
        "colab": {
          "base_uri": "https://localhost:8080/",
          "height": 770
        }
      },
      "source": [
        "fig,ax = plt.subplots(1,1,figsize = (13,5))\n",
        "sns.distplot(movie_f['上映时间'].values,color = 'red',kde = False,ax = ax)\n",
        "\n",
        "plt.yticks(fontsize=11)\n",
        "plt.xticks(fontsize=11)\n",
        "ax.set_xlabel('上映时间', fontsize=14)\n",
        "ax.set_ylabel('数量', fontsize=13)"
      ],
      "execution_count": 107,
      "outputs": [
        {
          "output_type": "execute_result",
          "data": {
            "text/plain": [
              "Text(0, 0.5, '数量')"
            ]
          },
          "metadata": {
            "tags": []
          },
          "execution_count": 107
        },
        {
          "output_type": "stream",
          "text": [
            "/usr/local/lib/python3.6/dist-packages/matplotlib/backends/backend_agg.py:211: RuntimeWarning: Glyph 19978 missing from current font.\n",
            "  font.set_text(s, 0.0, flags=flags)\n",
            "/usr/local/lib/python3.6/dist-packages/matplotlib/backends/backend_agg.py:211: RuntimeWarning: Glyph 26144 missing from current font.\n",
            "  font.set_text(s, 0.0, flags=flags)\n",
            "/usr/local/lib/python3.6/dist-packages/matplotlib/backends/backend_agg.py:211: RuntimeWarning: Glyph 26102 missing from current font.\n",
            "  font.set_text(s, 0.0, flags=flags)\n",
            "/usr/local/lib/python3.6/dist-packages/matplotlib/backends/backend_agg.py:211: RuntimeWarning: Glyph 38388 missing from current font.\n",
            "  font.set_text(s, 0.0, flags=flags)\n",
            "/usr/local/lib/python3.6/dist-packages/matplotlib/backends/backend_agg.py:180: RuntimeWarning: Glyph 19978 missing from current font.\n",
            "  font.set_text(s, 0, flags=flags)\n",
            "/usr/local/lib/python3.6/dist-packages/matplotlib/backends/backend_agg.py:180: RuntimeWarning: Glyph 26144 missing from current font.\n",
            "  font.set_text(s, 0, flags=flags)\n",
            "/usr/local/lib/python3.6/dist-packages/matplotlib/backends/backend_agg.py:180: RuntimeWarning: Glyph 26102 missing from current font.\n",
            "  font.set_text(s, 0, flags=flags)\n",
            "/usr/local/lib/python3.6/dist-packages/matplotlib/backends/backend_agg.py:180: RuntimeWarning: Glyph 38388 missing from current font.\n",
            "  font.set_text(s, 0, flags=flags)\n",
            "/usr/local/lib/python3.6/dist-packages/matplotlib/backends/backend_agg.py:211: RuntimeWarning: Glyph 25968 missing from current font.\n",
            "  font.set_text(s, 0.0, flags=flags)\n",
            "/usr/local/lib/python3.6/dist-packages/matplotlib/backends/backend_agg.py:211: RuntimeWarning: Glyph 37327 missing from current font.\n",
            "  font.set_text(s, 0.0, flags=flags)\n",
            "/usr/local/lib/python3.6/dist-packages/matplotlib/backends/backend_agg.py:180: RuntimeWarning: Glyph 25968 missing from current font.\n",
            "  font.set_text(s, 0, flags=flags)\n",
            "/usr/local/lib/python3.6/dist-packages/matplotlib/backends/backend_agg.py:180: RuntimeWarning: Glyph 37327 missing from current font.\n",
            "  font.set_text(s, 0, flags=flags)\n"
          ],
          "name": "stderr"
        },
        {
          "output_type": "display_data",
          "data": {
            "image/png": "[encoded data removed]",
            "text/plain": [
              "<Figure size 936x360 with 1 Axes>"
            ]
          },
          "metadata": {
            "tags": []
          }
        }
      ]
    },
    {
      "cell_type": "markdown",
      "metadata": {
        "id": "AJCV7S6cmUrc",
        "colab_type": "text"
      },
      "source": [
        "4.不同年代电影数量"
      ]
    },
    {
      "cell_type": "code",
      "metadata": {
        "id": "aRSlZDiykiCL",
        "colab_type": "code",
        "outputId": "046df77a-3d53-4406-ee1b-a5a60785155f",
        "colab": {
          "base_uri": "https://localhost:8080/",
          "height": 233
        }
      },
      "source": [
        "labels = []\n",
        "for i in range(1910,2020,10):\n",
        "    if i < 2000:\n",
        "        century = '20世纪{}年代'.format(str(i)[2:])\n",
        "    else:\n",
        "        century = '21世纪{}年代'.format(str(i)[2:])\n",
        "    labels.append(century)\n",
        "    \n",
        "century_f= pd.cut(movie_f['上映时间'].values,bins = list(range(1910,2030,10)),right = False,labels = labels).value_counts()\n",
        "century_f"
      ],
      "execution_count": 108,
      "outputs": [
        {
          "output_type": "execute_result",
          "data": {
            "text/plain": [
              "20世纪10年代    0\n",
              "20世纪20年代    0\n",
              "20世纪30年代    0\n",
              "20世纪40年代    0\n",
              "20世纪50年代    0\n",
              "20世纪60年代    0\n",
              "20世纪70年代    0\n",
              "20世纪80年代    0\n",
              "20世纪90年代    0\n",
              "21世纪00年代    0\n",
              "21世纪10年代    0\n",
              "dtype: int64"
            ]
          },
          "metadata": {
            "tags": []
          },
          "execution_count": 108
        }
      ]
    },
    {
      "cell_type": "markdown",
      "metadata": {
        "id": "NZu4TMwLmyo-",
        "colab_type": "text"
      },
      "source": [
        "5.年代打标"
      ]
    },
    {
      "cell_type": "code",
      "metadata": {
        "id": "-DWNiZBRkh9R",
        "colab_type": "code",
        "colab": {
          "base_uri": "https://localhost:8080/",
          "height": 125
        },
        "outputId": "899ff496-04f4-495d-9dec-8535fffa7712"
      },
      "source": [
        "movie_f['年代'] = pd.cut(movie_f['上映时间'].values,bins = list(range(1910,2030,10)),right = False,labels = labels)"
      ],
      "execution_count": 109,
      "outputs": [
        {
          "output_type": "stream",
          "text": [
            "/usr/local/lib/python3.6/dist-packages/ipykernel_launcher.py:1: SettingWithCopyWarning: \n",
            "A value is trying to be set on a copy of a slice from a DataFrame.\n",
            "Try using .loc[row_indexer,col_indexer] = value instead\n",
            "\n",
            "See the caveats in the documentation: http://pandas.pydata.org/pandas-docs/stable/user_guide/indexing.html#returning-a-view-versus-a-copy\n",
            "  \"\"\"Entry point for launching an IPython kernel.\n"
          ],
          "name": "stderr"
        }
      ]
    },
    {
      "cell_type": "code",
      "metadata": {
        "id": "nuRW5akMkRAN",
        "colab_type": "code",
        "colab": {
          "base_uri": "https://localhost:8080/",
          "height": 1000
        },
        "outputId": "83b4a929-48ca-4342-cf9c-e6a82d045c56"
      },
      "source": [
        "#先按照年代，再按照评分排序\n",
        "movie_f.sort_values(['年代','评分'],ascending = False)"
      ],
      "execution_count": 110,
      "outputs": [
        {
          "output_type": "execute_result",
          "data": {
            "text/html": [
              "<div>\n",
              "<style scoped>\n",
              "    .dataframe tbody tr th:only-of-type {\n",
              "        vertical-align: middle;\n",
              "    }\n",
              "\n",
              "    .dataframe tbody tr th {\n",
              "        vertical-align: top;\n",
              "    }\n",
              "\n",
              "    .dataframe thead th {\n",
              "        text-align: right;\n",
              "    }\n",
              "</style>\n",
              "<table border=\"1\" class=\"dataframe\">\n",
              "  <thead>\n",
              "    <tr style=\"text-align: right;\">\n",
              "      <th></th>\n",
              "      <th>Unnamed: 0_x</th>\n",
              "      <th>主演</th>\n",
              "      <th>海报</th>\n",
              "      <th>导演</th>\n",
              "      <th>ID</th>\n",
              "      <th>评分</th>\n",
              "      <th>标记</th>\n",
              "      <th>片名_x</th>\n",
              "      <th>网址</th>\n",
              "      <th>Unnamed: 0_y</th>\n",
              "      <th>片名_y</th>\n",
              "      <th>上映时间</th>\n",
              "      <th>电影类型</th>\n",
              "      <th>片长</th>\n",
              "      <th>地区</th>\n",
              "      <th>评分人数</th>\n",
              "      <th>评分分布</th>\n",
              "      <th>简介</th>\n",
              "      <th>热评</th>\n",
              "      <th>format_评分</th>\n",
              "      <th>5星</th>\n",
              "      <th>4星</th>\n",
              "      <th>3星</th>\n",
              "      <th>2星</th>\n",
              "      <th>1星</th>\n",
              "      <th>年代</th>\n",
              "    </tr>\n",
              "  </thead>\n",
              "  <tbody>\n",
              "    <tr>\n",
              "      <th>2</th>\n",
              "      <td>0</td>\n",
              "      <td>['蒂姆·罗宾斯', '摩根·弗里曼', '鲍勃·冈顿', '威廉姆·赛德勒', '克兰西·...</td>\n",
              "      <td>https://img3.doubanio.com/view/photo/s_ratio_p...</td>\n",
              "      <td>['弗兰克·德拉邦特']</td>\n",
              "      <td>1292052</td>\n",
              "      <td>9.7</td>\n",
              "      <td>50</td>\n",
              "      <td>肖申克的救赎</td>\n",
              "      <td>https://movie.douban.com/subject/1292052/</td>\n",
              "      <td>0</td>\n",
              "      <td>肖申克的救赎 The Shawshank Redemption</td>\n",
              "      <td>0</td>\n",
              "      <td>['剧情', '犯罪']</td>\n",
              "      <td>142</td>\n",
              "      <td>美国</td>\n",
              "      <td>1739705</td>\n",
              "      <td>{'力荐': '84.8%', '推荐': '13.6%', '还行': '1.4%', '...</td>\n",
              "      <td>20世纪40年代末，小有成就的青年银行家安迪（蒂姆·罗宾斯 Tim Robbins 饰）因涉...</td>\n",
              "      <td>恐惧让你沦为囚犯，希望让你重获自由。——《肖申克的救赎》</td>\n",
              "      <td>{'力荐': '84.8%', '推荐': '13.6%', '还行': '1.4%', '...</td>\n",
              "      <td>84.8</td>\n",
              "      <td>13.6</td>\n",
              "      <td>1.4</td>\n",
              "      <td>0.1</td>\n",
              "      <td>0.1</td>\n",
              "      <td>NaN</td>\n",
              "    </tr>\n",
              "    <tr>\n",
              "      <th>10</th>\n",
              "      <td>0</td>\n",
              "      <td>['张国荣', '张丰毅', '巩俐', '葛优', '英达']</td>\n",
              "      <td>https://img3.doubanio.com/view/photo/s_ratio_p...</td>\n",
              "      <td>['陈凯歌']</td>\n",
              "      <td>1291546</td>\n",
              "      <td>9.6</td>\n",
              "      <td>50</td>\n",
              "      <td>霸王别姬</td>\n",
              "      <td>https://movie.douban.com/subject/1291546/</td>\n",
              "      <td>0</td>\n",
              "      <td>霸王别姬</td>\n",
              "      <td>0</td>\n",
              "      <td>['剧情', '爱情', '同性']</td>\n",
              "      <td>171</td>\n",
              "      <td>中国大陆 / 中国香港</td>\n",
              "      <td>1285772</td>\n",
              "      <td>{'力荐': '81.6%', '推荐': '16.0%', '还行': '2.1%', '...</td>\n",
              "      <td>段小楼（张丰毅）与程蝶衣（张国荣）是一对打小一起长大的师兄弟，两人一个演生，一个饰旦，一向配...</td>\n",
              "      <td>在野路子出身的张国荣面前，学院出身的张丰毅显得那么单薄</td>\n",
              "      <td>{'力荐': '81.6%', '推荐': '16.0%', '还行': '2.1%', '...</td>\n",
              "      <td>81.6</td>\n",
              "      <td>16.0</td>\n",
              "      <td>2.1</td>\n",
              "      <td>0.1</td>\n",
              "      <td>0.1</td>\n",
              "      <td>NaN</td>\n",
              "    </tr>\n",
              "    <tr>\n",
              "      <th>52</th>\n",
              "      <td>0</td>\n",
              "      <td>['罗伯托·贝尼尼', '尼可莱塔·布拉斯基', '乔治·坎塔里尼', '朱斯蒂诺·杜拉诺'...</td>\n",
              "      <td>https://img3.doubanio.com/view/photo/s_ratio_p...</td>\n",
              "      <td>['罗伯托·贝尼尼']</td>\n",
              "      <td>1292063</td>\n",
              "      <td>9.5</td>\n",
              "      <td>50</td>\n",
              "      <td>美丽人生</td>\n",
              "      <td>https://movie.douban.com/subject/1292063/</td>\n",
              "      <td>0</td>\n",
              "      <td>美丽人生 La vita è bella</td>\n",
              "      <td>0</td>\n",
              "      <td>['剧情', '喜剧', '爱情', '战争']</td>\n",
              "      <td>116分钟 / 125分钟(加长版)\\n        又名: 一个快乐的传说(港) / L...</td>\n",
              "      <td>意大利</td>\n",
              "      <td>787527</td>\n",
              "      <td>{'力荐': '79.8%', '推荐': '17.6%', '还行': '2.3%', '...</td>\n",
              "      <td>犹太青年圭多（罗伯托·贝尼尼）邂逅美丽的女教师多拉（尼可莱塔·布拉斯基），他彬彬有礼的向多拉...</td>\n",
              "      <td>我以为如此智慧的一个人，在那几声枪响过后，必定是会走出来，继续对他的公主说早安的...</td>\n",
              "      <td>{'力荐': '79.8%', '推荐': '17.6%', '还行': '2.3%', '...</td>\n",
              "      <td>79.8</td>\n",
              "      <td>17.6</td>\n",
              "      <td>2.3</td>\n",
              "      <td>0.2</td>\n",
              "      <td>0.1</td>\n",
              "      <td>NaN</td>\n",
              "    </tr>\n",
              "    <tr>\n",
              "      <th>59</th>\n",
              "      <td>0</td>\n",
              "      <td>['连姆·尼森', '本·金斯利', '拉尔夫·费因斯', '卡罗琳·古多尔', '乔纳森·...</td>\n",
              "      <td>https://img3.doubanio.com/view/photo/s_ratio_p...</td>\n",
              "      <td>['史蒂文·斯皮尔伯格']</td>\n",
              "      <td>1295124</td>\n",
              "      <td>9.5</td>\n",
              "      <td>50</td>\n",
              "      <td>辛德勒的名单</td>\n",
              "      <td>https://movie.douban.com/subject/1295124/</td>\n",
              "      <td>0</td>\n",
              "      <td>辛德勒的名单 Schindler's List</td>\n",
              "      <td>0</td>\n",
              "      <td>['剧情', '历史', '战争']</td>\n",
              "      <td>195</td>\n",
              "      <td>美国</td>\n",
              "      <td>690194</td>\n",
              "      <td>{'力荐': '78.2%', '推荐': '19.2%', '还行': '2.4%', '...</td>\n",
              "      <td>1939年，波兰在纳粹德国的统治下，党卫军对犹太人进行了隔离统治。德国商人奥斯卡·辛德勒（连...</td>\n",
              "      <td>印象很深刻的是黑白画面中的红色。</td>\n",
              "      <td>{'力荐': '78.2%', '推荐': '19.2%', '还行': '2.4%', '...</td>\n",
              "      <td>78.2</td>\n",
              "      <td>19.2</td>\n",
              "      <td>2.4</td>\n",
              "      <td>0.1</td>\n",
              "      <td>0.1</td>\n",
              "      <td>NaN</td>\n",
              "    </tr>\n",
              "    <tr>\n",
              "      <th>4</th>\n",
              "      <td>0</td>\n",
              "      <td>['汤姆·汉克斯', '罗宾·怀特', '加里·西尼斯', '麦凯尔泰·威廉逊', '莎莉·...</td>\n",
              "      <td>https://img3.doubanio.com/view/photo/s_ratio_p...</td>\n",
              "      <td>['罗伯特·泽米吉斯']</td>\n",
              "      <td>1292720</td>\n",
              "      <td>9.5</td>\n",
              "      <td>50</td>\n",
              "      <td>阿甘正传</td>\n",
              "      <td>https://movie.douban.com/subject/1292720/</td>\n",
              "      <td>0</td>\n",
              "      <td>阿甘正传 Forrest Gump</td>\n",
              "      <td>0</td>\n",
              "      <td>['剧情', '爱情']</td>\n",
              "      <td>142</td>\n",
              "      <td>美国</td>\n",
              "      <td>1342185</td>\n",
              "      <td>{'力荐': '76.2%', '推荐': '20.7%', '还行': '2.8%', '...</td>\n",
              "      <td>阿甘（汤姆·汉克斯 饰）于二战结束后不久出生在美国南方阿拉巴马州一个闭塞的小镇，他先天弱智，...</td>\n",
              "      <td>每年看一遍，每年哭一遍，看看自己幸福还是阿甘幸福！时间：从2003开始每年一遍</td>\n",
              "      <td>{'力荐': '76.2%', '推荐': '20.7%', '还行': '2.8%', '...</td>\n",
              "      <td>76.2</td>\n",
              "      <td>20.7</td>\n",
              "      <td>2.8</td>\n",
              "      <td>0.2</td>\n",
              "      <td>0.1</td>\n",
              "      <td>NaN</td>\n",
              "    </tr>\n",
              "    <tr>\n",
              "      <th>...</th>\n",
              "      <td>...</td>\n",
              "      <td>...</td>\n",
              "      <td>...</td>\n",
              "      <td>...</td>\n",
              "      <td>...</td>\n",
              "      <td>...</td>\n",
              "      <td>...</td>\n",
              "      <td>...</td>\n",
              "      <td>...</td>\n",
              "      <td>...</td>\n",
              "      <td>...</td>\n",
              "      <td>...</td>\n",
              "      <td>...</td>\n",
              "      <td>...</td>\n",
              "      <td>...</td>\n",
              "      <td>...</td>\n",
              "      <td>...</td>\n",
              "      <td>...</td>\n",
              "      <td>...</td>\n",
              "      <td>...</td>\n",
              "      <td>...</td>\n",
              "      <td>...</td>\n",
              "      <td>...</td>\n",
              "      <td>...</td>\n",
              "      <td>...</td>\n",
              "      <td>...</td>\n",
              "    </tr>\n",
              "    <tr>\n",
              "      <th>108</th>\n",
              "      <td>0</td>\n",
              "      <td>['黄轩', '染谷将太', '张雨绮', '秦昊', '张榕容']</td>\n",
              "      <td>https://img3.doubanio.com/view/photo/s_ratio_p...</td>\n",
              "      <td>['陈凯歌']</td>\n",
              "      <td>5350027</td>\n",
              "      <td>6.9</td>\n",
              "      <td>35</td>\n",
              "      <td>妖猫传</td>\n",
              "      <td>https://movie.douban.com/subject/5350027/</td>\n",
              "      <td>0</td>\n",
              "      <td>妖猫传</td>\n",
              "      <td>0</td>\n",
              "      <td>['剧情', '悬疑', '奇幻', '古装']</td>\n",
              "      <td>129分钟(中国大陆) / 132分钟(日本)\\n        又名: 沙门空海 / 沙门...</td>\n",
              "      <td>中国大陆 / 日本</td>\n",
              "      <td>530260</td>\n",
              "      <td>{'力荐': '13.1%', '推荐': '36.1%', '还行': '38.2%', ...</td>\n",
              "      <td>故事发生在盛唐时期的长安城，白乐天（黄轩 饰）本是朝廷要官，却为了收集写诗的素材而甘愿被贬为...</td>\n",
              "      <td>白居易和空海分别获得各自朋友圈当日微信运动冠军。</td>\n",
              "      <td>{'力荐': '13.1%', '推荐': '36.1%', '还行': '38.2%', ...</td>\n",
              "      <td>13.1</td>\n",
              "      <td>36.1</td>\n",
              "      <td>38.2</td>\n",
              "      <td>9.7</td>\n",
              "      <td>3.0</td>\n",
              "      <td>NaN</td>\n",
              "    </tr>\n",
              "    <tr>\n",
              "      <th>45</th>\n",
              "      <td>0</td>\n",
              "      <td>['沈腾', '黄景瑜', '尹正', '张本煜', '尹昉']</td>\n",
              "      <td>https://img3.doubanio.com/view/photo/s_ratio_p...</td>\n",
              "      <td>['韩寒']</td>\n",
              "      <td>30163509</td>\n",
              "      <td>6.9</td>\n",
              "      <td>35</td>\n",
              "      <td>飞驰人生</td>\n",
              "      <td>https://movie.douban.com/subject/30163509/</td>\n",
              "      <td>0</td>\n",
              "      <td>飞驰人生</td>\n",
              "      <td>0</td>\n",
              "      <td>['喜剧']</td>\n",
              "      <td>98</td>\n",
              "      <td>中国大陆</td>\n",
              "      <td>677494</td>\n",
              "      <td>{'力荐': '11.1%', '推荐': '36.1%', '还行': '41.3%', ...</td>\n",
              "      <td>曾经叱咤风云的拉力赛车手张驰（沈腾 饰），五年前因私自赛车而被禁赛。从天堂跌落谷底，张驰饱尝...</td>\n",
              "      <td>很搞笑，拉力赛超级燃，后面有点感动，居然还看哭了，结局出乎意料，沈腾黄景瑜尹正演的都很好</td>\n",
              "      <td>{'力荐': '11.1%', '推荐': '36.1%', '还行': '41.3%', ...</td>\n",
              "      <td>11.1</td>\n",
              "      <td>36.1</td>\n",
              "      <td>41.3</td>\n",
              "      <td>9.5</td>\n",
              "      <td>2.0</td>\n",
              "      <td>NaN</td>\n",
              "    </tr>\n",
              "    <tr>\n",
              "      <th>74</th>\n",
              "      <td>0</td>\n",
              "      <td>['邓超', '罗志祥', '张雨绮', '林允', '徐克']</td>\n",
              "      <td>https://img3.doubanio.com/view/photo/s_ratio_p...</td>\n",
              "      <td>['周星驰']</td>\n",
              "      <td>19944106</td>\n",
              "      <td>6.7</td>\n",
              "      <td>35</td>\n",
              "      <td>美人鱼</td>\n",
              "      <td>https://movie.douban.com/subject/19944106/</td>\n",
              "      <td>0</td>\n",
              "      <td>美人鱼</td>\n",
              "      <td>0</td>\n",
              "      <td>['喜剧', '爱情', '奇幻']</td>\n",
              "      <td>93</td>\n",
              "      <td>中国大陆 / 中国香港</td>\n",
              "      <td>581476</td>\n",
              "      <td>{'力荐': '13.0%', '推荐': '29.0%', '还行': '41.2%', ...</td>\n",
              "      <td>白手起家的富豪刘轩（邓超 饰）新拍下了一块地皮，并联合了女强人李若兰（张雨绮 饰）使用恐怖的...</td>\n",
              "      <td>应该是周星驰最烂的电影，充斥着尴尬的不好笑的台词，劣质的特效，和令人生厌的广告。文章那一段和...</td>\n",
              "      <td>{'力荐': '13.0%', '推荐': '29.0%', '还行': '41.2%', ...</td>\n",
              "      <td>13.0</td>\n",
              "      <td>29.0</td>\n",
              "      <td>41.2</td>\n",
              "      <td>12.4</td>\n",
              "      <td>4.4</td>\n",
              "      <td>NaN</td>\n",
              "    </tr>\n",
              "    <tr>\n",
              "      <th>47</th>\n",
              "      <td>0</td>\n",
              "      <td>['王宝强', '刘昊然', '肖央', '刘承羽', '尚语贤']</td>\n",
              "      <td>https://img3.doubanio.com/view/photo/s_ratio_p...</td>\n",
              "      <td>['陈思诚']</td>\n",
              "      <td>26698897</td>\n",
              "      <td>6.7</td>\n",
              "      <td>35</td>\n",
              "      <td>唐人街探案2</td>\n",
              "      <td>https://movie.douban.com/subject/26698897/</td>\n",
              "      <td>0</td>\n",
              "      <td>唐人街探案2</td>\n",
              "      <td>0</td>\n",
              "      <td>['喜剧', '动作', '悬疑']</td>\n",
              "      <td>121</td>\n",
              "      <td>中国大陆</td>\n",
              "      <td>629356</td>\n",
              "      <td>{'力荐': '8.3%', '推荐': '33.4%', '还行': '44.4%', '...</td>\n",
              "      <td>唐仁（王宝强 饰）为巨额奖金欺骗秦风（刘昊然 饰）到纽约参加世界名侦探大赛，然而随着和世界各...</td>\n",
              "      <td>比上一部格局更大，格调更高，也更像一部成熟的商业类型片了。两位主演无论是人物刻画还是演技都有...</td>\n",
              "      <td>{'力荐': '8.3%', '推荐': '33.4%', '还行': '44.4%', '...</td>\n",
              "      <td>8.3</td>\n",
              "      <td>33.4</td>\n",
              "      <td>44.4</td>\n",
              "      <td>10.7</td>\n",
              "      <td>3.2</td>\n",
              "      <td>NaN</td>\n",
              "    </tr>\n",
              "    <tr>\n",
              "      <th>9</th>\n",
              "      <td>0</td>\n",
              "      <td>['沈腾', '宋芸桦', '张一鸣', '张晨光', '常远']</td>\n",
              "      <td>https://img3.doubanio.com/view/photo/s_ratio_p...</td>\n",
              "      <td>['闫非', '彭大魔']</td>\n",
              "      <td>27605698</td>\n",
              "      <td>6.5</td>\n",
              "      <td>35</td>\n",
              "      <td>西虹市首富</td>\n",
              "      <td>https://movie.douban.com/subject/27605698/</td>\n",
              "      <td>0</td>\n",
              "      <td>西虹市首富</td>\n",
              "      <td>0</td>\n",
              "      <td>['喜剧']</td>\n",
              "      <td>118</td>\n",
              "      <td>中国大陆</td>\n",
              "      <td>724551</td>\n",
              "      <td>{'力荐': '9.5%', '推荐': '29.0%', '还行': '44.5%', '...</td>\n",
              "      <td>西虹市丙级球队大翔队的守门员王多鱼（沈腾 饰）因比赛失利被教练开除，一筹莫展之际王多鱼突然收...</td>\n",
              "      <td>又名《当王思聪是怎样一种体验》，表面上是喜剧片，其实内在无比黑暗。\\n有钱可以让最高傲强势的...</td>\n",
              "      <td>{'力荐': '9.5%', '推荐': '29.0%', '还行': '44.5%', '...</td>\n",
              "      <td>9.5</td>\n",
              "      <td>29.0</td>\n",
              "      <td>44.5</td>\n",
              "      <td>13.2</td>\n",
              "      <td>3.8</td>\n",
              "      <td>NaN</td>\n",
              "    </tr>\n",
              "  </tbody>\n",
              "</table>\n",
              "<p>100 rows × 26 columns</p>\n",
              "</div>"
            ],
            "text/plain": [
              "     Unnamed: 0_x                                                 主演  ...   1星   年代\n",
              "2               0  ['蒂姆·罗宾斯', '摩根·弗里曼', '鲍勃·冈顿', '威廉姆·赛德勒', '克兰西·...  ...  0.1  NaN\n",
              "10              0                   ['张国荣', '张丰毅', '巩俐', '葛优', '英达']  ...  0.1  NaN\n",
              "52              0  ['罗伯托·贝尼尼', '尼可莱塔·布拉斯基', '乔治·坎塔里尼', '朱斯蒂诺·杜拉诺'...  ...  0.1  NaN\n",
              "59              0  ['连姆·尼森', '本·金斯利', '拉尔夫·费因斯', '卡罗琳·古多尔', '乔纳森·...  ...  0.1  NaN\n",
              "4               0  ['汤姆·汉克斯', '罗宾·怀特', '加里·西尼斯', '麦凯尔泰·威廉逊', '莎莉·...  ...  0.1  NaN\n",
              "..            ...                                                ...  ...  ...  ...\n",
              "108             0                 ['黄轩', '染谷将太', '张雨绮', '秦昊', '张榕容']  ...  3.0  NaN\n",
              "45              0                   ['沈腾', '黄景瑜', '尹正', '张本煜', '尹昉']  ...  2.0  NaN\n",
              "74              0                   ['邓超', '罗志祥', '张雨绮', '林允', '徐克']  ...  4.4  NaN\n",
              "47              0                 ['王宝强', '刘昊然', '肖央', '刘承羽', '尚语贤']  ...  3.2  NaN\n",
              "9               0                  ['沈腾', '宋芸桦', '张一鸣', '张晨光', '常远']  ...  3.8  NaN\n",
              "\n",
              "[100 rows x 26 columns]"
            ]
          },
          "metadata": {
            "tags": []
          },
          "execution_count": 110
        }
      ]
    },
    {
      "cell_type": "markdown",
      "metadata": {
        "id": "4hPbgXPSnFEB",
        "colab_type": "text"
      },
      "source": [
        "6.灵活筛选"
      ]
    },
    {
      "cell_type": "code",
      "metadata": {
        "id": "Ak8_h-dwm9cM",
        "colab_type": "code",
        "colab": {}
      },
      "source": [
        "final_rank = pd.DataFrame()\n",
        "for century,count in zip(century_f.index,century_f.values):\n",
        "    f1 = movie_f.loc[movie_f['年代'] == century,:]\n",
        "    if count < 1000:\n",
        "        return_num = int(count * 0.1)\n",
        "    f2 = f1.iloc[:return_num,:]\n",
        "    final_rank = pd.concat([final_rank,f2])"
      ],
      "execution_count": 0,
      "outputs": []
    },
    {
      "cell_type": "code",
      "metadata": {
        "id": "_jh13lOom9V_",
        "colab_type": "code",
        "colab": {
          "base_uri": "https://localhost:8080/",
          "height": 66
        },
        "outputId": "74585a6e-22bc-4fe9-ce53-797c84ca2adb"
      },
      "source": [
        "final_rank.head(1)"
      ],
      "execution_count": 112,
      "outputs": [
        {
          "output_type": "execute_result",
          "data": {
            "text/html": [
              "<div>\n",
              "<style scoped>\n",
              "    .dataframe tbody tr th:only-of-type {\n",
              "        vertical-align: middle;\n",
              "    }\n",
              "\n",
              "    .dataframe tbody tr th {\n",
              "        vertical-align: top;\n",
              "    }\n",
              "\n",
              "    .dataframe thead th {\n",
              "        text-align: right;\n",
              "    }\n",
              "</style>\n",
              "<table border=\"1\" class=\"dataframe\">\n",
              "  <thead>\n",
              "    <tr style=\"text-align: right;\">\n",
              "      <th></th>\n",
              "      <th>Unnamed: 0_x</th>\n",
              "      <th>主演</th>\n",
              "      <th>海报</th>\n",
              "      <th>导演</th>\n",
              "      <th>ID</th>\n",
              "      <th>评分</th>\n",
              "      <th>标记</th>\n",
              "      <th>片名_x</th>\n",
              "      <th>网址</th>\n",
              "      <th>Unnamed: 0_y</th>\n",
              "      <th>片名_y</th>\n",
              "      <th>上映时间</th>\n",
              "      <th>电影类型</th>\n",
              "      <th>片长</th>\n",
              "      <th>地区</th>\n",
              "      <th>评分人数</th>\n",
              "      <th>评分分布</th>\n",
              "      <th>简介</th>\n",
              "      <th>热评</th>\n",
              "      <th>format_评分</th>\n",
              "      <th>5星</th>\n",
              "      <th>4星</th>\n",
              "      <th>3星</th>\n",
              "      <th>2星</th>\n",
              "      <th>1星</th>\n",
              "      <th>年代</th>\n",
              "    </tr>\n",
              "  </thead>\n",
              "  <tbody>\n",
              "  </tbody>\n",
              "</table>\n",
              "</div>"
            ],
            "text/plain": [
              "Empty DataFrame\n",
              "Columns: [Unnamed: 0_x, 主演, 海报, 导演, ID, 评分, 标记, 片名_x, 网址, Unnamed: 0_y, 片名_y, 上映时间, 电影类型, 片长, 地区, 评分人数, 评分分布, 简介, 热评, format_评分, 5星, 4星, 3星, 2星, 1星, 年代]\n",
              "Index: []"
            ]
          },
          "metadata": {
            "tags": []
          },
          "execution_count": 112
        }
      ]
    },
    {
      "cell_type": "code",
      "metadata": {
        "id": "2VNS8O6Pm9L3",
        "colab_type": "code",
        "colab": {}
      },
      "source": [
        "#final_rank.to_excel('最终电影排名结果.xlsx')"
      ],
      "execution_count": 0,
      "outputs": []
    },
    {
      "cell_type": "markdown",
      "metadata": {
        "id": "QSWth7fTnVSt",
        "colab_type": "text"
      },
      "source": [
        "7.词云绘制"
      ]
    },
    {
      "cell_type": "code",
      "metadata": {
        "id": "nZoETWAtm9Dn",
        "colab_type": "code",
        "colab": {}
      },
      "source": [
        "from pyecharts import WordCloud\n",
        "\n",
        "myWordCloud = WordCloud(\"绘制词云\",width=1000, height=200)\n",
        "\n",
        "#词云图暂时剔除掉包含篇、版相对小众的动漫\n",
        "final_rank_f = final_rank.loc[(final_rank['片名_x'].str.find('篇') == -1) & \n",
        "                              (final_rank['片名_x'].str.find('版') == -1) &\n",
        "                              (final_rank['片名_x'].str.find('界') == -1),:]"
      ],
      "execution_count": 0,
      "outputs": []
    },
    {
      "cell_type": "code",
      "metadata": {
        "id": "0OnBZJszm88L",
        "colab_type": "code",
        "colab": {}
      },
      "source": [
        "for i in final_rank_f['年代'].unique():\n",
        "    name = final_rank_f.loc[final_rank_f['年代'] == i,'片名_x'].values[:5]\n",
        "    value = final_rank_f.loc[final_rank_f['年代'] == i,'评分'].values[:5]\n",
        "    names = []\n",
        "    for n,v in zip(name,value):\n",
        "        n = n + ' ' + str(v)\n",
        "        names.append(n)\n",
        "    myWordCloud = WordCloud(i,width=1000, height=500)\n",
        "    myWordCloud.add(\"\",attr = names,value = value,word_size_range=[30,40],shape = 'cardioid')\n",
        "    myWordCloud.render(i + '.html')"
      ],
      "execution_count": 0,
      "outputs": []
    }
  ]
}