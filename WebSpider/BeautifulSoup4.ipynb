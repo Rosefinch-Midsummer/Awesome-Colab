{
  "nbformat": 4,
  "nbformat_minor": 0,
  "metadata": {
    "colab": {
      "name": "BeautifulSoup4.ipynb",
      "provenance": [],
      "collapsed_sections": [],
      "include_colab_link": true
    },
    "kernelspec": {
      "name": "python3",
      "display_name": "Python 3"
    }
  },
  "cells": [
    {
      "cell_type": "markdown",
      "metadata": {
        "id": "view-in-github",
        "colab_type": "text"
      },
      "source": [
        "<a href=\"https://colab.research.google.com/github/Rosefinch-Midsummer/Awesome-Colab/blob/master/WebSpider/BeautifulSoup4.ipynb\" target=\"_parent\"><img src=\"https://colab.research.google.com/assets/colab-badge.svg\" alt=\"Open In Colab\"/></a>"
      ]
    },
    {
      "cell_type": "markdown",
      "metadata": {
        "id": "tyel4UOVCgkZ",
        "colab_type": "text"
      },
      "source": [
        "[Beautiful Soup 4.4.0 文档](https://beautifulsoup.readthedocs.io/zh_CN/v4.4.0/)\n",
        "\n",
        "[python爬虫教程系列、从0到1学习python爬虫](https://github.com/wistbean/learn_python3_spider)\n",
        "\n",
        "[python爬虫07 | 有了 BeautifulSoup ，妈妈再也不用担心我的正则表达式了](https://mp.weixin.qq.com/s/X8BT4sRp7_a4NHXa9ZSzCg)\n",
        "\n",
        "Beautiful Soup支持Python标准库中的HTML解析器,还支持一些第三方的解析器,其中一个是 lxml .根据操作系统不同,可以选择下列方法来安装lxml:\n",
        "\n",
        "另一个可供选择的解析器是纯Python实现的 html5lib , html5lib的解析方式与浏览器相同,可以选择下列方法来安装html5lib\n",
        "\n",
        "![r](https://mmbiz.qpic.cn/mmbiz_png/J2icnQspGlaL9oRBaVicv1c3ibzdcK12af4PCcj7oYfH7G64Vibibn4UrbgCWYkTqgv7tOJ7leNQPibEUca1XibTJSt4w/640?wx_fmt=png&tp=webp&wxfrom=5&wx_lazy=1&wx_co=1)"
      ]
    },
    {
      "cell_type": "code",
      "metadata": {
        "id": "K5AROXoZCYDM",
        "colab_type": "code",
        "colab": {}
      },
      "source": [
        "html_doc = \"\"\"\n",
        "\n",
        "<html><head><title>学习python的正确姿势</title></head>\n",
        "<body>\n",
        "<p class=\"title\"><b>小帅b的故事</b></p>\n",
        "\n",
        "<p class=\"story\">有一天，小帅b想给大家讲两个笑话\n",
        "<a href=\"http://example.com/1\" class=\"sister\" id=\"link1\">一个笑话长</a>,\n",
        "<a href=\"http://example.com/2\" class=\"sister\" id=\"link2\">一个笑话短</a> ,\n",
        "他问大家，想听长的还是短的？</p>\n",
        "\n",
        "<p class=\"story\">...</p>\n",
        "\n",
        "\"\"\""
      ],
      "execution_count": 0,
      "outputs": []
    },
    {
      "cell_type": "markdown",
      "metadata": {
        "id": "EuWEOcm-EWt-",
        "colab_type": "text"
      },
      "source": [
        "获取标题的内容"
      ]
    },
    {
      "cell_type": "code",
      "metadata": {
        "id": "SAwEy844Co2u",
        "colab_type": "code",
        "colab": {
          "base_uri": "https://localhost:8080/",
          "height": 35
        },
        "outputId": "69c5b7ca-2d0f-419a-84b7-ba811fdab07d"
      },
      "source": [
        "from bs4 import BeautifulSoup\n",
        "soup=BeautifulSoup(html_doc, 'html.parser')\n",
        "print(soup.title.string)\n",
        "#学习python的正确姿势"
      ],
      "execution_count": 3,
      "outputs": [
        {
          "output_type": "stream",
          "text": [
            "学习python的正确姿势\n"
          ],
          "name": "stdout"
        }
      ]
    },
    {
      "cell_type": "markdown",
      "metadata": {
        "id": "erqTATzOEa1S",
        "colab_type": "text"
      },
      "source": [
        "获取 p 标签里面的内容"
      ]
    },
    {
      "cell_type": "code",
      "metadata": {
        "id": "LSbEJgFECoxs",
        "colab_type": "code",
        "colab": {
          "base_uri": "https://localhost:8080/",
          "height": 35
        },
        "outputId": "c121dfbf-8f7d-4c5e-d763-8e76daad17c1"
      },
      "source": [
        "print(soup.p.string)\n",
        "#小帅b的故事"
      ],
      "execution_count": 4,
      "outputs": [
        {
          "output_type": "stream",
          "text": [
            "小帅b的故事\n"
          ],
          "name": "stdout"
        }
      ]
    },
    {
      "cell_type": "markdown",
      "metadata": {
        "id": "5rk4Y2pKEh3W",
        "colab_type": "text"
      },
      "source": [
        "获取 title 的父级标签"
      ]
    },
    {
      "cell_type": "code",
      "metadata": {
        "id": "I3KF73icEnp3",
        "colab_type": "code",
        "colab": {
          "base_uri": "https://localhost:8080/",
          "height": 35
        },
        "outputId": "64aa7c09-922e-4c76-bbcb-d3bd56353f07"
      },
      "source": [
        "print(soup.title.parent.name)\n",
        "#head"
      ],
      "execution_count": 5,
      "outputs": [
        {
          "output_type": "stream",
          "text": [
            "head\n"
          ],
          "name": "stdout"
        }
      ]
    },
    {
      "cell_type": "markdown",
      "metadata": {
        "id": "Ev3B2ysqEwnQ",
        "colab_type": "text"
      },
      "source": [
        "获取超链接"
      ]
    },
    {
      "cell_type": "code",
      "metadata": {
        "id": "KdG7mIMREoOR",
        "colab_type": "code",
        "colab": {
          "base_uri": "https://localhost:8080/",
          "height": 35
        },
        "outputId": "5e35d44f-758a-4fb7-c73b-39387cc90649"
      },
      "source": [
        "print(soup.a)\n",
        "#<a class=\"sister\" href=\"http://example.com/1\" id=\"link1\">一个笑话长</a>"
      ],
      "execution_count": 6,
      "outputs": [
        {
          "output_type": "stream",
          "text": [
            "<a class=\"sister\" href=\"http://example.com/1\" id=\"link1\">一个笑话长</a>\n"
          ],
          "name": "stdout"
        }
      ]
    },
    {
      "cell_type": "markdown",
      "metadata": {
        "id": "Sv-nhM6BE4J1",
        "colab_type": "text"
      },
      "source": [
        "获取所有超链接"
      ]
    },
    {
      "cell_type": "code",
      "metadata": {
        "id": "u_o6m4D9EoJb",
        "colab_type": "code",
        "colab": {
          "base_uri": "https://localhost:8080/",
          "height": 35
        },
        "outputId": "f13eaeca-36cc-45eb-e537-a0e8cf1b7167"
      },
      "source": [
        "print(soup.find_all('a'))\n",
        "#[<a class=\"sister\" href=\"http://example.com/1\" id=\"link1\">一个笑话长</a>, <a class=\"sister\" href=\"http://example.com/2\" id=\"link2\">一个笑话短</a>]"
      ],
      "execution_count": 7,
      "outputs": [
        {
          "output_type": "stream",
          "text": [
            "[<a class=\"sister\" href=\"http://example.com/1\" id=\"link1\">一个笑话长</a>, <a class=\"sister\" href=\"http://example.com/2\" id=\"link2\">一个笑话短</a>]\n"
          ],
          "name": "stdout"
        }
      ]
    },
    {
      "cell_type": "markdown",
      "metadata": {
        "id": "KgfThWrMFBzm",
        "colab_type": "text"
      },
      "source": [
        "获取 id 为 link2 的超链接"
      ]
    },
    {
      "cell_type": "code",
      "metadata": {
        "id": "1fUQR9T3EoF9",
        "colab_type": "code",
        "colab": {
          "base_uri": "https://localhost:8080/",
          "height": 35
        },
        "outputId": "989f2a06-88ba-43d9-82d8-38769ad1238c"
      },
      "source": [
        "print(soup.find(id=\"link2\"))\n",
        "#<a class=\"sister\" href=\"http://example.com/2\" id=\"link2\">一个笑话短</a>"
      ],
      "execution_count": 8,
      "outputs": [
        {
          "output_type": "stream",
          "text": [
            "<a class=\"sister\" href=\"http://example.com/2\" id=\"link2\">一个笑话短</a>\n"
          ],
          "name": "stdout"
        }
      ]
    },
    {
      "cell_type": "markdown",
      "metadata": {
        "id": "UVBCgEVAFHw6",
        "colab_type": "text"
      },
      "source": [
        "获取网页中所有的内容"
      ]
    },
    {
      "cell_type": "code",
      "metadata": {
        "id": "7MMa60zQEoCr",
        "colab_type": "code",
        "colab": {
          "base_uri": "https://localhost:8080/",
          "height": 197
        },
        "outputId": "532bec8a-eb03-4be6-e688-5264e0c895a8"
      },
      "source": [
        "print(soup.get_text())\n",
        "\n",
        "# 学习python的正确姿势\n",
        "\n",
        "#小帅b的故事\n",
        "#有一天，小帅b想给大家讲两个笑话\n",
        "#一个笑话长,\n",
        "#一个笑话短 ,\n",
        "#他问大家，想听长的还是短的？\n",
        "#..."
      ],
      "execution_count": 10,
      "outputs": [
        {
          "output_type": "stream",
          "text": [
            "\n",
            "学习python的正确姿势\n",
            "\n",
            "小帅b的故事\n",
            "有一天，小帅b想给大家讲两个笑话\n",
            "一个笑话长,\n",
            "一个笑话短 ,\n",
            "他问大家，想听长的还是短的？\n",
            "...\n",
            "\n"
          ],
          "name": "stdout"
        }
      ]
    },
    {
      "cell_type": "markdown",
      "metadata": {
        "id": "hYFHbK6zFkKN",
        "colab_type": "text"
      },
      "source": [
        "除了find方法之外,如果你对css比较熟悉,也可以使用 select 方法"
      ]
    },
    {
      "cell_type": "code",
      "metadata": {
        "id": "QL9YdyGFEn55",
        "colab_type": "code",
        "colab": {
          "base_uri": "https://localhost:8080/",
          "height": 71
        },
        "outputId": "a748080a-5b13-43f0-e7dd-34734675ecce"
      },
      "source": [
        "soup = BeautifulSoup(html_doc,'lxml')\n",
        "\n",
        "print(soup.select(\"title\"))\n",
        "print(soup.select(\"body a\"))\n",
        "print(soup.select(\"p > #link1\"))"
      ],
      "execution_count": 11,
      "outputs": [
        {
          "output_type": "stream",
          "text": [
            "[<title>学习python的正确姿势</title>]\n",
            "[<a class=\"sister\" href=\"http://example.com/1\" id=\"link1\">一个笑话长</a>, <a class=\"sister\" href=\"http://example.com/2\" id=\"link2\">一个笑话短</a>]\n",
            "[<a class=\"sister\" href=\"http://example.com/1\" id=\"link1\">一个笑话长</a>]\n"
          ],
          "name": "stdout"
        }
      ]
    }
  ]
}